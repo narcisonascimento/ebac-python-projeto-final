{
 "cells": [
  {
   "cell_type": "markdown",
   "id": "45adff92",
   "metadata": {
    "papermill": {
     "duration": 0.018166,
     "end_time": "2022-09-01T17:30:32.189135",
     "exception": false,
     "start_time": "2022-09-01T17:30:32.170969",
     "status": "completed"
    },
    "tags": []
   },
   "source": [
    "# Storytelling - Python Projeto Final"
   ]
  },
  {
   "cell_type": "markdown",
   "id": "67ae34d8",
   "metadata": {
    "papermill": {
     "duration": 0.013907,
     "end_time": "2022-09-01T17:30:32.217338",
     "exception": false,
     "start_time": "2022-09-01T17:30:32.203431",
     "status": "completed"
    },
    "tags": []
   },
   "source": [
    "Projeto final do curso Python para Análise de Dados da [EBAC](https://ebaconline.com.br/) (Escola Britânica de Artes Criativas & Tecnologia). <br/>\n",
    "Este módulo faz parte do curso [Profissão: Cientista de Dados](https://ebaconline.com.br/cientista-de-dados), onde o conhecimento da linguagem de programação Python é muito importante.<br/>\n",
    "Aulas ministradas pelo professor [André Perez](https://www.linkedin.com/in/andremarcosperez/).<br/><br/>\n",
    "\n",
    "**Python para Análise de Dados - Módulos:**\n",
    "1. Introdução ao curso Python para Análise de Dados<br/>\n",
    "2. Variáveis & Tipos de Dados Estrutura de Dados<br/>\n",
    "3. Fluxo Condicional & Repetição<br/>\n",
    "4. Arquivos & Funções<br/>\n",
    "5. Programação Funcional<br/>\n",
    "6. Programação Orientada a Objetos<br/>\n",
    "7. Módulos & Pacotes<br/>\n",
    "8. Tratamento de Erros<br/>\n",
    "9. Scripting<br/>\n",
    "10. Projeto Final\n",
    "<br/><br/>\n",
    "\n",
    "Obs.: O notebook e a base de dados para o projeto final foi disponibilizado pela [EBAC](https://ebaconline.com.br/), entretanto para fins de estudos e aperfeiçoamento em Python, reescrevi o código abaixo com base no notebook origial."
   ]
  },
  {
   "cell_type": "markdown",
   "id": "431d28fb",
   "metadata": {
    "papermill": {
     "duration": 0.013973,
     "end_time": "2022-09-01T17:30:32.247547",
     "exception": false,
     "start_time": "2022-09-01T17:30:32.233574",
     "status": "completed"
    },
    "tags": []
   },
   "source": [
    "# 1. Exploração de Dados"
   ]
  },
  {
   "cell_type": "markdown",
   "id": "b1cba35a",
   "metadata": {
    "papermill": {
     "duration": 0.014009,
     "end_time": "2022-09-01T17:30:32.275664",
     "exception": false,
     "start_time": "2022-09-01T17:30:32.261655",
     "status": "completed"
    },
    "tags": []
   },
   "source": [
    "Os dados contém informações sobre clientes de uma instituição financeira. Em especial, estamos interessados em explicar a segunda coluna, chamada de `default`, que indica se um cliente é **adimplente(default = 0)**, ou **inadimplente (default = 1)**, ou seja, queremos entender o porque um cliente deixa de honrar com suas dívidas baseado no comportamento de outros atributos, como salário, escolaridade e movimentação financeira."
   ]
  },
  {
   "cell_type": "markdown",
   "id": "b897d6e7",
   "metadata": {
    "papermill": {
     "duration": 0.014871,
     "end_time": "2022-09-01T17:30:32.305930",
     "exception": false,
     "start_time": "2022-09-01T17:30:32.291059",
     "status": "completed"
    },
    "tags": []
   },
   "source": [
    "1.1 Descrição completa dos atributos.\n",
    "---"
   ]
  },
  {
   "cell_type": "markdown",
   "id": "f451ab39",
   "metadata": {
    "papermill": {
     "duration": 0.013998,
     "end_time": "2022-09-01T17:30:32.334427",
     "exception": false,
     "start_time": "2022-09-01T17:30:32.320429",
     "status": "completed"
    },
    "tags": []
   },
   "source": [
    "\n",
    "\n",
    "| Coluna  | Descrição |\n",
    "| ------- | --------- |\n",
    "| id      | Número da conta |\n",
    "| default | Indica se o cliente é adimplente (0) ou inadimplente (1) |\n",
    "| idade   | --- |\n",
    "| sexo    | --- |\n",
    "| depedentes | --- |\n",
    "| escolaridade | --- |\n",
    "| estado_civil | --- |\n",
    "| salario_anual | Faixa do salario mensal multiplicado por 12 |\n",
    "| tipo_cartao | Categoria do cartao: blue, silver, gold e platinium |\n",
    "| meses_de_relacionamento | Quantidade de meses desde a abertura da conta |\n",
    "| qtd_produtos | Quantidade de produtos contratados |\n",
    "| iteracoes_12m | Quantidade de iteracoes com o cliente no último ano |\n",
    "| meses_inatico_12m | Quantidade de meses que o cliente ficou inativo no último ano |\n",
    "| limite_credito | Valor do limite do cartão de crédito |\n",
    "| valor_transacoes_12m | Soma total do valor das transações no cartão de crédito no último ano |\n",
    "| qtd_transacoes_12m | Quantidade total de transações no cartão de crédito no último ano |\n",
    "\n"
   ]
  },
  {
   "cell_type": "code",
   "execution_count": 1,
   "id": "f89f7ae1",
   "metadata": {
    "_kg_hide-input": true,
    "execution": {
     "iopub.execute_input": "2022-09-01T17:30:32.365485Z",
     "iopub.status.busy": "2022-09-01T17:30:32.364919Z",
     "iopub.status.idle": "2022-09-01T17:30:33.593748Z",
     "shell.execute_reply": "2022-09-01T17:30:33.592661Z"
    },
    "papermill": {
     "duration": 1.248232,
     "end_time": "2022-09-01T17:30:33.596843",
     "exception": false,
     "start_time": "2022-09-01T17:30:32.348611",
     "status": "completed"
    },
    "tags": []
   },
   "outputs": [],
   "source": [
    "import numpy as np\n",
    "import seaborn as sns\n",
    "import matplotlib.pyplot as plt\n",
    "import pandas as pd\n",
    "\n",
    "#Definindo estilo dos gráficos.\n",
    "sns.set_style(\"whitegrid\")\n",
    "\n",
    "#Carregando a base de dados.\n",
    "df = pd.read_csv('../input/ebac-python-projeto-final-dataset/Python_M10_support material.csv', na_values='na')"
   ]
  },
  {
   "cell_type": "markdown",
   "id": "bf850f22",
   "metadata": {
    "papermill": {
     "duration": 0.014353,
     "end_time": "2022-09-01T17:30:33.626189",
     "exception": false,
     "start_time": "2022-09-01T17:30:33.611836",
     "status": "completed"
    },
    "tags": []
   },
   "source": [
    "1.2 Base de dados\n",
    "-----------------\n",
    "Base no formato .CVS carregado no Kaggle. <br/>\n",
    "Lendo os dados num dataframe panda, podemos verificar visualmente suas colunas e linhas."
   ]
  },
  {
   "cell_type": "code",
   "execution_count": 2,
   "id": "80a1f3e1",
   "metadata": {
    "_kg_hide-input": true,
    "execution": {
     "iopub.execute_input": "2022-09-01T17:30:33.656988Z",
     "iopub.status.busy": "2022-09-01T17:30:33.656563Z",
     "iopub.status.idle": "2022-09-01T17:30:33.683218Z",
     "shell.execute_reply": "2022-09-01T17:30:33.682075Z"
    },
    "papermill": {
     "duration": 0.045357,
     "end_time": "2022-09-01T17:30:33.686311",
     "exception": false,
     "start_time": "2022-09-01T17:30:33.640954",
     "status": "completed"
    },
    "tags": []
   },
   "outputs": [
    {
     "data": {
      "text/html": [
       "<div>\n",
       "<style scoped>\n",
       "    .dataframe tbody tr th:only-of-type {\n",
       "        vertical-align: middle;\n",
       "    }\n",
       "\n",
       "    .dataframe tbody tr th {\n",
       "        vertical-align: top;\n",
       "    }\n",
       "\n",
       "    .dataframe thead th {\n",
       "        text-align: right;\n",
       "    }\n",
       "</style>\n",
       "<table border=\"1\" class=\"dataframe\">\n",
       "  <thead>\n",
       "    <tr style=\"text-align: right;\">\n",
       "      <th></th>\n",
       "      <th>id</th>\n",
       "      <th>default</th>\n",
       "      <th>idade</th>\n",
       "      <th>sexo</th>\n",
       "      <th>dependentes</th>\n",
       "      <th>escolaridade</th>\n",
       "      <th>estado_civil</th>\n",
       "      <th>salario_anual</th>\n",
       "      <th>tipo_cartao</th>\n",
       "      <th>meses_de_relacionamento</th>\n",
       "      <th>qtd_produtos</th>\n",
       "      <th>iteracoes_12m</th>\n",
       "      <th>meses_inativo_12m</th>\n",
       "      <th>limite_credito</th>\n",
       "      <th>valor_transacoes_12m</th>\n",
       "      <th>qtd_transacoes_12m</th>\n",
       "    </tr>\n",
       "  </thead>\n",
       "  <tbody>\n",
       "    <tr>\n",
       "      <th>0</th>\n",
       "      <td>768805383</td>\n",
       "      <td>0</td>\n",
       "      <td>45</td>\n",
       "      <td>M</td>\n",
       "      <td>3</td>\n",
       "      <td>ensino medio</td>\n",
       "      <td>casado</td>\n",
       "      <td>$60K - $80K</td>\n",
       "      <td>blue</td>\n",
       "      <td>39</td>\n",
       "      <td>5</td>\n",
       "      <td>3</td>\n",
       "      <td>1</td>\n",
       "      <td>12.691,51</td>\n",
       "      <td>1.144,90</td>\n",
       "      <td>42</td>\n",
       "    </tr>\n",
       "    <tr>\n",
       "      <th>1</th>\n",
       "      <td>818770008</td>\n",
       "      <td>0</td>\n",
       "      <td>49</td>\n",
       "      <td>F</td>\n",
       "      <td>5</td>\n",
       "      <td>mestrado</td>\n",
       "      <td>solteiro</td>\n",
       "      <td>menos que $40K</td>\n",
       "      <td>blue</td>\n",
       "      <td>44</td>\n",
       "      <td>6</td>\n",
       "      <td>2</td>\n",
       "      <td>1</td>\n",
       "      <td>8.256,96</td>\n",
       "      <td>1.291,45</td>\n",
       "      <td>33</td>\n",
       "    </tr>\n",
       "    <tr>\n",
       "      <th>2</th>\n",
       "      <td>713982108</td>\n",
       "      <td>0</td>\n",
       "      <td>51</td>\n",
       "      <td>M</td>\n",
       "      <td>3</td>\n",
       "      <td>mestrado</td>\n",
       "      <td>casado</td>\n",
       "      <td>$80K - $120K</td>\n",
       "      <td>blue</td>\n",
       "      <td>36</td>\n",
       "      <td>4</td>\n",
       "      <td>0</td>\n",
       "      <td>1</td>\n",
       "      <td>3.418,56</td>\n",
       "      <td>1.887,72</td>\n",
       "      <td>20</td>\n",
       "    </tr>\n",
       "    <tr>\n",
       "      <th>3</th>\n",
       "      <td>769911858</td>\n",
       "      <td>0</td>\n",
       "      <td>40</td>\n",
       "      <td>F</td>\n",
       "      <td>4</td>\n",
       "      <td>ensino medio</td>\n",
       "      <td>NaN</td>\n",
       "      <td>menos que $40K</td>\n",
       "      <td>blue</td>\n",
       "      <td>34</td>\n",
       "      <td>3</td>\n",
       "      <td>1</td>\n",
       "      <td>4</td>\n",
       "      <td>3.313,03</td>\n",
       "      <td>1.171,56</td>\n",
       "      <td>20</td>\n",
       "    </tr>\n",
       "    <tr>\n",
       "      <th>4</th>\n",
       "      <td>709106358</td>\n",
       "      <td>0</td>\n",
       "      <td>40</td>\n",
       "      <td>M</td>\n",
       "      <td>3</td>\n",
       "      <td>sem educacao formal</td>\n",
       "      <td>casado</td>\n",
       "      <td>$60K - $80K</td>\n",
       "      <td>blue</td>\n",
       "      <td>21</td>\n",
       "      <td>5</td>\n",
       "      <td>0</td>\n",
       "      <td>1</td>\n",
       "      <td>4.716,22</td>\n",
       "      <td>816,08</td>\n",
       "      <td>28</td>\n",
       "    </tr>\n",
       "  </tbody>\n",
       "</table>\n",
       "</div>"
      ],
      "text/plain": [
       "          id  default  idade sexo  dependentes         escolaridade  \\\n",
       "0  768805383        0     45    M            3         ensino medio   \n",
       "1  818770008        0     49    F            5             mestrado   \n",
       "2  713982108        0     51    M            3             mestrado   \n",
       "3  769911858        0     40    F            4         ensino medio   \n",
       "4  709106358        0     40    M            3  sem educacao formal   \n",
       "\n",
       "  estado_civil   salario_anual tipo_cartao  meses_de_relacionamento  \\\n",
       "0       casado     $60K - $80K        blue                       39   \n",
       "1     solteiro  menos que $40K        blue                       44   \n",
       "2       casado    $80K - $120K        blue                       36   \n",
       "3          NaN  menos que $40K        blue                       34   \n",
       "4       casado     $60K - $80K        blue                       21   \n",
       "\n",
       "   qtd_produtos  iteracoes_12m  meses_inativo_12m limite_credito  \\\n",
       "0             5              3                  1      12.691,51   \n",
       "1             6              2                  1       8.256,96   \n",
       "2             4              0                  1       3.418,56   \n",
       "3             3              1                  4       3.313,03   \n",
       "4             5              0                  1       4.716,22   \n",
       "\n",
       "  valor_transacoes_12m  qtd_transacoes_12m  \n",
       "0             1.144,90                  42  \n",
       "1             1.291,45                  33  \n",
       "2             1.887,72                  20  \n",
       "3             1.171,56                  20  \n",
       "4               816,08                  28  "
      ]
     },
     "execution_count": 2,
     "metadata": {},
     "output_type": "execute_result"
    }
   ],
   "source": [
    "df.head()"
   ]
  },
  {
   "cell_type": "markdown",
   "id": "8468746e",
   "metadata": {
    "papermill": {
     "duration": 0.014234,
     "end_time": "2022-09-01T17:30:33.715445",
     "exception": false,
     "start_time": "2022-09-01T17:30:33.701211",
     "status": "completed"
    },
    "tags": []
   },
   "source": [
    "1.3 Estrutura dos Dados\n",
    "-----------------------"
   ]
  },
  {
   "cell_type": "markdown",
   "id": "2b936162",
   "metadata": {
    "papermill": {
     "duration": 0.014045,
     "end_time": "2022-09-01T17:30:33.744090",
     "exception": false,
     "start_time": "2022-09-01T17:30:33.730045",
     "status": "completed"
    },
    "tags": []
   },
   "source": [
    "Podemos verificar a estrutura dos dados separando a base por:<br/>\n",
    "1. Todos os clientes<br/>\n",
    "2. Clientes adimplentes<br/>\n",
    "3. Clientes inadimplentes<br/>\n",
    "\n",
    "Importante ressaltar, a coluna `default` possui os dados `default = 0` (adimplente) ou `default = 1` (inadimplente)."
   ]
  },
  {
   "cell_type": "code",
   "execution_count": 3,
   "id": "f6be2a6b",
   "metadata": {
    "_kg_hide-input": true,
    "execution": {
     "iopub.execute_input": "2022-09-01T17:30:33.774813Z",
     "iopub.status.busy": "2022-09-01T17:30:33.774024Z",
     "iopub.status.idle": "2022-09-01T17:30:33.793624Z",
     "shell.execute_reply": "2022-09-01T17:30:33.791870Z"
    },
    "papermill": {
     "duration": 0.038787,
     "end_time": "2022-09-01T17:30:33.797143",
     "exception": false,
     "start_time": "2022-09-01T17:30:33.758356",
     "status": "completed"
    },
    "tags": []
   },
   "outputs": [
    {
     "name": "stdout",
     "output_type": "stream",
     "text": [
      "1. Todos os clientes: (10127, 16) (linhas/colunas)\n",
      "2. Clientes adimplentes: (8500, 16) (linhas/colunas)\n",
      "3. Clientes inadimplentes: (1627, 16) (linhas/colunas)\n",
      "\n",
      "Proporção de Adimplente e Inadimplente com a base completa\n",
      "A proporção de clientes adimplentes é de 83.93%\n",
      "A proporção de clientes inadimplentes é de 16.07%\n"
     ]
    }
   ],
   "source": [
    "# Quantidade linhas e colunas\n",
    "print(f\"1. Todos os clientes: {df.shape} (linhas/colunas)\")\n",
    "print(f\"2. Clientes adimplentes: {df[df['default'] == 0].shape} (linhas/colunas)\")\n",
    "print(f\"3. Clientes inadimplentes: {df[df['default'] == 1].shape} (linhas/colunas)\")\n",
    "print(\"\")\n",
    "\n",
    "qtd_total, _ = df.shape\n",
    "qtd_adimplentes, _ = df[df['default'] == 0].shape\n",
    "qtd_inadimplentes, _ = df[df['default'] == 1].shape\n",
    "\n",
    "print(\"Proporção de Adimplente e Inadimplente com a base completa\")\n",
    "print(f\"A proporção de clientes adimplentes é de {round(100 * qtd_adimplentes / qtd_total, 2)}%\")\n",
    "print(f\"A proporção de clientes inadimplentes é de {round(100 * qtd_inadimplentes / qtd_total, 2)}%\")"
   ]
  },
  {
   "cell_type": "markdown",
   "id": "58a0d487",
   "metadata": {
    "papermill": {
     "duration": 0.014227,
     "end_time": "2022-09-01T17:30:33.826701",
     "exception": false,
     "start_time": "2022-09-01T17:30:33.812474",
     "status": "completed"
    },
    "tags": []
   },
   "source": [
    "1.4 Schema\n",
    "----------"
   ]
  },
  {
   "cell_type": "markdown",
   "id": "a5d86651",
   "metadata": {
    "papermill": {
     "duration": 0.014264,
     "end_time": "2022-09-01T17:30:33.855534",
     "exception": false,
     "start_time": "2022-09-01T17:30:33.841270",
     "status": "completed"
    },
    "tags": []
   },
   "source": [
    "Abaixo, podemos analisar novamente a estrutura da base de dados e relacionar os dados das colunas e seus respectivos tipos de dados. Desta forma, podemos identificar possíveis problemas facilitando a transformação e limpeza dos dados.<br/>\n",
    "Essa análise nos possibilita encontrar dados faltantes, necessidade em transformar os dados e alterar o tipo de dado de determinada coluna.<br/>\n",
    "\n",
    "Aparentemente as colunas `escolaridade` e `estado_civil` possuem dados faltantes.<br/>\n",
    "Vamos revisitar esse item e identificar todas as colunas com dados faltantes. \n",
    "\n",
    "As colunas `limite_credito` e `valor_transacoes_12m` ambas são do tipo `object`.<br/>\n",
    "Os valores estão em *R$* onde o uso de vírgula e ponto são diferentes do padrão americano utilizado pelo Python. <br/><br/>"
   ]
  },
  {
   "cell_type": "code",
   "execution_count": 4,
   "id": "70a5addd",
   "metadata": {
    "_kg_hide-input": true,
    "execution": {
     "iopub.execute_input": "2022-09-01T17:30:33.886581Z",
     "iopub.status.busy": "2022-09-01T17:30:33.886205Z",
     "iopub.status.idle": "2022-09-01T17:30:33.905762Z",
     "shell.execute_reply": "2022-09-01T17:30:33.904592Z"
    },
    "papermill": {
     "duration": 0.037763,
     "end_time": "2022-09-01T17:30:33.908191",
     "exception": false,
     "start_time": "2022-09-01T17:30:33.870428",
     "status": "completed"
    },
    "tags": []
   },
   "outputs": [
    {
     "data": {
      "text/html": [
       "<div>\n",
       "<style scoped>\n",
       "    .dataframe tbody tr th:only-of-type {\n",
       "        vertical-align: middle;\n",
       "    }\n",
       "\n",
       "    .dataframe tbody tr th {\n",
       "        vertical-align: top;\n",
       "    }\n",
       "\n",
       "    .dataframe thead th {\n",
       "        text-align: right;\n",
       "    }\n",
       "</style>\n",
       "<table border=\"1\" class=\"dataframe\">\n",
       "  <thead>\n",
       "    <tr style=\"text-align: right;\">\n",
       "      <th></th>\n",
       "      <th>id</th>\n",
       "      <th>default</th>\n",
       "      <th>idade</th>\n",
       "      <th>sexo</th>\n",
       "      <th>dependentes</th>\n",
       "      <th>escolaridade</th>\n",
       "      <th>estado_civil</th>\n",
       "      <th>salario_anual</th>\n",
       "      <th>tipo_cartao</th>\n",
       "      <th>meses_de_relacionamento</th>\n",
       "      <th>qtd_produtos</th>\n",
       "      <th>iteracoes_12m</th>\n",
       "      <th>meses_inativo_12m</th>\n",
       "      <th>limite_credito</th>\n",
       "      <th>valor_transacoes_12m</th>\n",
       "      <th>qtd_transacoes_12m</th>\n",
       "    </tr>\n",
       "  </thead>\n",
       "  <tbody>\n",
       "    <tr>\n",
       "      <th>0</th>\n",
       "      <td>768805383</td>\n",
       "      <td>0</td>\n",
       "      <td>45</td>\n",
       "      <td>M</td>\n",
       "      <td>3</td>\n",
       "      <td>ensino medio</td>\n",
       "      <td>casado</td>\n",
       "      <td>$60K - $80K</td>\n",
       "      <td>blue</td>\n",
       "      <td>39</td>\n",
       "      <td>5</td>\n",
       "      <td>3</td>\n",
       "      <td>1</td>\n",
       "      <td>12.691,51</td>\n",
       "      <td>1.144,90</td>\n",
       "      <td>42</td>\n",
       "    </tr>\n",
       "    <tr>\n",
       "      <th>1</th>\n",
       "      <td>818770008</td>\n",
       "      <td>0</td>\n",
       "      <td>49</td>\n",
       "      <td>F</td>\n",
       "      <td>5</td>\n",
       "      <td>mestrado</td>\n",
       "      <td>solteiro</td>\n",
       "      <td>menos que $40K</td>\n",
       "      <td>blue</td>\n",
       "      <td>44</td>\n",
       "      <td>6</td>\n",
       "      <td>2</td>\n",
       "      <td>1</td>\n",
       "      <td>8.256,96</td>\n",
       "      <td>1.291,45</td>\n",
       "      <td>33</td>\n",
       "    </tr>\n",
       "    <tr>\n",
       "      <th>2</th>\n",
       "      <td>713982108</td>\n",
       "      <td>0</td>\n",
       "      <td>51</td>\n",
       "      <td>M</td>\n",
       "      <td>3</td>\n",
       "      <td>mestrado</td>\n",
       "      <td>casado</td>\n",
       "      <td>$80K - $120K</td>\n",
       "      <td>blue</td>\n",
       "      <td>36</td>\n",
       "      <td>4</td>\n",
       "      <td>0</td>\n",
       "      <td>1</td>\n",
       "      <td>3.418,56</td>\n",
       "      <td>1.887,72</td>\n",
       "      <td>20</td>\n",
       "    </tr>\n",
       "    <tr>\n",
       "      <th>3</th>\n",
       "      <td>769911858</td>\n",
       "      <td>0</td>\n",
       "      <td>40</td>\n",
       "      <td>F</td>\n",
       "      <td>4</td>\n",
       "      <td>ensino medio</td>\n",
       "      <td>NaN</td>\n",
       "      <td>menos que $40K</td>\n",
       "      <td>blue</td>\n",
       "      <td>34</td>\n",
       "      <td>3</td>\n",
       "      <td>1</td>\n",
       "      <td>4</td>\n",
       "      <td>3.313,03</td>\n",
       "      <td>1.171,56</td>\n",
       "      <td>20</td>\n",
       "    </tr>\n",
       "    <tr>\n",
       "      <th>4</th>\n",
       "      <td>709106358</td>\n",
       "      <td>0</td>\n",
       "      <td>40</td>\n",
       "      <td>M</td>\n",
       "      <td>3</td>\n",
       "      <td>sem educacao formal</td>\n",
       "      <td>casado</td>\n",
       "      <td>$60K - $80K</td>\n",
       "      <td>blue</td>\n",
       "      <td>21</td>\n",
       "      <td>5</td>\n",
       "      <td>0</td>\n",
       "      <td>1</td>\n",
       "      <td>4.716,22</td>\n",
       "      <td>816,08</td>\n",
       "      <td>28</td>\n",
       "    </tr>\n",
       "    <tr>\n",
       "      <th>5</th>\n",
       "      <td>713061558</td>\n",
       "      <td>0</td>\n",
       "      <td>44</td>\n",
       "      <td>M</td>\n",
       "      <td>2</td>\n",
       "      <td>mestrado</td>\n",
       "      <td>casado</td>\n",
       "      <td>$40K - $60K</td>\n",
       "      <td>blue</td>\n",
       "      <td>36</td>\n",
       "      <td>3</td>\n",
       "      <td>2</td>\n",
       "      <td>1</td>\n",
       "      <td>4.010,69</td>\n",
       "      <td>1.088,07</td>\n",
       "      <td>24</td>\n",
       "    </tr>\n",
       "    <tr>\n",
       "      <th>6</th>\n",
       "      <td>810347208</td>\n",
       "      <td>0</td>\n",
       "      <td>51</td>\n",
       "      <td>M</td>\n",
       "      <td>4</td>\n",
       "      <td>NaN</td>\n",
       "      <td>casado</td>\n",
       "      <td>$120K +</td>\n",
       "      <td>gold</td>\n",
       "      <td>46</td>\n",
       "      <td>6</td>\n",
       "      <td>3</td>\n",
       "      <td>1</td>\n",
       "      <td>34.516,72</td>\n",
       "      <td>1.330,87</td>\n",
       "      <td>31</td>\n",
       "    </tr>\n",
       "    <tr>\n",
       "      <th>7</th>\n",
       "      <td>818906208</td>\n",
       "      <td>0</td>\n",
       "      <td>32</td>\n",
       "      <td>M</td>\n",
       "      <td>0</td>\n",
       "      <td>ensino medio</td>\n",
       "      <td>NaN</td>\n",
       "      <td>$60K - $80K</td>\n",
       "      <td>silver</td>\n",
       "      <td>27</td>\n",
       "      <td>2</td>\n",
       "      <td>2</td>\n",
       "      <td>2</td>\n",
       "      <td>29.081,49</td>\n",
       "      <td>1.538,32</td>\n",
       "      <td>36</td>\n",
       "    </tr>\n",
       "    <tr>\n",
       "      <th>8</th>\n",
       "      <td>710930508</td>\n",
       "      <td>0</td>\n",
       "      <td>37</td>\n",
       "      <td>M</td>\n",
       "      <td>3</td>\n",
       "      <td>sem educacao formal</td>\n",
       "      <td>solteiro</td>\n",
       "      <td>$60K - $80K</td>\n",
       "      <td>blue</td>\n",
       "      <td>36</td>\n",
       "      <td>5</td>\n",
       "      <td>0</td>\n",
       "      <td>2</td>\n",
       "      <td>22.352,50</td>\n",
       "      <td>1.350,14</td>\n",
       "      <td>24</td>\n",
       "    </tr>\n",
       "    <tr>\n",
       "      <th>9</th>\n",
       "      <td>719661558</td>\n",
       "      <td>0</td>\n",
       "      <td>48</td>\n",
       "      <td>M</td>\n",
       "      <td>2</td>\n",
       "      <td>mestrado</td>\n",
       "      <td>solteiro</td>\n",
       "      <td>$80K - $120K</td>\n",
       "      <td>blue</td>\n",
       "      <td>36</td>\n",
       "      <td>6</td>\n",
       "      <td>3</td>\n",
       "      <td>3</td>\n",
       "      <td>11.656,41</td>\n",
       "      <td>1.441,73</td>\n",
       "      <td>32</td>\n",
       "    </tr>\n",
       "  </tbody>\n",
       "</table>\n",
       "</div>"
      ],
      "text/plain": [
       "          id  default  idade sexo  dependentes         escolaridade  \\\n",
       "0  768805383        0     45    M            3         ensino medio   \n",
       "1  818770008        0     49    F            5             mestrado   \n",
       "2  713982108        0     51    M            3             mestrado   \n",
       "3  769911858        0     40    F            4         ensino medio   \n",
       "4  709106358        0     40    M            3  sem educacao formal   \n",
       "5  713061558        0     44    M            2             mestrado   \n",
       "6  810347208        0     51    M            4                  NaN   \n",
       "7  818906208        0     32    M            0         ensino medio   \n",
       "8  710930508        0     37    M            3  sem educacao formal   \n",
       "9  719661558        0     48    M            2             mestrado   \n",
       "\n",
       "  estado_civil   salario_anual tipo_cartao  meses_de_relacionamento  \\\n",
       "0       casado     $60K - $80K        blue                       39   \n",
       "1     solteiro  menos que $40K        blue                       44   \n",
       "2       casado    $80K - $120K        blue                       36   \n",
       "3          NaN  menos que $40K        blue                       34   \n",
       "4       casado     $60K - $80K        blue                       21   \n",
       "5       casado     $40K - $60K        blue                       36   \n",
       "6       casado         $120K +        gold                       46   \n",
       "7          NaN     $60K - $80K      silver                       27   \n",
       "8     solteiro     $60K - $80K        blue                       36   \n",
       "9     solteiro    $80K - $120K        blue                       36   \n",
       "\n",
       "   qtd_produtos  iteracoes_12m  meses_inativo_12m limite_credito  \\\n",
       "0             5              3                  1      12.691,51   \n",
       "1             6              2                  1       8.256,96   \n",
       "2             4              0                  1       3.418,56   \n",
       "3             3              1                  4       3.313,03   \n",
       "4             5              0                  1       4.716,22   \n",
       "5             3              2                  1       4.010,69   \n",
       "6             6              3                  1      34.516,72   \n",
       "7             2              2                  2      29.081,49   \n",
       "8             5              0                  2      22.352,50   \n",
       "9             6              3                  3      11.656,41   \n",
       "\n",
       "  valor_transacoes_12m  qtd_transacoes_12m  \n",
       "0             1.144,90                  42  \n",
       "1             1.291,45                  33  \n",
       "2             1.887,72                  20  \n",
       "3             1.171,56                  20  \n",
       "4               816,08                  28  \n",
       "5             1.088,07                  24  \n",
       "6             1.330,87                  31  \n",
       "7             1.538,32                  36  \n",
       "8             1.350,14                  24  \n",
       "9             1.441,73                  32  "
      ]
     },
     "execution_count": 4,
     "metadata": {},
     "output_type": "execute_result"
    }
   ],
   "source": [
    "df.head(n=10)"
   ]
  },
  {
   "cell_type": "code",
   "execution_count": 5,
   "id": "1fee1c40",
   "metadata": {
    "_kg_hide-input": true,
    "execution": {
     "iopub.execute_input": "2022-09-01T17:30:33.940595Z",
     "iopub.status.busy": "2022-09-01T17:30:33.939795Z",
     "iopub.status.idle": "2022-09-01T17:30:33.948364Z",
     "shell.execute_reply": "2022-09-01T17:30:33.947266Z"
    },
    "papermill": {
     "duration": 0.027278,
     "end_time": "2022-09-01T17:30:33.950593",
     "exception": false,
     "start_time": "2022-09-01T17:30:33.923315",
     "status": "completed"
    },
    "tags": []
   },
   "outputs": [
    {
     "data": {
      "text/plain": [
       "id                          int64\n",
       "default                     int64\n",
       "idade                       int64\n",
       "sexo                       object\n",
       "dependentes                 int64\n",
       "escolaridade               object\n",
       "estado_civil               object\n",
       "salario_anual              object\n",
       "tipo_cartao                object\n",
       "meses_de_relacionamento     int64\n",
       "qtd_produtos                int64\n",
       "iteracoes_12m               int64\n",
       "meses_inativo_12m           int64\n",
       "limite_credito             object\n",
       "valor_transacoes_12m       object\n",
       "qtd_transacoes_12m          int64\n",
       "dtype: object"
      ]
     },
     "execution_count": 5,
     "metadata": {},
     "output_type": "execute_result"
    }
   ],
   "source": [
    "df.dtypes"
   ]
  },
  {
   "cell_type": "markdown",
   "id": "147f3f0c",
   "metadata": {
    "papermill": {
     "duration": 0.014932,
     "end_time": "2022-09-01T17:30:33.980775",
     "exception": false,
     "start_time": "2022-09-01T17:30:33.965843",
     "status": "completed"
    },
    "tags": []
   },
   "source": [
    "1.5 Atributos categóricos\n",
    "-------------------------"
   ]
  },
  {
   "cell_type": "markdown",
   "id": "4aff6ba7",
   "metadata": {
    "papermill": {
     "duration": 0.014895,
     "end_time": "2022-09-01T17:30:34.011043",
     "exception": false,
     "start_time": "2022-09-01T17:30:33.996148",
     "status": "completed"
    },
    "tags": []
   },
   "source": [
    "As colunas `escolaridade`, `estado_civil` e `salario_anual` possuem dados faltantes.<br/>\n",
    "Esses dados devem ser tratados com a exclusão das linhas, porém, é importante verificar a proporção dos daados para não comprometer na etapa de visualização e análise. "
   ]
  },
  {
   "cell_type": "code",
   "execution_count": 6,
   "id": "d3bbad0f",
   "metadata": {
    "_kg_hide-input": true,
    "execution": {
     "iopub.execute_input": "2022-09-01T17:30:34.043617Z",
     "iopub.status.busy": "2022-09-01T17:30:34.042820Z",
     "iopub.status.idle": "2022-09-01T17:30:34.085702Z",
     "shell.execute_reply": "2022-09-01T17:30:34.084358Z"
    },
    "papermill": {
     "duration": 0.062124,
     "end_time": "2022-09-01T17:30:34.088373",
     "exception": false,
     "start_time": "2022-09-01T17:30:34.026249",
     "status": "completed"
    },
    "tags": []
   },
   "outputs": [
    {
     "data": {
      "text/html": [
       "<div>\n",
       "<style scoped>\n",
       "    .dataframe tbody tr th:only-of-type {\n",
       "        vertical-align: middle;\n",
       "    }\n",
       "\n",
       "    .dataframe tbody tr th {\n",
       "        vertical-align: top;\n",
       "    }\n",
       "\n",
       "    .dataframe thead th {\n",
       "        text-align: right;\n",
       "    }\n",
       "</style>\n",
       "<table border=\"1\" class=\"dataframe\">\n",
       "  <thead>\n",
       "    <tr style=\"text-align: right;\">\n",
       "      <th></th>\n",
       "      <th>count</th>\n",
       "      <th>unique</th>\n",
       "      <th>top</th>\n",
       "      <th>freq</th>\n",
       "    </tr>\n",
       "  </thead>\n",
       "  <tbody>\n",
       "    <tr>\n",
       "      <th>sexo</th>\n",
       "      <td>10127</td>\n",
       "      <td>2</td>\n",
       "      <td>F</td>\n",
       "      <td>5358</td>\n",
       "    </tr>\n",
       "    <tr>\n",
       "      <th>escolaridade</th>\n",
       "      <td>8608</td>\n",
       "      <td>5</td>\n",
       "      <td>mestrado</td>\n",
       "      <td>3128</td>\n",
       "    </tr>\n",
       "    <tr>\n",
       "      <th>estado_civil</th>\n",
       "      <td>9378</td>\n",
       "      <td>3</td>\n",
       "      <td>casado</td>\n",
       "      <td>4687</td>\n",
       "    </tr>\n",
       "    <tr>\n",
       "      <th>salario_anual</th>\n",
       "      <td>9015</td>\n",
       "      <td>5</td>\n",
       "      <td>menos que $40K</td>\n",
       "      <td>3561</td>\n",
       "    </tr>\n",
       "    <tr>\n",
       "      <th>tipo_cartao</th>\n",
       "      <td>10127</td>\n",
       "      <td>4</td>\n",
       "      <td>blue</td>\n",
       "      <td>9436</td>\n",
       "    </tr>\n",
       "    <tr>\n",
       "      <th>limite_credito</th>\n",
       "      <td>10127</td>\n",
       "      <td>9272</td>\n",
       "      <td>1.438,21</td>\n",
       "      <td>11</td>\n",
       "    </tr>\n",
       "    <tr>\n",
       "      <th>valor_transacoes_12m</th>\n",
       "      <td>10127</td>\n",
       "      <td>10035</td>\n",
       "      <td>3.851,51</td>\n",
       "      <td>3</td>\n",
       "    </tr>\n",
       "  </tbody>\n",
       "</table>\n",
       "</div>"
      ],
      "text/plain": [
       "                      count unique             top  freq\n",
       "sexo                  10127      2               F  5358\n",
       "escolaridade           8608      5        mestrado  3128\n",
       "estado_civil           9378      3          casado  4687\n",
       "salario_anual          9015      5  menos que $40K  3561\n",
       "tipo_cartao           10127      4            blue  9436\n",
       "limite_credito        10127   9272        1.438,21    11\n",
       "valor_transacoes_12m  10127  10035        3.851,51     3"
      ]
     },
     "execution_count": 6,
     "metadata": {},
     "output_type": "execute_result"
    }
   ],
   "source": [
    "df.select_dtypes('object').describe().transpose()"
   ]
  },
  {
   "cell_type": "markdown",
   "id": "d58aa905",
   "metadata": {
    "papermill": {
     "duration": 0.015592,
     "end_time": "2022-09-01T17:30:34.119446",
     "exception": false,
     "start_time": "2022-09-01T17:30:34.103854",
     "status": "completed"
    },
    "tags": []
   },
   "source": [
    "1.6 Atributos numéricos\n",
    "-------------------------"
   ]
  },
  {
   "cell_type": "markdown",
   "id": "4c7cd2f4",
   "metadata": {
    "papermill": {
     "duration": 0.01489,
     "end_time": "2022-09-01T17:30:34.149684",
     "exception": false,
     "start_time": "2022-09-01T17:30:34.134794",
     "status": "completed"
    },
    "tags": []
   },
   "source": [
    "Aparentemente as colunas com atributo numérico não possuem dados faltantes, entretanto, as `colunas limite_credito` e `valor_transacoes_12m` devem ser tratadas para análise de dados."
   ]
  },
  {
   "cell_type": "code",
   "execution_count": 7,
   "id": "8f92dc1a",
   "metadata": {
    "_kg_hide-input": true,
    "execution": {
     "iopub.execute_input": "2022-09-01T17:30:34.182283Z",
     "iopub.status.busy": "2022-09-01T17:30:34.181637Z",
     "iopub.status.idle": "2022-09-01T17:30:34.228045Z",
     "shell.execute_reply": "2022-09-01T17:30:34.226955Z"
    },
    "papermill": {
     "duration": 0.065472,
     "end_time": "2022-09-01T17:30:34.230454",
     "exception": false,
     "start_time": "2022-09-01T17:30:34.164982",
     "status": "completed"
    },
    "tags": []
   },
   "outputs": [
    {
     "data": {
      "text/html": [
       "<div>\n",
       "<style scoped>\n",
       "    .dataframe tbody tr th:only-of-type {\n",
       "        vertical-align: middle;\n",
       "    }\n",
       "\n",
       "    .dataframe tbody tr th {\n",
       "        vertical-align: top;\n",
       "    }\n",
       "\n",
       "    .dataframe thead th {\n",
       "        text-align: right;\n",
       "    }\n",
       "</style>\n",
       "<table border=\"1\" class=\"dataframe\">\n",
       "  <thead>\n",
       "    <tr style=\"text-align: right;\">\n",
       "      <th></th>\n",
       "      <th>count</th>\n",
       "      <th>mean</th>\n",
       "      <th>std</th>\n",
       "      <th>min</th>\n",
       "      <th>25%</th>\n",
       "      <th>50%</th>\n",
       "      <th>75%</th>\n",
       "      <th>max</th>\n",
       "    </tr>\n",
       "  </thead>\n",
       "  <tbody>\n",
       "    <tr>\n",
       "      <th>default</th>\n",
       "      <td>10127.0</td>\n",
       "      <td>0.160660</td>\n",
       "      <td>0.367235</td>\n",
       "      <td>0.0</td>\n",
       "      <td>0.0</td>\n",
       "      <td>0.0</td>\n",
       "      <td>0.0</td>\n",
       "      <td>1.0</td>\n",
       "    </tr>\n",
       "    <tr>\n",
       "      <th>idade</th>\n",
       "      <td>10127.0</td>\n",
       "      <td>46.325960</td>\n",
       "      <td>8.016814</td>\n",
       "      <td>26.0</td>\n",
       "      <td>41.0</td>\n",
       "      <td>46.0</td>\n",
       "      <td>52.0</td>\n",
       "      <td>73.0</td>\n",
       "    </tr>\n",
       "    <tr>\n",
       "      <th>dependentes</th>\n",
       "      <td>10127.0</td>\n",
       "      <td>2.346203</td>\n",
       "      <td>1.298908</td>\n",
       "      <td>0.0</td>\n",
       "      <td>1.0</td>\n",
       "      <td>2.0</td>\n",
       "      <td>3.0</td>\n",
       "      <td>5.0</td>\n",
       "    </tr>\n",
       "    <tr>\n",
       "      <th>meses_de_relacionamento</th>\n",
       "      <td>10127.0</td>\n",
       "      <td>35.928409</td>\n",
       "      <td>7.986416</td>\n",
       "      <td>13.0</td>\n",
       "      <td>31.0</td>\n",
       "      <td>36.0</td>\n",
       "      <td>40.0</td>\n",
       "      <td>56.0</td>\n",
       "    </tr>\n",
       "    <tr>\n",
       "      <th>qtd_produtos</th>\n",
       "      <td>10127.0</td>\n",
       "      <td>3.812580</td>\n",
       "      <td>1.554408</td>\n",
       "      <td>1.0</td>\n",
       "      <td>3.0</td>\n",
       "      <td>4.0</td>\n",
       "      <td>5.0</td>\n",
       "      <td>6.0</td>\n",
       "    </tr>\n",
       "    <tr>\n",
       "      <th>iteracoes_12m</th>\n",
       "      <td>10127.0</td>\n",
       "      <td>2.455317</td>\n",
       "      <td>1.106225</td>\n",
       "      <td>0.0</td>\n",
       "      <td>2.0</td>\n",
       "      <td>2.0</td>\n",
       "      <td>3.0</td>\n",
       "      <td>6.0</td>\n",
       "    </tr>\n",
       "    <tr>\n",
       "      <th>meses_inativo_12m</th>\n",
       "      <td>10127.0</td>\n",
       "      <td>2.341167</td>\n",
       "      <td>1.010622</td>\n",
       "      <td>0.0</td>\n",
       "      <td>2.0</td>\n",
       "      <td>2.0</td>\n",
       "      <td>3.0</td>\n",
       "      <td>6.0</td>\n",
       "    </tr>\n",
       "    <tr>\n",
       "      <th>qtd_transacoes_12m</th>\n",
       "      <td>10127.0</td>\n",
       "      <td>64.858695</td>\n",
       "      <td>23.472570</td>\n",
       "      <td>10.0</td>\n",
       "      <td>45.0</td>\n",
       "      <td>67.0</td>\n",
       "      <td>81.0</td>\n",
       "      <td>139.0</td>\n",
       "    </tr>\n",
       "  </tbody>\n",
       "</table>\n",
       "</div>"
      ],
      "text/plain": [
       "                           count       mean        std   min   25%   50%  \\\n",
       "default                  10127.0   0.160660   0.367235   0.0   0.0   0.0   \n",
       "idade                    10127.0  46.325960   8.016814  26.0  41.0  46.0   \n",
       "dependentes              10127.0   2.346203   1.298908   0.0   1.0   2.0   \n",
       "meses_de_relacionamento  10127.0  35.928409   7.986416  13.0  31.0  36.0   \n",
       "qtd_produtos             10127.0   3.812580   1.554408   1.0   3.0   4.0   \n",
       "iteracoes_12m            10127.0   2.455317   1.106225   0.0   2.0   2.0   \n",
       "meses_inativo_12m        10127.0   2.341167   1.010622   0.0   2.0   2.0   \n",
       "qtd_transacoes_12m       10127.0  64.858695  23.472570  10.0  45.0  67.0   \n",
       "\n",
       "                          75%    max  \n",
       "default                   0.0    1.0  \n",
       "idade                    52.0   73.0  \n",
       "dependentes               3.0    5.0  \n",
       "meses_de_relacionamento  40.0   56.0  \n",
       "qtd_produtos              5.0    6.0  \n",
       "iteracoes_12m             3.0    6.0  \n",
       "meses_inativo_12m         3.0    6.0  \n",
       "qtd_transacoes_12m       81.0  139.0  "
      ]
     },
     "execution_count": 7,
     "metadata": {},
     "output_type": "execute_result"
    }
   ],
   "source": [
    "df.drop('id', axis=1).select_dtypes('number').describe().transpose()"
   ]
  },
  {
   "cell_type": "markdown",
   "id": "880f2439",
   "metadata": {
    "papermill": {
     "duration": 0.015101,
     "end_time": "2022-09-01T17:30:34.262017",
     "exception": false,
     "start_time": "2022-09-01T17:30:34.246916",
     "status": "completed"
    },
    "tags": []
   },
   "source": [
    "1.7 Dados Faltantes\n",
    "-------------------"
   ]
  },
  {
   "cell_type": "markdown",
   "id": "a2caf4e4",
   "metadata": {
    "papermill": {
     "duration": 0.015007,
     "end_time": "2022-09-01T17:30:34.292625",
     "exception": false,
     "start_time": "2022-09-01T17:30:34.277618",
     "status": "completed"
    },
    "tags": []
   },
   "source": [
    "As categorias `escolaridade`, `estado_civil` e `salario_anual` relamente estão com dados faltantes.<br/>\n",
    "Além dessa identificação, faremos o levantamento estatístico de cada coluna contemplando os dados de:<br/>\n",
    "1. Todos os clientes<br/>\n",
    "2. Clientes adimplentes<br/>\n",
    "3. Cliente inadimplentes<br/><br/>\n",
    "\n",
    "A proporção dos dados da base com os perfis de clientes adimplente e inadimplente são próximos. Assim sendo, podemos fazer a limpeza e tranformação dos dados.<br/>\n",
    "Podemos excluir linhas com dados faltantes da base original, posteriormente teremos os dados proporcionais para análise.<br/><br/>\n",
    "\n",
    "Identificando os dados faltantes abaixo."
   ]
  },
  {
   "cell_type": "code",
   "execution_count": 8,
   "id": "69c6f1ef",
   "metadata": {
    "_kg_hide-input": true,
    "execution": {
     "iopub.execute_input": "2022-09-01T17:30:34.325345Z",
     "iopub.status.busy": "2022-09-01T17:30:34.324913Z",
     "iopub.status.idle": "2022-09-01T17:30:34.338420Z",
     "shell.execute_reply": "2022-09-01T17:30:34.337161Z"
    },
    "papermill": {
     "duration": 0.032963,
     "end_time": "2022-09-01T17:30:34.341092",
     "exception": false,
     "start_time": "2022-09-01T17:30:34.308129",
     "status": "completed"
    },
    "tags": []
   },
   "outputs": [
    {
     "data": {
      "text/plain": [
       "id                         False\n",
       "default                    False\n",
       "idade                      False\n",
       "sexo                       False\n",
       "dependentes                False\n",
       "escolaridade                True\n",
       "estado_civil                True\n",
       "salario_anual               True\n",
       "tipo_cartao                False\n",
       "meses_de_relacionamento    False\n",
       "qtd_produtos               False\n",
       "iteracoes_12m              False\n",
       "meses_inativo_12m          False\n",
       "limite_credito             False\n",
       "valor_transacoes_12m       False\n",
       "qtd_transacoes_12m         False\n",
       "dtype: bool"
      ]
     },
     "execution_count": 8,
     "metadata": {},
     "output_type": "execute_result"
    }
   ],
   "source": [
    "df.isna().any()"
   ]
  },
  {
   "cell_type": "markdown",
   "id": "7068c74f",
   "metadata": {
    "papermill": {
     "duration": 0.015302,
     "end_time": "2022-09-01T17:30:34.372406",
     "exception": false,
     "start_time": "2022-09-01T17:30:34.357104",
     "status": "completed"
    },
    "tags": []
   },
   "source": [
    "Aálise estatística"
   ]
  },
  {
   "cell_type": "code",
   "execution_count": 9,
   "id": "737021c4",
   "metadata": {
    "_kg_hide-input": true,
    "execution": {
     "iopub.execute_input": "2022-09-01T17:30:34.405515Z",
     "iopub.status.busy": "2022-09-01T17:30:34.405147Z",
     "iopub.status.idle": "2022-09-01T17:30:34.444792Z",
     "shell.execute_reply": "2022-09-01T17:30:34.443681Z"
    },
    "papermill": {
     "duration": 0.059752,
     "end_time": "2022-09-01T17:30:34.447762",
     "exception": false,
     "start_time": "2022-09-01T17:30:34.388010",
     "status": "completed"
    },
    "tags": []
   },
   "outputs": [
    {
     "name": "stdout",
     "output_type": "stream",
     "text": [
      "1. Todos os Clientes\n",
      "{'escolaridade': {'quantidade': 1519, 'porcentagem': 15.0}}\n",
      "{'escolaridade': {'quantidade': 1519, 'porcentagem': 15.0}}\n",
      "{'estado_civil': {'quantidade': 749, 'porcentagem': 7.4}}\n",
      "{'escolaridade': {'quantidade': 1519, 'porcentagem': 15.0}}\n",
      "{'estado_civil': {'quantidade': 749, 'porcentagem': 7.4}}\n",
      "{'salario_anual': {'quantidade': 1112, 'porcentagem': 10.98}}\n",
      "\n",
      "2. Clientes adimplentes\n",
      "{'escolaridade': {'quantidade': 1263, 'porcentagem': 14.86}}\n",
      "{'escolaridade': {'quantidade': 1263, 'porcentagem': 14.86}}\n",
      "{'estado_civil': {'quantidade': 620, 'porcentagem': 7.29}}\n",
      "{'escolaridade': {'quantidade': 1263, 'porcentagem': 14.86}}\n",
      "{'estado_civil': {'quantidade': 620, 'porcentagem': 7.29}}\n",
      "{'salario_anual': {'quantidade': 925, 'porcentagem': 10.88}}\n",
      "\n",
      "3. Clientes inadimplentes\n",
      "{'escolaridade': {'quantidade': 256, 'porcentagem': 15.73}}\n",
      "{'escolaridade': {'quantidade': 256, 'porcentagem': 15.73}}\n",
      "{'estado_civil': {'quantidade': 129, 'porcentagem': 7.93}}\n",
      "{'escolaridade': {'quantidade': 256, 'porcentagem': 15.73}}\n",
      "{'estado_civil': {'quantidade': 129, 'porcentagem': 7.93}}\n",
      "{'salario_anual': {'quantidade': 187, 'porcentagem': 11.49}}\n"
     ]
    }
   ],
   "source": [
    "# Função para levantar estatísticas sobre as colunas dos dados faltantes.\n",
    "def stats_dados_faltantes(df: pd.DataFrame) -> None:\n",
    "    \n",
    "    stats_dados_faltantes = []\n",
    "    for col in df.columns:\n",
    "        if df[col].isna().any():\n",
    "            qtd, _ = df[df[col].isna()].shape\n",
    "            total, _ = df.shape\n",
    "            dict_dados_faltantes = {col: {'quantidade': qtd, \"porcentagem\": round(100 * qtd/total, 2)}}\n",
    "            stats_dados_faltantes.append(dict_dados_faltantes)\n",
    "            \n",
    "            for stat in stats_dados_faltantes:\n",
    "                print(stat)\n",
    "\n",
    "# Imprimindo os dados para análise estatística \n",
    "print(\"1. Todos os Clientes\")\n",
    "stats_dados_faltantes(df=df)\n",
    "print(\"\")\n",
    "print(\"2. Clientes adimplentes\")\n",
    "stats_dados_faltantes(df=df[df['default'] == 0])\n",
    "print(\"\")\n",
    "print(\"3. Clientes inadimplentes\")\n",
    "stats_dados_faltantes(df=df[df['default'] == 1])"
   ]
  },
  {
   "cell_type": "markdown",
   "id": "87be329c",
   "metadata": {
    "papermill": {
     "duration": 0.015324,
     "end_time": "2022-09-01T17:30:34.478955",
     "exception": false,
     "start_time": "2022-09-01T17:30:34.463631",
     "status": "completed"
    },
    "tags": []
   },
   "source": [
    "# 2. Transformação e limpeza de dados"
   ]
  },
  {
   "cell_type": "markdown",
   "id": "291c1f5d",
   "metadata": {
    "papermill": {
     "duration": 0.015387,
     "end_time": "2022-09-01T17:30:34.510373",
     "exception": false,
     "start_time": "2022-09-01T17:30:34.494986",
     "status": "completed"
    },
    "tags": []
   },
   "source": [
    "Após entender a natureza do conjunto de dados, pode ser feito a transformação e limpeza para melhor análise.<br/>\n",
    "Em especial será corrigido o **schema** das colunas `escolaridade`, `estado_civil`, `salario_anual` e **remover os dados faltantes**."
   ]
  },
  {
   "cell_type": "markdown",
   "id": "9a8dd129",
   "metadata": {
    "papermill": {
     "duration": 0.015118,
     "end_time": "2022-09-01T17:30:34.541108",
     "exception": false,
     "start_time": "2022-09-01T17:30:34.525990",
     "status": "completed"
    },
    "tags": []
   },
   "source": [
    "2.1 Correção de schema\n",
    "---"
   ]
  },
  {
   "cell_type": "markdown",
   "id": "dc805bc4",
   "metadata": {
    "papermill": {
     "duration": 0.015386,
     "end_time": "2022-09-01T17:30:34.572266",
     "exception": false,
     "start_time": "2022-09-01T17:30:34.556880",
     "status": "completed"
    },
    "tags": []
   },
   "source": [
    "Na etapa de exploração, notamos que as colunas **limite_credito** e **valor_transacoes_12m** estavam sendo interpretadas como colunas categóricas (`dtype = object`).<br/>\n",
    "Faremos a correção para **colunas numéricas**."
   ]
  },
  {
   "cell_type": "code",
   "execution_count": 10,
   "id": "177a6b9f",
   "metadata": {
    "execution": {
     "iopub.execute_input": "2022-09-01T17:30:34.607614Z",
     "iopub.status.busy": "2022-09-01T17:30:34.606730Z",
     "iopub.status.idle": "2022-09-01T17:30:34.615816Z",
     "shell.execute_reply": "2022-09-01T17:30:34.614985Z"
    },
    "papermill": {
     "duration": 0.028776,
     "end_time": "2022-09-01T17:30:34.617875",
     "exception": false,
     "start_time": "2022-09-01T17:30:34.589099",
     "status": "completed"
    },
    "tags": []
   },
   "outputs": [
    {
     "data": {
      "text/plain": [
       "limite_credito          object\n",
       "valor_transacoes_12m    object\n",
       "dtype: object"
      ]
     },
     "execution_count": 10,
     "metadata": {},
     "output_type": "execute_result"
    }
   ],
   "source": [
    "df[['limite_credito', 'valor_transacoes_12m']].dtypes"
   ]
  },
  {
   "cell_type": "code",
   "execution_count": 11,
   "id": "111ca6db",
   "metadata": {
    "_kg_hide-input": true,
    "execution": {
     "iopub.execute_input": "2022-09-01T17:30:34.651205Z",
     "iopub.status.busy": "2022-09-01T17:30:34.650801Z",
     "iopub.status.idle": "2022-09-01T17:30:34.662648Z",
     "shell.execute_reply": "2022-09-01T17:30:34.661489Z"
    },
    "papermill": {
     "duration": 0.031215,
     "end_time": "2022-09-01T17:30:34.664942",
     "exception": false,
     "start_time": "2022-09-01T17:30:34.633727",
     "status": "completed"
    },
    "tags": []
   },
   "outputs": [
    {
     "data": {
      "text/html": [
       "<div>\n",
       "<style scoped>\n",
       "    .dataframe tbody tr th:only-of-type {\n",
       "        vertical-align: middle;\n",
       "    }\n",
       "\n",
       "    .dataframe tbody tr th {\n",
       "        vertical-align: top;\n",
       "    }\n",
       "\n",
       "    .dataframe thead th {\n",
       "        text-align: right;\n",
       "    }\n",
       "</style>\n",
       "<table border=\"1\" class=\"dataframe\">\n",
       "  <thead>\n",
       "    <tr style=\"text-align: right;\">\n",
       "      <th></th>\n",
       "      <th>limite_credito</th>\n",
       "      <th>valor_transacoes_12m</th>\n",
       "    </tr>\n",
       "  </thead>\n",
       "  <tbody>\n",
       "    <tr>\n",
       "      <th>0</th>\n",
       "      <td>12.691,51</td>\n",
       "      <td>1.144,90</td>\n",
       "    </tr>\n",
       "    <tr>\n",
       "      <th>1</th>\n",
       "      <td>8.256,96</td>\n",
       "      <td>1.291,45</td>\n",
       "    </tr>\n",
       "    <tr>\n",
       "      <th>2</th>\n",
       "      <td>3.418,56</td>\n",
       "      <td>1.887,72</td>\n",
       "    </tr>\n",
       "    <tr>\n",
       "      <th>3</th>\n",
       "      <td>3.313,03</td>\n",
       "      <td>1.171,56</td>\n",
       "    </tr>\n",
       "    <tr>\n",
       "      <th>4</th>\n",
       "      <td>4.716,22</td>\n",
       "      <td>816,08</td>\n",
       "    </tr>\n",
       "  </tbody>\n",
       "</table>\n",
       "</div>"
      ],
      "text/plain": [
       "  limite_credito valor_transacoes_12m\n",
       "0      12.691,51             1.144,90\n",
       "1       8.256,96             1.291,45\n",
       "2       3.418,56             1.887,72\n",
       "3       3.313,03             1.171,56\n",
       "4       4.716,22               816,08"
      ]
     },
     "execution_count": 11,
     "metadata": {},
     "output_type": "execute_result"
    }
   ],
   "source": [
    "df[['limite_credito', 'valor_transacoes_12m']].head()"
   ]
  },
  {
   "cell_type": "markdown",
   "id": "16510f2c",
   "metadata": {
    "papermill": {
     "duration": 0.015906,
     "end_time": "2022-09-01T17:30:34.697217",
     "exception": false,
     "start_time": "2022-09-01T17:30:34.681311",
     "status": "completed"
    },
    "tags": []
   },
   "source": [
    "Antes de efetuar a limpeza dos dados, é importante testar a aplicação.<br/>\n",
    "A função `lambda` abaixo será executada para testar e verificar os dados das colunas correspondentes.<br/><br/>\n",
    "Com a função lambada testada e aprovada, podemos aplicar nas colunas de interesse."
   ]
  },
  {
   "cell_type": "code",
   "execution_count": 12,
   "id": "28eb27fa",
   "metadata": {
    "_kg_hide-input": true,
    "execution": {
     "iopub.execute_input": "2022-09-01T17:30:34.731223Z",
     "iopub.status.busy": "2022-09-01T17:30:34.730787Z",
     "iopub.status.idle": "2022-09-01T17:30:34.736767Z",
     "shell.execute_reply": "2022-09-01T17:30:34.735988Z"
    },
    "papermill": {
     "duration": 0.026164,
     "end_time": "2022-09-01T17:30:34.739344",
     "exception": false,
     "start_time": "2022-09-01T17:30:34.713180",
     "status": "completed"
    },
    "tags": []
   },
   "outputs": [
    {
     "name": "stdout",
     "output_type": "stream",
     "text": [
      "['12.691,51', '8.256,96', '3.418,56', '3.313,03', '4.716,22']\n",
      "[12691.51, 8256.96, 3418.56, 3313.03, 4716.22]\n"
     ]
    }
   ],
   "source": [
    "fn = lambda valor: float(valor.replace(\".\", \"\").replace(\",\", \".\"))\n",
    "\n",
    "valores_originais = ['12.691,51', '8.256,96', '3.418,56', '3.313,03', '4.716,22']\n",
    "valores_limpos = list(map(fn, valores_originais))\n",
    "\n",
    "print(valores_originais)\n",
    "print(valores_limpos)"
   ]
  },
  {
   "cell_type": "code",
   "execution_count": 13,
   "id": "d2e6153a",
   "metadata": {
    "_kg_hide-input": true,
    "execution": {
     "iopub.execute_input": "2022-09-01T17:30:34.774252Z",
     "iopub.status.busy": "2022-09-01T17:30:34.773818Z",
     "iopub.status.idle": "2022-09-01T17:30:34.796952Z",
     "shell.execute_reply": "2022-09-01T17:30:34.795983Z"
    },
    "papermill": {
     "duration": 0.0432,
     "end_time": "2022-09-01T17:30:34.799289",
     "exception": false,
     "start_time": "2022-09-01T17:30:34.756089",
     "status": "completed"
    },
    "tags": []
   },
   "outputs": [],
   "source": [
    "df['valor_transacoes_12m'] = df['valor_transacoes_12m'].apply(fn)\n",
    "df['limite_credito'] = df['limite_credito'].apply(fn)"
   ]
  },
  {
   "cell_type": "markdown",
   "id": "7d21b30a",
   "metadata": {
    "papermill": {
     "duration": 0.016461,
     "end_time": "2022-09-01T17:30:34.831968",
     "exception": false,
     "start_time": "2022-09-01T17:30:34.815507",
     "status": "completed"
    },
    "tags": []
   },
   "source": [
    "Descrevendo novamente o Schema.<br/>\n",
    "As colunas `limite_credito` e `valor_transacoes_12m` foram alteradas para `float64`."
   ]
  },
  {
   "cell_type": "code",
   "execution_count": 14,
   "id": "f014deb4",
   "metadata": {
    "_kg_hide-input": true,
    "execution": {
     "iopub.execute_input": "2022-09-01T17:30:34.867335Z",
     "iopub.status.busy": "2022-09-01T17:30:34.866430Z",
     "iopub.status.idle": "2022-09-01T17:30:34.873766Z",
     "shell.execute_reply": "2022-09-01T17:30:34.873030Z"
    },
    "papermill": {
     "duration": 0.02736,
     "end_time": "2022-09-01T17:30:34.875833",
     "exception": false,
     "start_time": "2022-09-01T17:30:34.848473",
     "status": "completed"
    },
    "tags": []
   },
   "outputs": [
    {
     "data": {
      "text/plain": [
       "id                           int64\n",
       "default                      int64\n",
       "idade                        int64\n",
       "sexo                        object\n",
       "dependentes                  int64\n",
       "escolaridade                object\n",
       "estado_civil                object\n",
       "salario_anual               object\n",
       "tipo_cartao                 object\n",
       "meses_de_relacionamento      int64\n",
       "qtd_produtos                 int64\n",
       "iteracoes_12m                int64\n",
       "meses_inativo_12m            int64\n",
       "limite_credito             float64\n",
       "valor_transacoes_12m       float64\n",
       "qtd_transacoes_12m           int64\n",
       "dtype: object"
      ]
     },
     "execution_count": 14,
     "metadata": {},
     "output_type": "execute_result"
    }
   ],
   "source": [
    "df.dtypes"
   ]
  },
  {
   "cell_type": "markdown",
   "id": "7f5edfef",
   "metadata": {
    "papermill": {
     "duration": 0.016239,
     "end_time": "2022-09-01T17:30:34.908372",
     "exception": false,
     "start_time": "2022-09-01T17:30:34.892133",
     "status": "completed"
    },
    "tags": []
   },
   "source": [
    "Atributos categóricos."
   ]
  },
  {
   "cell_type": "code",
   "execution_count": 15,
   "id": "8906c11f",
   "metadata": {
    "_kg_hide-input": true,
    "execution": {
     "iopub.execute_input": "2022-09-01T17:30:34.942913Z",
     "iopub.status.busy": "2022-09-01T17:30:34.942211Z",
     "iopub.status.idle": "2022-09-01T17:30:34.967290Z",
     "shell.execute_reply": "2022-09-01T17:30:34.966512Z"
    },
    "papermill": {
     "duration": 0.044773,
     "end_time": "2022-09-01T17:30:34.969300",
     "exception": false,
     "start_time": "2022-09-01T17:30:34.924527",
     "status": "completed"
    },
    "tags": []
   },
   "outputs": [
    {
     "data": {
      "text/html": [
       "<div>\n",
       "<style scoped>\n",
       "    .dataframe tbody tr th:only-of-type {\n",
       "        vertical-align: middle;\n",
       "    }\n",
       "\n",
       "    .dataframe tbody tr th {\n",
       "        vertical-align: top;\n",
       "    }\n",
       "\n",
       "    .dataframe thead th {\n",
       "        text-align: right;\n",
       "    }\n",
       "</style>\n",
       "<table border=\"1\" class=\"dataframe\">\n",
       "  <thead>\n",
       "    <tr style=\"text-align: right;\">\n",
       "      <th></th>\n",
       "      <th>count</th>\n",
       "      <th>unique</th>\n",
       "      <th>top</th>\n",
       "      <th>freq</th>\n",
       "    </tr>\n",
       "  </thead>\n",
       "  <tbody>\n",
       "    <tr>\n",
       "      <th>sexo</th>\n",
       "      <td>10127</td>\n",
       "      <td>2</td>\n",
       "      <td>F</td>\n",
       "      <td>5358</td>\n",
       "    </tr>\n",
       "    <tr>\n",
       "      <th>escolaridade</th>\n",
       "      <td>8608</td>\n",
       "      <td>5</td>\n",
       "      <td>mestrado</td>\n",
       "      <td>3128</td>\n",
       "    </tr>\n",
       "    <tr>\n",
       "      <th>estado_civil</th>\n",
       "      <td>9378</td>\n",
       "      <td>3</td>\n",
       "      <td>casado</td>\n",
       "      <td>4687</td>\n",
       "    </tr>\n",
       "    <tr>\n",
       "      <th>salario_anual</th>\n",
       "      <td>9015</td>\n",
       "      <td>5</td>\n",
       "      <td>menos que $40K</td>\n",
       "      <td>3561</td>\n",
       "    </tr>\n",
       "    <tr>\n",
       "      <th>tipo_cartao</th>\n",
       "      <td>10127</td>\n",
       "      <td>4</td>\n",
       "      <td>blue</td>\n",
       "      <td>9436</td>\n",
       "    </tr>\n",
       "  </tbody>\n",
       "</table>\n",
       "</div>"
      ],
      "text/plain": [
       "               count unique             top  freq\n",
       "sexo           10127      2               F  5358\n",
       "escolaridade    8608      5        mestrado  3128\n",
       "estado_civil    9378      3          casado  4687\n",
       "salario_anual   9015      5  menos que $40K  3561\n",
       "tipo_cartao    10127      4            blue  9436"
      ]
     },
     "execution_count": 15,
     "metadata": {},
     "output_type": "execute_result"
    }
   ],
   "source": [
    "df.select_dtypes('object').describe().transpose()"
   ]
  },
  {
   "cell_type": "markdown",
   "id": "327c32bd",
   "metadata": {
    "papermill": {
     "duration": 0.015959,
     "end_time": "2022-09-01T17:30:35.001771",
     "exception": false,
     "start_time": "2022-09-01T17:30:34.985812",
     "status": "completed"
    },
    "tags": []
   },
   "source": [
    "Atributos numéricos."
   ]
  },
  {
   "cell_type": "code",
   "execution_count": 16,
   "id": "075cfca9",
   "metadata": {
    "_kg_hide-input": true,
    "execution": {
     "iopub.execute_input": "2022-09-01T17:30:35.036996Z",
     "iopub.status.busy": "2022-09-01T17:30:35.036573Z",
     "iopub.status.idle": "2022-09-01T17:30:35.083161Z",
     "shell.execute_reply": "2022-09-01T17:30:35.081938Z"
    },
    "papermill": {
     "duration": 0.067675,
     "end_time": "2022-09-01T17:30:35.085802",
     "exception": false,
     "start_time": "2022-09-01T17:30:35.018127",
     "status": "completed"
    },
    "tags": []
   },
   "outputs": [
    {
     "data": {
      "text/html": [
       "<div>\n",
       "<style scoped>\n",
       "    .dataframe tbody tr th:only-of-type {\n",
       "        vertical-align: middle;\n",
       "    }\n",
       "\n",
       "    .dataframe tbody tr th {\n",
       "        vertical-align: top;\n",
       "    }\n",
       "\n",
       "    .dataframe thead th {\n",
       "        text-align: right;\n",
       "    }\n",
       "</style>\n",
       "<table border=\"1\" class=\"dataframe\">\n",
       "  <thead>\n",
       "    <tr style=\"text-align: right;\">\n",
       "      <th></th>\n",
       "      <th>count</th>\n",
       "      <th>mean</th>\n",
       "      <th>std</th>\n",
       "      <th>min</th>\n",
       "      <th>25%</th>\n",
       "      <th>50%</th>\n",
       "      <th>75%</th>\n",
       "      <th>max</th>\n",
       "    </tr>\n",
       "  </thead>\n",
       "  <tbody>\n",
       "    <tr>\n",
       "      <th>default</th>\n",
       "      <td>10127.0</td>\n",
       "      <td>0.160660</td>\n",
       "      <td>0.367235</td>\n",
       "      <td>0.00</td>\n",
       "      <td>0.000</td>\n",
       "      <td>0.00</td>\n",
       "      <td>0.000</td>\n",
       "      <td>1.00</td>\n",
       "    </tr>\n",
       "    <tr>\n",
       "      <th>idade</th>\n",
       "      <td>10127.0</td>\n",
       "      <td>46.325960</td>\n",
       "      <td>8.016814</td>\n",
       "      <td>26.00</td>\n",
       "      <td>41.000</td>\n",
       "      <td>46.00</td>\n",
       "      <td>52.000</td>\n",
       "      <td>73.00</td>\n",
       "    </tr>\n",
       "    <tr>\n",
       "      <th>dependentes</th>\n",
       "      <td>10127.0</td>\n",
       "      <td>2.346203</td>\n",
       "      <td>1.298908</td>\n",
       "      <td>0.00</td>\n",
       "      <td>1.000</td>\n",
       "      <td>2.00</td>\n",
       "      <td>3.000</td>\n",
       "      <td>5.00</td>\n",
       "    </tr>\n",
       "    <tr>\n",
       "      <th>meses_de_relacionamento</th>\n",
       "      <td>10127.0</td>\n",
       "      <td>35.928409</td>\n",
       "      <td>7.986416</td>\n",
       "      <td>13.00</td>\n",
       "      <td>31.000</td>\n",
       "      <td>36.00</td>\n",
       "      <td>40.000</td>\n",
       "      <td>56.00</td>\n",
       "    </tr>\n",
       "    <tr>\n",
       "      <th>qtd_produtos</th>\n",
       "      <td>10127.0</td>\n",
       "      <td>3.812580</td>\n",
       "      <td>1.554408</td>\n",
       "      <td>1.00</td>\n",
       "      <td>3.000</td>\n",
       "      <td>4.00</td>\n",
       "      <td>5.000</td>\n",
       "      <td>6.00</td>\n",
       "    </tr>\n",
       "    <tr>\n",
       "      <th>iteracoes_12m</th>\n",
       "      <td>10127.0</td>\n",
       "      <td>2.455317</td>\n",
       "      <td>1.106225</td>\n",
       "      <td>0.00</td>\n",
       "      <td>2.000</td>\n",
       "      <td>2.00</td>\n",
       "      <td>3.000</td>\n",
       "      <td>6.00</td>\n",
       "    </tr>\n",
       "    <tr>\n",
       "      <th>meses_inativo_12m</th>\n",
       "      <td>10127.0</td>\n",
       "      <td>2.341167</td>\n",
       "      <td>1.010622</td>\n",
       "      <td>0.00</td>\n",
       "      <td>2.000</td>\n",
       "      <td>2.00</td>\n",
       "      <td>3.000</td>\n",
       "      <td>6.00</td>\n",
       "    </tr>\n",
       "    <tr>\n",
       "      <th>limite_credito</th>\n",
       "      <td>10127.0</td>\n",
       "      <td>8632.440165</td>\n",
       "      <td>9088.788041</td>\n",
       "      <td>1438.00</td>\n",
       "      <td>2555.355</td>\n",
       "      <td>4549.42</td>\n",
       "      <td>11068.175</td>\n",
       "      <td>34516.99</td>\n",
       "    </tr>\n",
       "    <tr>\n",
       "      <th>valor_transacoes_12m</th>\n",
       "      <td>10127.0</td>\n",
       "      <td>4404.583047</td>\n",
       "      <td>3397.128078</td>\n",
       "      <td>510.16</td>\n",
       "      <td>2155.825</td>\n",
       "      <td>3899.59</td>\n",
       "      <td>4741.310</td>\n",
       "      <td>18484.93</td>\n",
       "    </tr>\n",
       "    <tr>\n",
       "      <th>qtd_transacoes_12m</th>\n",
       "      <td>10127.0</td>\n",
       "      <td>64.858695</td>\n",
       "      <td>23.472570</td>\n",
       "      <td>10.00</td>\n",
       "      <td>45.000</td>\n",
       "      <td>67.00</td>\n",
       "      <td>81.000</td>\n",
       "      <td>139.00</td>\n",
       "    </tr>\n",
       "  </tbody>\n",
       "</table>\n",
       "</div>"
      ],
      "text/plain": [
       "                           count         mean          std      min       25%  \\\n",
       "default                  10127.0     0.160660     0.367235     0.00     0.000   \n",
       "idade                    10127.0    46.325960     8.016814    26.00    41.000   \n",
       "dependentes              10127.0     2.346203     1.298908     0.00     1.000   \n",
       "meses_de_relacionamento  10127.0    35.928409     7.986416    13.00    31.000   \n",
       "qtd_produtos             10127.0     3.812580     1.554408     1.00     3.000   \n",
       "iteracoes_12m            10127.0     2.455317     1.106225     0.00     2.000   \n",
       "meses_inativo_12m        10127.0     2.341167     1.010622     0.00     2.000   \n",
       "limite_credito           10127.0  8632.440165  9088.788041  1438.00  2555.355   \n",
       "valor_transacoes_12m     10127.0  4404.583047  3397.128078   510.16  2155.825   \n",
       "qtd_transacoes_12m       10127.0    64.858695    23.472570    10.00    45.000   \n",
       "\n",
       "                             50%        75%       max  \n",
       "default                     0.00      0.000      1.00  \n",
       "idade                      46.00     52.000     73.00  \n",
       "dependentes                 2.00      3.000      5.00  \n",
       "meses_de_relacionamento    36.00     40.000     56.00  \n",
       "qtd_produtos                4.00      5.000      6.00  \n",
       "iteracoes_12m               2.00      3.000      6.00  \n",
       "meses_inativo_12m           2.00      3.000      6.00  \n",
       "limite_credito           4549.42  11068.175  34516.99  \n",
       "valor_transacoes_12m     3899.59   4741.310  18484.93  \n",
       "qtd_transacoes_12m         67.00     81.000    139.00  "
      ]
     },
     "execution_count": 16,
     "metadata": {},
     "output_type": "execute_result"
    }
   ],
   "source": [
    "df.drop('id', axis=1).select_dtypes('number').describe().transpose()"
   ]
  },
  {
   "cell_type": "markdown",
   "id": "c6333f63",
   "metadata": {
    "papermill": {
     "duration": 0.016774,
     "end_time": "2022-09-01T17:30:35.120372",
     "exception": false,
     "start_time": "2022-09-01T17:30:35.103598",
     "status": "completed"
    },
    "tags": []
   },
   "source": [
    "2.2 Remoção de dados faltantes\n",
    "---"
   ]
  },
  {
   "cell_type": "markdown",
   "id": "362625b4",
   "metadata": {
    "papermill": {
     "duration": 0.016548,
     "end_time": "2022-09-01T17:30:35.153858",
     "exception": false,
     "start_time": "2022-09-01T17:30:35.137310",
     "status": "completed"
    },
    "tags": []
   },
   "source": [
    "Como o *pandas* está ciente do que é um dado faltante, a remoção das linhas problemáticas é trivial.<br/><br/>\n",
    "Vamos reanalisar a estrutura dos dados original.<br/>\n",
    "Na sequência, vamos fazer a remoção dos dados faltantes e reanalisar a estrutura dos dados, para termos certeza que tudo está correto com a proporção dos dados originais e após a remoção das linhas com dados faltantes."
   ]
  },
  {
   "cell_type": "markdown",
   "id": "eb7f4c8b",
   "metadata": {
    "papermill": {
     "duration": 0.01664,
     "end_time": "2022-09-01T17:30:35.187682",
     "exception": false,
     "start_time": "2022-09-01T17:30:35.171042",
     "status": "completed"
    },
    "tags": []
   },
   "source": [
    "Estrutura de dados original"
   ]
  },
  {
   "cell_type": "code",
   "execution_count": 17,
   "id": "e27e4daf",
   "metadata": {
    "_kg_hide-input": true,
    "execution": {
     "iopub.execute_input": "2022-09-01T17:30:35.223762Z",
     "iopub.status.busy": "2022-09-01T17:30:35.223011Z",
     "iopub.status.idle": "2022-09-01T17:30:35.236953Z",
     "shell.execute_reply": "2022-09-01T17:30:35.235875Z"
    },
    "papermill": {
     "duration": 0.036142,
     "end_time": "2022-09-01T17:30:35.240589",
     "exception": false,
     "start_time": "2022-09-01T17:30:35.204447",
     "status": "completed"
    },
    "tags": []
   },
   "outputs": [
    {
     "name": "stdout",
     "output_type": "stream",
     "text": [
      "1. Todos os clientes: (10127, 16) (linhas/colunas)\n",
      "2. Clientes adimplentes: (8500, 16) (linhas/colunas)\n",
      "3. Clientes inadimplentes: (1627, 16) (linhas/colunas)\n",
      "\n",
      "Proporção de Adimplente e Inadimplente com a base completa\n",
      "Clientes adimplentes é de 83.93%\n",
      "Clientes inadimplentes é de 16.07%\n"
     ]
    }
   ],
   "source": [
    "# Quantidade linhas e colunas\n",
    "print(f\"1. Todos os clientes: {df.shape} (linhas/colunas)\")\n",
    "print(f\"2. Clientes adimplentes: {df[df['default'] == 0].shape} (linhas/colunas)\")\n",
    "print(f\"3. Clientes inadimplentes: {df[df['default'] == 1].shape} (linhas/colunas)\")\n",
    "print(\"\")\n",
    "\n",
    "qtd_total, _ = df.shape\n",
    "qtd_adimplentes, _ = df[df['default'] == 0].shape\n",
    "qtd_inadimplentes, _ = df[df['default'] == 1].shape\n",
    "\n",
    "print(\"Proporção de Adimplente e Inadimplente com a base completa\")\n",
    "print(f\"Clientes adimplentes é de {round(100 * qtd_adimplentes / qtd_total, 2)}%\")\n",
    "print(f\"Clientes inadimplentes é de {round(100 * qtd_inadimplentes / qtd_total, 2)}%\")"
   ]
  },
  {
   "cell_type": "markdown",
   "id": "fb57094e",
   "metadata": {
    "papermill": {
     "duration": 0.01714,
     "end_time": "2022-09-01T17:30:35.276809",
     "exception": false,
     "start_time": "2022-09-01T17:30:35.259669",
     "status": "completed"
    },
    "tags": []
   },
   "source": [
    "Estrutura de dados nova"
   ]
  },
  {
   "cell_type": "code",
   "execution_count": 18,
   "id": "6175d3b3",
   "metadata": {
    "_kg_hide-input": true,
    "execution": {
     "iopub.execute_input": "2022-09-01T17:30:35.313749Z",
     "iopub.status.busy": "2022-09-01T17:30:35.312589Z",
     "iopub.status.idle": "2022-09-01T17:30:35.331539Z",
     "shell.execute_reply": "2022-09-01T17:30:35.330652Z"
    },
    "papermill": {
     "duration": 0.039904,
     "end_time": "2022-09-01T17:30:35.333997",
     "exception": false,
     "start_time": "2022-09-01T17:30:35.294093",
     "status": "completed"
    },
    "tags": []
   },
   "outputs": [
    {
     "name": "stdout",
     "output_type": "stream",
     "text": [
      "Quantidade de novas linhas:\n",
      "1. Todos os clientes: (7081, 16) (linhas/colunas)\n",
      "2. Clientes adimplentes: (5968, 16) (linhas/colunas)\n",
      "3. Clientes inadimplentes: (1113, 16) (linhas/colunas)\n",
      "\n",
      "Proporção de Adimplente com a nova base\n",
      "Clientes adimplentes da base origial é de 83.93%\n",
      "Nova proporção de clientes adimplentes é de 84.28%\n",
      "\n",
      "Proporção de Inadimplente com a nova base\n",
      "Clientes inadimplentes da base origial é de 16.07%\n",
      "Nova proporção de clientes inadimplentes é de 15.72%\n"
     ]
    }
   ],
   "source": [
    "# Remoção dos dados\n",
    "df.dropna(inplace=True)\n",
    "\n",
    "# Quantidade linhas e colunas\n",
    "print(\"Quantidade de novas linhas:\")\n",
    "print(f\"1. Todos os clientes: {df.shape} (linhas/colunas)\")\n",
    "print(f\"2. Clientes adimplentes: {df[df['default'] == 0].shape} (linhas/colunas)\")\n",
    "print(f\"3. Clientes inadimplentes: {df[df['default'] == 1].shape} (linhas/colunas)\")\n",
    "print(\"\")\n",
    "\n",
    "# Calculando os dados novos \n",
    "qtd_total_novo, _ = df.shape\n",
    "qtd_adimplentes_novo, _ = df[df['default'] == 0].shape\n",
    "qtd_inadimplentes_novo, _ = df[df['default'] == 1].shape\n",
    "\n",
    "print(\"Proporção de Adimplente com a nova base\")\n",
    "print(f\"Clientes adimplentes da base origial é de {round(100 * qtd_adimplentes / qtd_total, 2)}%\")\n",
    "print(f\"Nova proporção de clientes adimplentes é de {round(100 * qtd_adimplentes_novo / qtd_total_novo, 2)}%\")\n",
    "print(\"\")\n",
    "print(\"Proporção de Inadimplente com a nova base\")\n",
    "print(f\"Clientes inadimplentes da base origial é de {round(100 * qtd_inadimplentes / qtd_total, 2)}%\")\n",
    "print(f\"Nova proporção de clientes inadimplentes é de {round(100 * qtd_inadimplentes_novo / qtd_total_novo, 2)}%\")"
   ]
  },
  {
   "cell_type": "markdown",
   "id": "5082775b",
   "metadata": {
    "papermill": {
     "duration": 0.016559,
     "end_time": "2022-09-01T17:30:35.367809",
     "exception": false,
     "start_time": "2022-09-01T17:30:35.351250",
     "status": "completed"
    },
    "tags": []
   },
   "source": [
    "# 3. Visualização de dados"
   ]
  },
  {
   "cell_type": "markdown",
   "id": "6184419f",
   "metadata": {
    "papermill": {
     "duration": 0.016562,
     "end_time": "2022-09-01T17:30:35.401336",
     "exception": false,
     "start_time": "2022-09-01T17:30:35.384774",
     "status": "completed"
    },
    "tags": []
   },
   "source": [
    "Abaixo serão mostradas diversas visualizações para correlacionar *variáveis explicativas* com a *variável resposta* para buscar entender qual fator leva um cliente a inadimplencia.<br/>\n",
    "Será comparado a base com *todos os clientes* com a *base de adimplentes e inadimplentes*."
   ]
  },
  {
   "cell_type": "markdown",
   "id": "855b7e34",
   "metadata": {
    "papermill": {
     "duration": 0.016446,
     "end_time": "2022-09-01T17:30:35.434535",
     "exception": false,
     "start_time": "2022-09-01T17:30:35.418089",
     "status": "completed"
    },
    "tags": []
   },
   "source": [
    "Separando os clientes *adimplentes* e *inadimplentes* com as variáveis `df_adimplente` e `df_inadimplente`."
   ]
  },
  {
   "cell_type": "code",
   "execution_count": 19,
   "id": "1563d553",
   "metadata": {
    "_kg_hide-input": true,
    "execution": {
     "iopub.execute_input": "2022-09-01T17:30:35.470535Z",
     "iopub.status.busy": "2022-09-01T17:30:35.469764Z",
     "iopub.status.idle": "2022-09-01T17:30:35.475583Z",
     "shell.execute_reply": "2022-09-01T17:30:35.474822Z"
    },
    "papermill": {
     "duration": 0.026261,
     "end_time": "2022-09-01T17:30:35.477723",
     "exception": false,
     "start_time": "2022-09-01T17:30:35.451462",
     "status": "completed"
    },
    "tags": []
   },
   "outputs": [],
   "source": [
    "df_adimplente = df[df['default'] == 0]"
   ]
  },
  {
   "cell_type": "code",
   "execution_count": 20,
   "id": "00802b81",
   "metadata": {
    "_kg_hide-input": true,
    "execution": {
     "iopub.execute_input": "2022-09-01T17:30:35.514178Z",
     "iopub.status.busy": "2022-09-01T17:30:35.513736Z",
     "iopub.status.idle": "2022-09-01T17:30:35.519260Z",
     "shell.execute_reply": "2022-09-01T17:30:35.518395Z"
    },
    "papermill": {
     "duration": 0.026083,
     "end_time": "2022-09-01T17:30:35.521528",
     "exception": false,
     "start_time": "2022-09-01T17:30:35.495445",
     "status": "completed"
    },
    "tags": []
   },
   "outputs": [],
   "source": [
    "df_inadimplente = df[df['default'] == 1]"
   ]
  },
  {
   "cell_type": "markdown",
   "id": "d16edc39",
   "metadata": {
    "papermill": {
     "duration": 0.01666,
     "end_time": "2022-09-01T17:30:35.555114",
     "exception": false,
     "start_time": "2022-09-01T17:30:35.538454",
     "status": "completed"
    },
    "tags": []
   },
   "source": [
    "3.1 Visualizações categóricas\n",
    "---"
   ]
  },
  {
   "cell_type": "markdown",
   "id": "2c9a6c32",
   "metadata": {
    "papermill": {
     "duration": 0.016612,
     "end_time": "2022-09-01T17:30:35.588572",
     "exception": false,
     "start_time": "2022-09-01T17:30:35.571960",
     "status": "completed"
    },
    "tags": []
   },
   "source": [
    "Nesta seção, vamos visualizar a relação entre a variável resposta `default` com os atributos categóricos."
   ]
  },
  {
   "cell_type": "code",
   "execution_count": 21,
   "id": "c8d9b4c4",
   "metadata": {
    "_kg_hide-input": true,
    "execution": {
     "iopub.execute_input": "2022-09-01T17:30:35.624612Z",
     "iopub.status.busy": "2022-09-01T17:30:35.623847Z",
     "iopub.status.idle": "2022-09-01T17:30:35.636947Z",
     "shell.execute_reply": "2022-09-01T17:30:35.636115Z"
    },
    "papermill": {
     "duration": 0.033539,
     "end_time": "2022-09-01T17:30:35.639011",
     "exception": false,
     "start_time": "2022-09-01T17:30:35.605472",
     "status": "completed"
    },
    "tags": []
   },
   "outputs": [
    {
     "data": {
      "text/html": [
       "<div>\n",
       "<style scoped>\n",
       "    .dataframe tbody tr th:only-of-type {\n",
       "        vertical-align: middle;\n",
       "    }\n",
       "\n",
       "    .dataframe tbody tr th {\n",
       "        vertical-align: top;\n",
       "    }\n",
       "\n",
       "    .dataframe thead th {\n",
       "        text-align: right;\n",
       "    }\n",
       "</style>\n",
       "<table border=\"1\" class=\"dataframe\">\n",
       "  <thead>\n",
       "    <tr style=\"text-align: right;\">\n",
       "      <th></th>\n",
       "      <th>sexo</th>\n",
       "      <th>escolaridade</th>\n",
       "      <th>estado_civil</th>\n",
       "      <th>salario_anual</th>\n",
       "      <th>tipo_cartao</th>\n",
       "    </tr>\n",
       "  </thead>\n",
       "  <tbody>\n",
       "    <tr>\n",
       "      <th>0</th>\n",
       "      <td>M</td>\n",
       "      <td>ensino medio</td>\n",
       "      <td>casado</td>\n",
       "      <td>$60K - $80K</td>\n",
       "      <td>blue</td>\n",
       "    </tr>\n",
       "    <tr>\n",
       "      <th>1</th>\n",
       "      <td>F</td>\n",
       "      <td>mestrado</td>\n",
       "      <td>solteiro</td>\n",
       "      <td>menos que $40K</td>\n",
       "      <td>blue</td>\n",
       "    </tr>\n",
       "    <tr>\n",
       "      <th>2</th>\n",
       "      <td>M</td>\n",
       "      <td>mestrado</td>\n",
       "      <td>casado</td>\n",
       "      <td>$80K - $120K</td>\n",
       "      <td>blue</td>\n",
       "    </tr>\n",
       "    <tr>\n",
       "      <th>4</th>\n",
       "      <td>M</td>\n",
       "      <td>sem educacao formal</td>\n",
       "      <td>casado</td>\n",
       "      <td>$60K - $80K</td>\n",
       "      <td>blue</td>\n",
       "    </tr>\n",
       "    <tr>\n",
       "      <th>5</th>\n",
       "      <td>M</td>\n",
       "      <td>mestrado</td>\n",
       "      <td>casado</td>\n",
       "      <td>$40K - $60K</td>\n",
       "      <td>blue</td>\n",
       "    </tr>\n",
       "  </tbody>\n",
       "</table>\n",
       "</div>"
      ],
      "text/plain": [
       "  sexo         escolaridade estado_civil   salario_anual tipo_cartao\n",
       "0    M         ensino medio       casado     $60K - $80K        blue\n",
       "1    F             mestrado     solteiro  menos que $40K        blue\n",
       "2    M             mestrado       casado    $80K - $120K        blue\n",
       "4    M  sem educacao formal       casado     $60K - $80K        blue\n",
       "5    M             mestrado       casado     $40K - $60K        blue"
      ]
     },
     "execution_count": 21,
     "metadata": {},
     "output_type": "execute_result"
    }
   ],
   "source": [
    "df.select_dtypes('object').head(n=5)"
   ]
  },
  {
   "cell_type": "markdown",
   "id": "96db6e68",
   "metadata": {
    "papermill": {
     "duration": 0.016698,
     "end_time": "2022-09-01T17:30:35.673008",
     "exception": false,
     "start_time": "2022-09-01T17:30:35.656310",
     "status": "completed"
    },
    "tags": []
   },
   "source": [
    "**Escolaridade**"
   ]
  },
  {
   "cell_type": "code",
   "execution_count": 22,
   "id": "812e22d6",
   "metadata": {
    "_kg_hide-input": true,
    "execution": {
     "iopub.execute_input": "2022-09-01T17:30:35.709507Z",
     "iopub.status.busy": "2022-09-01T17:30:35.708807Z",
     "iopub.status.idle": "2022-09-01T17:30:36.348074Z",
     "shell.execute_reply": "2022-09-01T17:30:36.346922Z"
    },
    "jupyter": {
     "source_hidden": true
    },
    "papermill": {
     "duration": 0.660396,
     "end_time": "2022-09-01T17:30:36.350571",
     "exception": false,
     "start_time": "2022-09-01T17:30:35.690175",
     "status": "completed"
    },
    "tags": []
   },
   "outputs": [
    {
     "data": {
      "image/png": "[encoded data removed]",
      "text/plain": [
       "<Figure size 1440x360 with 3 Axes>"
      ]
     },
     "metadata": {},
     "output_type": "display_data"
    }
   ],
   "source": [
    "# escolaridade\n",
    "coluna = 'escolaridade'\n",
    "titulos = ['Escolaridade dos Clientes', 'Escolaridade dos Clientes Adimplentes', 'Escolaridade dos Clientes Inadimplentes']\n",
    "\n",
    "eixo = 0\n",
    "max_y = 0\n",
    "max = df.select_dtypes('object').describe()[coluna]['freq'] * 1.1\n",
    "\n",
    "figura, eixos = plt.subplots(1,3, figsize=(20, 5), sharex=True)\n",
    "\n",
    "for dataframe in [df, df_adimplente, df_inadimplente]:\n",
    "\n",
    "  df_to_plot = dataframe[coluna].value_counts().to_frame()\n",
    "  df_to_plot.rename(columns={coluna: 'frequencia_absoluta'}, inplace=True)\n",
    "  df_to_plot[coluna] = df_to_plot.index\n",
    "  df_to_plot.sort_values(by=[coluna], inplace=True)\n",
    "  df_to_plot.sort_values(by=[coluna])\n",
    "\n",
    "  f = sns.barplot(x=df_to_plot[coluna], y=df_to_plot['frequencia_absoluta'], ax=eixos[eixo])\n",
    "  f.set(title=titulos[eixo], xlabel=coluna.capitalize(), ylabel='Frequência Absoluta')\n",
    "  f.set_xticklabels(labels=f.get_xticklabels(), rotation=90)\n",
    "\n",
    "  _, max_y_f = f.get_ylim()\n",
    "  max_y = max_y_f if max_y_f > max_y else max_y\n",
    "  f.set(ylim=(0, max_y))\n",
    "\n",
    "  eixo += 1\n",
    "\n",
    "figura.show()"
   ]
  },
  {
   "cell_type": "markdown",
   "id": "c0e86344",
   "metadata": {
    "papermill": {
     "duration": 0.017692,
     "end_time": "2022-09-01T17:30:36.386413",
     "exception": false,
     "start_time": "2022-09-01T17:30:36.368721",
     "status": "completed"
    },
    "tags": []
   },
   "source": [
    "**Tipo de Cartão**"
   ]
  },
  {
   "cell_type": "code",
   "execution_count": 23,
   "id": "6b42b4c8",
   "metadata": {
    "execution": {
     "iopub.execute_input": "2022-09-01T17:30:36.424761Z",
     "iopub.status.busy": "2022-09-01T17:30:36.424064Z",
     "iopub.status.idle": "2022-09-01T17:30:36.978665Z",
     "shell.execute_reply": "2022-09-01T17:30:36.977570Z"
    },
    "jupyter": {
     "source_hidden": true
    },
    "papermill": {
     "duration": 0.576577,
     "end_time": "2022-09-01T17:30:36.980967",
     "exception": false,
     "start_time": "2022-09-01T17:30:36.404390",
     "status": "completed"
    },
    "tags": []
   },
   "outputs": [
    {
     "data": {
      "image/png": "[encoded data removed]",
      "text/plain": [
       "<Figure size 1440x360 with 3 Axes>"
      ]
     },
     "metadata": {},
     "output_type": "display_data"
    }
   ],
   "source": [
    "# tipo_cartao\n",
    "coluna = 'tipo_cartao'\n",
    "titulos = ['Tipo do cartão dos Clientes', 'Tipo do cartão dos Clientes Adimplentes', 'Tipo do cartão dos Clientes Inadimplentes']\n",
    "\n",
    "eixo = 0\n",
    "max_y = 0\n",
    "max = df.select_dtypes('object').describe()[coluna]['freq'] * 1.1\n",
    "\n",
    "figura, eixos = plt.subplots(1,3, figsize=(20, 5), sharex=True)\n",
    "\n",
    "for dataframe in [df, df_adimplente, df_inadimplente]:\n",
    "\n",
    "  df_to_plot = dataframe[coluna].value_counts().to_frame()\n",
    "  df_to_plot.rename(columns={coluna: 'frequencia_absoluta'}, inplace=True)\n",
    "  df_to_plot[coluna] = df_to_plot.index\n",
    "  df_to_plot.sort_values(by=[coluna], inplace=True)\n",
    "  df_to_plot.sort_values(by=[coluna])\n",
    "\n",
    "  f = sns.barplot(x=df_to_plot[coluna], y=df_to_plot['frequencia_absoluta'], ax=eixos[eixo])\n",
    "  f.set(title=titulos[eixo], xlabel=coluna.capitalize(), ylabel='Frequência Absoluta')\n",
    "  f.set_xticklabels(labels=f.get_xticklabels(), rotation=90)\n",
    "\n",
    "  _, max_y_f = f.get_ylim()\n",
    "  max_y = max_y_f if max_y_f > max_y else max_y\n",
    "  f.set(ylim=(0, max_y))\n",
    "\n",
    "  eixo += 1\n",
    "\n",
    "figura.show()"
   ]
  },
  {
   "cell_type": "markdown",
   "id": "65f5a787",
   "metadata": {
    "papermill": {
     "duration": 0.017825,
     "end_time": "2022-09-01T17:30:37.017708",
     "exception": false,
     "start_time": "2022-09-01T17:30:36.999883",
     "status": "completed"
    },
    "tags": []
   },
   "source": [
    "3.2 Visualizações numéricas\n",
    "---"
   ]
  },
  {
   "cell_type": "markdown",
   "id": "65f4b70e",
   "metadata": {
    "papermill": {
     "duration": 0.017784,
     "end_time": "2022-09-01T17:30:37.053823",
     "exception": false,
     "start_time": "2022-09-01T17:30:37.036039",
     "status": "completed"
    },
    "tags": []
   },
   "source": [
    "Visuzalização entre a variável resposta `default` com os atributos numéricos."
   ]
  },
  {
   "cell_type": "code",
   "execution_count": 24,
   "id": "09048529",
   "metadata": {
    "_kg_hide-input": true,
    "execution": {
     "iopub.execute_input": "2022-09-01T17:30:37.092251Z",
     "iopub.status.busy": "2022-09-01T17:30:37.091567Z",
     "iopub.status.idle": "2022-09-01T17:30:37.110174Z",
     "shell.execute_reply": "2022-09-01T17:30:37.108983Z"
    },
    "papermill": {
     "duration": 0.040264,
     "end_time": "2022-09-01T17:30:37.112356",
     "exception": false,
     "start_time": "2022-09-01T17:30:37.072092",
     "status": "completed"
    },
    "tags": []
   },
   "outputs": [
    {
     "data": {
      "text/html": [
       "<div>\n",
       "<style scoped>\n",
       "    .dataframe tbody tr th:only-of-type {\n",
       "        vertical-align: middle;\n",
       "    }\n",
       "\n",
       "    .dataframe tbody tr th {\n",
       "        vertical-align: top;\n",
       "    }\n",
       "\n",
       "    .dataframe thead th {\n",
       "        text-align: right;\n",
       "    }\n",
       "</style>\n",
       "<table border=\"1\" class=\"dataframe\">\n",
       "  <thead>\n",
       "    <tr style=\"text-align: right;\">\n",
       "      <th></th>\n",
       "      <th>idade</th>\n",
       "      <th>dependentes</th>\n",
       "      <th>meses_de_relacionamento</th>\n",
       "      <th>qtd_produtos</th>\n",
       "      <th>iteracoes_12m</th>\n",
       "      <th>meses_inativo_12m</th>\n",
       "      <th>limite_credito</th>\n",
       "      <th>valor_transacoes_12m</th>\n",
       "      <th>qtd_transacoes_12m</th>\n",
       "    </tr>\n",
       "  </thead>\n",
       "  <tbody>\n",
       "    <tr>\n",
       "      <th>0</th>\n",
       "      <td>45</td>\n",
       "      <td>3</td>\n",
       "      <td>39</td>\n",
       "      <td>5</td>\n",
       "      <td>3</td>\n",
       "      <td>1</td>\n",
       "      <td>12691.51</td>\n",
       "      <td>1144.90</td>\n",
       "      <td>42</td>\n",
       "    </tr>\n",
       "    <tr>\n",
       "      <th>1</th>\n",
       "      <td>49</td>\n",
       "      <td>5</td>\n",
       "      <td>44</td>\n",
       "      <td>6</td>\n",
       "      <td>2</td>\n",
       "      <td>1</td>\n",
       "      <td>8256.96</td>\n",
       "      <td>1291.45</td>\n",
       "      <td>33</td>\n",
       "    </tr>\n",
       "    <tr>\n",
       "      <th>2</th>\n",
       "      <td>51</td>\n",
       "      <td>3</td>\n",
       "      <td>36</td>\n",
       "      <td>4</td>\n",
       "      <td>0</td>\n",
       "      <td>1</td>\n",
       "      <td>3418.56</td>\n",
       "      <td>1887.72</td>\n",
       "      <td>20</td>\n",
       "    </tr>\n",
       "    <tr>\n",
       "      <th>4</th>\n",
       "      <td>40</td>\n",
       "      <td>3</td>\n",
       "      <td>21</td>\n",
       "      <td>5</td>\n",
       "      <td>0</td>\n",
       "      <td>1</td>\n",
       "      <td>4716.22</td>\n",
       "      <td>816.08</td>\n",
       "      <td>28</td>\n",
       "    </tr>\n",
       "    <tr>\n",
       "      <th>5</th>\n",
       "      <td>44</td>\n",
       "      <td>2</td>\n",
       "      <td>36</td>\n",
       "      <td>3</td>\n",
       "      <td>2</td>\n",
       "      <td>1</td>\n",
       "      <td>4010.69</td>\n",
       "      <td>1088.07</td>\n",
       "      <td>24</td>\n",
       "    </tr>\n",
       "  </tbody>\n",
       "</table>\n",
       "</div>"
      ],
      "text/plain": [
       "   idade  dependentes  meses_de_relacionamento  qtd_produtos  iteracoes_12m  \\\n",
       "0     45            3                       39             5              3   \n",
       "1     49            5                       44             6              2   \n",
       "2     51            3                       36             4              0   \n",
       "4     40            3                       21             5              0   \n",
       "5     44            2                       36             3              2   \n",
       "\n",
       "   meses_inativo_12m  limite_credito  valor_transacoes_12m  qtd_transacoes_12m  \n",
       "0                  1        12691.51               1144.90                  42  \n",
       "1                  1         8256.96               1291.45                  33  \n",
       "2                  1         3418.56               1887.72                  20  \n",
       "4                  1         4716.22                816.08                  28  \n",
       "5                  1         4010.69               1088.07                  24  "
      ]
     },
     "execution_count": 24,
     "metadata": {},
     "output_type": "execute_result"
    }
   ],
   "source": [
    "df.drop(['id', 'default'], axis=1).select_dtypes('number').head(n=5)"
   ]
  },
  {
   "cell_type": "markdown",
   "id": "d34eaee4",
   "metadata": {
    "papermill": {
     "duration": 0.018076,
     "end_time": "2022-09-01T17:30:37.149118",
     "exception": false,
     "start_time": "2022-09-01T17:30:37.131042",
     "status": "completed"
    },
    "tags": []
   },
   "source": [
    "**Quantidade de Transações nos Últimos 12 Meses**"
   ]
  },
  {
   "cell_type": "code",
   "execution_count": 25,
   "id": "e23070bc",
   "metadata": {
    "_kg_hide-input": true,
    "execution": {
     "iopub.execute_input": "2022-09-01T17:30:37.188240Z",
     "iopub.status.busy": "2022-09-01T17:30:37.187799Z",
     "iopub.status.idle": "2022-09-01T17:30:38.117482Z",
     "shell.execute_reply": "2022-09-01T17:30:38.116667Z"
    },
    "jupyter": {
     "source_hidden": true
    },
    "papermill": {
     "duration": 0.952034,
     "end_time": "2022-09-01T17:30:38.119517",
     "exception": false,
     "start_time": "2022-09-01T17:30:37.167483",
     "status": "completed"
    },
    "tags": []
   },
   "outputs": [
    {
     "data": {
      "image/png": "[encoded data removed]",
      "text/plain": [
       "<Figure size 1440x360 with 3 Axes>"
      ]
     },
     "metadata": {},
     "output_type": "display_data"
    }
   ],
   "source": [
    "coluna = 'qtd_transacoes_12m'\n",
    "titulos = ['Qtd. de Transações no Último Ano', 'Qtd. de Transações no Último Ano de Adimplentes', 'Qtd. de Transações no Último Ano de Inadimplentes']\n",
    "\n",
    "eixo = 0\n",
    "max_y = 0\n",
    "figura, eixos = plt.subplots(1,3, figsize=(20, 5), sharex=True)\n",
    "\n",
    "for dataframe in [df, df_adimplente, df_inadimplente]:\n",
    "\n",
    "  f = sns.histplot(x=coluna, data=dataframe, stat='count', ax=eixos[eixo])\n",
    "  f.set(title=titulos[eixo], xlabel=coluna.capitalize(), ylabel='Frequência Absoluta')\n",
    "\n",
    "  _, max_y_f = f.get_ylim()\n",
    "  max_y = max_y_f if max_y_f > max_y else max_y\n",
    "  f.set(ylim=(0, max_y))\n",
    "\n",
    "  eixo += 1\n",
    "\n",
    "figura.show()"
   ]
  },
  {
   "cell_type": "markdown",
   "id": "ea397ab8",
   "metadata": {
    "papermill": {
     "duration": 0.018731,
     "end_time": "2022-09-01T17:30:38.157328",
     "exception": false,
     "start_time": "2022-09-01T17:30:38.138597",
     "status": "completed"
    },
    "tags": []
   },
   "source": [
    "**Valor das Transações nos Últimos 12 Meses**"
   ]
  },
  {
   "cell_type": "code",
   "execution_count": 26,
   "id": "0365f8e2",
   "metadata": {
    "_kg_hide-input": true,
    "execution": {
     "iopub.execute_input": "2022-09-01T17:30:38.197996Z",
     "iopub.status.busy": "2022-09-01T17:30:38.196756Z",
     "iopub.status.idle": "2022-09-01T17:30:39.283679Z",
     "shell.execute_reply": "2022-09-01T17:30:39.282482Z"
    },
    "jupyter": {
     "source_hidden": true
    },
    "papermill": {
     "duration": 1.10998,
     "end_time": "2022-09-01T17:30:39.286316",
     "exception": false,
     "start_time": "2022-09-01T17:30:38.176336",
     "status": "completed"
    },
    "tags": []
   },
   "outputs": [
    {
     "data": {
      "image/png": "[encoded data removed]",
      "text/plain": [
       "<Figure size 1440x360 with 3 Axes>"
      ]
     },
     "metadata": {},
     "output_type": "display_data"
    }
   ],
   "source": [
    "coluna = 'valor_transacoes_12m'\n",
    "titulos = ['Valor das Transações no Último Ano', 'Valor das Transações no Último Ano de Adimplentes', 'Valor das Transações no Último Ano de Inadimplentes']\n",
    "\n",
    "eixo = 0\n",
    "max_y = 0\n",
    "figura, eixos = plt.subplots(1,3, figsize=(20, 5), sharex=True)\n",
    "\n",
    "for dataframe in [df, df_adimplente, df_inadimplente]:\n",
    "\n",
    "  f = sns.histplot(x=coluna, data=dataframe, stat='count', ax=eixos[eixo])\n",
    "  f.set(title=titulos[eixo], xlabel=coluna.capitalize(), ylabel='Frequência Absoluta')\n",
    "\n",
    "  _, max_y_f = f.get_ylim()\n",
    "  max_y = max_y_f if max_y_f > max_y else max_y\n",
    "  f.set(ylim=(0, max_y))\n",
    "\n",
    "  eixo += 1\n",
    "\n",
    "figura.show()"
   ]
  },
  {
   "cell_type": "markdown",
   "id": "0440629c",
   "metadata": {
    "papermill": {
     "duration": 0.020601,
     "end_time": "2022-09-01T17:30:39.326996",
     "exception": false,
     "start_time": "2022-09-01T17:30:39.306395",
     "status": "completed"
    },
    "tags": []
   },
   "source": [
    "**Relação entre Valor e Quantidade de Transações no Último Ano**"
   ]
  },
  {
   "cell_type": "code",
   "execution_count": 27,
   "id": "7305f7ea",
   "metadata": {
    "_kg_hide-input": true,
    "execution": {
     "iopub.execute_input": "2022-09-01T17:30:39.368599Z",
     "iopub.status.busy": "2022-09-01T17:30:39.367748Z",
     "iopub.status.idle": "2022-09-01T17:30:40.704364Z",
     "shell.execute_reply": "2022-09-01T17:30:40.703049Z"
    },
    "jupyter": {
     "source_hidden": true
    },
    "papermill": {
     "duration": 1.36049,
     "end_time": "2022-09-01T17:30:40.707171",
     "exception": false,
     "start_time": "2022-09-01T17:30:39.346681",
     "status": "completed"
    },
    "tags": []
   },
   "outputs": [
    {
     "data": {
      "image/png": "[encoded data removed]",
      "text/plain": [
       "<Figure size 403.375x360 with 1 Axes>"
      ]
     },
     "metadata": {},
     "output_type": "display_data"
    }
   ],
   "source": [
    "f = sns.relplot(x='valor_transacoes_12m', y='qtd_transacoes_12m', data=df, hue='default')\n",
    "_ = f.set(\n",
    "    title='Relação entre Valor e Quantidade de Transações no Último Ano', \n",
    "    xlabel='Valor das Transações', \n",
    "    ylabel='Quantidade das Transações'\n",
    "  )"
   ]
  },
  {
   "cell_type": "markdown",
   "id": "c5aa76a9",
   "metadata": {
    "papermill": {
     "duration": 0.021148,
     "end_time": "2022-09-01T17:30:40.750256",
     "exception": false,
     "start_time": "2022-09-01T17:30:40.729108",
     "status": "completed"
    },
    "tags": []
   },
   "source": [
    "3.3 Visualização em barras com categorias Adimplentes e Inadimplentes\n",
    "---"
   ]
  },
  {
   "cell_type": "markdown",
   "id": "f33d9f59",
   "metadata": {
    "papermill": {
     "duration": 0.020979,
     "end_time": "2022-09-01T17:30:40.792768",
     "exception": false,
     "start_time": "2022-09-01T17:30:40.771789",
     "status": "completed"
    },
    "tags": []
   },
   "source": [
    "Para visualizarmos um gráfico em barras com as categoriass Adimplentes e Inadimplentes, é necessário **alterar o shema** da coluna de `object` para `number`.<br/>\n",
    "Desta forma, é possível mostrar no gráfico os valores das categorias cntemplando o mesmo período.<br/><br/>\n",
    "Além de alterar o schema é necessário a substituição dos dados da coluna de \"0\" para \"adimplente\" e \"1\" para \"inadimplente\"."
   ]
  },
  {
   "cell_type": "code",
   "execution_count": 28,
   "id": "02234abc",
   "metadata": {
    "_kg_hide-input": true,
    "execution": {
     "iopub.execute_input": "2022-09-01T17:30:40.838561Z",
     "iopub.status.busy": "2022-09-01T17:30:40.837535Z",
     "iopub.status.idle": "2022-09-01T17:30:40.874035Z",
     "shell.execute_reply": "2022-09-01T17:30:40.872383Z"
    },
    "jupyter": {
     "source_hidden": true
    },
    "papermill": {
     "duration": 0.062321,
     "end_time": "2022-09-01T17:30:40.876824",
     "exception": false,
     "start_time": "2022-09-01T17:30:40.814503",
     "status": "completed"
    },
    "tags": []
   },
   "outputs": [
    {
     "name": "stdout",
     "output_type": "stream",
     "text": [
      "id                           int64\n",
      "default                     object\n",
      "idade                        int64\n",
      "sexo                        object\n",
      "dependentes                  int64\n",
      "escolaridade                object\n",
      "estado_civil                object\n",
      "salario_anual               object\n",
      "tipo_cartao                 object\n",
      "meses_de_relacionamento      int64\n",
      "qtd_produtos                 int64\n",
      "iteracoes_12m                int64\n",
      "meses_inativo_12m            int64\n",
      "limite_credito             float64\n",
      "valor_transacoes_12m       float64\n",
      "qtd_transacoes_12m           int64\n",
      "dtype: object\n",
      "\n"
     ]
    },
    {
     "data": {
      "text/html": [
       "<div>\n",
       "<style scoped>\n",
       "    .dataframe tbody tr th:only-of-type {\n",
       "        vertical-align: middle;\n",
       "    }\n",
       "\n",
       "    .dataframe tbody tr th {\n",
       "        vertical-align: top;\n",
       "    }\n",
       "\n",
       "    .dataframe thead th {\n",
       "        text-align: right;\n",
       "    }\n",
       "</style>\n",
       "<table border=\"1\" class=\"dataframe\">\n",
       "  <thead>\n",
       "    <tr style=\"text-align: right;\">\n",
       "      <th></th>\n",
       "      <th>id</th>\n",
       "      <th>default</th>\n",
       "      <th>idade</th>\n",
       "      <th>sexo</th>\n",
       "      <th>dependentes</th>\n",
       "      <th>escolaridade</th>\n",
       "      <th>estado_civil</th>\n",
       "      <th>salario_anual</th>\n",
       "      <th>tipo_cartao</th>\n",
       "      <th>meses_de_relacionamento</th>\n",
       "      <th>qtd_produtos</th>\n",
       "      <th>iteracoes_12m</th>\n",
       "      <th>meses_inativo_12m</th>\n",
       "      <th>limite_credito</th>\n",
       "      <th>valor_transacoes_12m</th>\n",
       "      <th>qtd_transacoes_12m</th>\n",
       "    </tr>\n",
       "  </thead>\n",
       "  <tbody>\n",
       "    <tr>\n",
       "      <th>0</th>\n",
       "      <td>768805383</td>\n",
       "      <td>Adimplente</td>\n",
       "      <td>45</td>\n",
       "      <td>M</td>\n",
       "      <td>3</td>\n",
       "      <td>ensino medio</td>\n",
       "      <td>casado</td>\n",
       "      <td>$60K - $80K</td>\n",
       "      <td>blue</td>\n",
       "      <td>39</td>\n",
       "      <td>5</td>\n",
       "      <td>3</td>\n",
       "      <td>1</td>\n",
       "      <td>12691.51</td>\n",
       "      <td>1144.90</td>\n",
       "      <td>42</td>\n",
       "    </tr>\n",
       "    <tr>\n",
       "      <th>1</th>\n",
       "      <td>818770008</td>\n",
       "      <td>Adimplente</td>\n",
       "      <td>49</td>\n",
       "      <td>F</td>\n",
       "      <td>5</td>\n",
       "      <td>mestrado</td>\n",
       "      <td>solteiro</td>\n",
       "      <td>menos que $40K</td>\n",
       "      <td>blue</td>\n",
       "      <td>44</td>\n",
       "      <td>6</td>\n",
       "      <td>2</td>\n",
       "      <td>1</td>\n",
       "      <td>8256.96</td>\n",
       "      <td>1291.45</td>\n",
       "      <td>33</td>\n",
       "    </tr>\n",
       "    <tr>\n",
       "      <th>2</th>\n",
       "      <td>713982108</td>\n",
       "      <td>Adimplente</td>\n",
       "      <td>51</td>\n",
       "      <td>M</td>\n",
       "      <td>3</td>\n",
       "      <td>mestrado</td>\n",
       "      <td>casado</td>\n",
       "      <td>$80K - $120K</td>\n",
       "      <td>blue</td>\n",
       "      <td>36</td>\n",
       "      <td>4</td>\n",
       "      <td>0</td>\n",
       "      <td>1</td>\n",
       "      <td>3418.56</td>\n",
       "      <td>1887.72</td>\n",
       "      <td>20</td>\n",
       "    </tr>\n",
       "    <tr>\n",
       "      <th>4</th>\n",
       "      <td>709106358</td>\n",
       "      <td>Adimplente</td>\n",
       "      <td>40</td>\n",
       "      <td>M</td>\n",
       "      <td>3</td>\n",
       "      <td>sem educacao formal</td>\n",
       "      <td>casado</td>\n",
       "      <td>$60K - $80K</td>\n",
       "      <td>blue</td>\n",
       "      <td>21</td>\n",
       "      <td>5</td>\n",
       "      <td>0</td>\n",
       "      <td>1</td>\n",
       "      <td>4716.22</td>\n",
       "      <td>816.08</td>\n",
       "      <td>28</td>\n",
       "    </tr>\n",
       "    <tr>\n",
       "      <th>5</th>\n",
       "      <td>713061558</td>\n",
       "      <td>Adimplente</td>\n",
       "      <td>44</td>\n",
       "      <td>M</td>\n",
       "      <td>2</td>\n",
       "      <td>mestrado</td>\n",
       "      <td>casado</td>\n",
       "      <td>$40K - $60K</td>\n",
       "      <td>blue</td>\n",
       "      <td>36</td>\n",
       "      <td>3</td>\n",
       "      <td>2</td>\n",
       "      <td>1</td>\n",
       "      <td>4010.69</td>\n",
       "      <td>1088.07</td>\n",
       "      <td>24</td>\n",
       "    </tr>\n",
       "  </tbody>\n",
       "</table>\n",
       "</div>"
      ],
      "text/plain": [
       "          id     default  idade sexo  dependentes         escolaridade  \\\n",
       "0  768805383  Adimplente     45    M            3         ensino medio   \n",
       "1  818770008  Adimplente     49    F            5             mestrado   \n",
       "2  713982108  Adimplente     51    M            3             mestrado   \n",
       "4  709106358  Adimplente     40    M            3  sem educacao formal   \n",
       "5  713061558  Adimplente     44    M            2             mestrado   \n",
       "\n",
       "  estado_civil   salario_anual tipo_cartao  meses_de_relacionamento  \\\n",
       "0       casado     $60K - $80K        blue                       39   \n",
       "1     solteiro  menos que $40K        blue                       44   \n",
       "2       casado    $80K - $120K        blue                       36   \n",
       "4       casado     $60K - $80K        blue                       21   \n",
       "5       casado     $40K - $60K        blue                       36   \n",
       "\n",
       "   qtd_produtos  iteracoes_12m  meses_inativo_12m  limite_credito  \\\n",
       "0             5              3                  1        12691.51   \n",
       "1             6              2                  1         8256.96   \n",
       "2             4              0                  1         3418.56   \n",
       "4             5              0                  1         4716.22   \n",
       "5             3              2                  1         4010.69   \n",
       "\n",
       "   valor_transacoes_12m  qtd_transacoes_12m  \n",
       "0               1144.90                  42  \n",
       "1               1291.45                  33  \n",
       "2               1887.72                  20  \n",
       "4                816.08                  28  \n",
       "5               1088.07                  24  "
      ]
     },
     "execution_count": 28,
     "metadata": {},
     "output_type": "execute_result"
    }
   ],
   "source": [
    "# Alterando o schema\n",
    "data_types_dict = {'default': str}\n",
    "df = df.astype(data_types_dict)\n",
    "df.dtypes\n",
    "\n",
    "# Substituindo os dados.\n",
    "fn2 = lambda valor: str(valor.replace(\"1\", \"Inadimplente\").replace(\"0\", \"Adimplente\"))\n",
    "\n",
    "# Verificando os dados\n",
    "valores_originais = ['1', '0']\n",
    "valores_alterados = list(map(fn2, valores_originais))\n",
    "#print(valores_originais)\n",
    "#print(valores_alterados)\n",
    "\n",
    "# Aplicando a função na base\n",
    "df['default'] = df['default'].apply(fn2)\n",
    "\n",
    "# Visualização do Tipo\n",
    "print(df.dtypes)\n",
    "print(\"\")\n",
    "\n",
    "# Visualização da tabela\n",
    "df.head(n=5)"
   ]
  },
  {
   "cell_type": "markdown",
   "id": "679fedbd",
   "metadata": {
    "papermill": {
     "duration": 0.022229,
     "end_time": "2022-09-01T17:30:40.921423",
     "exception": false,
     "start_time": "2022-09-01T17:30:40.899194",
     "status": "completed"
    },
    "tags": []
   },
   "source": [
    "**Barras agrupadas**\n",
    "1. Relação entre Adimplentes/Inadimplentes e **Valores das Transações no Último Ano**\n",
    "2. Relação entre Adimplentes/Inadimplentes e **Quantidade de Transações no Último Ano**"
   ]
  },
  {
   "cell_type": "code",
   "execution_count": 29,
   "id": "f575f8af",
   "metadata": {
    "_kg_hide-input": true,
    "execution": {
     "iopub.execute_input": "2022-09-01T17:30:40.967527Z",
     "iopub.status.busy": "2022-09-01T17:30:40.967109Z",
     "iopub.status.idle": "2022-09-01T17:30:42.194558Z",
     "shell.execute_reply": "2022-09-01T17:30:42.193701Z"
    },
    "jupyter": {
     "source_hidden": true
    },
    "papermill": {
     "duration": 1.253092,
     "end_time": "2022-09-01T17:30:42.196938",
     "exception": false,
     "start_time": "2022-09-01T17:30:40.943846",
     "status": "completed"
    },
    "tags": []
   },
   "outputs": [
    {
     "data": {
      "image/png": "[encoded data removed]",
      "text/plain": [
       "<Figure size 1440x360 with 1 Axes>"
      ]
     },
     "metadata": {},
     "output_type": "display_data"
    },
    {
     "data": {
      "image/png": "[encoded data removed]",
      "text/plain": [
       "<Figure size 1440x360 with 1 Axes>"
      ]
     },
     "metadata": {},
     "output_type": "display_data"
    }
   ],
   "source": [
    "# Primeiro gráfico\n",
    "coluna = 'valor_transacoes_12m'\n",
    "titulos = ['Relação entre Adimplentes/Inadimplentes e Valores das Transações no Último Ano']\n",
    "\n",
    "eixo = 0\n",
    "max_y = 0\n",
    "figura, eixos = plt.subplots(1, figsize=(20, 5), sharex=True)\n",
    "\n",
    "f = sns.histplot(data= df, x= coluna, alpha= 1, hue= 'default', multiple='stack')\n",
    "f.set(title=titulos[eixo], xlabel='Valor por transação', ylabel='Frequência Absoluta')\n",
    "\n",
    "figura.show()\n",
    "\n",
    "# Segundo gráfico\n",
    "coluna = 'qtd_transacoes_12m'\n",
    "titulos = ['Relação entre Adimplentes/Inadimplentes e Quantidade de Transações no Último Ano']\n",
    "\n",
    "eixo = 0\n",
    "max_y = 0\n",
    "figura, eixos = plt.subplots(1, figsize=(20, 5), sharex=True)\n",
    "\n",
    "f = sns.histplot(data= df, x= coluna, alpha= 1, hue= 'default', multiple='stack')\n",
    "f.set(title=titulos[eixo], xlabel='Quantidade de Transações', ylabel='Frequência Absoluta')\n",
    "\n",
    "figura.show()"
   ]
  },
  {
   "cell_type": "markdown",
   "id": "bab52f10",
   "metadata": {
    "papermill": {
     "duration": 0.02231,
     "end_time": "2022-09-01T17:30:42.242109",
     "exception": false,
     "start_time": "2022-09-01T17:30:42.219799",
     "status": "completed"
    },
    "tags": []
   },
   "source": [
    "# 4. Insights"
   ]
  },
  {
   "cell_type": "markdown",
   "id": "8f591b65",
   "metadata": {
    "papermill": {
     "duration": 0.022147,
     "end_time": "2022-09-01T17:30:42.287069",
     "exception": false,
     "start_time": "2022-09-01T17:30:42.264922",
     "status": "completed"
    },
    "tags": []
   },
   "source": [
    "**Visualização de Atributos categóricos**<br/>\n",
    "1. De acordo com o resultado dos gráficos, não é possível identificar uma discrepância nos dados relacionando com a causa da inadimplência.\n",
    "2. Pela análise visual, é possível notar o mesmo padrão da *base completa* com os *clientes adimplentes* e *inadimplentes* e isso ocorre para todas as demais categorias: `salario_anual`, `estado_civil`, `salario_anual` e `tipo_cartao`.\n",
    "\n",
    "**Visualização de Atributos numéricos**\n",
    "1. No gráfico **“Quantidade de Transações nos Últimos 12 Meses” dos Clientes adimplentes** podemos notar uma leve variação na região entre *30 a 50* transações comparado com a base de todos os clientes.\n",
    "2. Analisando o mesmo gráfico **“Quantidade de Transações nos Últimos 12 Meses” nos valores dos Clientes** inadimplentes é visível uma variação na mesma faixa de 30 a 50 transações.\n",
    "3. Ambos os gráficos não seguem o padrão da quantidade total de clientes.\n",
    "4. De acordo com esses dados, o maior volume dos Clientes inadimplentes está na faixa entre *30 a 50* transações.\n",
    "5. No gráfico **“Valor das Transações nos Últimos 12 Meses” dos Clientes inadimplentes** é visível a diferença com relação a base de todos os clientes.\n",
    "6. Nos valores entre 1000 a 3000, 5000 e 7500 a 10000 é a maior variação de clientes inadimplentes. Nos valores mais autos, não ocorrem inadimplência.\n",
    "\n",
    "**Visualização de Barras agrupadas**<br/>\n",
    "Para facilitar as visualizações acima, montei dois gráficos com as barras agrupadas, onde fica fácil a visualização de onde ocorrem os casos de inadimplência.\n",
    "1. Valores entre 1000 a 3000, 5000 e 7500 a 10000.\n",
    "2. Número de transações de 10 a 90.\n"
   ]
  }
 ],
 "metadata": {
  "kernelspec": {
   "display_name": "Python 3",
   "language": "python",
   "name": "python3"
  },
  "language_info": {
   "codemirror_mode": {
    "name": "ipython",
    "version": 3
   },
   "file_extension": ".py",
   "mimetype": "text/x-python",
   "name": "python",
   "nbconvert_exporter": "python",
   "pygments_lexer": "ipython3",
   "version": "3.7.12"
  },
  "papermill": {
   "default_parameters": {},
   "duration": 20.086586,
   "end_time": "2022-09-01T17:30:43.133109",
   "environment_variables": {},
   "exception": null,
   "input_path": "__notebook__.ipynb",
   "output_path": "__notebook__.ipynb",
   "parameters": {},
   "start_time": "2022-09-01T17:30:23.046523",
   "version": "2.3.4"
  }
 },
 "nbformat": 4,
 "nbformat_minor": 5
}
