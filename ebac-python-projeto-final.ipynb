{
 "cells": [
  {
   "cell_type": "markdown",
   "id": "799b5d6e",
   "metadata": {
    "papermill": {
     "duration": 0.009736,
     "end_time": "2022-08-29T19:06:03.764964",
     "exception": false,
     "start_time": "2022-08-29T19:06:03.755228",
     "status": "completed"
    },
    "tags": []
   },
   "source": [
    "# **Exploração de Dados**"
   ]
  },
  {
   "cell_type": "markdown",
   "id": "fddcf737",
   "metadata": {
    "papermill": {
     "duration": 0.007781,
     "end_time": "2022-08-29T19:06:03.781135",
     "exception": false,
     "start_time": "2022-08-29T19:06:03.773354",
     "status": "completed"
    },
    "tags": []
   },
   "source": [
    "Exploração de dados no formato.csv, o dataset foi importado no Kaggle. Os dados contém informações sobre clientes de uma instituição financeira. Em especial, estamos interessados em explicar a segunda coluna, chamada de **default**, que indica se um cliente é **adimplente(default = 0)**, ou **inadimplente (default = 1)**, ou seja, queremos entender o porque um cliente deixa de honrar com suas dívidas baseado no comportamento de outros atributos, como salário, escolaridade e movimentação financeira. Uma descrição completa dos atributos está abaixo.\n",
    "\n",
    "Obs: O notebook com o projeto final foi disponibilizado pela Ebac, entretanto para questão de estudos e aperfeiçoamento, reescrevi o código abaixo com base no notebook origial."
   ]
  },
  {
   "cell_type": "markdown",
   "id": "0c46b2fe",
   "metadata": {
    "papermill": {
     "duration": 0.008429,
     "end_time": "2022-08-29T19:06:03.798257",
     "exception": false,
     "start_time": "2022-08-29T19:06:03.789828",
     "status": "completed"
    },
    "tags": []
   },
   "source": [
    "\n",
    "\n",
    "| Coluna  | Descrição |\n",
    "| ------- | --------- |\n",
    "| id      | Número da conta |\n",
    "| default | Indica se o cliente é adimplente (0) ou inadimplente (1) |\n",
    "| idade   | --- |\n",
    "| sexo    | --- |\n",
    "| depedentes | --- |\n",
    "| escolaridade | --- |\n",
    "| estado_civil | --- |\n",
    "| salario_anual | Faixa do salario mensal multiplicado por 12 |\n",
    "| tipo_cartao | Categoria do cartao: blue, silver, gold e platinium |\n",
    "| meses_de_relacionamento | Quantidade de meses desde a abertura da conta |\n",
    "| qtd_produtos | Quantidade de produtos contratados |\n",
    "| iteracoes_12m | Quantidade de iteracoes com o cliente no último ano |\n",
    "| meses_inatico_12m | Quantidade de meses que o cliente ficou inativo no último ano |\n",
    "| limite_credito | Valor do limite do cartão de crédito |\n",
    "| valor_transacoes_12m | Soma total do valor das transações no cartão de crédito no último ano |\n",
    "| qtd_transacoes_12m | Quantidade total de transações no cartão de crédito no último ano |\n",
    "\n"
   ]
  },
  {
   "cell_type": "markdown",
   "id": "09dafeec",
   "metadata": {
    "papermill": {
     "duration": 0.007824,
     "end_time": "2022-08-29T19:06:03.814906",
     "exception": false,
     "start_time": "2022-08-29T19:06:03.807082",
     "status": "completed"
    },
    "tags": []
   },
   "source": [
    "**Lendo os dados num dataframe panda.**"
   ]
  },
  {
   "cell_type": "code",
   "execution_count": 1,
   "id": "4db5eb66",
   "metadata": {
    "execution": {
     "iopub.execute_input": "2022-08-29T19:06:03.833556Z",
     "iopub.status.busy": "2022-08-29T19:06:03.833003Z",
     "iopub.status.idle": "2022-08-29T19:06:03.846600Z",
     "shell.execute_reply": "2022-08-29T19:06:03.845270Z"
    },
    "papermill": {
     "duration": 0.026381,
     "end_time": "2022-08-29T19:06:03.849292",
     "exception": false,
     "start_time": "2022-08-29T19:06:03.822911",
     "status": "completed"
    },
    "tags": []
   },
   "outputs": [],
   "source": [
    "import pandas as pd"
   ]
  },
  {
   "cell_type": "code",
   "execution_count": 2,
   "id": "9d898b88",
   "metadata": {
    "execution": {
     "iopub.execute_input": "2022-08-29T19:06:03.868447Z",
     "iopub.status.busy": "2022-08-29T19:06:03.867938Z",
     "iopub.status.idle": "2022-08-29T19:06:03.915639Z",
     "shell.execute_reply": "2022-08-29T19:06:03.914523Z"
    },
    "papermill": {
     "duration": 0.060739,
     "end_time": "2022-08-29T19:06:03.918587",
     "exception": false,
     "start_time": "2022-08-29T19:06:03.857848",
     "status": "completed"
    },
    "tags": []
   },
   "outputs": [],
   "source": [
    "df = pd.read_csv('../input/ebac-python-projeto-final-dataset/Python_M10_support material.csv', na_values='na')"
   ]
  },
  {
   "cell_type": "code",
   "execution_count": 3,
   "id": "53ffce52",
   "metadata": {
    "execution": {
     "iopub.execute_input": "2022-08-29T19:06:03.937642Z",
     "iopub.status.busy": "2022-08-29T19:06:03.937136Z",
     "iopub.status.idle": "2022-08-29T19:06:03.967336Z",
     "shell.execute_reply": "2022-08-29T19:06:03.966378Z"
    },
    "papermill": {
     "duration": 0.043748,
     "end_time": "2022-08-29T19:06:03.970792",
     "exception": false,
     "start_time": "2022-08-29T19:06:03.927044",
     "status": "completed"
    },
    "tags": []
   },
   "outputs": [
    {
     "data": {
      "text/html": [
       "<div>\n",
       "<style scoped>\n",
       "    .dataframe tbody tr th:only-of-type {\n",
       "        vertical-align: middle;\n",
       "    }\n",
       "\n",
       "    .dataframe tbody tr th {\n",
       "        vertical-align: top;\n",
       "    }\n",
       "\n",
       "    .dataframe thead th {\n",
       "        text-align: right;\n",
       "    }\n",
       "</style>\n",
       "<table border=\"1\" class=\"dataframe\">\n",
       "  <thead>\n",
       "    <tr style=\"text-align: right;\">\n",
       "      <th></th>\n",
       "      <th>id</th>\n",
       "      <th>default</th>\n",
       "      <th>idade</th>\n",
       "      <th>sexo</th>\n",
       "      <th>dependentes</th>\n",
       "      <th>escolaridade</th>\n",
       "      <th>estado_civil</th>\n",
       "      <th>salario_anual</th>\n",
       "      <th>tipo_cartao</th>\n",
       "      <th>meses_de_relacionamento</th>\n",
       "      <th>qtd_produtos</th>\n",
       "      <th>iteracoes_12m</th>\n",
       "      <th>meses_inativo_12m</th>\n",
       "      <th>limite_credito</th>\n",
       "      <th>valor_transacoes_12m</th>\n",
       "      <th>qtd_transacoes_12m</th>\n",
       "    </tr>\n",
       "  </thead>\n",
       "  <tbody>\n",
       "    <tr>\n",
       "      <th>0</th>\n",
       "      <td>768805383</td>\n",
       "      <td>0</td>\n",
       "      <td>45</td>\n",
       "      <td>M</td>\n",
       "      <td>3</td>\n",
       "      <td>ensino medio</td>\n",
       "      <td>casado</td>\n",
       "      <td>$60K - $80K</td>\n",
       "      <td>blue</td>\n",
       "      <td>39</td>\n",
       "      <td>5</td>\n",
       "      <td>3</td>\n",
       "      <td>1</td>\n",
       "      <td>12.691,51</td>\n",
       "      <td>1.144,90</td>\n",
       "      <td>42</td>\n",
       "    </tr>\n",
       "    <tr>\n",
       "      <th>1</th>\n",
       "      <td>818770008</td>\n",
       "      <td>0</td>\n",
       "      <td>49</td>\n",
       "      <td>F</td>\n",
       "      <td>5</td>\n",
       "      <td>mestrado</td>\n",
       "      <td>solteiro</td>\n",
       "      <td>menos que $40K</td>\n",
       "      <td>blue</td>\n",
       "      <td>44</td>\n",
       "      <td>6</td>\n",
       "      <td>2</td>\n",
       "      <td>1</td>\n",
       "      <td>8.256,96</td>\n",
       "      <td>1.291,45</td>\n",
       "      <td>33</td>\n",
       "    </tr>\n",
       "    <tr>\n",
       "      <th>2</th>\n",
       "      <td>713982108</td>\n",
       "      <td>0</td>\n",
       "      <td>51</td>\n",
       "      <td>M</td>\n",
       "      <td>3</td>\n",
       "      <td>mestrado</td>\n",
       "      <td>casado</td>\n",
       "      <td>$80K - $120K</td>\n",
       "      <td>blue</td>\n",
       "      <td>36</td>\n",
       "      <td>4</td>\n",
       "      <td>0</td>\n",
       "      <td>1</td>\n",
       "      <td>3.418,56</td>\n",
       "      <td>1.887,72</td>\n",
       "      <td>20</td>\n",
       "    </tr>\n",
       "    <tr>\n",
       "      <th>3</th>\n",
       "      <td>769911858</td>\n",
       "      <td>0</td>\n",
       "      <td>40</td>\n",
       "      <td>F</td>\n",
       "      <td>4</td>\n",
       "      <td>ensino medio</td>\n",
       "      <td>NaN</td>\n",
       "      <td>menos que $40K</td>\n",
       "      <td>blue</td>\n",
       "      <td>34</td>\n",
       "      <td>3</td>\n",
       "      <td>1</td>\n",
       "      <td>4</td>\n",
       "      <td>3.313,03</td>\n",
       "      <td>1.171,56</td>\n",
       "      <td>20</td>\n",
       "    </tr>\n",
       "    <tr>\n",
       "      <th>4</th>\n",
       "      <td>709106358</td>\n",
       "      <td>0</td>\n",
       "      <td>40</td>\n",
       "      <td>M</td>\n",
       "      <td>3</td>\n",
       "      <td>sem educacao formal</td>\n",
       "      <td>casado</td>\n",
       "      <td>$60K - $80K</td>\n",
       "      <td>blue</td>\n",
       "      <td>21</td>\n",
       "      <td>5</td>\n",
       "      <td>0</td>\n",
       "      <td>1</td>\n",
       "      <td>4.716,22</td>\n",
       "      <td>816,08</td>\n",
       "      <td>28</td>\n",
       "    </tr>\n",
       "    <tr>\n",
       "      <th>5</th>\n",
       "      <td>713061558</td>\n",
       "      <td>0</td>\n",
       "      <td>44</td>\n",
       "      <td>M</td>\n",
       "      <td>2</td>\n",
       "      <td>mestrado</td>\n",
       "      <td>casado</td>\n",
       "      <td>$40K - $60K</td>\n",
       "      <td>blue</td>\n",
       "      <td>36</td>\n",
       "      <td>3</td>\n",
       "      <td>2</td>\n",
       "      <td>1</td>\n",
       "      <td>4.010,69</td>\n",
       "      <td>1.088,07</td>\n",
       "      <td>24</td>\n",
       "    </tr>\n",
       "    <tr>\n",
       "      <th>6</th>\n",
       "      <td>810347208</td>\n",
       "      <td>0</td>\n",
       "      <td>51</td>\n",
       "      <td>M</td>\n",
       "      <td>4</td>\n",
       "      <td>NaN</td>\n",
       "      <td>casado</td>\n",
       "      <td>$120K +</td>\n",
       "      <td>gold</td>\n",
       "      <td>46</td>\n",
       "      <td>6</td>\n",
       "      <td>3</td>\n",
       "      <td>1</td>\n",
       "      <td>34.516,72</td>\n",
       "      <td>1.330,87</td>\n",
       "      <td>31</td>\n",
       "    </tr>\n",
       "    <tr>\n",
       "      <th>7</th>\n",
       "      <td>818906208</td>\n",
       "      <td>0</td>\n",
       "      <td>32</td>\n",
       "      <td>M</td>\n",
       "      <td>0</td>\n",
       "      <td>ensino medio</td>\n",
       "      <td>NaN</td>\n",
       "      <td>$60K - $80K</td>\n",
       "      <td>silver</td>\n",
       "      <td>27</td>\n",
       "      <td>2</td>\n",
       "      <td>2</td>\n",
       "      <td>2</td>\n",
       "      <td>29.081,49</td>\n",
       "      <td>1.538,32</td>\n",
       "      <td>36</td>\n",
       "    </tr>\n",
       "    <tr>\n",
       "      <th>8</th>\n",
       "      <td>710930508</td>\n",
       "      <td>0</td>\n",
       "      <td>37</td>\n",
       "      <td>M</td>\n",
       "      <td>3</td>\n",
       "      <td>sem educacao formal</td>\n",
       "      <td>solteiro</td>\n",
       "      <td>$60K - $80K</td>\n",
       "      <td>blue</td>\n",
       "      <td>36</td>\n",
       "      <td>5</td>\n",
       "      <td>0</td>\n",
       "      <td>2</td>\n",
       "      <td>22.352,50</td>\n",
       "      <td>1.350,14</td>\n",
       "      <td>24</td>\n",
       "    </tr>\n",
       "    <tr>\n",
       "      <th>9</th>\n",
       "      <td>719661558</td>\n",
       "      <td>0</td>\n",
       "      <td>48</td>\n",
       "      <td>M</td>\n",
       "      <td>2</td>\n",
       "      <td>mestrado</td>\n",
       "      <td>solteiro</td>\n",
       "      <td>$80K - $120K</td>\n",
       "      <td>blue</td>\n",
       "      <td>36</td>\n",
       "      <td>6</td>\n",
       "      <td>3</td>\n",
       "      <td>3</td>\n",
       "      <td>11.656,41</td>\n",
       "      <td>1.441,73</td>\n",
       "      <td>32</td>\n",
       "    </tr>\n",
       "  </tbody>\n",
       "</table>\n",
       "</div>"
      ],
      "text/plain": [
       "          id  default  idade sexo  dependentes         escolaridade  \\\n",
       "0  768805383        0     45    M            3         ensino medio   \n",
       "1  818770008        0     49    F            5             mestrado   \n",
       "2  713982108        0     51    M            3             mestrado   \n",
       "3  769911858        0     40    F            4         ensino medio   \n",
       "4  709106358        0     40    M            3  sem educacao formal   \n",
       "5  713061558        0     44    M            2             mestrado   \n",
       "6  810347208        0     51    M            4                  NaN   \n",
       "7  818906208        0     32    M            0         ensino medio   \n",
       "8  710930508        0     37    M            3  sem educacao formal   \n",
       "9  719661558        0     48    M            2             mestrado   \n",
       "\n",
       "  estado_civil   salario_anual tipo_cartao  meses_de_relacionamento  \\\n",
       "0       casado     $60K - $80K        blue                       39   \n",
       "1     solteiro  menos que $40K        blue                       44   \n",
       "2       casado    $80K - $120K        blue                       36   \n",
       "3          NaN  menos que $40K        blue                       34   \n",
       "4       casado     $60K - $80K        blue                       21   \n",
       "5       casado     $40K - $60K        blue                       36   \n",
       "6       casado         $120K +        gold                       46   \n",
       "7          NaN     $60K - $80K      silver                       27   \n",
       "8     solteiro     $60K - $80K        blue                       36   \n",
       "9     solteiro    $80K - $120K        blue                       36   \n",
       "\n",
       "   qtd_produtos  iteracoes_12m  meses_inativo_12m limite_credito  \\\n",
       "0             5              3                  1      12.691,51   \n",
       "1             6              2                  1       8.256,96   \n",
       "2             4              0                  1       3.418,56   \n",
       "3             3              1                  4       3.313,03   \n",
       "4             5              0                  1       4.716,22   \n",
       "5             3              2                  1       4.010,69   \n",
       "6             6              3                  1      34.516,72   \n",
       "7             2              2                  2      29.081,49   \n",
       "8             5              0                  2      22.352,50   \n",
       "9             6              3                  3      11.656,41   \n",
       "\n",
       "  valor_transacoes_12m  qtd_transacoes_12m  \n",
       "0             1.144,90                  42  \n",
       "1             1.291,45                  33  \n",
       "2             1.887,72                  20  \n",
       "3             1.171,56                  20  \n",
       "4               816,08                  28  \n",
       "5             1.088,07                  24  \n",
       "6             1.330,87                  31  \n",
       "7             1.538,32                  36  \n",
       "8             1.350,14                  24  \n",
       "9             1.441,73                  32  "
      ]
     },
     "execution_count": 3,
     "metadata": {},
     "output_type": "execute_result"
    }
   ],
   "source": [
    "df.head(n=10)"
   ]
  },
  {
   "cell_type": "markdown",
   "id": "81124c92",
   "metadata": {
    "papermill": {
     "duration": 0.008348,
     "end_time": "2022-08-29T19:06:03.989399",
     "exception": false,
     "start_time": "2022-08-29T19:06:03.981051",
     "status": "completed"
    },
    "tags": []
   },
   "source": [
    "# **Estrutura**"
   ]
  },
  {
   "cell_type": "code",
   "execution_count": 4,
   "id": "26aab479",
   "metadata": {
    "execution": {
     "iopub.execute_input": "2022-08-29T19:06:04.009921Z",
     "iopub.status.busy": "2022-08-29T19:06:04.008461Z",
     "iopub.status.idle": "2022-08-29T19:06:04.015826Z",
     "shell.execute_reply": "2022-08-29T19:06:04.014742Z"
    },
    "papermill": {
     "duration": 0.020021,
     "end_time": "2022-08-29T19:06:04.018090",
     "exception": false,
     "start_time": "2022-08-29T19:06:03.998069",
     "status": "completed"
    },
    "tags": []
   },
   "outputs": [
    {
     "data": {
      "text/plain": [
       "(10127, 16)"
      ]
     },
     "execution_count": 4,
     "metadata": {},
     "output_type": "execute_result"
    }
   ],
   "source": [
    "df.shape # contando quantidade de e quantidade de colunas "
   ]
  },
  {
   "cell_type": "markdown",
   "id": "7c686988",
   "metadata": {
    "papermill": {
     "duration": 0.008638,
     "end_time": "2022-08-29T19:06:04.035865",
     "exception": false,
     "start_time": "2022-08-29T19:06:04.027227",
     "status": "completed"
    },
    "tags": []
   },
   "source": [
    "**Default = adimplente (0)**"
   ]
  },
  {
   "cell_type": "code",
   "execution_count": 5,
   "id": "2b3bc1fc",
   "metadata": {
    "execution": {
     "iopub.execute_input": "2022-08-29T19:06:04.057407Z",
     "iopub.status.busy": "2022-08-29T19:06:04.056532Z",
     "iopub.status.idle": "2022-08-29T19:06:04.072448Z",
     "shell.execute_reply": "2022-08-29T19:06:04.071172Z"
    },
    "papermill": {
     "duration": 0.029484,
     "end_time": "2022-08-29T19:06:04.074943",
     "exception": false,
     "start_time": "2022-08-29T19:06:04.045459",
     "status": "completed"
    },
    "tags": []
   },
   "outputs": [
    {
     "data": {
      "text/plain": [
       "(8500, 16)"
      ]
     },
     "execution_count": 5,
     "metadata": {},
     "output_type": "execute_result"
    }
   ],
   "source": [
    "df[df['default'] == 0].shape"
   ]
  },
  {
   "cell_type": "markdown",
   "id": "2b5ad52e",
   "metadata": {
    "papermill": {
     "duration": 0.008787,
     "end_time": "2022-08-29T19:06:04.092839",
     "exception": false,
     "start_time": "2022-08-29T19:06:04.084052",
     "status": "completed"
    },
    "tags": []
   },
   "source": [
    "**Default = inadimplente (1)**"
   ]
  },
  {
   "cell_type": "code",
   "execution_count": 6,
   "id": "1cfcf15f",
   "metadata": {
    "execution": {
     "iopub.execute_input": "2022-08-29T19:06:04.113464Z",
     "iopub.status.busy": "2022-08-29T19:06:04.112952Z",
     "iopub.status.idle": "2022-08-29T19:06:04.123390Z",
     "shell.execute_reply": "2022-08-29T19:06:04.122087Z"
    },
    "papermill": {
     "duration": 0.023892,
     "end_time": "2022-08-29T19:06:04.125979",
     "exception": false,
     "start_time": "2022-08-29T19:06:04.102087",
     "status": "completed"
    },
    "tags": []
   },
   "outputs": [
    {
     "data": {
      "text/plain": [
       "(1627, 16)"
      ]
     },
     "execution_count": 6,
     "metadata": {},
     "output_type": "execute_result"
    }
   ],
   "source": [
    "df[df['default'] == 1].shape"
   ]
  },
  {
   "cell_type": "code",
   "execution_count": 7,
   "id": "8a63daba",
   "metadata": {
    "execution": {
     "iopub.execute_input": "2022-08-29T19:06:04.146451Z",
     "iopub.status.busy": "2022-08-29T19:06:04.145940Z",
     "iopub.status.idle": "2022-08-29T19:06:04.158476Z",
     "shell.execute_reply": "2022-08-29T19:06:04.156777Z"
    },
    "papermill": {
     "duration": 0.026204,
     "end_time": "2022-08-29T19:06:04.161246",
     "exception": false,
     "start_time": "2022-08-29T19:06:04.135042",
     "status": "completed"
    },
    "tags": []
   },
   "outputs": [],
   "source": [
    "qdt_total, _ = df.shape\n",
    "qdt_adimplentes, _ = df[df['default'] == 0].shape\n",
    "qdt_inadimplentes, _ = df[df['default'] == 1].shape"
   ]
  },
  {
   "cell_type": "code",
   "execution_count": 8,
   "id": "ccd3cd55",
   "metadata": {
    "execution": {
     "iopub.execute_input": "2022-08-29T19:06:04.184728Z",
     "iopub.status.busy": "2022-08-29T19:06:04.184215Z",
     "iopub.status.idle": "2022-08-29T19:06:04.190967Z",
     "shell.execute_reply": "2022-08-29T19:06:04.189754Z"
    },
    "papermill": {
     "duration": 0.021979,
     "end_time": "2022-08-29T19:06:04.193823",
     "exception": false,
     "start_time": "2022-08-29T19:06:04.171844",
     "status": "completed"
    },
    "tags": []
   },
   "outputs": [
    {
     "name": "stdout",
     "output_type": "stream",
     "text": [
      "A proporção de clientes adimplentes é de 83.93%\n",
      "A proporção de clientes inadimplentes é de 16.07%\n"
     ]
    }
   ],
   "source": [
    "print(f\"A proporção de clientes adimplentes é de {round(100 * qdt_adimplentes / qdt_total, 2)}%\")\n",
    "print(f\"A proporção de clientes inadimplentes é de {round(100 * qdt_inadimplentes / qdt_total, 2)}%\")"
   ]
  },
  {
   "cell_type": "markdown",
   "id": "8f872161",
   "metadata": {
    "papermill": {
     "duration": 0.008681,
     "end_time": "2022-08-29T19:06:04.211869",
     "exception": false,
     "start_time": "2022-08-29T19:06:04.203188",
     "status": "completed"
    },
    "tags": []
   },
   "source": [
    "# **Schema**"
   ]
  },
  {
   "cell_type": "code",
   "execution_count": 9,
   "id": "4b417033",
   "metadata": {
    "execution": {
     "iopub.execute_input": "2022-08-29T19:06:04.232442Z",
     "iopub.status.busy": "2022-08-29T19:06:04.231320Z",
     "iopub.status.idle": "2022-08-29T19:06:04.254375Z",
     "shell.execute_reply": "2022-08-29T19:06:04.252765Z"
    },
    "papermill": {
     "duration": 0.036923,
     "end_time": "2022-08-29T19:06:04.257602",
     "exception": false,
     "start_time": "2022-08-29T19:06:04.220679",
     "status": "completed"
    },
    "tags": []
   },
   "outputs": [
    {
     "data": {
      "text/html": [
       "<div>\n",
       "<style scoped>\n",
       "    .dataframe tbody tr th:only-of-type {\n",
       "        vertical-align: middle;\n",
       "    }\n",
       "\n",
       "    .dataframe tbody tr th {\n",
       "        vertical-align: top;\n",
       "    }\n",
       "\n",
       "    .dataframe thead th {\n",
       "        text-align: right;\n",
       "    }\n",
       "</style>\n",
       "<table border=\"1\" class=\"dataframe\">\n",
       "  <thead>\n",
       "    <tr style=\"text-align: right;\">\n",
       "      <th></th>\n",
       "      <th>id</th>\n",
       "      <th>default</th>\n",
       "      <th>idade</th>\n",
       "      <th>sexo</th>\n",
       "      <th>dependentes</th>\n",
       "      <th>escolaridade</th>\n",
       "      <th>estado_civil</th>\n",
       "      <th>salario_anual</th>\n",
       "      <th>tipo_cartao</th>\n",
       "      <th>meses_de_relacionamento</th>\n",
       "      <th>qtd_produtos</th>\n",
       "      <th>iteracoes_12m</th>\n",
       "      <th>meses_inativo_12m</th>\n",
       "      <th>limite_credito</th>\n",
       "      <th>valor_transacoes_12m</th>\n",
       "      <th>qtd_transacoes_12m</th>\n",
       "    </tr>\n",
       "  </thead>\n",
       "  <tbody>\n",
       "    <tr>\n",
       "      <th>0</th>\n",
       "      <td>768805383</td>\n",
       "      <td>0</td>\n",
       "      <td>45</td>\n",
       "      <td>M</td>\n",
       "      <td>3</td>\n",
       "      <td>ensino medio</td>\n",
       "      <td>casado</td>\n",
       "      <td>$60K - $80K</td>\n",
       "      <td>blue</td>\n",
       "      <td>39</td>\n",
       "      <td>5</td>\n",
       "      <td>3</td>\n",
       "      <td>1</td>\n",
       "      <td>12.691,51</td>\n",
       "      <td>1.144,90</td>\n",
       "      <td>42</td>\n",
       "    </tr>\n",
       "    <tr>\n",
       "      <th>1</th>\n",
       "      <td>818770008</td>\n",
       "      <td>0</td>\n",
       "      <td>49</td>\n",
       "      <td>F</td>\n",
       "      <td>5</td>\n",
       "      <td>mestrado</td>\n",
       "      <td>solteiro</td>\n",
       "      <td>menos que $40K</td>\n",
       "      <td>blue</td>\n",
       "      <td>44</td>\n",
       "      <td>6</td>\n",
       "      <td>2</td>\n",
       "      <td>1</td>\n",
       "      <td>8.256,96</td>\n",
       "      <td>1.291,45</td>\n",
       "      <td>33</td>\n",
       "    </tr>\n",
       "    <tr>\n",
       "      <th>2</th>\n",
       "      <td>713982108</td>\n",
       "      <td>0</td>\n",
       "      <td>51</td>\n",
       "      <td>M</td>\n",
       "      <td>3</td>\n",
       "      <td>mestrado</td>\n",
       "      <td>casado</td>\n",
       "      <td>$80K - $120K</td>\n",
       "      <td>blue</td>\n",
       "      <td>36</td>\n",
       "      <td>4</td>\n",
       "      <td>0</td>\n",
       "      <td>1</td>\n",
       "      <td>3.418,56</td>\n",
       "      <td>1.887,72</td>\n",
       "      <td>20</td>\n",
       "    </tr>\n",
       "    <tr>\n",
       "      <th>3</th>\n",
       "      <td>769911858</td>\n",
       "      <td>0</td>\n",
       "      <td>40</td>\n",
       "      <td>F</td>\n",
       "      <td>4</td>\n",
       "      <td>ensino medio</td>\n",
       "      <td>NaN</td>\n",
       "      <td>menos que $40K</td>\n",
       "      <td>blue</td>\n",
       "      <td>34</td>\n",
       "      <td>3</td>\n",
       "      <td>1</td>\n",
       "      <td>4</td>\n",
       "      <td>3.313,03</td>\n",
       "      <td>1.171,56</td>\n",
       "      <td>20</td>\n",
       "    </tr>\n",
       "    <tr>\n",
       "      <th>4</th>\n",
       "      <td>709106358</td>\n",
       "      <td>0</td>\n",
       "      <td>40</td>\n",
       "      <td>M</td>\n",
       "      <td>3</td>\n",
       "      <td>sem educacao formal</td>\n",
       "      <td>casado</td>\n",
       "      <td>$60K - $80K</td>\n",
       "      <td>blue</td>\n",
       "      <td>21</td>\n",
       "      <td>5</td>\n",
       "      <td>0</td>\n",
       "      <td>1</td>\n",
       "      <td>4.716,22</td>\n",
       "      <td>816,08</td>\n",
       "      <td>28</td>\n",
       "    </tr>\n",
       "  </tbody>\n",
       "</table>\n",
       "</div>"
      ],
      "text/plain": [
       "          id  default  idade sexo  dependentes         escolaridade  \\\n",
       "0  768805383        0     45    M            3         ensino medio   \n",
       "1  818770008        0     49    F            5             mestrado   \n",
       "2  713982108        0     51    M            3             mestrado   \n",
       "3  769911858        0     40    F            4         ensino medio   \n",
       "4  709106358        0     40    M            3  sem educacao formal   \n",
       "\n",
       "  estado_civil   salario_anual tipo_cartao  meses_de_relacionamento  \\\n",
       "0       casado     $60K - $80K        blue                       39   \n",
       "1     solteiro  menos que $40K        blue                       44   \n",
       "2       casado    $80K - $120K        blue                       36   \n",
       "3          NaN  menos que $40K        blue                       34   \n",
       "4       casado     $60K - $80K        blue                       21   \n",
       "\n",
       "   qtd_produtos  iteracoes_12m  meses_inativo_12m limite_credito  \\\n",
       "0             5              3                  1      12.691,51   \n",
       "1             6              2                  1       8.256,96   \n",
       "2             4              0                  1       3.418,56   \n",
       "3             3              1                  4       3.313,03   \n",
       "4             5              0                  1       4.716,22   \n",
       "\n",
       "  valor_transacoes_12m  qtd_transacoes_12m  \n",
       "0             1.144,90                  42  \n",
       "1             1.291,45                  33  \n",
       "2             1.887,72                  20  \n",
       "3             1.171,56                  20  \n",
       "4               816,08                  28  "
      ]
     },
     "execution_count": 9,
     "metadata": {},
     "output_type": "execute_result"
    }
   ],
   "source": [
    "df.head(n=5)"
   ]
  },
  {
   "cell_type": "markdown",
   "id": "3c5f60a6",
   "metadata": {
    "papermill": {
     "duration": 0.010717,
     "end_time": "2022-08-29T19:06:04.279206",
     "exception": false,
     "start_time": "2022-08-29T19:06:04.268489",
     "status": "completed"
    },
    "tags": []
   },
   "source": [
    "**Colunas e seus respectivos tipos de dados.**"
   ]
  },
  {
   "cell_type": "code",
   "execution_count": 10,
   "id": "a5bf55c2",
   "metadata": {
    "execution": {
     "iopub.execute_input": "2022-08-29T19:06:04.303906Z",
     "iopub.status.busy": "2022-08-29T19:06:04.302862Z",
     "iopub.status.idle": "2022-08-29T19:06:04.313420Z",
     "shell.execute_reply": "2022-08-29T19:06:04.312107Z"
    },
    "papermill": {
     "duration": 0.026259,
     "end_time": "2022-08-29T19:06:04.316241",
     "exception": false,
     "start_time": "2022-08-29T19:06:04.289982",
     "status": "completed"
    },
    "tags": []
   },
   "outputs": [
    {
     "data": {
      "text/plain": [
       "id                          int64\n",
       "default                     int64\n",
       "idade                       int64\n",
       "sexo                       object\n",
       "dependentes                 int64\n",
       "escolaridade               object\n",
       "estado_civil               object\n",
       "salario_anual              object\n",
       "tipo_cartao                object\n",
       "meses_de_relacionamento     int64\n",
       "qtd_produtos                int64\n",
       "iteracoes_12m               int64\n",
       "meses_inativo_12m           int64\n",
       "limite_credito             object\n",
       "valor_transacoes_12m       object\n",
       "qtd_transacoes_12m          int64\n",
       "dtype: object"
      ]
     },
     "execution_count": 10,
     "metadata": {},
     "output_type": "execute_result"
    }
   ],
   "source": [
    "df.dtypes"
   ]
  },
  {
   "cell_type": "markdown",
   "id": "df93f5de",
   "metadata": {
    "papermill": {
     "duration": 0.010018,
     "end_time": "2022-08-29T19:06:04.337169",
     "exception": false,
     "start_time": "2022-08-29T19:06:04.327151",
     "status": "completed"
    },
    "tags": []
   },
   "source": [
    "Analisando as colunas *'limite_credito'* e *'valor_transacoes_12m'* e seus tipos de dados, nota-se a necessidade de tratar esses dados.\n",
    "Os valores estão em *'R$'* onde o uso de vírgula e ponto são diferentes do padrão americano utilizado pelo Python.\n",
    "\n",
    "Esse item será revisto na Correção de Schema."
   ]
  },
  {
   "cell_type": "markdown",
   "id": "6219783d",
   "metadata": {
    "papermill": {
     "duration": 0.009979,
     "end_time": "2022-08-29T19:06:04.357581",
     "exception": false,
     "start_time": "2022-08-29T19:06:04.347602",
     "status": "completed"
    },
    "tags": []
   },
   "source": [
    "**Atributos categóricos**"
   ]
  },
  {
   "cell_type": "code",
   "execution_count": 11,
   "id": "c11f4075",
   "metadata": {
    "execution": {
     "iopub.execute_input": "2022-08-29T19:06:04.381035Z",
     "iopub.status.busy": "2022-08-29T19:06:04.380038Z",
     "iopub.status.idle": "2022-08-29T19:06:04.430955Z",
     "shell.execute_reply": "2022-08-29T19:06:04.429530Z"
    },
    "papermill": {
     "duration": 0.065665,
     "end_time": "2022-08-29T19:06:04.433532",
     "exception": false,
     "start_time": "2022-08-29T19:06:04.367867",
     "status": "completed"
    },
    "tags": []
   },
   "outputs": [
    {
     "data": {
      "text/html": [
       "<div>\n",
       "<style scoped>\n",
       "    .dataframe tbody tr th:only-of-type {\n",
       "        vertical-align: middle;\n",
       "    }\n",
       "\n",
       "    .dataframe tbody tr th {\n",
       "        vertical-align: top;\n",
       "    }\n",
       "\n",
       "    .dataframe thead th {\n",
       "        text-align: right;\n",
       "    }\n",
       "</style>\n",
       "<table border=\"1\" class=\"dataframe\">\n",
       "  <thead>\n",
       "    <tr style=\"text-align: right;\">\n",
       "      <th></th>\n",
       "      <th>count</th>\n",
       "      <th>unique</th>\n",
       "      <th>top</th>\n",
       "      <th>freq</th>\n",
       "    </tr>\n",
       "  </thead>\n",
       "  <tbody>\n",
       "    <tr>\n",
       "      <th>sexo</th>\n",
       "      <td>10127</td>\n",
       "      <td>2</td>\n",
       "      <td>F</td>\n",
       "      <td>5358</td>\n",
       "    </tr>\n",
       "    <tr>\n",
       "      <th>escolaridade</th>\n",
       "      <td>8608</td>\n",
       "      <td>5</td>\n",
       "      <td>mestrado</td>\n",
       "      <td>3128</td>\n",
       "    </tr>\n",
       "    <tr>\n",
       "      <th>estado_civil</th>\n",
       "      <td>9378</td>\n",
       "      <td>3</td>\n",
       "      <td>casado</td>\n",
       "      <td>4687</td>\n",
       "    </tr>\n",
       "    <tr>\n",
       "      <th>salario_anual</th>\n",
       "      <td>9015</td>\n",
       "      <td>5</td>\n",
       "      <td>menos que $40K</td>\n",
       "      <td>3561</td>\n",
       "    </tr>\n",
       "    <tr>\n",
       "      <th>tipo_cartao</th>\n",
       "      <td>10127</td>\n",
       "      <td>4</td>\n",
       "      <td>blue</td>\n",
       "      <td>9436</td>\n",
       "    </tr>\n",
       "    <tr>\n",
       "      <th>limite_credito</th>\n",
       "      <td>10127</td>\n",
       "      <td>9272</td>\n",
       "      <td>1.438,21</td>\n",
       "      <td>11</td>\n",
       "    </tr>\n",
       "    <tr>\n",
       "      <th>valor_transacoes_12m</th>\n",
       "      <td>10127</td>\n",
       "      <td>10035</td>\n",
       "      <td>3.851,51</td>\n",
       "      <td>3</td>\n",
       "    </tr>\n",
       "  </tbody>\n",
       "</table>\n",
       "</div>"
      ],
      "text/plain": [
       "                      count unique             top  freq\n",
       "sexo                  10127      2               F  5358\n",
       "escolaridade           8608      5        mestrado  3128\n",
       "estado_civil           9378      3          casado  4687\n",
       "salario_anual          9015      5  menos que $40K  3561\n",
       "tipo_cartao           10127      4            blue  9436\n",
       "limite_credito        10127   9272        1.438,21    11\n",
       "valor_transacoes_12m  10127  10035        3.851,51     3"
      ]
     },
     "execution_count": 11,
     "metadata": {},
     "output_type": "execute_result"
    }
   ],
   "source": [
    "df.select_dtypes('object').describe().transpose()"
   ]
  },
  {
   "cell_type": "markdown",
   "id": "0eb120ab",
   "metadata": {
    "papermill": {
     "duration": 0.010308,
     "end_time": "2022-08-29T19:06:04.455494",
     "exception": false,
     "start_time": "2022-08-29T19:06:04.445186",
     "status": "completed"
    },
    "tags": []
   },
   "source": [
    "Analisando a coluna *'count'*, das categorias *'escolaridade*', *'estado_civil'* e *'salario_anual'*, é possível notar qquantidade menor de linhas (comparado com o total) indicando possível falta de dados."
   ]
  },
  {
   "cell_type": "markdown",
   "id": "d066280f",
   "metadata": {
    "papermill": {
     "duration": 0.010006,
     "end_time": "2022-08-29T19:06:04.476496",
     "exception": false,
     "start_time": "2022-08-29T19:06:04.466490",
     "status": "completed"
    },
    "tags": []
   },
   "source": [
    "**Atributos numéricos**"
   ]
  },
  {
   "cell_type": "code",
   "execution_count": 12,
   "id": "e78d55c7",
   "metadata": {
    "execution": {
     "iopub.execute_input": "2022-08-29T19:06:04.498975Z",
     "iopub.status.busy": "2022-08-29T19:06:04.497716Z",
     "iopub.status.idle": "2022-08-29T19:06:04.548686Z",
     "shell.execute_reply": "2022-08-29T19:06:04.547527Z"
    },
    "papermill": {
     "duration": 0.064946,
     "end_time": "2022-08-29T19:06:04.551148",
     "exception": false,
     "start_time": "2022-08-29T19:06:04.486202",
     "status": "completed"
    },
    "tags": []
   },
   "outputs": [
    {
     "data": {
      "text/html": [
       "<div>\n",
       "<style scoped>\n",
       "    .dataframe tbody tr th:only-of-type {\n",
       "        vertical-align: middle;\n",
       "    }\n",
       "\n",
       "    .dataframe tbody tr th {\n",
       "        vertical-align: top;\n",
       "    }\n",
       "\n",
       "    .dataframe thead th {\n",
       "        text-align: right;\n",
       "    }\n",
       "</style>\n",
       "<table border=\"1\" class=\"dataframe\">\n",
       "  <thead>\n",
       "    <tr style=\"text-align: right;\">\n",
       "      <th></th>\n",
       "      <th>count</th>\n",
       "      <th>mean</th>\n",
       "      <th>std</th>\n",
       "      <th>min</th>\n",
       "      <th>25%</th>\n",
       "      <th>50%</th>\n",
       "      <th>75%</th>\n",
       "      <th>max</th>\n",
       "    </tr>\n",
       "  </thead>\n",
       "  <tbody>\n",
       "    <tr>\n",
       "      <th>default</th>\n",
       "      <td>10127.0</td>\n",
       "      <td>0.160660</td>\n",
       "      <td>0.367235</td>\n",
       "      <td>0.0</td>\n",
       "      <td>0.0</td>\n",
       "      <td>0.0</td>\n",
       "      <td>0.0</td>\n",
       "      <td>1.0</td>\n",
       "    </tr>\n",
       "    <tr>\n",
       "      <th>idade</th>\n",
       "      <td>10127.0</td>\n",
       "      <td>46.325960</td>\n",
       "      <td>8.016814</td>\n",
       "      <td>26.0</td>\n",
       "      <td>41.0</td>\n",
       "      <td>46.0</td>\n",
       "      <td>52.0</td>\n",
       "      <td>73.0</td>\n",
       "    </tr>\n",
       "    <tr>\n",
       "      <th>dependentes</th>\n",
       "      <td>10127.0</td>\n",
       "      <td>2.346203</td>\n",
       "      <td>1.298908</td>\n",
       "      <td>0.0</td>\n",
       "      <td>1.0</td>\n",
       "      <td>2.0</td>\n",
       "      <td>3.0</td>\n",
       "      <td>5.0</td>\n",
       "    </tr>\n",
       "    <tr>\n",
       "      <th>meses_de_relacionamento</th>\n",
       "      <td>10127.0</td>\n",
       "      <td>35.928409</td>\n",
       "      <td>7.986416</td>\n",
       "      <td>13.0</td>\n",
       "      <td>31.0</td>\n",
       "      <td>36.0</td>\n",
       "      <td>40.0</td>\n",
       "      <td>56.0</td>\n",
       "    </tr>\n",
       "    <tr>\n",
       "      <th>qtd_produtos</th>\n",
       "      <td>10127.0</td>\n",
       "      <td>3.812580</td>\n",
       "      <td>1.554408</td>\n",
       "      <td>1.0</td>\n",
       "      <td>3.0</td>\n",
       "      <td>4.0</td>\n",
       "      <td>5.0</td>\n",
       "      <td>6.0</td>\n",
       "    </tr>\n",
       "    <tr>\n",
       "      <th>iteracoes_12m</th>\n",
       "      <td>10127.0</td>\n",
       "      <td>2.455317</td>\n",
       "      <td>1.106225</td>\n",
       "      <td>0.0</td>\n",
       "      <td>2.0</td>\n",
       "      <td>2.0</td>\n",
       "      <td>3.0</td>\n",
       "      <td>6.0</td>\n",
       "    </tr>\n",
       "    <tr>\n",
       "      <th>meses_inativo_12m</th>\n",
       "      <td>10127.0</td>\n",
       "      <td>2.341167</td>\n",
       "      <td>1.010622</td>\n",
       "      <td>0.0</td>\n",
       "      <td>2.0</td>\n",
       "      <td>2.0</td>\n",
       "      <td>3.0</td>\n",
       "      <td>6.0</td>\n",
       "    </tr>\n",
       "    <tr>\n",
       "      <th>qtd_transacoes_12m</th>\n",
       "      <td>10127.0</td>\n",
       "      <td>64.858695</td>\n",
       "      <td>23.472570</td>\n",
       "      <td>10.0</td>\n",
       "      <td>45.0</td>\n",
       "      <td>67.0</td>\n",
       "      <td>81.0</td>\n",
       "      <td>139.0</td>\n",
       "    </tr>\n",
       "  </tbody>\n",
       "</table>\n",
       "</div>"
      ],
      "text/plain": [
       "                           count       mean        std   min   25%   50%  \\\n",
       "default                  10127.0   0.160660   0.367235   0.0   0.0   0.0   \n",
       "idade                    10127.0  46.325960   8.016814  26.0  41.0  46.0   \n",
       "dependentes              10127.0   2.346203   1.298908   0.0   1.0   2.0   \n",
       "meses_de_relacionamento  10127.0  35.928409   7.986416  13.0  31.0  36.0   \n",
       "qtd_produtos             10127.0   3.812580   1.554408   1.0   3.0   4.0   \n",
       "iteracoes_12m            10127.0   2.455317   1.106225   0.0   2.0   2.0   \n",
       "meses_inativo_12m        10127.0   2.341167   1.010622   0.0   2.0   2.0   \n",
       "qtd_transacoes_12m       10127.0  64.858695  23.472570  10.0  45.0  67.0   \n",
       "\n",
       "                          75%    max  \n",
       "default                   0.0    1.0  \n",
       "idade                    52.0   73.0  \n",
       "dependentes               3.0    5.0  \n",
       "meses_de_relacionamento  40.0   56.0  \n",
       "qtd_produtos              5.0    6.0  \n",
       "iteracoes_12m             3.0    6.0  \n",
       "meses_inativo_12m         3.0    6.0  \n",
       "qtd_transacoes_12m       81.0  139.0  "
      ]
     },
     "execution_count": 12,
     "metadata": {},
     "output_type": "execute_result"
    }
   ],
   "source": [
    "df.drop('id', axis=1).select_dtypes('number').describe().transpose()"
   ]
  },
  {
   "cell_type": "markdown",
   "id": "88fd2739",
   "metadata": {
    "papermill": {
     "duration": 0.00987,
     "end_time": "2022-08-29T19:06:04.571348",
     "exception": false,
     "start_time": "2022-08-29T19:06:04.561478",
     "status": "completed"
    },
    "tags": []
   },
   "source": [
    "# **Dados faltantes**"
   ]
  },
  {
   "cell_type": "code",
   "execution_count": 13,
   "id": "91b8ac5d",
   "metadata": {
    "execution": {
     "iopub.execute_input": "2022-08-29T19:06:04.595233Z",
     "iopub.status.busy": "2022-08-29T19:06:04.594147Z",
     "iopub.status.idle": "2022-08-29T19:06:04.615475Z",
     "shell.execute_reply": "2022-08-29T19:06:04.614209Z"
    },
    "papermill": {
     "duration": 0.035754,
     "end_time": "2022-08-29T19:06:04.617844",
     "exception": false,
     "start_time": "2022-08-29T19:06:04.582090",
     "status": "completed"
    },
    "tags": []
   },
   "outputs": [
    {
     "data": {
      "text/html": [
       "<div>\n",
       "<style scoped>\n",
       "    .dataframe tbody tr th:only-of-type {\n",
       "        vertical-align: middle;\n",
       "    }\n",
       "\n",
       "    .dataframe tbody tr th {\n",
       "        vertical-align: top;\n",
       "    }\n",
       "\n",
       "    .dataframe thead th {\n",
       "        text-align: right;\n",
       "    }\n",
       "</style>\n",
       "<table border=\"1\" class=\"dataframe\">\n",
       "  <thead>\n",
       "    <tr style=\"text-align: right;\">\n",
       "      <th></th>\n",
       "      <th>id</th>\n",
       "      <th>default</th>\n",
       "      <th>idade</th>\n",
       "      <th>sexo</th>\n",
       "      <th>dependentes</th>\n",
       "      <th>escolaridade</th>\n",
       "      <th>estado_civil</th>\n",
       "      <th>salario_anual</th>\n",
       "      <th>tipo_cartao</th>\n",
       "      <th>meses_de_relacionamento</th>\n",
       "      <th>qtd_produtos</th>\n",
       "      <th>iteracoes_12m</th>\n",
       "      <th>meses_inativo_12m</th>\n",
       "      <th>limite_credito</th>\n",
       "      <th>valor_transacoes_12m</th>\n",
       "      <th>qtd_transacoes_12m</th>\n",
       "    </tr>\n",
       "  </thead>\n",
       "  <tbody>\n",
       "    <tr>\n",
       "      <th>0</th>\n",
       "      <td>768805383</td>\n",
       "      <td>0</td>\n",
       "      <td>45</td>\n",
       "      <td>M</td>\n",
       "      <td>3</td>\n",
       "      <td>ensino medio</td>\n",
       "      <td>casado</td>\n",
       "      <td>$60K - $80K</td>\n",
       "      <td>blue</td>\n",
       "      <td>39</td>\n",
       "      <td>5</td>\n",
       "      <td>3</td>\n",
       "      <td>1</td>\n",
       "      <td>12.691,51</td>\n",
       "      <td>1.144,90</td>\n",
       "      <td>42</td>\n",
       "    </tr>\n",
       "    <tr>\n",
       "      <th>1</th>\n",
       "      <td>818770008</td>\n",
       "      <td>0</td>\n",
       "      <td>49</td>\n",
       "      <td>F</td>\n",
       "      <td>5</td>\n",
       "      <td>mestrado</td>\n",
       "      <td>solteiro</td>\n",
       "      <td>menos que $40K</td>\n",
       "      <td>blue</td>\n",
       "      <td>44</td>\n",
       "      <td>6</td>\n",
       "      <td>2</td>\n",
       "      <td>1</td>\n",
       "      <td>8.256,96</td>\n",
       "      <td>1.291,45</td>\n",
       "      <td>33</td>\n",
       "    </tr>\n",
       "    <tr>\n",
       "      <th>2</th>\n",
       "      <td>713982108</td>\n",
       "      <td>0</td>\n",
       "      <td>51</td>\n",
       "      <td>M</td>\n",
       "      <td>3</td>\n",
       "      <td>mestrado</td>\n",
       "      <td>casado</td>\n",
       "      <td>$80K - $120K</td>\n",
       "      <td>blue</td>\n",
       "      <td>36</td>\n",
       "      <td>4</td>\n",
       "      <td>0</td>\n",
       "      <td>1</td>\n",
       "      <td>3.418,56</td>\n",
       "      <td>1.887,72</td>\n",
       "      <td>20</td>\n",
       "    </tr>\n",
       "    <tr>\n",
       "      <th>3</th>\n",
       "      <td>769911858</td>\n",
       "      <td>0</td>\n",
       "      <td>40</td>\n",
       "      <td>F</td>\n",
       "      <td>4</td>\n",
       "      <td>ensino medio</td>\n",
       "      <td>NaN</td>\n",
       "      <td>menos que $40K</td>\n",
       "      <td>blue</td>\n",
       "      <td>34</td>\n",
       "      <td>3</td>\n",
       "      <td>1</td>\n",
       "      <td>4</td>\n",
       "      <td>3.313,03</td>\n",
       "      <td>1.171,56</td>\n",
       "      <td>20</td>\n",
       "    </tr>\n",
       "    <tr>\n",
       "      <th>4</th>\n",
       "      <td>709106358</td>\n",
       "      <td>0</td>\n",
       "      <td>40</td>\n",
       "      <td>M</td>\n",
       "      <td>3</td>\n",
       "      <td>sem educacao formal</td>\n",
       "      <td>casado</td>\n",
       "      <td>$60K - $80K</td>\n",
       "      <td>blue</td>\n",
       "      <td>21</td>\n",
       "      <td>5</td>\n",
       "      <td>0</td>\n",
       "      <td>1</td>\n",
       "      <td>4.716,22</td>\n",
       "      <td>816,08</td>\n",
       "      <td>28</td>\n",
       "    </tr>\n",
       "  </tbody>\n",
       "</table>\n",
       "</div>"
      ],
      "text/plain": [
       "          id  default  idade sexo  dependentes         escolaridade  \\\n",
       "0  768805383        0     45    M            3         ensino medio   \n",
       "1  818770008        0     49    F            5             mestrado   \n",
       "2  713982108        0     51    M            3             mestrado   \n",
       "3  769911858        0     40    F            4         ensino medio   \n",
       "4  709106358        0     40    M            3  sem educacao formal   \n",
       "\n",
       "  estado_civil   salario_anual tipo_cartao  meses_de_relacionamento  \\\n",
       "0       casado     $60K - $80K        blue                       39   \n",
       "1     solteiro  menos que $40K        blue                       44   \n",
       "2       casado    $80K - $120K        blue                       36   \n",
       "3          NaN  menos que $40K        blue                       34   \n",
       "4       casado     $60K - $80K        blue                       21   \n",
       "\n",
       "   qtd_produtos  iteracoes_12m  meses_inativo_12m limite_credito  \\\n",
       "0             5              3                  1      12.691,51   \n",
       "1             6              2                  1       8.256,96   \n",
       "2             4              0                  1       3.418,56   \n",
       "3             3              1                  4       3.313,03   \n",
       "4             5              0                  1       4.716,22   \n",
       "\n",
       "  valor_transacoes_12m  qtd_transacoes_12m  \n",
       "0             1.144,90                  42  \n",
       "1             1.291,45                  33  \n",
       "2             1.887,72                  20  \n",
       "3             1.171,56                  20  \n",
       "4               816,08                  28  "
      ]
     },
     "execution_count": 13,
     "metadata": {},
     "output_type": "execute_result"
    }
   ],
   "source": [
    "df.head()"
   ]
  },
  {
   "cell_type": "markdown",
   "id": "937b4b30",
   "metadata": {
    "papermill": {
     "duration": 0.010295,
     "end_time": "2022-08-29T19:06:04.638846",
     "exception": false,
     "start_time": "2022-08-29T19:06:04.628551",
     "status": "completed"
    },
    "tags": []
   },
   "source": [
    "**Identificando os dados faltantes.**"
   ]
  },
  {
   "cell_type": "code",
   "execution_count": 14,
   "id": "7c408773",
   "metadata": {
    "execution": {
     "iopub.execute_input": "2022-08-29T19:06:04.662279Z",
     "iopub.status.busy": "2022-08-29T19:06:04.661570Z",
     "iopub.status.idle": "2022-08-29T19:06:04.676528Z",
     "shell.execute_reply": "2022-08-29T19:06:04.675286Z"
    },
    "papermill": {
     "duration": 0.030099,
     "end_time": "2022-08-29T19:06:04.679362",
     "exception": false,
     "start_time": "2022-08-29T19:06:04.649263",
     "status": "completed"
    },
    "tags": []
   },
   "outputs": [
    {
     "data": {
      "text/plain": [
       "id                         False\n",
       "default                    False\n",
       "idade                      False\n",
       "sexo                       False\n",
       "dependentes                False\n",
       "escolaridade                True\n",
       "estado_civil                True\n",
       "salario_anual               True\n",
       "tipo_cartao                False\n",
       "meses_de_relacionamento    False\n",
       "qtd_produtos               False\n",
       "iteracoes_12m              False\n",
       "meses_inativo_12m          False\n",
       "limite_credito             False\n",
       "valor_transacoes_12m       False\n",
       "qtd_transacoes_12m         False\n",
       "dtype: bool"
      ]
     },
     "execution_count": 14,
     "metadata": {},
     "output_type": "execute_result"
    }
   ],
   "source": [
    "df.isna().any()"
   ]
  },
  {
   "cell_type": "markdown",
   "id": "a8d8cccf",
   "metadata": {
    "papermill": {
     "duration": 0.010658,
     "end_time": "2022-08-29T19:06:04.700938",
     "exception": false,
     "start_time": "2022-08-29T19:06:04.690280",
     "status": "completed"
    },
    "tags": []
   },
   "source": [
    "Função para levantar estatísticas sobre as colunas dos dados faltantes."
   ]
  },
  {
   "cell_type": "code",
   "execution_count": 15,
   "id": "4f9058fa",
   "metadata": {
    "execution": {
     "iopub.execute_input": "2022-08-29T19:06:04.725906Z",
     "iopub.status.busy": "2022-08-29T19:06:04.724557Z",
     "iopub.status.idle": "2022-08-29T19:06:04.733311Z",
     "shell.execute_reply": "2022-08-29T19:06:04.731956Z"
    },
    "papermill": {
     "duration": 0.024273,
     "end_time": "2022-08-29T19:06:04.735959",
     "exception": false,
     "start_time": "2022-08-29T19:06:04.711686",
     "status": "completed"
    },
    "tags": []
   },
   "outputs": [],
   "source": [
    "def stats_dados_faltantes(df: pd.DataFrame) -> None:\n",
    "    \n",
    "    stats_dados_faltantes = []\n",
    "    for col in df.columns:\n",
    "        if df[col].isna().any():\n",
    "            qtd, _ = df[df[col].isna()].shape\n",
    "            total, _ = df.shape\n",
    "            dict_dados_faltantes = {col: {'quantidade': qtd, \"porcentagem\": round(100 * qtd/total, 2)}}\n",
    "            stats_dados_faltantes.append(dict_dados_faltantes)\n",
    "            \n",
    "            for stat in stats_dados_faltantes:\n",
    "                print(stat)"
   ]
  },
  {
   "cell_type": "code",
   "execution_count": 16,
   "id": "13cd784c",
   "metadata": {
    "execution": {
     "iopub.execute_input": "2022-08-29T19:06:04.761189Z",
     "iopub.status.busy": "2022-08-29T19:06:04.759808Z",
     "iopub.status.idle": "2022-08-29T19:06:04.781355Z",
     "shell.execute_reply": "2022-08-29T19:06:04.779811Z"
    },
    "papermill": {
     "duration": 0.038024,
     "end_time": "2022-08-29T19:06:04.784868",
     "exception": false,
     "start_time": "2022-08-29T19:06:04.746844",
     "status": "completed"
    },
    "tags": []
   },
   "outputs": [
    {
     "name": "stdout",
     "output_type": "stream",
     "text": [
      "{'escolaridade': {'quantidade': 1519, 'porcentagem': 15.0}}\n",
      "{'escolaridade': {'quantidade': 1519, 'porcentagem': 15.0}}\n",
      "{'estado_civil': {'quantidade': 749, 'porcentagem': 7.4}}\n",
      "{'escolaridade': {'quantidade': 1519, 'porcentagem': 15.0}}\n",
      "{'estado_civil': {'quantidade': 749, 'porcentagem': 7.4}}\n",
      "{'salario_anual': {'quantidade': 1112, 'porcentagem': 10.98}}\n"
     ]
    }
   ],
   "source": [
    "stats_dados_faltantes(df=df)"
   ]
  },
  {
   "cell_type": "code",
   "execution_count": 17,
   "id": "a494015d",
   "metadata": {
    "execution": {
     "iopub.execute_input": "2022-08-29T19:06:04.810829Z",
     "iopub.status.busy": "2022-08-29T19:06:04.810294Z",
     "iopub.status.idle": "2022-08-29T19:06:04.831494Z",
     "shell.execute_reply": "2022-08-29T19:06:04.830081Z"
    },
    "papermill": {
     "duration": 0.037928,
     "end_time": "2022-08-29T19:06:04.834806",
     "exception": false,
     "start_time": "2022-08-29T19:06:04.796878",
     "status": "completed"
    },
    "tags": []
   },
   "outputs": [
    {
     "name": "stdout",
     "output_type": "stream",
     "text": [
      "{'escolaridade': {'quantidade': 1263, 'porcentagem': 14.86}}\n",
      "{'escolaridade': {'quantidade': 1263, 'porcentagem': 14.86}}\n",
      "{'estado_civil': {'quantidade': 620, 'porcentagem': 7.29}}\n",
      "{'escolaridade': {'quantidade': 1263, 'porcentagem': 14.86}}\n",
      "{'estado_civil': {'quantidade': 620, 'porcentagem': 7.29}}\n",
      "{'salario_anual': {'quantidade': 925, 'porcentagem': 10.88}}\n"
     ]
    }
   ],
   "source": [
    "stats_dados_faltantes(df=df[df['default'] == 0])"
   ]
  },
  {
   "cell_type": "code",
   "execution_count": 18,
   "id": "26e37558",
   "metadata": {
    "execution": {
     "iopub.execute_input": "2022-08-29T19:06:04.861730Z",
     "iopub.status.busy": "2022-08-29T19:06:04.860044Z",
     "iopub.status.idle": "2022-08-29T19:06:04.879025Z",
     "shell.execute_reply": "2022-08-29T19:06:04.877713Z"
    },
    "papermill": {
     "duration": 0.03667,
     "end_time": "2022-08-29T19:06:04.883370",
     "exception": false,
     "start_time": "2022-08-29T19:06:04.846700",
     "status": "completed"
    },
    "tags": []
   },
   "outputs": [
    {
     "name": "stdout",
     "output_type": "stream",
     "text": [
      "{'escolaridade': {'quantidade': 256, 'porcentagem': 15.73}}\n",
      "{'escolaridade': {'quantidade': 256, 'porcentagem': 15.73}}\n",
      "{'estado_civil': {'quantidade': 129, 'porcentagem': 7.93}}\n",
      "{'escolaridade': {'quantidade': 256, 'porcentagem': 15.73}}\n",
      "{'estado_civil': {'quantidade': 129, 'porcentagem': 7.93}}\n",
      "{'salario_anual': {'quantidade': 187, 'porcentagem': 11.49}}\n"
     ]
    }
   ],
   "source": [
    "stats_dados_faltantes(df=df[df['default'] == 1])"
   ]
  },
  {
   "cell_type": "markdown",
   "id": "df241708",
   "metadata": {
    "papermill": {
     "duration": 0.012612,
     "end_time": "2022-08-29T19:06:04.907806",
     "exception": false,
     "start_time": "2022-08-29T19:06:04.895194",
     "status": "completed"
    },
    "tags": []
   },
   "source": [
    "# **Transformação e limpeza de dados**"
   ]
  },
  {
   "cell_type": "markdown",
   "id": "aa885b94",
   "metadata": {
    "papermill": {
     "duration": 0.011461,
     "end_time": "2022-08-29T19:06:04.930850",
     "exception": false,
     "start_time": "2022-08-29T19:06:04.919389",
     "status": "completed"
    },
    "tags": []
   },
   "source": [
    "Após entender a natureza do conjunto de dados, pode ser feito a transformação e limpeza para melhor análise. Em especial será corrigido o ***schema*** das colunas e ***remover os dados faltantes***."
   ]
  },
  {
   "cell_type": "markdown",
   "id": "de79e1ee",
   "metadata": {
    "papermill": {
     "duration": 0.011582,
     "end_time": "2022-08-29T19:06:04.954702",
     "exception": false,
     "start_time": "2022-08-29T19:06:04.943120",
     "status": "completed"
    },
    "tags": []
   },
   "source": [
    "# **Correção de schema**"
   ]
  },
  {
   "cell_type": "markdown",
   "id": "1dd7cd73",
   "metadata": {
    "papermill": {
     "duration": 0.01147,
     "end_time": "2022-08-29T19:06:04.978013",
     "exception": false,
     "start_time": "2022-08-29T19:06:04.966543",
     "status": "completed"
    },
    "tags": []
   },
   "source": [
    "Na etapa de exploração, notamos que as colunas **limite_credito** e **valor_transacoes_12m** estavam sendo interpretadas como colunas categóricas (`dtype = object`)."
   ]
  },
  {
   "cell_type": "code",
   "execution_count": 19,
   "id": "12c9cf5b",
   "metadata": {
    "execution": {
     "iopub.execute_input": "2022-08-29T19:06:05.004509Z",
     "iopub.status.busy": "2022-08-29T19:06:05.003507Z",
     "iopub.status.idle": "2022-08-29T19:06:05.015076Z",
     "shell.execute_reply": "2022-08-29T19:06:05.013675Z"
    },
    "papermill": {
     "duration": 0.02829,
     "end_time": "2022-08-29T19:06:05.017813",
     "exception": false,
     "start_time": "2022-08-29T19:06:04.989523",
     "status": "completed"
    },
    "tags": []
   },
   "outputs": [
    {
     "data": {
      "text/plain": [
       "limite_credito          object\n",
       "valor_transacoes_12m    object\n",
       "dtype: object"
      ]
     },
     "execution_count": 19,
     "metadata": {},
     "output_type": "execute_result"
    }
   ],
   "source": [
    "df[['limite_credito', 'valor_transacoes_12m']].dtypes"
   ]
  },
  {
   "cell_type": "code",
   "execution_count": 20,
   "id": "51d035b4",
   "metadata": {
    "execution": {
     "iopub.execute_input": "2022-08-29T19:06:05.046293Z",
     "iopub.status.busy": "2022-08-29T19:06:05.045712Z",
     "iopub.status.idle": "2022-08-29T19:06:05.060417Z",
     "shell.execute_reply": "2022-08-29T19:06:05.059132Z"
    },
    "papermill": {
     "duration": 0.032753,
     "end_time": "2022-08-29T19:06:05.064158",
     "exception": false,
     "start_time": "2022-08-29T19:06:05.031405",
     "status": "completed"
    },
    "tags": []
   },
   "outputs": [
    {
     "data": {
      "text/html": [
       "<div>\n",
       "<style scoped>\n",
       "    .dataframe tbody tr th:only-of-type {\n",
       "        vertical-align: middle;\n",
       "    }\n",
       "\n",
       "    .dataframe tbody tr th {\n",
       "        vertical-align: top;\n",
       "    }\n",
       "\n",
       "    .dataframe thead th {\n",
       "        text-align: right;\n",
       "    }\n",
       "</style>\n",
       "<table border=\"1\" class=\"dataframe\">\n",
       "  <thead>\n",
       "    <tr style=\"text-align: right;\">\n",
       "      <th></th>\n",
       "      <th>limite_credito</th>\n",
       "      <th>valor_transacoes_12m</th>\n",
       "    </tr>\n",
       "  </thead>\n",
       "  <tbody>\n",
       "    <tr>\n",
       "      <th>0</th>\n",
       "      <td>12.691,51</td>\n",
       "      <td>1.144,90</td>\n",
       "    </tr>\n",
       "    <tr>\n",
       "      <th>1</th>\n",
       "      <td>8.256,96</td>\n",
       "      <td>1.291,45</td>\n",
       "    </tr>\n",
       "    <tr>\n",
       "      <th>2</th>\n",
       "      <td>3.418,56</td>\n",
       "      <td>1.887,72</td>\n",
       "    </tr>\n",
       "    <tr>\n",
       "      <th>3</th>\n",
       "      <td>3.313,03</td>\n",
       "      <td>1.171,56</td>\n",
       "    </tr>\n",
       "    <tr>\n",
       "      <th>4</th>\n",
       "      <td>4.716,22</td>\n",
       "      <td>816,08</td>\n",
       "    </tr>\n",
       "  </tbody>\n",
       "</table>\n",
       "</div>"
      ],
      "text/plain": [
       "  limite_credito valor_transacoes_12m\n",
       "0      12.691,51             1.144,90\n",
       "1       8.256,96             1.291,45\n",
       "2       3.418,56             1.887,72\n",
       "3       3.313,03             1.171,56\n",
       "4       4.716,22               816,08"
      ]
     },
     "execution_count": 20,
     "metadata": {},
     "output_type": "execute_result"
    }
   ],
   "source": [
    "df[['limite_credito', 'valor_transacoes_12m']].head(n=5)"
   ]
  }
 ],
 "metadata": {
  "kernelspec": {
   "display_name": "Python 3",
   "language": "python",
   "name": "python3"
  },
  "language_info": {
   "codemirror_mode": {
    "name": "ipython",
    "version": 3
   },
   "file_extension": ".py",
   "mimetype": "text/x-python",
   "name": "python",
   "nbconvert_exporter": "python",
   "pygments_lexer": "ipython3",
   "version": "3.7.12"
  },
  "papermill": {
   "default_parameters": {},
   "duration": 13.009942,
   "end_time": "2022-08-29T19:06:05.800174",
   "environment_variables": {},
   "exception": null,
   "input_path": "__notebook__.ipynb",
   "output_path": "__notebook__.ipynb",
   "parameters": {},
   "start_time": "2022-08-29T19:05:52.790232",
   "version": "2.3.4"
  }
 },
 "nbformat": 4,
 "nbformat_minor": 5
}
