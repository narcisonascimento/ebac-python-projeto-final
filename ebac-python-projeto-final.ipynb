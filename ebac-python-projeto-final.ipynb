{
 "cells": [
  {
   "cell_type": "markdown",
   "id": "6aa15daa",
   "metadata": {
    "papermill": {
     "duration": 0.018663,
     "end_time": "2022-08-31T12:34:46.287466",
     "exception": false,
     "start_time": "2022-08-31T12:34:46.268803",
     "status": "completed"
    },
    "tags": []
   },
   "source": [
    "# **Exploração de Dados**"
   ]
  },
  {
   "cell_type": "markdown",
   "id": "dfd4b222",
   "metadata": {
    "papermill": {
     "duration": 0.016275,
     "end_time": "2022-08-31T12:34:46.323175",
     "exception": false,
     "start_time": "2022-08-31T12:34:46.306900",
     "status": "completed"
    },
    "tags": []
   },
   "source": [
    "Exploração de dados no formato.csv, o dataset foi importado no Kaggle. Os dados contém informações sobre clientes de uma instituição financeira. Em especial, estamos interessados em explicar a segunda coluna, chamada de **default**, que indica se um cliente é **adimplente(default = 0)**, ou **inadimplente (default = 1)**, ou seja, queremos entender o porque um cliente deixa de honrar com suas dívidas baseado no comportamento de outros atributos, como salário, escolaridade e movimentação financeira. Uma descrição completa dos atributos está abaixo.\n",
    "\n",
    "Obs: O notebook com o projeto final foi disponibilizado pela Ebac, entretanto para questão de estudos e aperfeiçoamento, reescrevi o código abaixo com base no notebook origial."
   ]
  },
  {
   "cell_type": "markdown",
   "id": "814d2232",
   "metadata": {
    "papermill": {
     "duration": 0.016557,
     "end_time": "2022-08-31T12:34:46.356392",
     "exception": false,
     "start_time": "2022-08-31T12:34:46.339835",
     "status": "completed"
    },
    "tags": []
   },
   "source": [
    "\n",
    "\n",
    "| Coluna  | Descrição |\n",
    "| ------- | --------- |\n",
    "| id      | Número da conta |\n",
    "| default | Indica se o cliente é adimplente (0) ou inadimplente (1) |\n",
    "| idade   | --- |\n",
    "| sexo    | --- |\n",
    "| depedentes | --- |\n",
    "| escolaridade | --- |\n",
    "| estado_civil | --- |\n",
    "| salario_anual | Faixa do salario mensal multiplicado por 12 |\n",
    "| tipo_cartao | Categoria do cartao: blue, silver, gold e platinium |\n",
    "| meses_de_relacionamento | Quantidade de meses desde a abertura da conta |\n",
    "| qtd_produtos | Quantidade de produtos contratados |\n",
    "| iteracoes_12m | Quantidade de iteracoes com o cliente no último ano |\n",
    "| meses_inatico_12m | Quantidade de meses que o cliente ficou inativo no último ano |\n",
    "| limite_credito | Valor do limite do cartão de crédito |\n",
    "| valor_transacoes_12m | Soma total do valor das transações no cartão de crédito no último ano |\n",
    "| qtd_transacoes_12m | Quantidade total de transações no cartão de crédito no último ano |\n",
    "\n"
   ]
  },
  {
   "cell_type": "markdown",
   "id": "7f5ba1fc",
   "metadata": {
    "papermill": {
     "duration": 0.016145,
     "end_time": "2022-08-31T12:34:46.389267",
     "exception": false,
     "start_time": "2022-08-31T12:34:46.373122",
     "status": "completed"
    },
    "tags": []
   },
   "source": [
    "**Lendo os dados num dataframe panda.**"
   ]
  },
  {
   "cell_type": "code",
   "execution_count": 1,
   "id": "7d1a2a81",
   "metadata": {
    "execution": {
     "iopub.execute_input": "2022-08-31T12:34:46.426030Z",
     "iopub.status.busy": "2022-08-31T12:34:46.424882Z",
     "iopub.status.idle": "2022-08-31T12:34:46.511847Z",
     "shell.execute_reply": "2022-08-31T12:34:46.510533Z"
    },
    "papermill": {
     "duration": 0.110009,
     "end_time": "2022-08-31T12:34:46.515823",
     "exception": false,
     "start_time": "2022-08-31T12:34:46.405814",
     "status": "completed"
    },
    "tags": []
   },
   "outputs": [
    {
     "data": {
      "text/html": [
       "<div>\n",
       "<style scoped>\n",
       "    .dataframe tbody tr th:only-of-type {\n",
       "        vertical-align: middle;\n",
       "    }\n",
       "\n",
       "    .dataframe tbody tr th {\n",
       "        vertical-align: top;\n",
       "    }\n",
       "\n",
       "    .dataframe thead th {\n",
       "        text-align: right;\n",
       "    }\n",
       "</style>\n",
       "<table border=\"1\" class=\"dataframe\">\n",
       "  <thead>\n",
       "    <tr style=\"text-align: right;\">\n",
       "      <th></th>\n",
       "      <th>id</th>\n",
       "      <th>default</th>\n",
       "      <th>idade</th>\n",
       "      <th>sexo</th>\n",
       "      <th>dependentes</th>\n",
       "      <th>escolaridade</th>\n",
       "      <th>estado_civil</th>\n",
       "      <th>salario_anual</th>\n",
       "      <th>tipo_cartao</th>\n",
       "      <th>meses_de_relacionamento</th>\n",
       "      <th>qtd_produtos</th>\n",
       "      <th>iteracoes_12m</th>\n",
       "      <th>meses_inativo_12m</th>\n",
       "      <th>limite_credito</th>\n",
       "      <th>valor_transacoes_12m</th>\n",
       "      <th>qtd_transacoes_12m</th>\n",
       "    </tr>\n",
       "  </thead>\n",
       "  <tbody>\n",
       "    <tr>\n",
       "      <th>0</th>\n",
       "      <td>768805383</td>\n",
       "      <td>0</td>\n",
       "      <td>45</td>\n",
       "      <td>M</td>\n",
       "      <td>3</td>\n",
       "      <td>ensino medio</td>\n",
       "      <td>casado</td>\n",
       "      <td>$60K - $80K</td>\n",
       "      <td>blue</td>\n",
       "      <td>39</td>\n",
       "      <td>5</td>\n",
       "      <td>3</td>\n",
       "      <td>1</td>\n",
       "      <td>12.691,51</td>\n",
       "      <td>1.144,90</td>\n",
       "      <td>42</td>\n",
       "    </tr>\n",
       "    <tr>\n",
       "      <th>1</th>\n",
       "      <td>818770008</td>\n",
       "      <td>0</td>\n",
       "      <td>49</td>\n",
       "      <td>F</td>\n",
       "      <td>5</td>\n",
       "      <td>mestrado</td>\n",
       "      <td>solteiro</td>\n",
       "      <td>menos que $40K</td>\n",
       "      <td>blue</td>\n",
       "      <td>44</td>\n",
       "      <td>6</td>\n",
       "      <td>2</td>\n",
       "      <td>1</td>\n",
       "      <td>8.256,96</td>\n",
       "      <td>1.291,45</td>\n",
       "      <td>33</td>\n",
       "    </tr>\n",
       "    <tr>\n",
       "      <th>2</th>\n",
       "      <td>713982108</td>\n",
       "      <td>0</td>\n",
       "      <td>51</td>\n",
       "      <td>M</td>\n",
       "      <td>3</td>\n",
       "      <td>mestrado</td>\n",
       "      <td>casado</td>\n",
       "      <td>$80K - $120K</td>\n",
       "      <td>blue</td>\n",
       "      <td>36</td>\n",
       "      <td>4</td>\n",
       "      <td>0</td>\n",
       "      <td>1</td>\n",
       "      <td>3.418,56</td>\n",
       "      <td>1.887,72</td>\n",
       "      <td>20</td>\n",
       "    </tr>\n",
       "    <tr>\n",
       "      <th>3</th>\n",
       "      <td>769911858</td>\n",
       "      <td>0</td>\n",
       "      <td>40</td>\n",
       "      <td>F</td>\n",
       "      <td>4</td>\n",
       "      <td>ensino medio</td>\n",
       "      <td>NaN</td>\n",
       "      <td>menos que $40K</td>\n",
       "      <td>blue</td>\n",
       "      <td>34</td>\n",
       "      <td>3</td>\n",
       "      <td>1</td>\n",
       "      <td>4</td>\n",
       "      <td>3.313,03</td>\n",
       "      <td>1.171,56</td>\n",
       "      <td>20</td>\n",
       "    </tr>\n",
       "    <tr>\n",
       "      <th>4</th>\n",
       "      <td>709106358</td>\n",
       "      <td>0</td>\n",
       "      <td>40</td>\n",
       "      <td>M</td>\n",
       "      <td>3</td>\n",
       "      <td>sem educacao formal</td>\n",
       "      <td>casado</td>\n",
       "      <td>$60K - $80K</td>\n",
       "      <td>blue</td>\n",
       "      <td>21</td>\n",
       "      <td>5</td>\n",
       "      <td>0</td>\n",
       "      <td>1</td>\n",
       "      <td>4.716,22</td>\n",
       "      <td>816,08</td>\n",
       "      <td>28</td>\n",
       "    </tr>\n",
       "    <tr>\n",
       "      <th>5</th>\n",
       "      <td>713061558</td>\n",
       "      <td>0</td>\n",
       "      <td>44</td>\n",
       "      <td>M</td>\n",
       "      <td>2</td>\n",
       "      <td>mestrado</td>\n",
       "      <td>casado</td>\n",
       "      <td>$40K - $60K</td>\n",
       "      <td>blue</td>\n",
       "      <td>36</td>\n",
       "      <td>3</td>\n",
       "      <td>2</td>\n",
       "      <td>1</td>\n",
       "      <td>4.010,69</td>\n",
       "      <td>1.088,07</td>\n",
       "      <td>24</td>\n",
       "    </tr>\n",
       "    <tr>\n",
       "      <th>6</th>\n",
       "      <td>810347208</td>\n",
       "      <td>0</td>\n",
       "      <td>51</td>\n",
       "      <td>M</td>\n",
       "      <td>4</td>\n",
       "      <td>NaN</td>\n",
       "      <td>casado</td>\n",
       "      <td>$120K +</td>\n",
       "      <td>gold</td>\n",
       "      <td>46</td>\n",
       "      <td>6</td>\n",
       "      <td>3</td>\n",
       "      <td>1</td>\n",
       "      <td>34.516,72</td>\n",
       "      <td>1.330,87</td>\n",
       "      <td>31</td>\n",
       "    </tr>\n",
       "    <tr>\n",
       "      <th>7</th>\n",
       "      <td>818906208</td>\n",
       "      <td>0</td>\n",
       "      <td>32</td>\n",
       "      <td>M</td>\n",
       "      <td>0</td>\n",
       "      <td>ensino medio</td>\n",
       "      <td>NaN</td>\n",
       "      <td>$60K - $80K</td>\n",
       "      <td>silver</td>\n",
       "      <td>27</td>\n",
       "      <td>2</td>\n",
       "      <td>2</td>\n",
       "      <td>2</td>\n",
       "      <td>29.081,49</td>\n",
       "      <td>1.538,32</td>\n",
       "      <td>36</td>\n",
       "    </tr>\n",
       "    <tr>\n",
       "      <th>8</th>\n",
       "      <td>710930508</td>\n",
       "      <td>0</td>\n",
       "      <td>37</td>\n",
       "      <td>M</td>\n",
       "      <td>3</td>\n",
       "      <td>sem educacao formal</td>\n",
       "      <td>solteiro</td>\n",
       "      <td>$60K - $80K</td>\n",
       "      <td>blue</td>\n",
       "      <td>36</td>\n",
       "      <td>5</td>\n",
       "      <td>0</td>\n",
       "      <td>2</td>\n",
       "      <td>22.352,50</td>\n",
       "      <td>1.350,14</td>\n",
       "      <td>24</td>\n",
       "    </tr>\n",
       "    <tr>\n",
       "      <th>9</th>\n",
       "      <td>719661558</td>\n",
       "      <td>0</td>\n",
       "      <td>48</td>\n",
       "      <td>M</td>\n",
       "      <td>2</td>\n",
       "      <td>mestrado</td>\n",
       "      <td>solteiro</td>\n",
       "      <td>$80K - $120K</td>\n",
       "      <td>blue</td>\n",
       "      <td>36</td>\n",
       "      <td>6</td>\n",
       "      <td>3</td>\n",
       "      <td>3</td>\n",
       "      <td>11.656,41</td>\n",
       "      <td>1.441,73</td>\n",
       "      <td>32</td>\n",
       "    </tr>\n",
       "  </tbody>\n",
       "</table>\n",
       "</div>"
      ],
      "text/plain": [
       "          id  default  idade sexo  dependentes         escolaridade  \\\n",
       "0  768805383        0     45    M            3         ensino medio   \n",
       "1  818770008        0     49    F            5             mestrado   \n",
       "2  713982108        0     51    M            3             mestrado   \n",
       "3  769911858        0     40    F            4         ensino medio   \n",
       "4  709106358        0     40    M            3  sem educacao formal   \n",
       "5  713061558        0     44    M            2             mestrado   \n",
       "6  810347208        0     51    M            4                  NaN   \n",
       "7  818906208        0     32    M            0         ensino medio   \n",
       "8  710930508        0     37    M            3  sem educacao formal   \n",
       "9  719661558        0     48    M            2             mestrado   \n",
       "\n",
       "  estado_civil   salario_anual tipo_cartao  meses_de_relacionamento  \\\n",
       "0       casado     $60K - $80K        blue                       39   \n",
       "1     solteiro  menos que $40K        blue                       44   \n",
       "2       casado    $80K - $120K        blue                       36   \n",
       "3          NaN  menos que $40K        blue                       34   \n",
       "4       casado     $60K - $80K        blue                       21   \n",
       "5       casado     $40K - $60K        blue                       36   \n",
       "6       casado         $120K +        gold                       46   \n",
       "7          NaN     $60K - $80K      silver                       27   \n",
       "8     solteiro     $60K - $80K        blue                       36   \n",
       "9     solteiro    $80K - $120K        blue                       36   \n",
       "\n",
       "   qtd_produtos  iteracoes_12m  meses_inativo_12m limite_credito  \\\n",
       "0             5              3                  1      12.691,51   \n",
       "1             6              2                  1       8.256,96   \n",
       "2             4              0                  1       3.418,56   \n",
       "3             3              1                  4       3.313,03   \n",
       "4             5              0                  1       4.716,22   \n",
       "5             3              2                  1       4.010,69   \n",
       "6             6              3                  1      34.516,72   \n",
       "7             2              2                  2      29.081,49   \n",
       "8             5              0                  2      22.352,50   \n",
       "9             6              3                  3      11.656,41   \n",
       "\n",
       "  valor_transacoes_12m  qtd_transacoes_12m  \n",
       "0             1.144,90                  42  \n",
       "1             1.291,45                  33  \n",
       "2             1.887,72                  20  \n",
       "3             1.171,56                  20  \n",
       "4               816,08                  28  \n",
       "5             1.088,07                  24  \n",
       "6             1.330,87                  31  \n",
       "7             1.538,32                  36  \n",
       "8             1.350,14                  24  \n",
       "9             1.441,73                  32  "
      ]
     },
     "execution_count": 1,
     "metadata": {},
     "output_type": "execute_result"
    }
   ],
   "source": [
    "import pandas as pd\n",
    "df = pd.read_csv('../input/ebac-python-projeto-final-dataset/Python_M10_support material.csv', na_values='na')\n",
    "df.head(n=10)"
   ]
  },
  {
   "cell_type": "markdown",
   "id": "9763d600",
   "metadata": {
    "papermill": {
     "duration": 0.016887,
     "end_time": "2022-08-31T12:34:46.550071",
     "exception": false,
     "start_time": "2022-08-31T12:34:46.533184",
     "status": "completed"
    },
    "tags": []
   },
   "source": [
    "# **Estrutura**"
   ]
  },
  {
   "cell_type": "code",
   "execution_count": 2,
   "id": "8c5074e6",
   "metadata": {
    "execution": {
     "iopub.execute_input": "2022-08-31T12:34:46.587451Z",
     "iopub.status.busy": "2022-08-31T12:34:46.586686Z",
     "iopub.status.idle": "2022-08-31T12:34:46.594412Z",
     "shell.execute_reply": "2022-08-31T12:34:46.593256Z"
    },
    "papermill": {
     "duration": 0.029062,
     "end_time": "2022-08-31T12:34:46.596595",
     "exception": false,
     "start_time": "2022-08-31T12:34:46.567533",
     "status": "completed"
    },
    "tags": []
   },
   "outputs": [
    {
     "data": {
      "text/plain": [
       "(10127, 16)"
      ]
     },
     "execution_count": 2,
     "metadata": {},
     "output_type": "execute_result"
    }
   ],
   "source": [
    "df.shape # contando quantidade de e quantidade de colunas "
   ]
  },
  {
   "cell_type": "markdown",
   "id": "8c826c1c",
   "metadata": {
    "papermill": {
     "duration": 0.016974,
     "end_time": "2022-08-31T12:34:46.630957",
     "exception": false,
     "start_time": "2022-08-31T12:34:46.613983",
     "status": "completed"
    },
    "tags": []
   },
   "source": [
    "**Default = adimplente (0)**"
   ]
  },
  {
   "cell_type": "code",
   "execution_count": 3,
   "id": "8a38ffe3",
   "metadata": {
    "execution": {
     "iopub.execute_input": "2022-08-31T12:34:46.668319Z",
     "iopub.status.busy": "2022-08-31T12:34:46.667408Z",
     "iopub.status.idle": "2022-08-31T12:34:46.684768Z",
     "shell.execute_reply": "2022-08-31T12:34:46.683407Z"
    },
    "papermill": {
     "duration": 0.039282,
     "end_time": "2022-08-31T12:34:46.687544",
     "exception": false,
     "start_time": "2022-08-31T12:34:46.648262",
     "status": "completed"
    },
    "tags": []
   },
   "outputs": [
    {
     "data": {
      "text/plain": [
       "(8500, 16)"
      ]
     },
     "execution_count": 3,
     "metadata": {},
     "output_type": "execute_result"
    }
   ],
   "source": [
    "df[df['default'] == 0].shape"
   ]
  },
  {
   "cell_type": "markdown",
   "id": "db27b633",
   "metadata": {
    "papermill": {
     "duration": 0.017429,
     "end_time": "2022-08-31T12:34:46.722884",
     "exception": false,
     "start_time": "2022-08-31T12:34:46.705455",
     "status": "completed"
    },
    "tags": []
   },
   "source": [
    "**Default = inadimplente (1)**"
   ]
  },
  {
   "cell_type": "code",
   "execution_count": 4,
   "id": "cda2955a",
   "metadata": {
    "execution": {
     "iopub.execute_input": "2022-08-31T12:34:46.762614Z",
     "iopub.status.busy": "2022-08-31T12:34:46.761357Z",
     "iopub.status.idle": "2022-08-31T12:34:46.771190Z",
     "shell.execute_reply": "2022-08-31T12:34:46.770073Z"
    },
    "papermill": {
     "duration": 0.032885,
     "end_time": "2022-08-31T12:34:46.773473",
     "exception": false,
     "start_time": "2022-08-31T12:34:46.740588",
     "status": "completed"
    },
    "tags": []
   },
   "outputs": [
    {
     "data": {
      "text/plain": [
       "(1627, 16)"
      ]
     },
     "execution_count": 4,
     "metadata": {},
     "output_type": "execute_result"
    }
   ],
   "source": [
    "df[df['default'] == 1].shape"
   ]
  },
  {
   "cell_type": "code",
   "execution_count": 5,
   "id": "d8b2e783",
   "metadata": {
    "execution": {
     "iopub.execute_input": "2022-08-31T12:34:46.811443Z",
     "iopub.status.busy": "2022-08-31T12:34:46.810152Z",
     "iopub.status.idle": "2022-08-31T12:34:46.820836Z",
     "shell.execute_reply": "2022-08-31T12:34:46.819730Z"
    },
    "papermill": {
     "duration": 0.03271,
     "end_time": "2022-08-31T12:34:46.823656",
     "exception": false,
     "start_time": "2022-08-31T12:34:46.790946",
     "status": "completed"
    },
    "tags": []
   },
   "outputs": [],
   "source": [
    "qtd_total, _ = df.shape\n",
    "qtd_adimplentes, _ = df[df['default'] == 0].shape\n",
    "qtd_inadimplentes, _ = df[df['default'] == 1].shape"
   ]
  },
  {
   "cell_type": "code",
   "execution_count": 6,
   "id": "d010bb43",
   "metadata": {
    "execution": {
     "iopub.execute_input": "2022-08-31T12:34:46.861413Z",
     "iopub.status.busy": "2022-08-31T12:34:46.860634Z",
     "iopub.status.idle": "2022-08-31T12:34:46.867732Z",
     "shell.execute_reply": "2022-08-31T12:34:46.866628Z"
    },
    "papermill": {
     "duration": 0.030307,
     "end_time": "2022-08-31T12:34:46.871396",
     "exception": false,
     "start_time": "2022-08-31T12:34:46.841089",
     "status": "completed"
    },
    "tags": []
   },
   "outputs": [
    {
     "name": "stdout",
     "output_type": "stream",
     "text": [
      "A proporção de clientes adimplentes é de 83.93%\n",
      "A proporção de clientes inadimplentes é de 16.07%\n"
     ]
    }
   ],
   "source": [
    "print(f\"A proporção de clientes adimplentes é de {round(100 * qtd_adimplentes / qtd_total, 2)}%\")\n",
    "print(f\"A proporção de clientes inadimplentes é de {round(100 * qtd_inadimplentes / qtd_total, 2)}%\")"
   ]
  },
  {
   "cell_type": "markdown",
   "id": "6e213493",
   "metadata": {
    "papermill": {
     "duration": 0.017258,
     "end_time": "2022-08-31T12:34:46.907277",
     "exception": false,
     "start_time": "2022-08-31T12:34:46.890019",
     "status": "completed"
    },
    "tags": []
   },
   "source": [
    "# **Schema**"
   ]
  },
  {
   "cell_type": "code",
   "execution_count": 7,
   "id": "6e6e5bfb",
   "metadata": {
    "execution": {
     "iopub.execute_input": "2022-08-31T12:34:46.945544Z",
     "iopub.status.busy": "2022-08-31T12:34:46.944284Z",
     "iopub.status.idle": "2022-08-31T12:34:46.963671Z",
     "shell.execute_reply": "2022-08-31T12:34:46.962351Z"
    },
    "papermill": {
     "duration": 0.041377,
     "end_time": "2022-08-31T12:34:46.966362",
     "exception": false,
     "start_time": "2022-08-31T12:34:46.924985",
     "status": "completed"
    },
    "tags": []
   },
   "outputs": [
    {
     "data": {
      "text/html": [
       "<div>\n",
       "<style scoped>\n",
       "    .dataframe tbody tr th:only-of-type {\n",
       "        vertical-align: middle;\n",
       "    }\n",
       "\n",
       "    .dataframe tbody tr th {\n",
       "        vertical-align: top;\n",
       "    }\n",
       "\n",
       "    .dataframe thead th {\n",
       "        text-align: right;\n",
       "    }\n",
       "</style>\n",
       "<table border=\"1\" class=\"dataframe\">\n",
       "  <thead>\n",
       "    <tr style=\"text-align: right;\">\n",
       "      <th></th>\n",
       "      <th>id</th>\n",
       "      <th>default</th>\n",
       "      <th>idade</th>\n",
       "      <th>sexo</th>\n",
       "      <th>dependentes</th>\n",
       "      <th>escolaridade</th>\n",
       "      <th>estado_civil</th>\n",
       "      <th>salario_anual</th>\n",
       "      <th>tipo_cartao</th>\n",
       "      <th>meses_de_relacionamento</th>\n",
       "      <th>qtd_produtos</th>\n",
       "      <th>iteracoes_12m</th>\n",
       "      <th>meses_inativo_12m</th>\n",
       "      <th>limite_credito</th>\n",
       "      <th>valor_transacoes_12m</th>\n",
       "      <th>qtd_transacoes_12m</th>\n",
       "    </tr>\n",
       "  </thead>\n",
       "  <tbody>\n",
       "    <tr>\n",
       "      <th>0</th>\n",
       "      <td>768805383</td>\n",
       "      <td>0</td>\n",
       "      <td>45</td>\n",
       "      <td>M</td>\n",
       "      <td>3</td>\n",
       "      <td>ensino medio</td>\n",
       "      <td>casado</td>\n",
       "      <td>$60K - $80K</td>\n",
       "      <td>blue</td>\n",
       "      <td>39</td>\n",
       "      <td>5</td>\n",
       "      <td>3</td>\n",
       "      <td>1</td>\n",
       "      <td>12.691,51</td>\n",
       "      <td>1.144,90</td>\n",
       "      <td>42</td>\n",
       "    </tr>\n",
       "    <tr>\n",
       "      <th>1</th>\n",
       "      <td>818770008</td>\n",
       "      <td>0</td>\n",
       "      <td>49</td>\n",
       "      <td>F</td>\n",
       "      <td>5</td>\n",
       "      <td>mestrado</td>\n",
       "      <td>solteiro</td>\n",
       "      <td>menos que $40K</td>\n",
       "      <td>blue</td>\n",
       "      <td>44</td>\n",
       "      <td>6</td>\n",
       "      <td>2</td>\n",
       "      <td>1</td>\n",
       "      <td>8.256,96</td>\n",
       "      <td>1.291,45</td>\n",
       "      <td>33</td>\n",
       "    </tr>\n",
       "    <tr>\n",
       "      <th>2</th>\n",
       "      <td>713982108</td>\n",
       "      <td>0</td>\n",
       "      <td>51</td>\n",
       "      <td>M</td>\n",
       "      <td>3</td>\n",
       "      <td>mestrado</td>\n",
       "      <td>casado</td>\n",
       "      <td>$80K - $120K</td>\n",
       "      <td>blue</td>\n",
       "      <td>36</td>\n",
       "      <td>4</td>\n",
       "      <td>0</td>\n",
       "      <td>1</td>\n",
       "      <td>3.418,56</td>\n",
       "      <td>1.887,72</td>\n",
       "      <td>20</td>\n",
       "    </tr>\n",
       "    <tr>\n",
       "      <th>3</th>\n",
       "      <td>769911858</td>\n",
       "      <td>0</td>\n",
       "      <td>40</td>\n",
       "      <td>F</td>\n",
       "      <td>4</td>\n",
       "      <td>ensino medio</td>\n",
       "      <td>NaN</td>\n",
       "      <td>menos que $40K</td>\n",
       "      <td>blue</td>\n",
       "      <td>34</td>\n",
       "      <td>3</td>\n",
       "      <td>1</td>\n",
       "      <td>4</td>\n",
       "      <td>3.313,03</td>\n",
       "      <td>1.171,56</td>\n",
       "      <td>20</td>\n",
       "    </tr>\n",
       "    <tr>\n",
       "      <th>4</th>\n",
       "      <td>709106358</td>\n",
       "      <td>0</td>\n",
       "      <td>40</td>\n",
       "      <td>M</td>\n",
       "      <td>3</td>\n",
       "      <td>sem educacao formal</td>\n",
       "      <td>casado</td>\n",
       "      <td>$60K - $80K</td>\n",
       "      <td>blue</td>\n",
       "      <td>21</td>\n",
       "      <td>5</td>\n",
       "      <td>0</td>\n",
       "      <td>1</td>\n",
       "      <td>4.716,22</td>\n",
       "      <td>816,08</td>\n",
       "      <td>28</td>\n",
       "    </tr>\n",
       "  </tbody>\n",
       "</table>\n",
       "</div>"
      ],
      "text/plain": [
       "          id  default  idade sexo  dependentes         escolaridade  \\\n",
       "0  768805383        0     45    M            3         ensino medio   \n",
       "1  818770008        0     49    F            5             mestrado   \n",
       "2  713982108        0     51    M            3             mestrado   \n",
       "3  769911858        0     40    F            4         ensino medio   \n",
       "4  709106358        0     40    M            3  sem educacao formal   \n",
       "\n",
       "  estado_civil   salario_anual tipo_cartao  meses_de_relacionamento  \\\n",
       "0       casado     $60K - $80K        blue                       39   \n",
       "1     solteiro  menos que $40K        blue                       44   \n",
       "2       casado    $80K - $120K        blue                       36   \n",
       "3          NaN  menos que $40K        blue                       34   \n",
       "4       casado     $60K - $80K        blue                       21   \n",
       "\n",
       "   qtd_produtos  iteracoes_12m  meses_inativo_12m limite_credito  \\\n",
       "0             5              3                  1      12.691,51   \n",
       "1             6              2                  1       8.256,96   \n",
       "2             4              0                  1       3.418,56   \n",
       "3             3              1                  4       3.313,03   \n",
       "4             5              0                  1       4.716,22   \n",
       "\n",
       "  valor_transacoes_12m  qtd_transacoes_12m  \n",
       "0             1.144,90                  42  \n",
       "1             1.291,45                  33  \n",
       "2             1.887,72                  20  \n",
       "3             1.171,56                  20  \n",
       "4               816,08                  28  "
      ]
     },
     "execution_count": 7,
     "metadata": {},
     "output_type": "execute_result"
    }
   ],
   "source": [
    "df.head(n=5)"
   ]
  },
  {
   "cell_type": "markdown",
   "id": "cad3f40f",
   "metadata": {
    "papermill": {
     "duration": 0.017513,
     "end_time": "2022-08-31T12:34:47.002040",
     "exception": false,
     "start_time": "2022-08-31T12:34:46.984527",
     "status": "completed"
    },
    "tags": []
   },
   "source": [
    "**Colunas e seus respectivos tipos de dados.**"
   ]
  },
  {
   "cell_type": "code",
   "execution_count": 8,
   "id": "0c9cbc2c",
   "metadata": {
    "execution": {
     "iopub.execute_input": "2022-08-31T12:34:47.041213Z",
     "iopub.status.busy": "2022-08-31T12:34:47.040360Z",
     "iopub.status.idle": "2022-08-31T12:34:47.049915Z",
     "shell.execute_reply": "2022-08-31T12:34:47.048822Z"
    },
    "papermill": {
     "duration": 0.032247,
     "end_time": "2022-08-31T12:34:47.052396",
     "exception": false,
     "start_time": "2022-08-31T12:34:47.020149",
     "status": "completed"
    },
    "tags": []
   },
   "outputs": [
    {
     "data": {
      "text/plain": [
       "id                          int64\n",
       "default                     int64\n",
       "idade                       int64\n",
       "sexo                       object\n",
       "dependentes                 int64\n",
       "escolaridade               object\n",
       "estado_civil               object\n",
       "salario_anual              object\n",
       "tipo_cartao                object\n",
       "meses_de_relacionamento     int64\n",
       "qtd_produtos                int64\n",
       "iteracoes_12m               int64\n",
       "meses_inativo_12m           int64\n",
       "limite_credito             object\n",
       "valor_transacoes_12m       object\n",
       "qtd_transacoes_12m          int64\n",
       "dtype: object"
      ]
     },
     "execution_count": 8,
     "metadata": {},
     "output_type": "execute_result"
    }
   ],
   "source": [
    "df.dtypes"
   ]
  },
  {
   "cell_type": "markdown",
   "id": "0700f7cc",
   "metadata": {
    "papermill": {
     "duration": 0.017612,
     "end_time": "2022-08-31T12:34:47.089324",
     "exception": false,
     "start_time": "2022-08-31T12:34:47.071712",
     "status": "completed"
    },
    "tags": []
   },
   "source": [
    "Analisando as colunas *'limite_credito'* e *'valor_transacoes_12m'* e seus tipos de dados, nota-se a necessidade de tratar esses dados.\n",
    "Os valores estão em *'R$'* onde o uso de vírgula e ponto são diferentes do padrão americano utilizado pelo Python.\n",
    "\n",
    "Esse item será revisto na Correção de Schema."
   ]
  },
  {
   "cell_type": "markdown",
   "id": "c8b0a8be",
   "metadata": {
    "papermill": {
     "duration": 0.017982,
     "end_time": "2022-08-31T12:34:47.125285",
     "exception": false,
     "start_time": "2022-08-31T12:34:47.107303",
     "status": "completed"
    },
    "tags": []
   },
   "source": [
    "**Atributos categóricos**"
   ]
  },
  {
   "cell_type": "code",
   "execution_count": 9,
   "id": "3c41f5f2",
   "metadata": {
    "execution": {
     "iopub.execute_input": "2022-08-31T12:34:47.164205Z",
     "iopub.status.busy": "2022-08-31T12:34:47.163724Z",
     "iopub.status.idle": "2022-08-31T12:34:47.209458Z",
     "shell.execute_reply": "2022-08-31T12:34:47.208390Z"
    },
    "papermill": {
     "duration": 0.068811,
     "end_time": "2022-08-31T12:34:47.212166",
     "exception": false,
     "start_time": "2022-08-31T12:34:47.143355",
     "status": "completed"
    },
    "tags": []
   },
   "outputs": [
    {
     "data": {
      "text/html": [
       "<div>\n",
       "<style scoped>\n",
       "    .dataframe tbody tr th:only-of-type {\n",
       "        vertical-align: middle;\n",
       "    }\n",
       "\n",
       "    .dataframe tbody tr th {\n",
       "        vertical-align: top;\n",
       "    }\n",
       "\n",
       "    .dataframe thead th {\n",
       "        text-align: right;\n",
       "    }\n",
       "</style>\n",
       "<table border=\"1\" class=\"dataframe\">\n",
       "  <thead>\n",
       "    <tr style=\"text-align: right;\">\n",
       "      <th></th>\n",
       "      <th>count</th>\n",
       "      <th>unique</th>\n",
       "      <th>top</th>\n",
       "      <th>freq</th>\n",
       "    </tr>\n",
       "  </thead>\n",
       "  <tbody>\n",
       "    <tr>\n",
       "      <th>sexo</th>\n",
       "      <td>10127</td>\n",
       "      <td>2</td>\n",
       "      <td>F</td>\n",
       "      <td>5358</td>\n",
       "    </tr>\n",
       "    <tr>\n",
       "      <th>escolaridade</th>\n",
       "      <td>8608</td>\n",
       "      <td>5</td>\n",
       "      <td>mestrado</td>\n",
       "      <td>3128</td>\n",
       "    </tr>\n",
       "    <tr>\n",
       "      <th>estado_civil</th>\n",
       "      <td>9378</td>\n",
       "      <td>3</td>\n",
       "      <td>casado</td>\n",
       "      <td>4687</td>\n",
       "    </tr>\n",
       "    <tr>\n",
       "      <th>salario_anual</th>\n",
       "      <td>9015</td>\n",
       "      <td>5</td>\n",
       "      <td>menos que $40K</td>\n",
       "      <td>3561</td>\n",
       "    </tr>\n",
       "    <tr>\n",
       "      <th>tipo_cartao</th>\n",
       "      <td>10127</td>\n",
       "      <td>4</td>\n",
       "      <td>blue</td>\n",
       "      <td>9436</td>\n",
       "    </tr>\n",
       "    <tr>\n",
       "      <th>limite_credito</th>\n",
       "      <td>10127</td>\n",
       "      <td>9272</td>\n",
       "      <td>1.438,21</td>\n",
       "      <td>11</td>\n",
       "    </tr>\n",
       "    <tr>\n",
       "      <th>valor_transacoes_12m</th>\n",
       "      <td>10127</td>\n",
       "      <td>10035</td>\n",
       "      <td>3.851,51</td>\n",
       "      <td>3</td>\n",
       "    </tr>\n",
       "  </tbody>\n",
       "</table>\n",
       "</div>"
      ],
      "text/plain": [
       "                      count unique             top  freq\n",
       "sexo                  10127      2               F  5358\n",
       "escolaridade           8608      5        mestrado  3128\n",
       "estado_civil           9378      3          casado  4687\n",
       "salario_anual          9015      5  menos que $40K  3561\n",
       "tipo_cartao           10127      4            blue  9436\n",
       "limite_credito        10127   9272        1.438,21    11\n",
       "valor_transacoes_12m  10127  10035        3.851,51     3"
      ]
     },
     "execution_count": 9,
     "metadata": {},
     "output_type": "execute_result"
    }
   ],
   "source": [
    "df.select_dtypes('object').describe().transpose()"
   ]
  },
  {
   "cell_type": "markdown",
   "id": "7809692f",
   "metadata": {
    "papermill": {
     "duration": 0.018868,
     "end_time": "2022-08-31T12:34:47.249706",
     "exception": false,
     "start_time": "2022-08-31T12:34:47.230838",
     "status": "completed"
    },
    "tags": []
   },
   "source": [
    "Analisando a coluna *'count'*, das categorias *'escolaridade*', *'estado_civil'* e *'salario_anual'*, é possível notar qquantidade menor de linhas (comparado com o total) indicando possível falta de dados."
   ]
  },
  {
   "cell_type": "markdown",
   "id": "8e719a25",
   "metadata": {
    "papermill": {
     "duration": 0.018214,
     "end_time": "2022-08-31T12:34:47.286854",
     "exception": false,
     "start_time": "2022-08-31T12:34:47.268640",
     "status": "completed"
    },
    "tags": []
   },
   "source": [
    "**Atributos numéricos**"
   ]
  },
  {
   "cell_type": "code",
   "execution_count": 10,
   "id": "10e5e3d1",
   "metadata": {
    "execution": {
     "iopub.execute_input": "2022-08-31T12:34:47.328067Z",
     "iopub.status.busy": "2022-08-31T12:34:47.327223Z",
     "iopub.status.idle": "2022-08-31T12:34:47.376996Z",
     "shell.execute_reply": "2022-08-31T12:34:47.376070Z"
    },
    "papermill": {
     "duration": 0.072977,
     "end_time": "2022-08-31T12:34:47.379802",
     "exception": false,
     "start_time": "2022-08-31T12:34:47.306825",
     "status": "completed"
    },
    "tags": []
   },
   "outputs": [
    {
     "data": {
      "text/html": [
       "<div>\n",
       "<style scoped>\n",
       "    .dataframe tbody tr th:only-of-type {\n",
       "        vertical-align: middle;\n",
       "    }\n",
       "\n",
       "    .dataframe tbody tr th {\n",
       "        vertical-align: top;\n",
       "    }\n",
       "\n",
       "    .dataframe thead th {\n",
       "        text-align: right;\n",
       "    }\n",
       "</style>\n",
       "<table border=\"1\" class=\"dataframe\">\n",
       "  <thead>\n",
       "    <tr style=\"text-align: right;\">\n",
       "      <th></th>\n",
       "      <th>count</th>\n",
       "      <th>mean</th>\n",
       "      <th>std</th>\n",
       "      <th>min</th>\n",
       "      <th>25%</th>\n",
       "      <th>50%</th>\n",
       "      <th>75%</th>\n",
       "      <th>max</th>\n",
       "    </tr>\n",
       "  </thead>\n",
       "  <tbody>\n",
       "    <tr>\n",
       "      <th>default</th>\n",
       "      <td>10127.0</td>\n",
       "      <td>0.160660</td>\n",
       "      <td>0.367235</td>\n",
       "      <td>0.0</td>\n",
       "      <td>0.0</td>\n",
       "      <td>0.0</td>\n",
       "      <td>0.0</td>\n",
       "      <td>1.0</td>\n",
       "    </tr>\n",
       "    <tr>\n",
       "      <th>idade</th>\n",
       "      <td>10127.0</td>\n",
       "      <td>46.325960</td>\n",
       "      <td>8.016814</td>\n",
       "      <td>26.0</td>\n",
       "      <td>41.0</td>\n",
       "      <td>46.0</td>\n",
       "      <td>52.0</td>\n",
       "      <td>73.0</td>\n",
       "    </tr>\n",
       "    <tr>\n",
       "      <th>dependentes</th>\n",
       "      <td>10127.0</td>\n",
       "      <td>2.346203</td>\n",
       "      <td>1.298908</td>\n",
       "      <td>0.0</td>\n",
       "      <td>1.0</td>\n",
       "      <td>2.0</td>\n",
       "      <td>3.0</td>\n",
       "      <td>5.0</td>\n",
       "    </tr>\n",
       "    <tr>\n",
       "      <th>meses_de_relacionamento</th>\n",
       "      <td>10127.0</td>\n",
       "      <td>35.928409</td>\n",
       "      <td>7.986416</td>\n",
       "      <td>13.0</td>\n",
       "      <td>31.0</td>\n",
       "      <td>36.0</td>\n",
       "      <td>40.0</td>\n",
       "      <td>56.0</td>\n",
       "    </tr>\n",
       "    <tr>\n",
       "      <th>qtd_produtos</th>\n",
       "      <td>10127.0</td>\n",
       "      <td>3.812580</td>\n",
       "      <td>1.554408</td>\n",
       "      <td>1.0</td>\n",
       "      <td>3.0</td>\n",
       "      <td>4.0</td>\n",
       "      <td>5.0</td>\n",
       "      <td>6.0</td>\n",
       "    </tr>\n",
       "    <tr>\n",
       "      <th>iteracoes_12m</th>\n",
       "      <td>10127.0</td>\n",
       "      <td>2.455317</td>\n",
       "      <td>1.106225</td>\n",
       "      <td>0.0</td>\n",
       "      <td>2.0</td>\n",
       "      <td>2.0</td>\n",
       "      <td>3.0</td>\n",
       "      <td>6.0</td>\n",
       "    </tr>\n",
       "    <tr>\n",
       "      <th>meses_inativo_12m</th>\n",
       "      <td>10127.0</td>\n",
       "      <td>2.341167</td>\n",
       "      <td>1.010622</td>\n",
       "      <td>0.0</td>\n",
       "      <td>2.0</td>\n",
       "      <td>2.0</td>\n",
       "      <td>3.0</td>\n",
       "      <td>6.0</td>\n",
       "    </tr>\n",
       "    <tr>\n",
       "      <th>qtd_transacoes_12m</th>\n",
       "      <td>10127.0</td>\n",
       "      <td>64.858695</td>\n",
       "      <td>23.472570</td>\n",
       "      <td>10.0</td>\n",
       "      <td>45.0</td>\n",
       "      <td>67.0</td>\n",
       "      <td>81.0</td>\n",
       "      <td>139.0</td>\n",
       "    </tr>\n",
       "  </tbody>\n",
       "</table>\n",
       "</div>"
      ],
      "text/plain": [
       "                           count       mean        std   min   25%   50%  \\\n",
       "default                  10127.0   0.160660   0.367235   0.0   0.0   0.0   \n",
       "idade                    10127.0  46.325960   8.016814  26.0  41.0  46.0   \n",
       "dependentes              10127.0   2.346203   1.298908   0.0   1.0   2.0   \n",
       "meses_de_relacionamento  10127.0  35.928409   7.986416  13.0  31.0  36.0   \n",
       "qtd_produtos             10127.0   3.812580   1.554408   1.0   3.0   4.0   \n",
       "iteracoes_12m            10127.0   2.455317   1.106225   0.0   2.0   2.0   \n",
       "meses_inativo_12m        10127.0   2.341167   1.010622   0.0   2.0   2.0   \n",
       "qtd_transacoes_12m       10127.0  64.858695  23.472570  10.0  45.0  67.0   \n",
       "\n",
       "                          75%    max  \n",
       "default                   0.0    1.0  \n",
       "idade                    52.0   73.0  \n",
       "dependentes               3.0    5.0  \n",
       "meses_de_relacionamento  40.0   56.0  \n",
       "qtd_produtos              5.0    6.0  \n",
       "iteracoes_12m             3.0    6.0  \n",
       "meses_inativo_12m         3.0    6.0  \n",
       "qtd_transacoes_12m       81.0  139.0  "
      ]
     },
     "execution_count": 10,
     "metadata": {},
     "output_type": "execute_result"
    }
   ],
   "source": [
    "df.drop('id', axis=1).select_dtypes('number').describe().transpose()"
   ]
  },
  {
   "cell_type": "markdown",
   "id": "1b9e76c6",
   "metadata": {
    "papermill": {
     "duration": 0.01839,
     "end_time": "2022-08-31T12:34:47.417194",
     "exception": false,
     "start_time": "2022-08-31T12:34:47.398804",
     "status": "completed"
    },
    "tags": []
   },
   "source": [
    "# **Dados faltantes**"
   ]
  },
  {
   "cell_type": "code",
   "execution_count": 11,
   "id": "03d2763d",
   "metadata": {
    "execution": {
     "iopub.execute_input": "2022-08-31T12:34:47.457366Z",
     "iopub.status.busy": "2022-08-31T12:34:47.456521Z",
     "iopub.status.idle": "2022-08-31T12:34:47.475845Z",
     "shell.execute_reply": "2022-08-31T12:34:47.474931Z"
    },
    "papermill": {
     "duration": 0.042072,
     "end_time": "2022-08-31T12:34:47.478146",
     "exception": false,
     "start_time": "2022-08-31T12:34:47.436074",
     "status": "completed"
    },
    "tags": []
   },
   "outputs": [
    {
     "data": {
      "text/html": [
       "<div>\n",
       "<style scoped>\n",
       "    .dataframe tbody tr th:only-of-type {\n",
       "        vertical-align: middle;\n",
       "    }\n",
       "\n",
       "    .dataframe tbody tr th {\n",
       "        vertical-align: top;\n",
       "    }\n",
       "\n",
       "    .dataframe thead th {\n",
       "        text-align: right;\n",
       "    }\n",
       "</style>\n",
       "<table border=\"1\" class=\"dataframe\">\n",
       "  <thead>\n",
       "    <tr style=\"text-align: right;\">\n",
       "      <th></th>\n",
       "      <th>id</th>\n",
       "      <th>default</th>\n",
       "      <th>idade</th>\n",
       "      <th>sexo</th>\n",
       "      <th>dependentes</th>\n",
       "      <th>escolaridade</th>\n",
       "      <th>estado_civil</th>\n",
       "      <th>salario_anual</th>\n",
       "      <th>tipo_cartao</th>\n",
       "      <th>meses_de_relacionamento</th>\n",
       "      <th>qtd_produtos</th>\n",
       "      <th>iteracoes_12m</th>\n",
       "      <th>meses_inativo_12m</th>\n",
       "      <th>limite_credito</th>\n",
       "      <th>valor_transacoes_12m</th>\n",
       "      <th>qtd_transacoes_12m</th>\n",
       "    </tr>\n",
       "  </thead>\n",
       "  <tbody>\n",
       "    <tr>\n",
       "      <th>0</th>\n",
       "      <td>768805383</td>\n",
       "      <td>0</td>\n",
       "      <td>45</td>\n",
       "      <td>M</td>\n",
       "      <td>3</td>\n",
       "      <td>ensino medio</td>\n",
       "      <td>casado</td>\n",
       "      <td>$60K - $80K</td>\n",
       "      <td>blue</td>\n",
       "      <td>39</td>\n",
       "      <td>5</td>\n",
       "      <td>3</td>\n",
       "      <td>1</td>\n",
       "      <td>12.691,51</td>\n",
       "      <td>1.144,90</td>\n",
       "      <td>42</td>\n",
       "    </tr>\n",
       "    <tr>\n",
       "      <th>1</th>\n",
       "      <td>818770008</td>\n",
       "      <td>0</td>\n",
       "      <td>49</td>\n",
       "      <td>F</td>\n",
       "      <td>5</td>\n",
       "      <td>mestrado</td>\n",
       "      <td>solteiro</td>\n",
       "      <td>menos que $40K</td>\n",
       "      <td>blue</td>\n",
       "      <td>44</td>\n",
       "      <td>6</td>\n",
       "      <td>2</td>\n",
       "      <td>1</td>\n",
       "      <td>8.256,96</td>\n",
       "      <td>1.291,45</td>\n",
       "      <td>33</td>\n",
       "    </tr>\n",
       "    <tr>\n",
       "      <th>2</th>\n",
       "      <td>713982108</td>\n",
       "      <td>0</td>\n",
       "      <td>51</td>\n",
       "      <td>M</td>\n",
       "      <td>3</td>\n",
       "      <td>mestrado</td>\n",
       "      <td>casado</td>\n",
       "      <td>$80K - $120K</td>\n",
       "      <td>blue</td>\n",
       "      <td>36</td>\n",
       "      <td>4</td>\n",
       "      <td>0</td>\n",
       "      <td>1</td>\n",
       "      <td>3.418,56</td>\n",
       "      <td>1.887,72</td>\n",
       "      <td>20</td>\n",
       "    </tr>\n",
       "    <tr>\n",
       "      <th>3</th>\n",
       "      <td>769911858</td>\n",
       "      <td>0</td>\n",
       "      <td>40</td>\n",
       "      <td>F</td>\n",
       "      <td>4</td>\n",
       "      <td>ensino medio</td>\n",
       "      <td>NaN</td>\n",
       "      <td>menos que $40K</td>\n",
       "      <td>blue</td>\n",
       "      <td>34</td>\n",
       "      <td>3</td>\n",
       "      <td>1</td>\n",
       "      <td>4</td>\n",
       "      <td>3.313,03</td>\n",
       "      <td>1.171,56</td>\n",
       "      <td>20</td>\n",
       "    </tr>\n",
       "    <tr>\n",
       "      <th>4</th>\n",
       "      <td>709106358</td>\n",
       "      <td>0</td>\n",
       "      <td>40</td>\n",
       "      <td>M</td>\n",
       "      <td>3</td>\n",
       "      <td>sem educacao formal</td>\n",
       "      <td>casado</td>\n",
       "      <td>$60K - $80K</td>\n",
       "      <td>blue</td>\n",
       "      <td>21</td>\n",
       "      <td>5</td>\n",
       "      <td>0</td>\n",
       "      <td>1</td>\n",
       "      <td>4.716,22</td>\n",
       "      <td>816,08</td>\n",
       "      <td>28</td>\n",
       "    </tr>\n",
       "    <tr>\n",
       "      <th>5</th>\n",
       "      <td>713061558</td>\n",
       "      <td>0</td>\n",
       "      <td>44</td>\n",
       "      <td>M</td>\n",
       "      <td>2</td>\n",
       "      <td>mestrado</td>\n",
       "      <td>casado</td>\n",
       "      <td>$40K - $60K</td>\n",
       "      <td>blue</td>\n",
       "      <td>36</td>\n",
       "      <td>3</td>\n",
       "      <td>2</td>\n",
       "      <td>1</td>\n",
       "      <td>4.010,69</td>\n",
       "      <td>1.088,07</td>\n",
       "      <td>24</td>\n",
       "    </tr>\n",
       "    <tr>\n",
       "      <th>6</th>\n",
       "      <td>810347208</td>\n",
       "      <td>0</td>\n",
       "      <td>51</td>\n",
       "      <td>M</td>\n",
       "      <td>4</td>\n",
       "      <td>NaN</td>\n",
       "      <td>casado</td>\n",
       "      <td>$120K +</td>\n",
       "      <td>gold</td>\n",
       "      <td>46</td>\n",
       "      <td>6</td>\n",
       "      <td>3</td>\n",
       "      <td>1</td>\n",
       "      <td>34.516,72</td>\n",
       "      <td>1.330,87</td>\n",
       "      <td>31</td>\n",
       "    </tr>\n",
       "    <tr>\n",
       "      <th>7</th>\n",
       "      <td>818906208</td>\n",
       "      <td>0</td>\n",
       "      <td>32</td>\n",
       "      <td>M</td>\n",
       "      <td>0</td>\n",
       "      <td>ensino medio</td>\n",
       "      <td>NaN</td>\n",
       "      <td>$60K - $80K</td>\n",
       "      <td>silver</td>\n",
       "      <td>27</td>\n",
       "      <td>2</td>\n",
       "      <td>2</td>\n",
       "      <td>2</td>\n",
       "      <td>29.081,49</td>\n",
       "      <td>1.538,32</td>\n",
       "      <td>36</td>\n",
       "    </tr>\n",
       "    <tr>\n",
       "      <th>8</th>\n",
       "      <td>710930508</td>\n",
       "      <td>0</td>\n",
       "      <td>37</td>\n",
       "      <td>M</td>\n",
       "      <td>3</td>\n",
       "      <td>sem educacao formal</td>\n",
       "      <td>solteiro</td>\n",
       "      <td>$60K - $80K</td>\n",
       "      <td>blue</td>\n",
       "      <td>36</td>\n",
       "      <td>5</td>\n",
       "      <td>0</td>\n",
       "      <td>2</td>\n",
       "      <td>22.352,50</td>\n",
       "      <td>1.350,14</td>\n",
       "      <td>24</td>\n",
       "    </tr>\n",
       "    <tr>\n",
       "      <th>9</th>\n",
       "      <td>719661558</td>\n",
       "      <td>0</td>\n",
       "      <td>48</td>\n",
       "      <td>M</td>\n",
       "      <td>2</td>\n",
       "      <td>mestrado</td>\n",
       "      <td>solteiro</td>\n",
       "      <td>$80K - $120K</td>\n",
       "      <td>blue</td>\n",
       "      <td>36</td>\n",
       "      <td>6</td>\n",
       "      <td>3</td>\n",
       "      <td>3</td>\n",
       "      <td>11.656,41</td>\n",
       "      <td>1.441,73</td>\n",
       "      <td>32</td>\n",
       "    </tr>\n",
       "  </tbody>\n",
       "</table>\n",
       "</div>"
      ],
      "text/plain": [
       "          id  default  idade sexo  dependentes         escolaridade  \\\n",
       "0  768805383        0     45    M            3         ensino medio   \n",
       "1  818770008        0     49    F            5             mestrado   \n",
       "2  713982108        0     51    M            3             mestrado   \n",
       "3  769911858        0     40    F            4         ensino medio   \n",
       "4  709106358        0     40    M            3  sem educacao formal   \n",
       "5  713061558        0     44    M            2             mestrado   \n",
       "6  810347208        0     51    M            4                  NaN   \n",
       "7  818906208        0     32    M            0         ensino medio   \n",
       "8  710930508        0     37    M            3  sem educacao formal   \n",
       "9  719661558        0     48    M            2             mestrado   \n",
       "\n",
       "  estado_civil   salario_anual tipo_cartao  meses_de_relacionamento  \\\n",
       "0       casado     $60K - $80K        blue                       39   \n",
       "1     solteiro  menos que $40K        blue                       44   \n",
       "2       casado    $80K - $120K        blue                       36   \n",
       "3          NaN  menos que $40K        blue                       34   \n",
       "4       casado     $60K - $80K        blue                       21   \n",
       "5       casado     $40K - $60K        blue                       36   \n",
       "6       casado         $120K +        gold                       46   \n",
       "7          NaN     $60K - $80K      silver                       27   \n",
       "8     solteiro     $60K - $80K        blue                       36   \n",
       "9     solteiro    $80K - $120K        blue                       36   \n",
       "\n",
       "   qtd_produtos  iteracoes_12m  meses_inativo_12m limite_credito  \\\n",
       "0             5              3                  1      12.691,51   \n",
       "1             6              2                  1       8.256,96   \n",
       "2             4              0                  1       3.418,56   \n",
       "3             3              1                  4       3.313,03   \n",
       "4             5              0                  1       4.716,22   \n",
       "5             3              2                  1       4.010,69   \n",
       "6             6              3                  1      34.516,72   \n",
       "7             2              2                  2      29.081,49   \n",
       "8             5              0                  2      22.352,50   \n",
       "9             6              3                  3      11.656,41   \n",
       "\n",
       "  valor_transacoes_12m  qtd_transacoes_12m  \n",
       "0             1.144,90                  42  \n",
       "1             1.291,45                  33  \n",
       "2             1.887,72                  20  \n",
       "3             1.171,56                  20  \n",
       "4               816,08                  28  \n",
       "5             1.088,07                  24  \n",
       "6             1.330,87                  31  \n",
       "7             1.538,32                  36  \n",
       "8             1.350,14                  24  \n",
       "9             1.441,73                  32  "
      ]
     },
     "execution_count": 11,
     "metadata": {},
     "output_type": "execute_result"
    }
   ],
   "source": [
    "df.head(n=10)"
   ]
  },
  {
   "cell_type": "markdown",
   "id": "fea53cdc",
   "metadata": {
    "papermill": {
     "duration": 0.019656,
     "end_time": "2022-08-31T12:34:47.516897",
     "exception": false,
     "start_time": "2022-08-31T12:34:47.497241",
     "status": "completed"
    },
    "tags": []
   },
   "source": [
    "**Identificando os dados faltantes.**"
   ]
  },
  {
   "cell_type": "code",
   "execution_count": 12,
   "id": "d990f6f4",
   "metadata": {
    "execution": {
     "iopub.execute_input": "2022-08-31T12:34:47.559375Z",
     "iopub.status.busy": "2022-08-31T12:34:47.558523Z",
     "iopub.status.idle": "2022-08-31T12:34:47.571436Z",
     "shell.execute_reply": "2022-08-31T12:34:47.570393Z"
    },
    "papermill": {
     "duration": 0.036924,
     "end_time": "2022-08-31T12:34:47.573681",
     "exception": false,
     "start_time": "2022-08-31T12:34:47.536757",
     "status": "completed"
    },
    "tags": []
   },
   "outputs": [
    {
     "data": {
      "text/plain": [
       "id                         False\n",
       "default                    False\n",
       "idade                      False\n",
       "sexo                       False\n",
       "dependentes                False\n",
       "escolaridade                True\n",
       "estado_civil                True\n",
       "salario_anual               True\n",
       "tipo_cartao                False\n",
       "meses_de_relacionamento    False\n",
       "qtd_produtos               False\n",
       "iteracoes_12m              False\n",
       "meses_inativo_12m          False\n",
       "limite_credito             False\n",
       "valor_transacoes_12m       False\n",
       "qtd_transacoes_12m         False\n",
       "dtype: bool"
      ]
     },
     "execution_count": 12,
     "metadata": {},
     "output_type": "execute_result"
    }
   ],
   "source": [
    "df.isna().any()"
   ]
  },
  {
   "cell_type": "markdown",
   "id": "1b784db3",
   "metadata": {
    "papermill": {
     "duration": 0.018901,
     "end_time": "2022-08-31T12:34:47.611841",
     "exception": false,
     "start_time": "2022-08-31T12:34:47.592940",
     "status": "completed"
    },
    "tags": []
   },
   "source": [
    "Função para levantar estatísticas sobre as colunas dos dados faltantes."
   ]
  },
  {
   "cell_type": "code",
   "execution_count": 13,
   "id": "f3441f12",
   "metadata": {
    "execution": {
     "iopub.execute_input": "2022-08-31T12:34:47.653143Z",
     "iopub.status.busy": "2022-08-31T12:34:47.652278Z",
     "iopub.status.idle": "2022-08-31T12:34:47.659377Z",
     "shell.execute_reply": "2022-08-31T12:34:47.658476Z"
    },
    "papermill": {
     "duration": 0.030571,
     "end_time": "2022-08-31T12:34:47.661726",
     "exception": false,
     "start_time": "2022-08-31T12:34:47.631155",
     "status": "completed"
    },
    "tags": []
   },
   "outputs": [],
   "source": [
    "def stats_dados_faltantes(df: pd.DataFrame) -> None:\n",
    "    \n",
    "    stats_dados_faltantes = []\n",
    "    for col in df.columns:\n",
    "        if df[col].isna().any():\n",
    "            qtd, _ = df[df[col].isna()].shape\n",
    "            total, _ = df.shape\n",
    "            dict_dados_faltantes = {col: {'quantidade': qtd, \"porcentagem\": round(100 * qtd/total, 2)}}\n",
    "            stats_dados_faltantes.append(dict_dados_faltantes)\n",
    "            \n",
    "            for stat in stats_dados_faltantes:\n",
    "                print(stat)"
   ]
  },
  {
   "cell_type": "code",
   "execution_count": 14,
   "id": "0112b5e2",
   "metadata": {
    "execution": {
     "iopub.execute_input": "2022-08-31T12:34:47.702645Z",
     "iopub.status.busy": "2022-08-31T12:34:47.702126Z",
     "iopub.status.idle": "2022-08-31T12:34:47.720779Z",
     "shell.execute_reply": "2022-08-31T12:34:47.719425Z"
    },
    "papermill": {
     "duration": 0.042688,
     "end_time": "2022-08-31T12:34:47.723737",
     "exception": false,
     "start_time": "2022-08-31T12:34:47.681049",
     "status": "completed"
    },
    "tags": []
   },
   "outputs": [
    {
     "name": "stdout",
     "output_type": "stream",
     "text": [
      "{'escolaridade': {'quantidade': 1519, 'porcentagem': 15.0}}\n",
      "{'escolaridade': {'quantidade': 1519, 'porcentagem': 15.0}}\n",
      "{'estado_civil': {'quantidade': 749, 'porcentagem': 7.4}}\n",
      "{'escolaridade': {'quantidade': 1519, 'porcentagem': 15.0}}\n",
      "{'estado_civil': {'quantidade': 749, 'porcentagem': 7.4}}\n",
      "{'salario_anual': {'quantidade': 1112, 'porcentagem': 10.98}}\n"
     ]
    }
   ],
   "source": [
    "stats_dados_faltantes(df=df)"
   ]
  },
  {
   "cell_type": "code",
   "execution_count": 15,
   "id": "64850024",
   "metadata": {
    "execution": {
     "iopub.execute_input": "2022-08-31T12:34:47.766114Z",
     "iopub.status.busy": "2022-08-31T12:34:47.765622Z",
     "iopub.status.idle": "2022-08-31T12:34:47.786356Z",
     "shell.execute_reply": "2022-08-31T12:34:47.784770Z"
    },
    "papermill": {
     "duration": 0.045689,
     "end_time": "2022-08-31T12:34:47.789256",
     "exception": false,
     "start_time": "2022-08-31T12:34:47.743567",
     "status": "completed"
    },
    "tags": []
   },
   "outputs": [
    {
     "name": "stdout",
     "output_type": "stream",
     "text": [
      "{'escolaridade': {'quantidade': 1263, 'porcentagem': 14.86}}\n",
      "{'escolaridade': {'quantidade': 1263, 'porcentagem': 14.86}}\n",
      "{'estado_civil': {'quantidade': 620, 'porcentagem': 7.29}}\n",
      "{'escolaridade': {'quantidade': 1263, 'porcentagem': 14.86}}\n",
      "{'estado_civil': {'quantidade': 620, 'porcentagem': 7.29}}\n",
      "{'salario_anual': {'quantidade': 925, 'porcentagem': 10.88}}\n"
     ]
    }
   ],
   "source": [
    "stats_dados_faltantes(df=df[df['default'] == 0])"
   ]
  },
  {
   "cell_type": "code",
   "execution_count": 16,
   "id": "46265631",
   "metadata": {
    "execution": {
     "iopub.execute_input": "2022-08-31T12:34:47.831351Z",
     "iopub.status.busy": "2022-08-31T12:34:47.830540Z",
     "iopub.status.idle": "2022-08-31T12:34:47.844912Z",
     "shell.execute_reply": "2022-08-31T12:34:47.843583Z"
    },
    "papermill": {
     "duration": 0.038983,
     "end_time": "2022-08-31T12:34:47.847975",
     "exception": false,
     "start_time": "2022-08-31T12:34:47.808992",
     "status": "completed"
    },
    "tags": []
   },
   "outputs": [
    {
     "name": "stdout",
     "output_type": "stream",
     "text": [
      "{'escolaridade': {'quantidade': 256, 'porcentagem': 15.73}}\n",
      "{'escolaridade': {'quantidade': 256, 'porcentagem': 15.73}}\n",
      "{'estado_civil': {'quantidade': 129, 'porcentagem': 7.93}}\n",
      "{'escolaridade': {'quantidade': 256, 'porcentagem': 15.73}}\n",
      "{'estado_civil': {'quantidade': 129, 'porcentagem': 7.93}}\n",
      "{'salario_anual': {'quantidade': 187, 'porcentagem': 11.49}}\n"
     ]
    }
   ],
   "source": [
    "stats_dados_faltantes(df=df[df['default'] == 1])"
   ]
  },
  {
   "cell_type": "markdown",
   "id": "8bb7a389",
   "metadata": {
    "papermill": {
     "duration": 0.019141,
     "end_time": "2022-08-31T12:34:47.887215",
     "exception": false,
     "start_time": "2022-08-31T12:34:47.868074",
     "status": "completed"
    },
    "tags": []
   },
   "source": [
    "# **Transformação e limpeza de dados**"
   ]
  },
  {
   "cell_type": "markdown",
   "id": "59f020ef",
   "metadata": {
    "papermill": {
     "duration": 0.019223,
     "end_time": "2022-08-31T12:34:47.925988",
     "exception": false,
     "start_time": "2022-08-31T12:34:47.906765",
     "status": "completed"
    },
    "tags": []
   },
   "source": [
    "Após entender a natureza do conjunto de dados, pode ser feito a transformação e limpeza para melhor análise. Em especial será corrigido o ***schema*** das colunas e ***remover os dados faltantes***."
   ]
  },
  {
   "cell_type": "markdown",
   "id": "0875368c",
   "metadata": {
    "papermill": {
     "duration": 0.01947,
     "end_time": "2022-08-31T12:34:47.964862",
     "exception": false,
     "start_time": "2022-08-31T12:34:47.945392",
     "status": "completed"
    },
    "tags": []
   },
   "source": [
    "# **Correção de schema**"
   ]
  },
  {
   "cell_type": "markdown",
   "id": "7d7b969d",
   "metadata": {
    "papermill": {
     "duration": 0.019132,
     "end_time": "2022-08-31T12:34:48.005833",
     "exception": false,
     "start_time": "2022-08-31T12:34:47.986701",
     "status": "completed"
    },
    "tags": []
   },
   "source": [
    "Na etapa de exploração, notamos que as colunas **limite_credito** e **valor_transacoes_12m** estavam sendo interpretadas como colunas categóricas (`dtype = object`)."
   ]
  },
  {
   "cell_type": "code",
   "execution_count": 17,
   "id": "eb95ad8e",
   "metadata": {
    "execution": {
     "iopub.execute_input": "2022-08-31T12:34:48.048392Z",
     "iopub.status.busy": "2022-08-31T12:34:48.047424Z",
     "iopub.status.idle": "2022-08-31T12:34:48.058207Z",
     "shell.execute_reply": "2022-08-31T12:34:48.057322Z"
    },
    "papermill": {
     "duration": 0.034915,
     "end_time": "2022-08-31T12:34:48.060503",
     "exception": false,
     "start_time": "2022-08-31T12:34:48.025588",
     "status": "completed"
    },
    "tags": []
   },
   "outputs": [
    {
     "data": {
      "text/plain": [
       "limite_credito          object\n",
       "valor_transacoes_12m    object\n",
       "dtype: object"
      ]
     },
     "execution_count": 17,
     "metadata": {},
     "output_type": "execute_result"
    }
   ],
   "source": [
    "df[['limite_credito', 'valor_transacoes_12m']].dtypes"
   ]
  },
  {
   "cell_type": "code",
   "execution_count": 18,
   "id": "3a144318",
   "metadata": {
    "execution": {
     "iopub.execute_input": "2022-08-31T12:34:48.102679Z",
     "iopub.status.busy": "2022-08-31T12:34:48.101747Z",
     "iopub.status.idle": "2022-08-31T12:34:48.113820Z",
     "shell.execute_reply": "2022-08-31T12:34:48.112999Z"
    },
    "papermill": {
     "duration": 0.035711,
     "end_time": "2022-08-31T12:34:48.116103",
     "exception": false,
     "start_time": "2022-08-31T12:34:48.080392",
     "status": "completed"
    },
    "tags": []
   },
   "outputs": [
    {
     "data": {
      "text/html": [
       "<div>\n",
       "<style scoped>\n",
       "    .dataframe tbody tr th:only-of-type {\n",
       "        vertical-align: middle;\n",
       "    }\n",
       "\n",
       "    .dataframe tbody tr th {\n",
       "        vertical-align: top;\n",
       "    }\n",
       "\n",
       "    .dataframe thead th {\n",
       "        text-align: right;\n",
       "    }\n",
       "</style>\n",
       "<table border=\"1\" class=\"dataframe\">\n",
       "  <thead>\n",
       "    <tr style=\"text-align: right;\">\n",
       "      <th></th>\n",
       "      <th>limite_credito</th>\n",
       "      <th>valor_transacoes_12m</th>\n",
       "    </tr>\n",
       "  </thead>\n",
       "  <tbody>\n",
       "    <tr>\n",
       "      <th>0</th>\n",
       "      <td>12.691,51</td>\n",
       "      <td>1.144,90</td>\n",
       "    </tr>\n",
       "    <tr>\n",
       "      <th>1</th>\n",
       "      <td>8.256,96</td>\n",
       "      <td>1.291,45</td>\n",
       "    </tr>\n",
       "    <tr>\n",
       "      <th>2</th>\n",
       "      <td>3.418,56</td>\n",
       "      <td>1.887,72</td>\n",
       "    </tr>\n",
       "    <tr>\n",
       "      <th>3</th>\n",
       "      <td>3.313,03</td>\n",
       "      <td>1.171,56</td>\n",
       "    </tr>\n",
       "    <tr>\n",
       "      <th>4</th>\n",
       "      <td>4.716,22</td>\n",
       "      <td>816,08</td>\n",
       "    </tr>\n",
       "  </tbody>\n",
       "</table>\n",
       "</div>"
      ],
      "text/plain": [
       "  limite_credito valor_transacoes_12m\n",
       "0      12.691,51             1.144,90\n",
       "1       8.256,96             1.291,45\n",
       "2       3.418,56             1.887,72\n",
       "3       3.313,03             1.171,56\n",
       "4       4.716,22               816,08"
      ]
     },
     "execution_count": 18,
     "metadata": {},
     "output_type": "execute_result"
    }
   ],
   "source": [
    "df[['limite_credito', 'valor_transacoes_12m']].head()"
   ]
  },
  {
   "cell_type": "markdown",
   "id": "e36cbe99",
   "metadata": {
    "papermill": {
     "duration": 0.019811,
     "end_time": "2022-08-31T12:34:48.156000",
     "exception": false,
     "start_time": "2022-08-31T12:34:48.136189",
     "status": "completed"
    },
    "tags": []
   },
   "source": [
    "Antes de efetuar a limpeza dos dados, é importante testar a aplicação.\n",
    "Função `lambda` para limpar os dados."
   ]
  },
  {
   "cell_type": "code",
   "execution_count": 19,
   "id": "a0c26489",
   "metadata": {
    "execution": {
     "iopub.execute_input": "2022-08-31T12:34:48.198259Z",
     "iopub.status.busy": "2022-08-31T12:34:48.197435Z",
     "iopub.status.idle": "2022-08-31T12:34:48.211768Z",
     "shell.execute_reply": "2022-08-31T12:34:48.210907Z"
    },
    "papermill": {
     "duration": 0.038606,
     "end_time": "2022-08-31T12:34:48.214523",
     "exception": false,
     "start_time": "2022-08-31T12:34:48.175917",
     "status": "completed"
    },
    "tags": []
   },
   "outputs": [
    {
     "name": "stdout",
     "output_type": "stream",
     "text": [
      "['12.691,51', '8.256,96', '3.418,56', '3.313,03', '4.716,22']\n",
      "[12691.51, 8256.96, 3418.56, 3313.03, 4716.22]\n"
     ]
    }
   ],
   "source": [
    "fn = lambda valor: float(valor.replace(\".\", \"\").replace(\",\", \".\"))\n",
    "\n",
    "valores_originais = ['12.691,51', '8.256,96', '3.418,56', '3.313,03', '4.716,22']\n",
    "valores_limpos = list(map(fn, valores_originais))\n",
    "\n",
    "print(valores_originais)\n",
    "print(valores_limpos)"
   ]
  },
  {
   "cell_type": "markdown",
   "id": "ec1abf08",
   "metadata": {
    "papermill": {
     "duration": 0.019632,
     "end_time": "2022-08-31T12:34:48.254169",
     "exception": false,
     "start_time": "2022-08-31T12:34:48.234537",
     "status": "completed"
    },
    "tags": []
   },
   "source": [
    "Com a função lambada testada e aprovada, podemos aplicar nas colunas de interesse."
   ]
  },
  {
   "cell_type": "code",
   "execution_count": 20,
   "id": "d4a984f1",
   "metadata": {
    "execution": {
     "iopub.execute_input": "2022-08-31T12:34:48.296462Z",
     "iopub.status.busy": "2022-08-31T12:34:48.295026Z",
     "iopub.status.idle": "2022-08-31T12:34:48.319848Z",
     "shell.execute_reply": "2022-08-31T12:34:48.318139Z"
    },
    "papermill": {
     "duration": 0.049225,
     "end_time": "2022-08-31T12:34:48.323056",
     "exception": false,
     "start_time": "2022-08-31T12:34:48.273831",
     "status": "completed"
    },
    "tags": []
   },
   "outputs": [],
   "source": [
    "df['valor_transacoes_12m'] = df['valor_transacoes_12m'].apply(fn)\n",
    "df['limite_credito'] = df['limite_credito'].apply(fn)"
   ]
  },
  {
   "cell_type": "markdown",
   "id": "f0aa4535",
   "metadata": {
    "papermill": {
     "duration": 0.019948,
     "end_time": "2022-08-31T12:34:48.363404",
     "exception": false,
     "start_time": "2022-08-31T12:34:48.343456",
     "status": "completed"
    },
    "tags": []
   },
   "source": [
    "Descrevendo novamente o Schema para visualização."
   ]
  },
  {
   "cell_type": "code",
   "execution_count": 21,
   "id": "1f5617ed",
   "metadata": {
    "execution": {
     "iopub.execute_input": "2022-08-31T12:34:48.405874Z",
     "iopub.status.busy": "2022-08-31T12:34:48.404900Z",
     "iopub.status.idle": "2022-08-31T12:34:48.413932Z",
     "shell.execute_reply": "2022-08-31T12:34:48.412832Z"
    },
    "papermill": {
     "duration": 0.032658,
     "end_time": "2022-08-31T12:34:48.416099",
     "exception": false,
     "start_time": "2022-08-31T12:34:48.383441",
     "status": "completed"
    },
    "tags": []
   },
   "outputs": [
    {
     "data": {
      "text/plain": [
       "id                           int64\n",
       "default                      int64\n",
       "idade                        int64\n",
       "sexo                        object\n",
       "dependentes                  int64\n",
       "escolaridade                object\n",
       "estado_civil                object\n",
       "salario_anual               object\n",
       "tipo_cartao                 object\n",
       "meses_de_relacionamento      int64\n",
       "qtd_produtos                 int64\n",
       "iteracoes_12m                int64\n",
       "meses_inativo_12m            int64\n",
       "limite_credito             float64\n",
       "valor_transacoes_12m       float64\n",
       "qtd_transacoes_12m           int64\n",
       "dtype: object"
      ]
     },
     "execution_count": 21,
     "metadata": {},
     "output_type": "execute_result"
    }
   ],
   "source": [
    "df.dtypes"
   ]
  },
  {
   "cell_type": "markdown",
   "id": "2625e625",
   "metadata": {
    "papermill": {
     "duration": 0.019984,
     "end_time": "2022-08-31T12:34:48.456263",
     "exception": false,
     "start_time": "2022-08-31T12:34:48.436279",
     "status": "completed"
    },
    "tags": []
   },
   "source": [
    "**Atributos categóricos.**"
   ]
  },
  {
   "cell_type": "code",
   "execution_count": 22,
   "id": "87273bf1",
   "metadata": {
    "execution": {
     "iopub.execute_input": "2022-08-31T12:34:48.499272Z",
     "iopub.status.busy": "2022-08-31T12:34:48.498447Z",
     "iopub.status.idle": "2022-08-31T12:34:48.527770Z",
     "shell.execute_reply": "2022-08-31T12:34:48.526565Z"
    },
    "papermill": {
     "duration": 0.053801,
     "end_time": "2022-08-31T12:34:48.530263",
     "exception": false,
     "start_time": "2022-08-31T12:34:48.476462",
     "status": "completed"
    },
    "tags": []
   },
   "outputs": [
    {
     "data": {
      "text/html": [
       "<div>\n",
       "<style scoped>\n",
       "    .dataframe tbody tr th:only-of-type {\n",
       "        vertical-align: middle;\n",
       "    }\n",
       "\n",
       "    .dataframe tbody tr th {\n",
       "        vertical-align: top;\n",
       "    }\n",
       "\n",
       "    .dataframe thead th {\n",
       "        text-align: right;\n",
       "    }\n",
       "</style>\n",
       "<table border=\"1\" class=\"dataframe\">\n",
       "  <thead>\n",
       "    <tr style=\"text-align: right;\">\n",
       "      <th></th>\n",
       "      <th>count</th>\n",
       "      <th>unique</th>\n",
       "      <th>top</th>\n",
       "      <th>freq</th>\n",
       "    </tr>\n",
       "  </thead>\n",
       "  <tbody>\n",
       "    <tr>\n",
       "      <th>sexo</th>\n",
       "      <td>10127</td>\n",
       "      <td>2</td>\n",
       "      <td>F</td>\n",
       "      <td>5358</td>\n",
       "    </tr>\n",
       "    <tr>\n",
       "      <th>escolaridade</th>\n",
       "      <td>8608</td>\n",
       "      <td>5</td>\n",
       "      <td>mestrado</td>\n",
       "      <td>3128</td>\n",
       "    </tr>\n",
       "    <tr>\n",
       "      <th>estado_civil</th>\n",
       "      <td>9378</td>\n",
       "      <td>3</td>\n",
       "      <td>casado</td>\n",
       "      <td>4687</td>\n",
       "    </tr>\n",
       "    <tr>\n",
       "      <th>salario_anual</th>\n",
       "      <td>9015</td>\n",
       "      <td>5</td>\n",
       "      <td>menos que $40K</td>\n",
       "      <td>3561</td>\n",
       "    </tr>\n",
       "    <tr>\n",
       "      <th>tipo_cartao</th>\n",
       "      <td>10127</td>\n",
       "      <td>4</td>\n",
       "      <td>blue</td>\n",
       "      <td>9436</td>\n",
       "    </tr>\n",
       "  </tbody>\n",
       "</table>\n",
       "</div>"
      ],
      "text/plain": [
       "               count unique             top  freq\n",
       "sexo           10127      2               F  5358\n",
       "escolaridade    8608      5        mestrado  3128\n",
       "estado_civil    9378      3          casado  4687\n",
       "salario_anual   9015      5  menos que $40K  3561\n",
       "tipo_cartao    10127      4            blue  9436"
      ]
     },
     "execution_count": 22,
     "metadata": {},
     "output_type": "execute_result"
    }
   ],
   "source": [
    "df.select_dtypes('object').describe().transpose()"
   ]
  },
  {
   "cell_type": "markdown",
   "id": "cd1b6a80",
   "metadata": {
    "papermill": {
     "duration": 0.0199,
     "end_time": "2022-08-31T12:34:48.570533",
     "exception": false,
     "start_time": "2022-08-31T12:34:48.550633",
     "status": "completed"
    },
    "tags": []
   },
   "source": [
    "**Atributos numéricos**"
   ]
  },
  {
   "cell_type": "code",
   "execution_count": 23,
   "id": "2426ec61",
   "metadata": {
    "execution": {
     "iopub.execute_input": "2022-08-31T12:34:48.613246Z",
     "iopub.status.busy": "2022-08-31T12:34:48.612311Z",
     "iopub.status.idle": "2022-08-31T12:34:48.663507Z",
     "shell.execute_reply": "2022-08-31T12:34:48.662356Z"
    },
    "papermill": {
     "duration": 0.075488,
     "end_time": "2022-08-31T12:34:48.666153",
     "exception": false,
     "start_time": "2022-08-31T12:34:48.590665",
     "status": "completed"
    },
    "tags": []
   },
   "outputs": [
    {
     "data": {
      "text/html": [
       "<div>\n",
       "<style scoped>\n",
       "    .dataframe tbody tr th:only-of-type {\n",
       "        vertical-align: middle;\n",
       "    }\n",
       "\n",
       "    .dataframe tbody tr th {\n",
       "        vertical-align: top;\n",
       "    }\n",
       "\n",
       "    .dataframe thead th {\n",
       "        text-align: right;\n",
       "    }\n",
       "</style>\n",
       "<table border=\"1\" class=\"dataframe\">\n",
       "  <thead>\n",
       "    <tr style=\"text-align: right;\">\n",
       "      <th></th>\n",
       "      <th>count</th>\n",
       "      <th>mean</th>\n",
       "      <th>std</th>\n",
       "      <th>min</th>\n",
       "      <th>25%</th>\n",
       "      <th>50%</th>\n",
       "      <th>75%</th>\n",
       "      <th>max</th>\n",
       "    </tr>\n",
       "  </thead>\n",
       "  <tbody>\n",
       "    <tr>\n",
       "      <th>default</th>\n",
       "      <td>10127.0</td>\n",
       "      <td>0.160660</td>\n",
       "      <td>0.367235</td>\n",
       "      <td>0.00</td>\n",
       "      <td>0.000</td>\n",
       "      <td>0.00</td>\n",
       "      <td>0.000</td>\n",
       "      <td>1.00</td>\n",
       "    </tr>\n",
       "    <tr>\n",
       "      <th>idade</th>\n",
       "      <td>10127.0</td>\n",
       "      <td>46.325960</td>\n",
       "      <td>8.016814</td>\n",
       "      <td>26.00</td>\n",
       "      <td>41.000</td>\n",
       "      <td>46.00</td>\n",
       "      <td>52.000</td>\n",
       "      <td>73.00</td>\n",
       "    </tr>\n",
       "    <tr>\n",
       "      <th>dependentes</th>\n",
       "      <td>10127.0</td>\n",
       "      <td>2.346203</td>\n",
       "      <td>1.298908</td>\n",
       "      <td>0.00</td>\n",
       "      <td>1.000</td>\n",
       "      <td>2.00</td>\n",
       "      <td>3.000</td>\n",
       "      <td>5.00</td>\n",
       "    </tr>\n",
       "    <tr>\n",
       "      <th>meses_de_relacionamento</th>\n",
       "      <td>10127.0</td>\n",
       "      <td>35.928409</td>\n",
       "      <td>7.986416</td>\n",
       "      <td>13.00</td>\n",
       "      <td>31.000</td>\n",
       "      <td>36.00</td>\n",
       "      <td>40.000</td>\n",
       "      <td>56.00</td>\n",
       "    </tr>\n",
       "    <tr>\n",
       "      <th>qtd_produtos</th>\n",
       "      <td>10127.0</td>\n",
       "      <td>3.812580</td>\n",
       "      <td>1.554408</td>\n",
       "      <td>1.00</td>\n",
       "      <td>3.000</td>\n",
       "      <td>4.00</td>\n",
       "      <td>5.000</td>\n",
       "      <td>6.00</td>\n",
       "    </tr>\n",
       "    <tr>\n",
       "      <th>iteracoes_12m</th>\n",
       "      <td>10127.0</td>\n",
       "      <td>2.455317</td>\n",
       "      <td>1.106225</td>\n",
       "      <td>0.00</td>\n",
       "      <td>2.000</td>\n",
       "      <td>2.00</td>\n",
       "      <td>3.000</td>\n",
       "      <td>6.00</td>\n",
       "    </tr>\n",
       "    <tr>\n",
       "      <th>meses_inativo_12m</th>\n",
       "      <td>10127.0</td>\n",
       "      <td>2.341167</td>\n",
       "      <td>1.010622</td>\n",
       "      <td>0.00</td>\n",
       "      <td>2.000</td>\n",
       "      <td>2.00</td>\n",
       "      <td>3.000</td>\n",
       "      <td>6.00</td>\n",
       "    </tr>\n",
       "    <tr>\n",
       "      <th>limite_credito</th>\n",
       "      <td>10127.0</td>\n",
       "      <td>8632.440165</td>\n",
       "      <td>9088.788041</td>\n",
       "      <td>1438.00</td>\n",
       "      <td>2555.355</td>\n",
       "      <td>4549.42</td>\n",
       "      <td>11068.175</td>\n",
       "      <td>34516.99</td>\n",
       "    </tr>\n",
       "    <tr>\n",
       "      <th>valor_transacoes_12m</th>\n",
       "      <td>10127.0</td>\n",
       "      <td>4404.583047</td>\n",
       "      <td>3397.128078</td>\n",
       "      <td>510.16</td>\n",
       "      <td>2155.825</td>\n",
       "      <td>3899.59</td>\n",
       "      <td>4741.310</td>\n",
       "      <td>18484.93</td>\n",
       "    </tr>\n",
       "    <tr>\n",
       "      <th>qtd_transacoes_12m</th>\n",
       "      <td>10127.0</td>\n",
       "      <td>64.858695</td>\n",
       "      <td>23.472570</td>\n",
       "      <td>10.00</td>\n",
       "      <td>45.000</td>\n",
       "      <td>67.00</td>\n",
       "      <td>81.000</td>\n",
       "      <td>139.00</td>\n",
       "    </tr>\n",
       "  </tbody>\n",
       "</table>\n",
       "</div>"
      ],
      "text/plain": [
       "                           count         mean          std      min       25%  \\\n",
       "default                  10127.0     0.160660     0.367235     0.00     0.000   \n",
       "idade                    10127.0    46.325960     8.016814    26.00    41.000   \n",
       "dependentes              10127.0     2.346203     1.298908     0.00     1.000   \n",
       "meses_de_relacionamento  10127.0    35.928409     7.986416    13.00    31.000   \n",
       "qtd_produtos             10127.0     3.812580     1.554408     1.00     3.000   \n",
       "iteracoes_12m            10127.0     2.455317     1.106225     0.00     2.000   \n",
       "meses_inativo_12m        10127.0     2.341167     1.010622     0.00     2.000   \n",
       "limite_credito           10127.0  8632.440165  9088.788041  1438.00  2555.355   \n",
       "valor_transacoes_12m     10127.0  4404.583047  3397.128078   510.16  2155.825   \n",
       "qtd_transacoes_12m       10127.0    64.858695    23.472570    10.00    45.000   \n",
       "\n",
       "                             50%        75%       max  \n",
       "default                     0.00      0.000      1.00  \n",
       "idade                      46.00     52.000     73.00  \n",
       "dependentes                 2.00      3.000      5.00  \n",
       "meses_de_relacionamento    36.00     40.000     56.00  \n",
       "qtd_produtos                4.00      5.000      6.00  \n",
       "iteracoes_12m               2.00      3.000      6.00  \n",
       "meses_inativo_12m           2.00      3.000      6.00  \n",
       "limite_credito           4549.42  11068.175  34516.99  \n",
       "valor_transacoes_12m     3899.59   4741.310  18484.93  \n",
       "qtd_transacoes_12m         67.00     81.000    139.00  "
      ]
     },
     "execution_count": 23,
     "metadata": {},
     "output_type": "execute_result"
    }
   ],
   "source": [
    "df.drop('id', axis=1).select_dtypes('number').describe().transpose()"
   ]
  },
  {
   "cell_type": "markdown",
   "id": "c67329de",
   "metadata": {
    "papermill": {
     "duration": 0.02001,
     "end_time": "2022-08-31T12:34:48.707208",
     "exception": false,
     "start_time": "2022-08-31T12:34:48.687198",
     "status": "completed"
    },
    "tags": []
   },
   "source": [
    "# **Remoção de dados faltantes**"
   ]
  },
  {
   "cell_type": "markdown",
   "id": "ccf4545e",
   "metadata": {
    "papermill": {
     "duration": 0.020044,
     "end_time": "2022-08-31T12:34:48.747722",
     "exception": false,
     "start_time": "2022-08-31T12:34:48.727678",
     "status": "completed"
    },
    "tags": []
   },
   "source": [
    "Como o *pandas* está ciente do que é um dado faltante, a remoção das linhas problemáticas é trivial."
   ]
  },
  {
   "cell_type": "code",
   "execution_count": 24,
   "id": "e266315e",
   "metadata": {
    "execution": {
     "iopub.execute_input": "2022-08-31T12:34:48.791851Z",
     "iopub.status.busy": "2022-08-31T12:34:48.791300Z",
     "iopub.status.idle": "2022-08-31T12:34:48.803884Z",
     "shell.execute_reply": "2022-08-31T12:34:48.802926Z"
    },
    "papermill": {
     "duration": 0.037576,
     "end_time": "2022-08-31T12:34:48.806527",
     "exception": false,
     "start_time": "2022-08-31T12:34:48.768951",
     "status": "completed"
    },
    "tags": []
   },
   "outputs": [],
   "source": [
    "df.dropna(inplace=True)"
   ]
  },
  {
   "cell_type": "markdown",
   "id": "a7c681c9",
   "metadata": {
    "papermill": {
     "duration": 0.019924,
     "end_time": "2022-08-31T12:34:48.847082",
     "exception": false,
     "start_time": "2022-08-31T12:34:48.827158",
     "status": "completed"
    },
    "tags": []
   },
   "source": [
    "**Analisando a estrutura dos dados novamente.**"
   ]
  },
  {
   "cell_type": "code",
   "execution_count": 25,
   "id": "15cb1550",
   "metadata": {
    "execution": {
     "iopub.execute_input": "2022-08-31T12:34:48.890631Z",
     "iopub.status.busy": "2022-08-31T12:34:48.889740Z",
     "iopub.status.idle": "2022-08-31T12:34:48.896103Z",
     "shell.execute_reply": "2022-08-31T12:34:48.895309Z"
    },
    "papermill": {
     "duration": 0.030518,
     "end_time": "2022-08-31T12:34:48.898195",
     "exception": false,
     "start_time": "2022-08-31T12:34:48.867677",
     "status": "completed"
    },
    "tags": []
   },
   "outputs": [
    {
     "data": {
      "text/plain": [
       "(7081, 16)"
      ]
     },
     "execution_count": 25,
     "metadata": {},
     "output_type": "execute_result"
    }
   ],
   "source": [
    "df.shape"
   ]
  },
  {
   "cell_type": "code",
   "execution_count": 26,
   "id": "1f4a1fb9",
   "metadata": {
    "execution": {
     "iopub.execute_input": "2022-08-31T12:34:48.941871Z",
     "iopub.status.busy": "2022-08-31T12:34:48.941324Z",
     "iopub.status.idle": "2022-08-31T12:34:48.951076Z",
     "shell.execute_reply": "2022-08-31T12:34:48.950231Z"
    },
    "papermill": {
     "duration": 0.034201,
     "end_time": "2022-08-31T12:34:48.953186",
     "exception": false,
     "start_time": "2022-08-31T12:34:48.918985",
     "status": "completed"
    },
    "tags": []
   },
   "outputs": [
    {
     "data": {
      "text/plain": [
       "(5968, 16)"
      ]
     },
     "execution_count": 26,
     "metadata": {},
     "output_type": "execute_result"
    }
   ],
   "source": [
    "df[df['default'] == 0].shape"
   ]
  },
  {
   "cell_type": "code",
   "execution_count": 27,
   "id": "fc7da64d",
   "metadata": {
    "execution": {
     "iopub.execute_input": "2022-08-31T12:34:48.997421Z",
     "iopub.status.busy": "2022-08-31T12:34:48.996455Z",
     "iopub.status.idle": "2022-08-31T12:34:49.006763Z",
     "shell.execute_reply": "2022-08-31T12:34:49.005583Z"
    },
    "papermill": {
     "duration": 0.034993,
     "end_time": "2022-08-31T12:34:49.009087",
     "exception": false,
     "start_time": "2022-08-31T12:34:48.974094",
     "status": "completed"
    },
    "tags": []
   },
   "outputs": [
    {
     "data": {
      "text/plain": [
       "(1113, 16)"
      ]
     },
     "execution_count": 27,
     "metadata": {},
     "output_type": "execute_result"
    }
   ],
   "source": [
    "df[df['default'] == 1].shape"
   ]
  },
  {
   "cell_type": "code",
   "execution_count": 28,
   "id": "fc786b62",
   "metadata": {
    "execution": {
     "iopub.execute_input": "2022-08-31T12:34:49.053981Z",
     "iopub.status.busy": "2022-08-31T12:34:49.053088Z",
     "iopub.status.idle": "2022-08-31T12:34:49.063351Z",
     "shell.execute_reply": "2022-08-31T12:34:49.062063Z"
    },
    "papermill": {
     "duration": 0.035968,
     "end_time": "2022-08-31T12:34:49.066168",
     "exception": false,
     "start_time": "2022-08-31T12:34:49.030200",
     "status": "completed"
    },
    "tags": []
   },
   "outputs": [],
   "source": [
    "qtd_total_novo, _ = df.shape\n",
    "qtd_adimplentes_novo, _ = df[df['default'] == 0].shape\n",
    "qtd_inadimplentes_novo, _ = df[df['default'] == 1].shape"
   ]
  },
  {
   "cell_type": "code",
   "execution_count": 29,
   "id": "d289c3d2",
   "metadata": {
    "execution": {
     "iopub.execute_input": "2022-08-31T12:34:49.111089Z",
     "iopub.status.busy": "2022-08-31T12:34:49.110577Z",
     "iopub.status.idle": "2022-08-31T12:34:49.117918Z",
     "shell.execute_reply": "2022-08-31T12:34:49.116742Z"
    },
    "papermill": {
     "duration": 0.032694,
     "end_time": "2022-08-31T12:34:49.120695",
     "exception": false,
     "start_time": "2022-08-31T12:34:49.088001",
     "status": "completed"
    },
    "tags": []
   },
   "outputs": [
    {
     "name": "stdout",
     "output_type": "stream",
     "text": [
      "A proporcão adimplentes ativos é de 83.93%\n",
      "A nova proporcão de clientes adimplentes é de 84.28%\n",
      "\n",
      "A proporcão clientes inadimplentes é de 16.07%\n",
      "A nova proporcão de clientes inadimplentes é de 15.72%\n"
     ]
    }
   ],
   "source": [
    "print(f\"A proporcão adimplentes ativos é de {round(100 * qtd_adimplentes / qtd_total, 2)}%\")\n",
    "print(f\"A nova proporcão de clientes adimplentes é de {round(100 * qtd_adimplentes_novo / qtd_total_novo, 2)}%\")\n",
    "print(\"\")\n",
    "print(f\"A proporcão clientes inadimplentes é de {round(100 * qtd_inadimplentes / qtd_total, 2)}%\")\n",
    "print(f\"A nova proporcão de clientes inadimplentes é de {round(100 * qtd_inadimplentes_novo / qtd_total_novo, 2)}%\")"
   ]
  },
  {
   "cell_type": "markdown",
   "id": "345ab18c",
   "metadata": {
    "papermill": {
     "duration": 0.022205,
     "end_time": "2022-08-31T12:34:49.164524",
     "exception": false,
     "start_time": "2022-08-31T12:34:49.142319",
     "status": "completed"
    },
    "tags": []
   },
   "source": [
    "Feita a remoção das linhas. Podemos analisar a proporção das linhas são muito próximas, desta forma, manteremos a base com as linhas removidas para continuar a análise sem os dados faltantes."
   ]
  },
  {
   "cell_type": "markdown",
   "id": "18f99b1d",
   "metadata": {
    "papermill": {
     "duration": 0.020746,
     "end_time": "2022-08-31T12:34:49.207131",
     "exception": false,
     "start_time": "2022-08-31T12:34:49.186385",
     "status": "completed"
    },
    "tags": []
   },
   "source": [
    "# **Visualização de dados**"
   ]
  },
  {
   "cell_type": "markdown",
   "id": "a984ca73",
   "metadata": {
    "papermill": {
     "duration": 0.020703,
     "end_time": "2022-08-31T12:34:49.248680",
     "exception": false,
     "start_time": "2022-08-31T12:34:49.227977",
     "status": "completed"
    },
    "tags": []
   },
   "source": [
    "Abaixo serão mostradas diversas visualizações para correlacionar *variáveis explicativas* com a *variável resposta* para buscar entender qual fator leva um cliente a inadimplencia. Será comparado a base com *todos os clientes* com a *base de adimplentes e inadimplentes*."
   ]
  },
  {
   "cell_type": "markdown",
   "id": "1694b31a",
   "metadata": {
    "papermill": {
     "duration": 0.020536,
     "end_time": "2022-08-31T12:34:49.290044",
     "exception": false,
     "start_time": "2022-08-31T12:34:49.269508",
     "status": "completed"
    },
    "tags": []
   },
   "source": [
    "**Importação dos pacotes de visualização e separando os clientes *adimplentes* e *inadimplentes.***"
   ]
  },
  {
   "cell_type": "code",
   "execution_count": 30,
   "id": "ddf62c71",
   "metadata": {
    "execution": {
     "iopub.execute_input": "2022-08-31T12:34:49.334877Z",
     "iopub.status.busy": "2022-08-31T12:34:49.334323Z",
     "iopub.status.idle": "2022-08-31T12:34:50.434307Z",
     "shell.execute_reply": "2022-08-31T12:34:50.433302Z"
    },
    "papermill": {
     "duration": 1.127074,
     "end_time": "2022-08-31T12:34:50.438042",
     "exception": false,
     "start_time": "2022-08-31T12:34:49.310968",
     "status": "completed"
    },
    "tags": []
   },
   "outputs": [],
   "source": [
    "import numpy as np\n",
    "import seaborn as sns\n",
    "import matplotlib.pyplot as plt\n",
    "\n",
    "#sns.set_style(\"whitegrid\")\n",
    "sns.set_theme(style=\"whitegrid\", palette=\"dark\")"
   ]
  },
  {
   "cell_type": "code",
   "execution_count": 31,
   "id": "8123487a",
   "metadata": {
    "execution": {
     "iopub.execute_input": "2022-08-31T12:34:50.483588Z",
     "iopub.status.busy": "2022-08-31T12:34:50.482809Z",
     "iopub.status.idle": "2022-08-31T12:34:50.490081Z",
     "shell.execute_reply": "2022-08-31T12:34:50.489187Z"
    },
    "papermill": {
     "duration": 0.032761,
     "end_time": "2022-08-31T12:34:50.492371",
     "exception": false,
     "start_time": "2022-08-31T12:34:50.459610",
     "status": "completed"
    },
    "tags": []
   },
   "outputs": [],
   "source": [
    "df_adimplente = df[df['default'] == 0]"
   ]
  },
  {
   "cell_type": "code",
   "execution_count": 32,
   "id": "b7c2d2d8",
   "metadata": {
    "execution": {
     "iopub.execute_input": "2022-08-31T12:34:50.537256Z",
     "iopub.status.busy": "2022-08-31T12:34:50.536156Z",
     "iopub.status.idle": "2022-08-31T12:34:50.544698Z",
     "shell.execute_reply": "2022-08-31T12:34:50.543211Z"
    },
    "papermill": {
     "duration": 0.034434,
     "end_time": "2022-08-31T12:34:50.547730",
     "exception": false,
     "start_time": "2022-08-31T12:34:50.513296",
     "status": "completed"
    },
    "tags": []
   },
   "outputs": [],
   "source": [
    "df_inadimplente = df[df['default'] == 1]"
   ]
  },
  {
   "cell_type": "markdown",
   "id": "462a6ee3",
   "metadata": {
    "papermill": {
     "duration": 0.020639,
     "end_time": "2022-08-31T12:34:50.590069",
     "exception": false,
     "start_time": "2022-08-31T12:34:50.569430",
     "status": "completed"
    },
    "tags": []
   },
   "source": [
    "# **Visualizações categóricas**"
   ]
  },
  {
   "cell_type": "markdown",
   "id": "5ff516e6",
   "metadata": {
    "papermill": {
     "duration": 0.02064,
     "end_time": "2022-08-31T12:34:50.632112",
     "exception": false,
     "start_time": "2022-08-31T12:34:50.611472",
     "status": "completed"
    },
    "tags": []
   },
   "source": [
    "Nesta seção, vamos visualizar a relação entre a variável resposta default com os atributos categóricos."
   ]
  },
  {
   "cell_type": "code",
   "execution_count": 33,
   "id": "fe0ec8a3",
   "metadata": {
    "execution": {
     "iopub.execute_input": "2022-08-31T12:34:50.677558Z",
     "iopub.status.busy": "2022-08-31T12:34:50.677016Z",
     "iopub.status.idle": "2022-08-31T12:34:50.694780Z",
     "shell.execute_reply": "2022-08-31T12:34:50.693173Z"
    },
    "papermill": {
     "duration": 0.04355,
     "end_time": "2022-08-31T12:34:50.697292",
     "exception": false,
     "start_time": "2022-08-31T12:34:50.653742",
     "status": "completed"
    },
    "tags": []
   },
   "outputs": [
    {
     "data": {
      "text/html": [
       "<div>\n",
       "<style scoped>\n",
       "    .dataframe tbody tr th:only-of-type {\n",
       "        vertical-align: middle;\n",
       "    }\n",
       "\n",
       "    .dataframe tbody tr th {\n",
       "        vertical-align: top;\n",
       "    }\n",
       "\n",
       "    .dataframe thead th {\n",
       "        text-align: right;\n",
       "    }\n",
       "</style>\n",
       "<table border=\"1\" class=\"dataframe\">\n",
       "  <thead>\n",
       "    <tr style=\"text-align: right;\">\n",
       "      <th></th>\n",
       "      <th>sexo</th>\n",
       "      <th>escolaridade</th>\n",
       "      <th>estado_civil</th>\n",
       "      <th>salario_anual</th>\n",
       "      <th>tipo_cartao</th>\n",
       "    </tr>\n",
       "  </thead>\n",
       "  <tbody>\n",
       "    <tr>\n",
       "      <th>0</th>\n",
       "      <td>M</td>\n",
       "      <td>ensino medio</td>\n",
       "      <td>casado</td>\n",
       "      <td>$60K - $80K</td>\n",
       "      <td>blue</td>\n",
       "    </tr>\n",
       "    <tr>\n",
       "      <th>1</th>\n",
       "      <td>F</td>\n",
       "      <td>mestrado</td>\n",
       "      <td>solteiro</td>\n",
       "      <td>menos que $40K</td>\n",
       "      <td>blue</td>\n",
       "    </tr>\n",
       "    <tr>\n",
       "      <th>2</th>\n",
       "      <td>M</td>\n",
       "      <td>mestrado</td>\n",
       "      <td>casado</td>\n",
       "      <td>$80K - $120K</td>\n",
       "      <td>blue</td>\n",
       "    </tr>\n",
       "    <tr>\n",
       "      <th>4</th>\n",
       "      <td>M</td>\n",
       "      <td>sem educacao formal</td>\n",
       "      <td>casado</td>\n",
       "      <td>$60K - $80K</td>\n",
       "      <td>blue</td>\n",
       "    </tr>\n",
       "    <tr>\n",
       "      <th>5</th>\n",
       "      <td>M</td>\n",
       "      <td>mestrado</td>\n",
       "      <td>casado</td>\n",
       "      <td>$40K - $60K</td>\n",
       "      <td>blue</td>\n",
       "    </tr>\n",
       "  </tbody>\n",
       "</table>\n",
       "</div>"
      ],
      "text/plain": [
       "  sexo         escolaridade estado_civil   salario_anual tipo_cartao\n",
       "0    M         ensino medio       casado     $60K - $80K        blue\n",
       "1    F             mestrado     solteiro  menos que $40K        blue\n",
       "2    M             mestrado       casado    $80K - $120K        blue\n",
       "4    M  sem educacao formal       casado     $60K - $80K        blue\n",
       "5    M             mestrado       casado     $40K - $60K        blue"
      ]
     },
     "execution_count": 33,
     "metadata": {},
     "output_type": "execute_result"
    }
   ],
   "source": [
    "df.select_dtypes('object').head(n=5)"
   ]
  },
  {
   "cell_type": "markdown",
   "id": "f2ee30f5",
   "metadata": {
    "papermill": {
     "duration": 0.020802,
     "end_time": "2022-08-31T12:34:50.739725",
     "exception": false,
     "start_time": "2022-08-31T12:34:50.718923",
     "status": "completed"
    },
    "tags": []
   },
   "source": [
    "**Escolaridade**"
   ]
  },
  {
   "cell_type": "code",
   "execution_count": 34,
   "id": "6c4fd651",
   "metadata": {
    "execution": {
     "iopub.execute_input": "2022-08-31T12:34:50.786180Z",
     "iopub.status.busy": "2022-08-31T12:34:50.785668Z",
     "iopub.status.idle": "2022-08-31T12:34:51.484158Z",
     "shell.execute_reply": "2022-08-31T12:34:51.483221Z"
    },
    "papermill": {
     "duration": 0.725673,
     "end_time": "2022-08-31T12:34:51.487163",
     "exception": false,
     "start_time": "2022-08-31T12:34:50.761490",
     "status": "completed"
    },
    "tags": []
   },
   "outputs": [
    {
     "data": {
      "image/png": "[encoded data removed]",
      "text/plain": [
       "<Figure size 1440x360 with 3 Axes>"
      ]
     },
     "metadata": {},
     "output_type": "display_data"
    }
   ],
   "source": [
    "coluna = 'escolaridade'\n",
    "titulos = ['Escolaridade dos Clientes', 'Escolaridade dos Clientes Adimplentes', 'Escolaridade dos Clientes Inadimplentes']\n",
    "\n",
    "eixo = 0\n",
    "max_y = 0\n",
    "max = df.select_dtypes('object').describe()[coluna]['freq'] * 1.1\n",
    "\n",
    "figura, eixos = plt.subplots(1,3, figsize=(20, 5), sharex=True)\n",
    "\n",
    "for dataframe in [df, df_adimplente, df_inadimplente]:\n",
    "\n",
    "  df_to_plot = dataframe[coluna].value_counts().to_frame()\n",
    "  df_to_plot.rename(columns={coluna: 'frequencia_absoluta'}, inplace=True)\n",
    "  df_to_plot[coluna] = df_to_plot.index\n",
    "  df_to_plot.sort_values(by=[coluna], inplace=True)\n",
    "  df_to_plot.sort_values(by=[coluna])\n",
    "\n",
    "  f = sns.barplot(x=df_to_plot[coluna], y=df_to_plot['frequencia_absoluta'], ax=eixos[eixo])\n",
    "  f.set(title=titulos[eixo], xlabel=coluna.capitalize(), ylabel='Frequência Absoluta')\n",
    "  f.set_xticklabels(labels=f.get_xticklabels(), rotation=90)\n",
    "\n",
    "  _, max_y_f = f.get_ylim()\n",
    "  max_y = max_y_f if max_y_f > max_y else max_y\n",
    "  f.set(ylim=(0, max_y))\n",
    "\n",
    "  eixo += 1\n",
    "\n",
    "figura.show()"
   ]
  },
  {
   "cell_type": "markdown",
   "id": "e6ce378b",
   "metadata": {
    "papermill": {
     "duration": 0.021422,
     "end_time": "2022-08-31T12:34:51.530370",
     "exception": false,
     "start_time": "2022-08-31T12:34:51.508948",
     "status": "completed"
    },
    "tags": []
   },
   "source": [
    "1. De acordo com o resultado dos gráficos, não é possível identificar uma discrepância nos dados relacionando com a causa da `inadimplencia`.\n",
    "2. Pela análise visual, é possível notar o mesmo padrão da *base completa* com os *clientes adimplentes* e *inadimplentes* para todas as demais categorias: salario_anual, estado_civil salario_anua tipo_cartao. "
   ]
  },
  {
   "cell_type": "markdown",
   "id": "976c98d6",
   "metadata": {
    "papermill": {
     "duration": 0.021691,
     "end_time": "2022-08-31T12:34:51.574719",
     "exception": false,
     "start_time": "2022-08-31T12:34:51.553028",
     "status": "completed"
    },
    "tags": []
   },
   "source": [
    "**Desta forma, podemos iniciar a análise nas visualizações numéricas.**"
   ]
  },
  {
   "cell_type": "markdown",
   "id": "6b0e65b4",
   "metadata": {
    "papermill": {
     "duration": 0.02196,
     "end_time": "2022-08-31T12:34:51.618752",
     "exception": false,
     "start_time": "2022-08-31T12:34:51.596792",
     "status": "completed"
    },
    "tags": []
   },
   "source": [
    "# **Visualizações numéricas**"
   ]
  },
  {
   "cell_type": "markdown",
   "id": "98ad9aa9",
   "metadata": {
    "papermill": {
     "duration": 0.021127,
     "end_time": "2022-08-31T12:34:51.661581",
     "exception": false,
     "start_time": "2022-08-31T12:34:51.640454",
     "status": "completed"
    },
    "tags": []
   },
   "source": [
    "Visuzalização entre a variável resposta default com os atributos numéricos."
   ]
  },
  {
   "cell_type": "code",
   "execution_count": 35,
   "id": "4bc06e69",
   "metadata": {
    "execution": {
     "iopub.execute_input": "2022-08-31T12:34:51.707447Z",
     "iopub.status.busy": "2022-08-31T12:34:51.706567Z",
     "iopub.status.idle": "2022-08-31T12:34:51.725974Z",
     "shell.execute_reply": "2022-08-31T12:34:51.724828Z"
    },
    "papermill": {
     "duration": 0.045194,
     "end_time": "2022-08-31T12:34:51.728305",
     "exception": false,
     "start_time": "2022-08-31T12:34:51.683111",
     "status": "completed"
    },
    "tags": []
   },
   "outputs": [
    {
     "data": {
      "text/html": [
       "<div>\n",
       "<style scoped>\n",
       "    .dataframe tbody tr th:only-of-type {\n",
       "        vertical-align: middle;\n",
       "    }\n",
       "\n",
       "    .dataframe tbody tr th {\n",
       "        vertical-align: top;\n",
       "    }\n",
       "\n",
       "    .dataframe thead th {\n",
       "        text-align: right;\n",
       "    }\n",
       "</style>\n",
       "<table border=\"1\" class=\"dataframe\">\n",
       "  <thead>\n",
       "    <tr style=\"text-align: right;\">\n",
       "      <th></th>\n",
       "      <th>idade</th>\n",
       "      <th>dependentes</th>\n",
       "      <th>meses_de_relacionamento</th>\n",
       "      <th>qtd_produtos</th>\n",
       "      <th>iteracoes_12m</th>\n",
       "      <th>meses_inativo_12m</th>\n",
       "      <th>limite_credito</th>\n",
       "      <th>valor_transacoes_12m</th>\n",
       "      <th>qtd_transacoes_12m</th>\n",
       "    </tr>\n",
       "  </thead>\n",
       "  <tbody>\n",
       "    <tr>\n",
       "      <th>0</th>\n",
       "      <td>45</td>\n",
       "      <td>3</td>\n",
       "      <td>39</td>\n",
       "      <td>5</td>\n",
       "      <td>3</td>\n",
       "      <td>1</td>\n",
       "      <td>12691.51</td>\n",
       "      <td>1144.90</td>\n",
       "      <td>42</td>\n",
       "    </tr>\n",
       "    <tr>\n",
       "      <th>1</th>\n",
       "      <td>49</td>\n",
       "      <td>5</td>\n",
       "      <td>44</td>\n",
       "      <td>6</td>\n",
       "      <td>2</td>\n",
       "      <td>1</td>\n",
       "      <td>8256.96</td>\n",
       "      <td>1291.45</td>\n",
       "      <td>33</td>\n",
       "    </tr>\n",
       "    <tr>\n",
       "      <th>2</th>\n",
       "      <td>51</td>\n",
       "      <td>3</td>\n",
       "      <td>36</td>\n",
       "      <td>4</td>\n",
       "      <td>0</td>\n",
       "      <td>1</td>\n",
       "      <td>3418.56</td>\n",
       "      <td>1887.72</td>\n",
       "      <td>20</td>\n",
       "    </tr>\n",
       "    <tr>\n",
       "      <th>4</th>\n",
       "      <td>40</td>\n",
       "      <td>3</td>\n",
       "      <td>21</td>\n",
       "      <td>5</td>\n",
       "      <td>0</td>\n",
       "      <td>1</td>\n",
       "      <td>4716.22</td>\n",
       "      <td>816.08</td>\n",
       "      <td>28</td>\n",
       "    </tr>\n",
       "    <tr>\n",
       "      <th>5</th>\n",
       "      <td>44</td>\n",
       "      <td>2</td>\n",
       "      <td>36</td>\n",
       "      <td>3</td>\n",
       "      <td>2</td>\n",
       "      <td>1</td>\n",
       "      <td>4010.69</td>\n",
       "      <td>1088.07</td>\n",
       "      <td>24</td>\n",
       "    </tr>\n",
       "  </tbody>\n",
       "</table>\n",
       "</div>"
      ],
      "text/plain": [
       "   idade  dependentes  meses_de_relacionamento  qtd_produtos  iteracoes_12m  \\\n",
       "0     45            3                       39             5              3   \n",
       "1     49            5                       44             6              2   \n",
       "2     51            3                       36             4              0   \n",
       "4     40            3                       21             5              0   \n",
       "5     44            2                       36             3              2   \n",
       "\n",
       "   meses_inativo_12m  limite_credito  valor_transacoes_12m  qtd_transacoes_12m  \n",
       "0                  1        12691.51               1144.90                  42  \n",
       "1                  1         8256.96               1291.45                  33  \n",
       "2                  1         3418.56               1887.72                  20  \n",
       "4                  1         4716.22                816.08                  28  \n",
       "5                  1         4010.69               1088.07                  24  "
      ]
     },
     "execution_count": 35,
     "metadata": {},
     "output_type": "execute_result"
    }
   ],
   "source": [
    "df.drop(['id', 'default'], axis=1).select_dtypes('number').head(n=5)"
   ]
  },
  {
   "cell_type": "markdown",
   "id": "9b25c2bc",
   "metadata": {
    "papermill": {
     "duration": 0.02155,
     "end_time": "2022-08-31T12:34:51.772110",
     "exception": false,
     "start_time": "2022-08-31T12:34:51.750560",
     "status": "completed"
    },
    "tags": []
   },
   "source": [
    "**Quantidade de Transações nos Últimos 12 Meses**"
   ]
  },
  {
   "cell_type": "code",
   "execution_count": 36,
   "id": "dd92956f",
   "metadata": {
    "execution": {
     "iopub.execute_input": "2022-08-31T12:34:51.819704Z",
     "iopub.status.busy": "2022-08-31T12:34:51.818841Z",
     "iopub.status.idle": "2022-08-31T12:34:52.795650Z",
     "shell.execute_reply": "2022-08-31T12:34:52.793903Z"
    },
    "papermill": {
     "duration": 1.003979,
     "end_time": "2022-08-31T12:34:52.798652",
     "exception": false,
     "start_time": "2022-08-31T12:34:51.794673",
     "status": "completed"
    },
    "tags": []
   },
   "outputs": [
    {
     "data": {
      "image/png": "[encoded data removed]",
      "text/plain": [
       "<Figure size 1440x360 with 3 Axes>"
      ]
     },
     "metadata": {},
     "output_type": "display_data"
    }
   ],
   "source": [
    "coluna = 'qtd_transacoes_12m'\n",
    "titulos = ['Qtd. de Transações no Último Ano', 'Qtd. de Transações no Último Ano de Adimplentes', 'Qtd. de Transações no Último Ano de Inadimplentes']\n",
    "\n",
    "eixo = 0\n",
    "max_y = 0\n",
    "figura, eixos = plt.subplots(1,3, figsize=(20, 5), sharex=True)\n",
    "\n",
    "for dataframe in [df, df_adimplente, df_inadimplente]:\n",
    "\n",
    "  f = sns.histplot(x=coluna, data=dataframe, stat='count', ax=eixos[eixo])\n",
    "  f.set(title=titulos[eixo], xlabel=coluna.capitalize(), ylabel='Frequência Absoluta')\n",
    "\n",
    "  _, max_y_f = f.get_ylim()\n",
    "  max_y = max_y_f if max_y_f > max_y else max_y\n",
    "  f.set(ylim=(0, max_y))\n",
    "\n",
    "  eixo += 1\n",
    "\n",
    "figura.show()"
   ]
  },
  {
   "cell_type": "markdown",
   "id": "e90ce35a",
   "metadata": {
    "papermill": {
     "duration": 0.022544,
     "end_time": "2022-08-31T12:34:52.843828",
     "exception": false,
     "start_time": "2022-08-31T12:34:52.821284",
     "status": "completed"
    },
    "tags": []
   },
   "source": [
    "**Valor das Transações nos Últimos 12 Meses**"
   ]
  },
  {
   "cell_type": "code",
   "execution_count": 37,
   "id": "80033243",
   "metadata": {
    "execution": {
     "iopub.execute_input": "2022-08-31T12:34:52.890892Z",
     "iopub.status.busy": "2022-08-31T12:34:52.890415Z",
     "iopub.status.idle": "2022-08-31T12:34:54.071176Z",
     "shell.execute_reply": "2022-08-31T12:34:54.069685Z"
    },
    "papermill": {
     "duration": 1.208277,
     "end_time": "2022-08-31T12:34:54.074821",
     "exception": false,
     "start_time": "2022-08-31T12:34:52.866544",
     "status": "completed"
    },
    "tags": []
   },
   "outputs": [
    {
     "data": {
      "image/png": "[encoded data removed]",
      "text/plain": [
       "<Figure size 1440x360 with 3 Axes>"
      ]
     },
     "metadata": {},
     "output_type": "display_data"
    }
   ],
   "source": [
    "coluna = 'valor_transacoes_12m'\n",
    "titulos = ['Valor das Transações no Último Ano', 'Valor das Transações no Último Ano de Adimplentes', 'Valor das Transações no Último Ano de Inadimplentes']\n",
    "\n",
    "eixo = 0\n",
    "max_y = 0\n",
    "figura, eixos = plt.subplots(1,3, figsize=(20, 5), sharex=True)\n",
    "\n",
    "for dataframe in [df, df_adimplente, df_inadimplente]:\n",
    "\n",
    "  f = sns.histplot(x=coluna, data=dataframe, stat='count', ax=eixos[eixo])\n",
    "  f.set(title=titulos[eixo], xlabel=coluna.capitalize(), ylabel='Frequência Absoluta')\n",
    "\n",
    "  _, max_y_f = f.get_ylim()\n",
    "  max_y = max_y_f if max_y_f > max_y else max_y\n",
    "  f.set(ylim=(0, max_y))\n",
    "\n",
    "  eixo += 1\n",
    "\n",
    "figura.show()"
   ]
  },
  {
   "cell_type": "markdown",
   "id": "8b87720d",
   "metadata": {
    "papermill": {
     "duration": 0.023733,
     "end_time": "2022-08-31T12:34:54.122585",
     "exception": false,
     "start_time": "2022-08-31T12:34:54.098852",
     "status": "completed"
    },
    "tags": []
   },
   "source": [
    "**Valor de Transações nos Últimos 12 Meses x Quantidade de Transações nos Últimos 12 Meses**"
   ]
  },
  {
   "cell_type": "code",
   "execution_count": 38,
   "id": "e1f23b9f",
   "metadata": {
    "execution": {
     "iopub.execute_input": "2022-08-31T12:34:54.172660Z",
     "iopub.status.busy": "2022-08-31T12:34:54.171267Z",
     "iopub.status.idle": "2022-08-31T12:34:55.424998Z",
     "shell.execute_reply": "2022-08-31T12:34:55.423775Z"
    },
    "papermill": {
     "duration": 1.281681,
     "end_time": "2022-08-31T12:34:55.427923",
     "exception": false,
     "start_time": "2022-08-31T12:34:54.146242",
     "status": "completed"
    },
    "tags": []
   },
   "outputs": [
    {
     "data": {
      "image/png": "[encoded data removed]",
      "text/plain": [
       "<Figure size 411.3x360 with 1 Axes>"
      ]
     },
     "metadata": {},
     "output_type": "display_data"
    }
   ],
   "source": [
    "f = sns.relplot(x='valor_transacoes_12m', y='qtd_transacoes_12m', data=df, hue='default')\n",
    "_ = f.set(\n",
    "    title='Relação entre Valor e Quantidade de Transações no Último Ano', \n",
    "    xlabel='Valor das Transações no Último Ano', \n",
    "    ylabel='Quantidade das Transações no Último Ano'\n",
    "  )"
   ]
  },
  {
   "cell_type": "markdown",
   "id": "e1f61f33",
   "metadata": {
    "papermill": {
     "duration": 0.024347,
     "end_time": "2022-08-31T12:34:55.477513",
     "exception": false,
     "start_time": "2022-08-31T12:34:55.453166",
     "status": "completed"
    },
    "tags": []
   },
   "source": [
    "# **Gráfico agrupando Adimplentes e Inadimplentes**"
   ]
  },
  {
   "cell_type": "markdown",
   "id": "6cfa5be6",
   "metadata": {
    "papermill": {
     "duration": 0.024359,
     "end_time": "2022-08-31T12:34:55.526727",
     "exception": false,
     "start_time": "2022-08-31T12:34:55.502368",
     "status": "completed"
    },
    "tags": []
   },
   "source": [
    "Para visualizar um gráfico com as categorias da coluna \"default\", é necessário alterar o tipo de dado da coluna de `int para str`. Desta forma, é possível mostrar no gráfico os valores \"sobrepostos\". Além de alterar o tipo do dado, será feita o \"replace\" dos dados da coluna. De 0 para adimplente e 1 para inadimplente."
   ]
  },
  {
   "cell_type": "code",
   "execution_count": 39,
   "id": "fa7c1d96",
   "metadata": {
    "execution": {
     "iopub.execute_input": "2022-08-31T12:34:55.579677Z",
     "iopub.status.busy": "2022-08-31T12:34:55.578620Z",
     "iopub.status.idle": "2022-08-31T12:34:55.599241Z",
     "shell.execute_reply": "2022-08-31T12:34:55.597442Z"
    },
    "papermill": {
     "duration": 0.050398,
     "end_time": "2022-08-31T12:34:55.602046",
     "exception": false,
     "start_time": "2022-08-31T12:34:55.551648",
     "status": "completed"
    },
    "tags": []
   },
   "outputs": [
    {
     "name": "stdout",
     "output_type": "stream",
     "text": [
      "['1', '0']\n",
      "['Inadimplente', 'Adimplente']\n"
     ]
    }
   ],
   "source": [
    "data_types_dict = {'default': str}\n",
    "df = df.astype(data_types_dict)\n",
    "df.dtypes\n",
    "\n",
    "fn2 = lambda valor: str(valor.replace(\"1\", \"Inadimplente\").replace(\"0\", \"Adimplente\"))\n",
    "\n",
    "valores_originais = ['1', '0']\n",
    "valores_alterados = list(map(fn2, valores_originais))\n",
    "\n",
    "print(valores_originais)\n",
    "print(valores_alterados)"
   ]
  },
  {
   "cell_type": "code",
   "execution_count": 40,
   "id": "e0303429",
   "metadata": {
    "execution": {
     "iopub.execute_input": "2022-08-31T12:34:55.655547Z",
     "iopub.status.busy": "2022-08-31T12:34:55.654175Z",
     "iopub.status.idle": "2022-08-31T12:34:55.666802Z",
     "shell.execute_reply": "2022-08-31T12:34:55.665572Z"
    },
    "papermill": {
     "duration": 0.042674,
     "end_time": "2022-08-31T12:34:55.669825",
     "exception": false,
     "start_time": "2022-08-31T12:34:55.627151",
     "status": "completed"
    },
    "tags": []
   },
   "outputs": [],
   "source": [
    "df['default'] = df['default'].apply(fn2)"
   ]
  },
  {
   "cell_type": "code",
   "execution_count": 41,
   "id": "9c8f080a",
   "metadata": {
    "execution": {
     "iopub.execute_input": "2022-08-31T12:34:55.724875Z",
     "iopub.status.busy": "2022-08-31T12:34:55.723883Z",
     "iopub.status.idle": "2022-08-31T12:34:55.748111Z",
     "shell.execute_reply": "2022-08-31T12:34:55.746744Z"
    },
    "papermill": {
     "duration": 0.055203,
     "end_time": "2022-08-31T12:34:55.751069",
     "exception": false,
     "start_time": "2022-08-31T12:34:55.695866",
     "status": "completed"
    },
    "tags": []
   },
   "outputs": [
    {
     "data": {
      "text/html": [
       "<div>\n",
       "<style scoped>\n",
       "    .dataframe tbody tr th:only-of-type {\n",
       "        vertical-align: middle;\n",
       "    }\n",
       "\n",
       "    .dataframe tbody tr th {\n",
       "        vertical-align: top;\n",
       "    }\n",
       "\n",
       "    .dataframe thead th {\n",
       "        text-align: right;\n",
       "    }\n",
       "</style>\n",
       "<table border=\"1\" class=\"dataframe\">\n",
       "  <thead>\n",
       "    <tr style=\"text-align: right;\">\n",
       "      <th></th>\n",
       "      <th>id</th>\n",
       "      <th>default</th>\n",
       "      <th>idade</th>\n",
       "      <th>sexo</th>\n",
       "      <th>dependentes</th>\n",
       "      <th>escolaridade</th>\n",
       "      <th>estado_civil</th>\n",
       "      <th>salario_anual</th>\n",
       "      <th>tipo_cartao</th>\n",
       "      <th>meses_de_relacionamento</th>\n",
       "      <th>qtd_produtos</th>\n",
       "      <th>iteracoes_12m</th>\n",
       "      <th>meses_inativo_12m</th>\n",
       "      <th>limite_credito</th>\n",
       "      <th>valor_transacoes_12m</th>\n",
       "      <th>qtd_transacoes_12m</th>\n",
       "    </tr>\n",
       "  </thead>\n",
       "  <tbody>\n",
       "    <tr>\n",
       "      <th>0</th>\n",
       "      <td>768805383</td>\n",
       "      <td>Adimplente</td>\n",
       "      <td>45</td>\n",
       "      <td>M</td>\n",
       "      <td>3</td>\n",
       "      <td>ensino medio</td>\n",
       "      <td>casado</td>\n",
       "      <td>$60K - $80K</td>\n",
       "      <td>blue</td>\n",
       "      <td>39</td>\n",
       "      <td>5</td>\n",
       "      <td>3</td>\n",
       "      <td>1</td>\n",
       "      <td>12691.51</td>\n",
       "      <td>1144.90</td>\n",
       "      <td>42</td>\n",
       "    </tr>\n",
       "    <tr>\n",
       "      <th>1</th>\n",
       "      <td>818770008</td>\n",
       "      <td>Adimplente</td>\n",
       "      <td>49</td>\n",
       "      <td>F</td>\n",
       "      <td>5</td>\n",
       "      <td>mestrado</td>\n",
       "      <td>solteiro</td>\n",
       "      <td>menos que $40K</td>\n",
       "      <td>blue</td>\n",
       "      <td>44</td>\n",
       "      <td>6</td>\n",
       "      <td>2</td>\n",
       "      <td>1</td>\n",
       "      <td>8256.96</td>\n",
       "      <td>1291.45</td>\n",
       "      <td>33</td>\n",
       "    </tr>\n",
       "    <tr>\n",
       "      <th>2</th>\n",
       "      <td>713982108</td>\n",
       "      <td>Adimplente</td>\n",
       "      <td>51</td>\n",
       "      <td>M</td>\n",
       "      <td>3</td>\n",
       "      <td>mestrado</td>\n",
       "      <td>casado</td>\n",
       "      <td>$80K - $120K</td>\n",
       "      <td>blue</td>\n",
       "      <td>36</td>\n",
       "      <td>4</td>\n",
       "      <td>0</td>\n",
       "      <td>1</td>\n",
       "      <td>3418.56</td>\n",
       "      <td>1887.72</td>\n",
       "      <td>20</td>\n",
       "    </tr>\n",
       "    <tr>\n",
       "      <th>4</th>\n",
       "      <td>709106358</td>\n",
       "      <td>Adimplente</td>\n",
       "      <td>40</td>\n",
       "      <td>M</td>\n",
       "      <td>3</td>\n",
       "      <td>sem educacao formal</td>\n",
       "      <td>casado</td>\n",
       "      <td>$60K - $80K</td>\n",
       "      <td>blue</td>\n",
       "      <td>21</td>\n",
       "      <td>5</td>\n",
       "      <td>0</td>\n",
       "      <td>1</td>\n",
       "      <td>4716.22</td>\n",
       "      <td>816.08</td>\n",
       "      <td>28</td>\n",
       "    </tr>\n",
       "    <tr>\n",
       "      <th>5</th>\n",
       "      <td>713061558</td>\n",
       "      <td>Adimplente</td>\n",
       "      <td>44</td>\n",
       "      <td>M</td>\n",
       "      <td>2</td>\n",
       "      <td>mestrado</td>\n",
       "      <td>casado</td>\n",
       "      <td>$40K - $60K</td>\n",
       "      <td>blue</td>\n",
       "      <td>36</td>\n",
       "      <td>3</td>\n",
       "      <td>2</td>\n",
       "      <td>1</td>\n",
       "      <td>4010.69</td>\n",
       "      <td>1088.07</td>\n",
       "      <td>24</td>\n",
       "    </tr>\n",
       "    <tr>\n",
       "      <th>8</th>\n",
       "      <td>710930508</td>\n",
       "      <td>Adimplente</td>\n",
       "      <td>37</td>\n",
       "      <td>M</td>\n",
       "      <td>3</td>\n",
       "      <td>sem educacao formal</td>\n",
       "      <td>solteiro</td>\n",
       "      <td>$60K - $80K</td>\n",
       "      <td>blue</td>\n",
       "      <td>36</td>\n",
       "      <td>5</td>\n",
       "      <td>0</td>\n",
       "      <td>2</td>\n",
       "      <td>22352.50</td>\n",
       "      <td>1350.14</td>\n",
       "      <td>24</td>\n",
       "    </tr>\n",
       "    <tr>\n",
       "      <th>9</th>\n",
       "      <td>719661558</td>\n",
       "      <td>Adimplente</td>\n",
       "      <td>48</td>\n",
       "      <td>M</td>\n",
       "      <td>2</td>\n",
       "      <td>mestrado</td>\n",
       "      <td>solteiro</td>\n",
       "      <td>$80K - $120K</td>\n",
       "      <td>blue</td>\n",
       "      <td>36</td>\n",
       "      <td>6</td>\n",
       "      <td>3</td>\n",
       "      <td>3</td>\n",
       "      <td>11656.41</td>\n",
       "      <td>1441.73</td>\n",
       "      <td>32</td>\n",
       "    </tr>\n",
       "    <tr>\n",
       "      <th>12</th>\n",
       "      <td>710599683</td>\n",
       "      <td>Adimplente</td>\n",
       "      <td>56</td>\n",
       "      <td>M</td>\n",
       "      <td>1</td>\n",
       "      <td>graduacao</td>\n",
       "      <td>solteiro</td>\n",
       "      <td>$80K - $120K</td>\n",
       "      <td>blue</td>\n",
       "      <td>36</td>\n",
       "      <td>3</td>\n",
       "      <td>0</td>\n",
       "      <td>6</td>\n",
       "      <td>11751.09</td>\n",
       "      <td>1539.95</td>\n",
       "      <td>17</td>\n",
       "    </tr>\n",
       "    <tr>\n",
       "      <th>14</th>\n",
       "      <td>712396908</td>\n",
       "      <td>Adimplente</td>\n",
       "      <td>57</td>\n",
       "      <td>F</td>\n",
       "      <td>2</td>\n",
       "      <td>mestrado</td>\n",
       "      <td>casado</td>\n",
       "      <td>menos que $40K</td>\n",
       "      <td>blue</td>\n",
       "      <td>48</td>\n",
       "      <td>5</td>\n",
       "      <td>2</td>\n",
       "      <td>2</td>\n",
       "      <td>2436.00</td>\n",
       "      <td>1570.23</td>\n",
       "      <td>29</td>\n",
       "    </tr>\n",
       "    <tr>\n",
       "      <th>16</th>\n",
       "      <td>709967358</td>\n",
       "      <td>Adimplente</td>\n",
       "      <td>48</td>\n",
       "      <td>M</td>\n",
       "      <td>4</td>\n",
       "      <td>doutorado</td>\n",
       "      <td>solteiro</td>\n",
       "      <td>$80K - $120K</td>\n",
       "      <td>blue</td>\n",
       "      <td>36</td>\n",
       "      <td>6</td>\n",
       "      <td>3</td>\n",
       "      <td>2</td>\n",
       "      <td>30367.57</td>\n",
       "      <td>1671.12</td>\n",
       "      <td>27</td>\n",
       "    </tr>\n",
       "  </tbody>\n",
       "</table>\n",
       "</div>"
      ],
      "text/plain": [
       "           id     default  idade sexo  dependentes         escolaridade  \\\n",
       "0   768805383  Adimplente     45    M            3         ensino medio   \n",
       "1   818770008  Adimplente     49    F            5             mestrado   \n",
       "2   713982108  Adimplente     51    M            3             mestrado   \n",
       "4   709106358  Adimplente     40    M            3  sem educacao formal   \n",
       "5   713061558  Adimplente     44    M            2             mestrado   \n",
       "8   710930508  Adimplente     37    M            3  sem educacao formal   \n",
       "9   719661558  Adimplente     48    M            2             mestrado   \n",
       "12  710599683  Adimplente     56    M            1            graduacao   \n",
       "14  712396908  Adimplente     57    F            2             mestrado   \n",
       "16  709967358  Adimplente     48    M            4            doutorado   \n",
       "\n",
       "   estado_civil   salario_anual tipo_cartao  meses_de_relacionamento  \\\n",
       "0        casado     $60K - $80K        blue                       39   \n",
       "1      solteiro  menos que $40K        blue                       44   \n",
       "2        casado    $80K - $120K        blue                       36   \n",
       "4        casado     $60K - $80K        blue                       21   \n",
       "5        casado     $40K - $60K        blue                       36   \n",
       "8      solteiro     $60K - $80K        blue                       36   \n",
       "9      solteiro    $80K - $120K        blue                       36   \n",
       "12     solteiro    $80K - $120K        blue                       36   \n",
       "14       casado  menos que $40K        blue                       48   \n",
       "16     solteiro    $80K - $120K        blue                       36   \n",
       "\n",
       "    qtd_produtos  iteracoes_12m  meses_inativo_12m  limite_credito  \\\n",
       "0              5              3                  1        12691.51   \n",
       "1              6              2                  1         8256.96   \n",
       "2              4              0                  1         3418.56   \n",
       "4              5              0                  1         4716.22   \n",
       "5              3              2                  1         4010.69   \n",
       "8              5              0                  2        22352.50   \n",
       "9              6              3                  3        11656.41   \n",
       "12             3              0                  6        11751.09   \n",
       "14             5              2                  2         2436.00   \n",
       "16             6              3                  2        30367.57   \n",
       "\n",
       "    valor_transacoes_12m  qtd_transacoes_12m  \n",
       "0                1144.90                  42  \n",
       "1                1291.45                  33  \n",
       "2                1887.72                  20  \n",
       "4                 816.08                  28  \n",
       "5                1088.07                  24  \n",
       "8                1350.14                  24  \n",
       "9                1441.73                  32  \n",
       "12               1539.95                  17  \n",
       "14               1570.23                  29  \n",
       "16               1671.12                  27  "
      ]
     },
     "execution_count": 41,
     "metadata": {},
     "output_type": "execute_result"
    }
   ],
   "source": [
    "df.dtypes\n",
    "df.head(n=10)"
   ]
  },
  {
   "cell_type": "markdown",
   "id": "f51400dc",
   "metadata": {
    "papermill": {
     "duration": 0.025841,
     "end_time": "2022-08-31T12:34:55.802798",
     "exception": false,
     "start_time": "2022-08-31T12:34:55.776957",
     "status": "completed"
    },
    "tags": []
   },
   "source": [
    "Após a mudança do tipo de dados e dos dados da coluna \"defualt\", podemos analisar o gráfico abaixo."
   ]
  },
  {
   "cell_type": "code",
   "execution_count": 42,
   "id": "4534d371",
   "metadata": {
    "execution": {
     "iopub.execute_input": "2022-08-31T12:34:55.856241Z",
     "iopub.status.busy": "2022-08-31T12:34:55.855767Z",
     "iopub.status.idle": "2022-08-31T12:34:56.816600Z",
     "shell.execute_reply": "2022-08-31T12:34:56.815399Z"
    },
    "papermill": {
     "duration": 0.991894,
     "end_time": "2022-08-31T12:34:56.820467",
     "exception": false,
     "start_time": "2022-08-31T12:34:55.828573",
     "status": "completed"
    },
    "tags": []
   },
   "outputs": [
    {
     "data": {
      "image/png": "[encoded data removed]",
      "text/plain": [
       "<Figure size 1440x360 with 1 Axes>"
      ]
     },
     "metadata": {},
     "output_type": "display_data"
    }
   ],
   "source": [
    "coluna = 'valor_transacoes_12m'\n",
    "titulos = ['Relação entre Adimplentes/Inadimplentes e Valores das Transações no Último Ano']\n",
    "\n",
    "eixo = 0\n",
    "max_y = 0\n",
    "figura, eixos = plt.subplots(1, figsize=(20, 5), sharex=True)\n",
    "\n",
    "f = sns.histplot(data= df, x= coluna, alpha= 1, hue= 'default', multiple='stack')\n",
    "f.set(title=titulos[eixo], xlabel='Valor por transação', ylabel='Frequência Absoluta')\n",
    "\n",
    "figura.show()"
   ]
  },
  {
   "cell_type": "code",
   "execution_count": 43,
   "id": "faa3cde6",
   "metadata": {
    "execution": {
     "iopub.execute_input": "2022-08-31T12:34:56.880193Z",
     "iopub.status.busy": "2022-08-31T12:34:56.879682Z",
     "iopub.status.idle": "2022-08-31T12:34:57.485039Z",
     "shell.execute_reply": "2022-08-31T12:34:57.483650Z"
    },
    "papermill": {
     "duration": 0.640951,
     "end_time": "2022-08-31T12:34:57.487988",
     "exception": false,
     "start_time": "2022-08-31T12:34:56.847037",
     "status": "completed"
    },
    "tags": []
   },
   "outputs": [
    {
     "data": {
      "image/png": "[encoded data removed]",
      "text/plain": [
       "<Figure size 1440x360 with 1 Axes>"
      ]
     },
     "metadata": {},
     "output_type": "display_data"
    }
   ],
   "source": [
    "coluna = 'qtd_transacoes_12m'\n",
    "titulos = ['Relação entre Adimplentes/Inadimplentes e Quantidade de Transações no Último Ano']\n",
    "\n",
    "eixo = 0\n",
    "max_y = 0\n",
    "figura, eixos = plt.subplots(1, figsize=(20, 5), sharex=True)\n",
    "\n",
    "f = sns.histplot(data= df, x= coluna, alpha= 1, hue= 'default', multiple='stack')\n",
    "f.set(title=titulos[eixo], xlabel='Quantidade de Transações', ylabel='Frequência Absoluta')\n",
    "\n",
    "figura.show()"
   ]
  },
  {
   "cell_type": "markdown",
   "id": "66f5f810",
   "metadata": {
    "papermill": {
     "duration": 0.026434,
     "end_time": "2022-08-31T12:34:57.540601",
     "exception": false,
     "start_time": "2022-08-31T12:34:57.514167",
     "status": "completed"
    },
    "tags": []
   },
   "source": [
    "# **Insights**"
   ]
  }
 ],
 "metadata": {
  "kernelspec": {
   "display_name": "Python 3",
   "language": "python",
   "name": "python3"
  },
  "language_info": {
   "codemirror_mode": {
    "name": "ipython",
    "version": 3
   },
   "file_extension": ".py",
   "mimetype": "text/x-python",
   "name": "python",
   "nbconvert_exporter": "python",
   "pygments_lexer": "ipython3",
   "version": "3.7.12"
  },
  "papermill": {
   "default_parameters": {},
   "duration": 23.087498,
   "end_time": "2022-08-31T12:34:58.696236",
   "environment_variables": {},
   "exception": null,
   "input_path": "__notebook__.ipynb",
   "output_path": "__notebook__.ipynb",
   "parameters": {},
   "start_time": "2022-08-31T12:34:35.608738",
   "version": "2.3.4"
  }
 },
 "nbformat": 4,
 "nbformat_minor": 5
}
