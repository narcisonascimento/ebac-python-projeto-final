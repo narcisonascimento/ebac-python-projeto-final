{
 "cells": [
  {
   "cell_type": "markdown",
   "id": "ce380bdd",
   "metadata": {
    "papermill": {
     "duration": 0.008525,
     "end_time": "2022-08-29T18:29:27.959119",
     "exception": false,
     "start_time": "2022-08-29T18:29:27.950594",
     "status": "completed"
    },
    "tags": []
   },
   "source": [
    "# **Exploração de Dados**"
   ]
  },
  {
   "cell_type": "markdown",
   "id": "0c23a85c",
   "metadata": {
    "papermill": {
     "duration": 0.007309,
     "end_time": "2022-08-29T18:29:27.973426",
     "exception": false,
     "start_time": "2022-08-29T18:29:27.966117",
     "status": "completed"
    },
    "tags": []
   },
   "source": [
    "Exploração de dados no formato.csv, o dataset foi importado no Kaggle. Os dados contém informações sobre clientes de uma instituição financeira. Em especial, estamos interessados em explicar a segunda coluna, chamada de **default**, que indica se um cliente é **adimplente(default = 0)**, ou **inadimplente (default = 1)**, ou seja, queremos entender o porque um cliente deixa de honrar com suas dívidas baseado no comportamento de outros atributos, como salário, escolaridade e movimentação financeira. Uma descrição completa dos atributos está abaixo.\n",
    "\n",
    "Obs: O notebook com o projeto final foi disponibilizado pela Ebac, entretanto para questão de estudos e aperfeiçoamento, reescrevi o código abaixo com base no notebook origial."
   ]
  },
  {
   "cell_type": "markdown",
   "id": "18b67ad3",
   "metadata": {
    "papermill": {
     "duration": 0.007387,
     "end_time": "2022-08-29T18:29:27.988572",
     "exception": false,
     "start_time": "2022-08-29T18:29:27.981185",
     "status": "completed"
    },
    "tags": []
   },
   "source": [
    "\n",
    "\n",
    "| Coluna  | Descrição |\n",
    "| ------- | --------- |\n",
    "| id      | Número da conta |\n",
    "| default | Indica se o cliente é adimplente (0) ou inadimplente (1) |\n",
    "| idade   | --- |\n",
    "| sexo    | --- |\n",
    "| depedentes | --- |\n",
    "| escolaridade | --- |\n",
    "| estado_civil | --- |\n",
    "| salario_anual | Faixa do salario mensal multiplicado por 12 |\n",
    "| tipo_cartao | Categoria do cartao: blue, silver, gold e platinium |\n",
    "| meses_de_relacionamento | Quantidade de meses desde a abertura da conta |\n",
    "| qtd_produtos | Quantidade de produtos contratados |\n",
    "| iteracoes_12m | Quantidade de iteracoes com o cliente no último ano |\n",
    "| meses_inatico_12m | Quantidade de meses que o cliente ficou inativo no último ano |\n",
    "| limite_credito | Valor do limite do cartão de crédito |\n",
    "| valor_transacoes_12m | Soma total do valor das transações no cartão de crédito no último ano |\n",
    "| qtd_transacoes_12m | Quantidade total de transações no cartão de crédito no último ano |\n",
    "\n"
   ]
  },
  {
   "cell_type": "markdown",
   "id": "a14b206c",
   "metadata": {
    "papermill": {
     "duration": 0.007106,
     "end_time": "2022-08-29T18:29:28.003045",
     "exception": false,
     "start_time": "2022-08-29T18:29:27.995939",
     "status": "completed"
    },
    "tags": []
   },
   "source": [
    "**Lendo os dados num dataframe panda.**"
   ]
  },
  {
   "cell_type": "code",
   "execution_count": 1,
   "id": "da37d7b8",
   "metadata": {
    "execution": {
     "iopub.execute_input": "2022-08-29T18:29:28.020227Z",
     "iopub.status.busy": "2022-08-29T18:29:28.019238Z",
     "iopub.status.idle": "2022-08-29T18:29:28.032055Z",
     "shell.execute_reply": "2022-08-29T18:29:28.030882Z"
    },
    "papermill": {
     "duration": 0.025006,
     "end_time": "2022-08-29T18:29:28.035252",
     "exception": false,
     "start_time": "2022-08-29T18:29:28.010246",
     "status": "completed"
    },
    "tags": []
   },
   "outputs": [],
   "source": [
    "import pandas as pd"
   ]
  },
  {
   "cell_type": "code",
   "execution_count": 2,
   "id": "2f6f5454",
   "metadata": {
    "execution": {
     "iopub.execute_input": "2022-08-29T18:29:28.051319Z",
     "iopub.status.busy": "2022-08-29T18:29:28.050771Z",
     "iopub.status.idle": "2022-08-29T18:29:28.108597Z",
     "shell.execute_reply": "2022-08-29T18:29:28.107353Z"
    },
    "papermill": {
     "duration": 0.069077,
     "end_time": "2022-08-29T18:29:28.111337",
     "exception": false,
     "start_time": "2022-08-29T18:29:28.042260",
     "status": "completed"
    },
    "tags": []
   },
   "outputs": [],
   "source": [
    "df = pd.read_csv('../input/ebac-python-projeto-final-dataset/Python_M10_support material.csv', na_values='na')"
   ]
  },
  {
   "cell_type": "code",
   "execution_count": 3,
   "id": "c841407f",
   "metadata": {
    "execution": {
     "iopub.execute_input": "2022-08-29T18:29:28.127477Z",
     "iopub.status.busy": "2022-08-29T18:29:28.126802Z",
     "iopub.status.idle": "2022-08-29T18:29:28.161508Z",
     "shell.execute_reply": "2022-08-29T18:29:28.160171Z"
    },
    "papermill": {
     "duration": 0.047535,
     "end_time": "2022-08-29T18:29:28.165826",
     "exception": false,
     "start_time": "2022-08-29T18:29:28.118291",
     "status": "completed"
    },
    "tags": []
   },
   "outputs": [
    {
     "data": {
      "text/html": [
       "<div>\n",
       "<style scoped>\n",
       "    .dataframe tbody tr th:only-of-type {\n",
       "        vertical-align: middle;\n",
       "    }\n",
       "\n",
       "    .dataframe tbody tr th {\n",
       "        vertical-align: top;\n",
       "    }\n",
       "\n",
       "    .dataframe thead th {\n",
       "        text-align: right;\n",
       "    }\n",
       "</style>\n",
       "<table border=\"1\" class=\"dataframe\">\n",
       "  <thead>\n",
       "    <tr style=\"text-align: right;\">\n",
       "      <th></th>\n",
       "      <th>id</th>\n",
       "      <th>default</th>\n",
       "      <th>idade</th>\n",
       "      <th>sexo</th>\n",
       "      <th>dependentes</th>\n",
       "      <th>escolaridade</th>\n",
       "      <th>estado_civil</th>\n",
       "      <th>salario_anual</th>\n",
       "      <th>tipo_cartao</th>\n",
       "      <th>meses_de_relacionamento</th>\n",
       "      <th>qtd_produtos</th>\n",
       "      <th>iteracoes_12m</th>\n",
       "      <th>meses_inativo_12m</th>\n",
       "      <th>limite_credito</th>\n",
       "      <th>valor_transacoes_12m</th>\n",
       "      <th>qtd_transacoes_12m</th>\n",
       "    </tr>\n",
       "  </thead>\n",
       "  <tbody>\n",
       "    <tr>\n",
       "      <th>0</th>\n",
       "      <td>768805383</td>\n",
       "      <td>0</td>\n",
       "      <td>45</td>\n",
       "      <td>M</td>\n",
       "      <td>3</td>\n",
       "      <td>ensino medio</td>\n",
       "      <td>casado</td>\n",
       "      <td>$60K - $80K</td>\n",
       "      <td>blue</td>\n",
       "      <td>39</td>\n",
       "      <td>5</td>\n",
       "      <td>3</td>\n",
       "      <td>1</td>\n",
       "      <td>12.691,51</td>\n",
       "      <td>1.144,90</td>\n",
       "      <td>42</td>\n",
       "    </tr>\n",
       "    <tr>\n",
       "      <th>1</th>\n",
       "      <td>818770008</td>\n",
       "      <td>0</td>\n",
       "      <td>49</td>\n",
       "      <td>F</td>\n",
       "      <td>5</td>\n",
       "      <td>mestrado</td>\n",
       "      <td>solteiro</td>\n",
       "      <td>menos que $40K</td>\n",
       "      <td>blue</td>\n",
       "      <td>44</td>\n",
       "      <td>6</td>\n",
       "      <td>2</td>\n",
       "      <td>1</td>\n",
       "      <td>8.256,96</td>\n",
       "      <td>1.291,45</td>\n",
       "      <td>33</td>\n",
       "    </tr>\n",
       "    <tr>\n",
       "      <th>2</th>\n",
       "      <td>713982108</td>\n",
       "      <td>0</td>\n",
       "      <td>51</td>\n",
       "      <td>M</td>\n",
       "      <td>3</td>\n",
       "      <td>mestrado</td>\n",
       "      <td>casado</td>\n",
       "      <td>$80K - $120K</td>\n",
       "      <td>blue</td>\n",
       "      <td>36</td>\n",
       "      <td>4</td>\n",
       "      <td>0</td>\n",
       "      <td>1</td>\n",
       "      <td>3.418,56</td>\n",
       "      <td>1.887,72</td>\n",
       "      <td>20</td>\n",
       "    </tr>\n",
       "    <tr>\n",
       "      <th>3</th>\n",
       "      <td>769911858</td>\n",
       "      <td>0</td>\n",
       "      <td>40</td>\n",
       "      <td>F</td>\n",
       "      <td>4</td>\n",
       "      <td>ensino medio</td>\n",
       "      <td>NaN</td>\n",
       "      <td>menos que $40K</td>\n",
       "      <td>blue</td>\n",
       "      <td>34</td>\n",
       "      <td>3</td>\n",
       "      <td>1</td>\n",
       "      <td>4</td>\n",
       "      <td>3.313,03</td>\n",
       "      <td>1.171,56</td>\n",
       "      <td>20</td>\n",
       "    </tr>\n",
       "    <tr>\n",
       "      <th>4</th>\n",
       "      <td>709106358</td>\n",
       "      <td>0</td>\n",
       "      <td>40</td>\n",
       "      <td>M</td>\n",
       "      <td>3</td>\n",
       "      <td>sem educacao formal</td>\n",
       "      <td>casado</td>\n",
       "      <td>$60K - $80K</td>\n",
       "      <td>blue</td>\n",
       "      <td>21</td>\n",
       "      <td>5</td>\n",
       "      <td>0</td>\n",
       "      <td>1</td>\n",
       "      <td>4.716,22</td>\n",
       "      <td>816,08</td>\n",
       "      <td>28</td>\n",
       "    </tr>\n",
       "    <tr>\n",
       "      <th>5</th>\n",
       "      <td>713061558</td>\n",
       "      <td>0</td>\n",
       "      <td>44</td>\n",
       "      <td>M</td>\n",
       "      <td>2</td>\n",
       "      <td>mestrado</td>\n",
       "      <td>casado</td>\n",
       "      <td>$40K - $60K</td>\n",
       "      <td>blue</td>\n",
       "      <td>36</td>\n",
       "      <td>3</td>\n",
       "      <td>2</td>\n",
       "      <td>1</td>\n",
       "      <td>4.010,69</td>\n",
       "      <td>1.088,07</td>\n",
       "      <td>24</td>\n",
       "    </tr>\n",
       "    <tr>\n",
       "      <th>6</th>\n",
       "      <td>810347208</td>\n",
       "      <td>0</td>\n",
       "      <td>51</td>\n",
       "      <td>M</td>\n",
       "      <td>4</td>\n",
       "      <td>NaN</td>\n",
       "      <td>casado</td>\n",
       "      <td>$120K +</td>\n",
       "      <td>gold</td>\n",
       "      <td>46</td>\n",
       "      <td>6</td>\n",
       "      <td>3</td>\n",
       "      <td>1</td>\n",
       "      <td>34.516,72</td>\n",
       "      <td>1.330,87</td>\n",
       "      <td>31</td>\n",
       "    </tr>\n",
       "    <tr>\n",
       "      <th>7</th>\n",
       "      <td>818906208</td>\n",
       "      <td>0</td>\n",
       "      <td>32</td>\n",
       "      <td>M</td>\n",
       "      <td>0</td>\n",
       "      <td>ensino medio</td>\n",
       "      <td>NaN</td>\n",
       "      <td>$60K - $80K</td>\n",
       "      <td>silver</td>\n",
       "      <td>27</td>\n",
       "      <td>2</td>\n",
       "      <td>2</td>\n",
       "      <td>2</td>\n",
       "      <td>29.081,49</td>\n",
       "      <td>1.538,32</td>\n",
       "      <td>36</td>\n",
       "    </tr>\n",
       "    <tr>\n",
       "      <th>8</th>\n",
       "      <td>710930508</td>\n",
       "      <td>0</td>\n",
       "      <td>37</td>\n",
       "      <td>M</td>\n",
       "      <td>3</td>\n",
       "      <td>sem educacao formal</td>\n",
       "      <td>solteiro</td>\n",
       "      <td>$60K - $80K</td>\n",
       "      <td>blue</td>\n",
       "      <td>36</td>\n",
       "      <td>5</td>\n",
       "      <td>0</td>\n",
       "      <td>2</td>\n",
       "      <td>22.352,50</td>\n",
       "      <td>1.350,14</td>\n",
       "      <td>24</td>\n",
       "    </tr>\n",
       "    <tr>\n",
       "      <th>9</th>\n",
       "      <td>719661558</td>\n",
       "      <td>0</td>\n",
       "      <td>48</td>\n",
       "      <td>M</td>\n",
       "      <td>2</td>\n",
       "      <td>mestrado</td>\n",
       "      <td>solteiro</td>\n",
       "      <td>$80K - $120K</td>\n",
       "      <td>blue</td>\n",
       "      <td>36</td>\n",
       "      <td>6</td>\n",
       "      <td>3</td>\n",
       "      <td>3</td>\n",
       "      <td>11.656,41</td>\n",
       "      <td>1.441,73</td>\n",
       "      <td>32</td>\n",
       "    </tr>\n",
       "  </tbody>\n",
       "</table>\n",
       "</div>"
      ],
      "text/plain": [
       "          id  default  idade sexo  dependentes         escolaridade  \\\n",
       "0  768805383        0     45    M            3         ensino medio   \n",
       "1  818770008        0     49    F            5             mestrado   \n",
       "2  713982108        0     51    M            3             mestrado   \n",
       "3  769911858        0     40    F            4         ensino medio   \n",
       "4  709106358        0     40    M            3  sem educacao formal   \n",
       "5  713061558        0     44    M            2             mestrado   \n",
       "6  810347208        0     51    M            4                  NaN   \n",
       "7  818906208        0     32    M            0         ensino medio   \n",
       "8  710930508        0     37    M            3  sem educacao formal   \n",
       "9  719661558        0     48    M            2             mestrado   \n",
       "\n",
       "  estado_civil   salario_anual tipo_cartao  meses_de_relacionamento  \\\n",
       "0       casado     $60K - $80K        blue                       39   \n",
       "1     solteiro  menos que $40K        blue                       44   \n",
       "2       casado    $80K - $120K        blue                       36   \n",
       "3          NaN  menos que $40K        blue                       34   \n",
       "4       casado     $60K - $80K        blue                       21   \n",
       "5       casado     $40K - $60K        blue                       36   \n",
       "6       casado         $120K +        gold                       46   \n",
       "7          NaN     $60K - $80K      silver                       27   \n",
       "8     solteiro     $60K - $80K        blue                       36   \n",
       "9     solteiro    $80K - $120K        blue                       36   \n",
       "\n",
       "   qtd_produtos  iteracoes_12m  meses_inativo_12m limite_credito  \\\n",
       "0             5              3                  1      12.691,51   \n",
       "1             6              2                  1       8.256,96   \n",
       "2             4              0                  1       3.418,56   \n",
       "3             3              1                  4       3.313,03   \n",
       "4             5              0                  1       4.716,22   \n",
       "5             3              2                  1       4.010,69   \n",
       "6             6              3                  1      34.516,72   \n",
       "7             2              2                  2      29.081,49   \n",
       "8             5              0                  2      22.352,50   \n",
       "9             6              3                  3      11.656,41   \n",
       "\n",
       "  valor_transacoes_12m  qtd_transacoes_12m  \n",
       "0             1.144,90                  42  \n",
       "1             1.291,45                  33  \n",
       "2             1.887,72                  20  \n",
       "3             1.171,56                  20  \n",
       "4               816,08                  28  \n",
       "5             1.088,07                  24  \n",
       "6             1.330,87                  31  \n",
       "7             1.538,32                  36  \n",
       "8             1.350,14                  24  \n",
       "9             1.441,73                  32  "
      ]
     },
     "execution_count": 3,
     "metadata": {},
     "output_type": "execute_result"
    }
   ],
   "source": [
    "df.head(n=10)"
   ]
  },
  {
   "cell_type": "markdown",
   "id": "e2ba54e2",
   "metadata": {
    "papermill": {
     "duration": 0.007119,
     "end_time": "2022-08-29T18:29:28.180750",
     "exception": false,
     "start_time": "2022-08-29T18:29:28.173631",
     "status": "completed"
    },
    "tags": []
   },
   "source": [
    "# **Estrutura**"
   ]
  },
  {
   "cell_type": "code",
   "execution_count": 4,
   "id": "a3d78cd6",
   "metadata": {
    "execution": {
     "iopub.execute_input": "2022-08-29T18:29:28.197910Z",
     "iopub.status.busy": "2022-08-29T18:29:28.197386Z",
     "iopub.status.idle": "2022-08-29T18:29:28.206472Z",
     "shell.execute_reply": "2022-08-29T18:29:28.204995Z"
    },
    "papermill": {
     "duration": 0.020946,
     "end_time": "2022-08-29T18:29:28.209247",
     "exception": false,
     "start_time": "2022-08-29T18:29:28.188301",
     "status": "completed"
    },
    "tags": []
   },
   "outputs": [
    {
     "data": {
      "text/plain": [
       "(10127, 16)"
      ]
     },
     "execution_count": 4,
     "metadata": {},
     "output_type": "execute_result"
    }
   ],
   "source": [
    "df.shape # contando quantidade de e quantidade de colunas "
   ]
  },
  {
   "cell_type": "markdown",
   "id": "077dcfa1",
   "metadata": {
    "papermill": {
     "duration": 0.007622,
     "end_time": "2022-08-29T18:29:28.224910",
     "exception": false,
     "start_time": "2022-08-29T18:29:28.217288",
     "status": "completed"
    },
    "tags": []
   },
   "source": [
    "**Default = adimplente (0)**"
   ]
  },
  {
   "cell_type": "code",
   "execution_count": 5,
   "id": "f47d586b",
   "metadata": {
    "execution": {
     "iopub.execute_input": "2022-08-29T18:29:28.242412Z",
     "iopub.status.busy": "2022-08-29T18:29:28.241232Z",
     "iopub.status.idle": "2022-08-29T18:29:28.259307Z",
     "shell.execute_reply": "2022-08-29T18:29:28.257817Z"
    },
    "papermill": {
     "duration": 0.029798,
     "end_time": "2022-08-29T18:29:28.262108",
     "exception": false,
     "start_time": "2022-08-29T18:29:28.232310",
     "status": "completed"
    },
    "tags": []
   },
   "outputs": [
    {
     "data": {
      "text/plain": [
       "(8500, 16)"
      ]
     },
     "execution_count": 5,
     "metadata": {},
     "output_type": "execute_result"
    }
   ],
   "source": [
    "df[df['default'] == 0].shape"
   ]
  },
  {
   "cell_type": "markdown",
   "id": "c21ad9ab",
   "metadata": {
    "papermill": {
     "duration": 0.008099,
     "end_time": "2022-08-29T18:29:28.277683",
     "exception": false,
     "start_time": "2022-08-29T18:29:28.269584",
     "status": "completed"
    },
    "tags": []
   },
   "source": [
    "**Default = inadimplente (1)**"
   ]
  },
  {
   "cell_type": "code",
   "execution_count": 6,
   "id": "8929d49b",
   "metadata": {
    "execution": {
     "iopub.execute_input": "2022-08-29T18:29:28.295073Z",
     "iopub.status.busy": "2022-08-29T18:29:28.294146Z",
     "iopub.status.idle": "2022-08-29T18:29:28.305223Z",
     "shell.execute_reply": "2022-08-29T18:29:28.303716Z"
    },
    "papermill": {
     "duration": 0.022945,
     "end_time": "2022-08-29T18:29:28.308028",
     "exception": false,
     "start_time": "2022-08-29T18:29:28.285083",
     "status": "completed"
    },
    "tags": []
   },
   "outputs": [
    {
     "data": {
      "text/plain": [
       "(1627, 16)"
      ]
     },
     "execution_count": 6,
     "metadata": {},
     "output_type": "execute_result"
    }
   ],
   "source": [
    "df[df['default'] == 1].shape"
   ]
  },
  {
   "cell_type": "code",
   "execution_count": 7,
   "id": "bac26bc4",
   "metadata": {
    "execution": {
     "iopub.execute_input": "2022-08-29T18:29:28.326026Z",
     "iopub.status.busy": "2022-08-29T18:29:28.325256Z",
     "iopub.status.idle": "2022-08-29T18:29:28.335601Z",
     "shell.execute_reply": "2022-08-29T18:29:28.334387Z"
    },
    "papermill": {
     "duration": 0.023258,
     "end_time": "2022-08-29T18:29:28.338787",
     "exception": false,
     "start_time": "2022-08-29T18:29:28.315529",
     "status": "completed"
    },
    "tags": []
   },
   "outputs": [],
   "source": [
    "qdt_total, _ = df.shape\n",
    "qdt_adimplentes, _ = df[df['default'] == 0].shape\n",
    "qdt_inadimplentes, _ = df[df['default'] == 1].shape"
   ]
  },
  {
   "cell_type": "code",
   "execution_count": 8,
   "id": "966807e0",
   "metadata": {
    "execution": {
     "iopub.execute_input": "2022-08-29T18:29:28.356972Z",
     "iopub.status.busy": "2022-08-29T18:29:28.356431Z",
     "iopub.status.idle": "2022-08-29T18:29:28.364341Z",
     "shell.execute_reply": "2022-08-29T18:29:28.362894Z"
    },
    "papermill": {
     "duration": 0.020411,
     "end_time": "2022-08-29T18:29:28.367301",
     "exception": false,
     "start_time": "2022-08-29T18:29:28.346890",
     "status": "completed"
    },
    "tags": []
   },
   "outputs": [
    {
     "name": "stdout",
     "output_type": "stream",
     "text": [
      "A proporção de clientes adimplentes é de 83.93%\n",
      "A proporção de clientes inadimplentes é de 16.07%\n"
     ]
    }
   ],
   "source": [
    "print(f\"A proporção de clientes adimplentes é de {round(100 * qdt_adimplentes / qdt_total, 2)}%\")\n",
    "print(f\"A proporção de clientes inadimplentes é de {round(100 * qdt_inadimplentes / qdt_total, 2)}%\")"
   ]
  },
  {
   "cell_type": "markdown",
   "id": "cc087902",
   "metadata": {
    "papermill": {
     "duration": 0.007963,
     "end_time": "2022-08-29T18:29:28.385757",
     "exception": false,
     "start_time": "2022-08-29T18:29:28.377794",
     "status": "completed"
    },
    "tags": []
   },
   "source": [
    "# **Schema**"
   ]
  },
  {
   "cell_type": "code",
   "execution_count": 9,
   "id": "3d5ab42f",
   "metadata": {
    "execution": {
     "iopub.execute_input": "2022-08-29T18:29:28.405071Z",
     "iopub.status.busy": "2022-08-29T18:29:28.404047Z",
     "iopub.status.idle": "2022-08-29T18:29:28.424246Z",
     "shell.execute_reply": "2022-08-29T18:29:28.422713Z"
    },
    "papermill": {
     "duration": 0.033225,
     "end_time": "2022-08-29T18:29:28.427139",
     "exception": false,
     "start_time": "2022-08-29T18:29:28.393914",
     "status": "completed"
    },
    "tags": []
   },
   "outputs": [
    {
     "data": {
      "text/html": [
       "<div>\n",
       "<style scoped>\n",
       "    .dataframe tbody tr th:only-of-type {\n",
       "        vertical-align: middle;\n",
       "    }\n",
       "\n",
       "    .dataframe tbody tr th {\n",
       "        vertical-align: top;\n",
       "    }\n",
       "\n",
       "    .dataframe thead th {\n",
       "        text-align: right;\n",
       "    }\n",
       "</style>\n",
       "<table border=\"1\" class=\"dataframe\">\n",
       "  <thead>\n",
       "    <tr style=\"text-align: right;\">\n",
       "      <th></th>\n",
       "      <th>id</th>\n",
       "      <th>default</th>\n",
       "      <th>idade</th>\n",
       "      <th>sexo</th>\n",
       "      <th>dependentes</th>\n",
       "      <th>escolaridade</th>\n",
       "      <th>estado_civil</th>\n",
       "      <th>salario_anual</th>\n",
       "      <th>tipo_cartao</th>\n",
       "      <th>meses_de_relacionamento</th>\n",
       "      <th>qtd_produtos</th>\n",
       "      <th>iteracoes_12m</th>\n",
       "      <th>meses_inativo_12m</th>\n",
       "      <th>limite_credito</th>\n",
       "      <th>valor_transacoes_12m</th>\n",
       "      <th>qtd_transacoes_12m</th>\n",
       "    </tr>\n",
       "  </thead>\n",
       "  <tbody>\n",
       "    <tr>\n",
       "      <th>0</th>\n",
       "      <td>768805383</td>\n",
       "      <td>0</td>\n",
       "      <td>45</td>\n",
       "      <td>M</td>\n",
       "      <td>3</td>\n",
       "      <td>ensino medio</td>\n",
       "      <td>casado</td>\n",
       "      <td>$60K - $80K</td>\n",
       "      <td>blue</td>\n",
       "      <td>39</td>\n",
       "      <td>5</td>\n",
       "      <td>3</td>\n",
       "      <td>1</td>\n",
       "      <td>12.691,51</td>\n",
       "      <td>1.144,90</td>\n",
       "      <td>42</td>\n",
       "    </tr>\n",
       "    <tr>\n",
       "      <th>1</th>\n",
       "      <td>818770008</td>\n",
       "      <td>0</td>\n",
       "      <td>49</td>\n",
       "      <td>F</td>\n",
       "      <td>5</td>\n",
       "      <td>mestrado</td>\n",
       "      <td>solteiro</td>\n",
       "      <td>menos que $40K</td>\n",
       "      <td>blue</td>\n",
       "      <td>44</td>\n",
       "      <td>6</td>\n",
       "      <td>2</td>\n",
       "      <td>1</td>\n",
       "      <td>8.256,96</td>\n",
       "      <td>1.291,45</td>\n",
       "      <td>33</td>\n",
       "    </tr>\n",
       "    <tr>\n",
       "      <th>2</th>\n",
       "      <td>713982108</td>\n",
       "      <td>0</td>\n",
       "      <td>51</td>\n",
       "      <td>M</td>\n",
       "      <td>3</td>\n",
       "      <td>mestrado</td>\n",
       "      <td>casado</td>\n",
       "      <td>$80K - $120K</td>\n",
       "      <td>blue</td>\n",
       "      <td>36</td>\n",
       "      <td>4</td>\n",
       "      <td>0</td>\n",
       "      <td>1</td>\n",
       "      <td>3.418,56</td>\n",
       "      <td>1.887,72</td>\n",
       "      <td>20</td>\n",
       "    </tr>\n",
       "    <tr>\n",
       "      <th>3</th>\n",
       "      <td>769911858</td>\n",
       "      <td>0</td>\n",
       "      <td>40</td>\n",
       "      <td>F</td>\n",
       "      <td>4</td>\n",
       "      <td>ensino medio</td>\n",
       "      <td>NaN</td>\n",
       "      <td>menos que $40K</td>\n",
       "      <td>blue</td>\n",
       "      <td>34</td>\n",
       "      <td>3</td>\n",
       "      <td>1</td>\n",
       "      <td>4</td>\n",
       "      <td>3.313,03</td>\n",
       "      <td>1.171,56</td>\n",
       "      <td>20</td>\n",
       "    </tr>\n",
       "    <tr>\n",
       "      <th>4</th>\n",
       "      <td>709106358</td>\n",
       "      <td>0</td>\n",
       "      <td>40</td>\n",
       "      <td>M</td>\n",
       "      <td>3</td>\n",
       "      <td>sem educacao formal</td>\n",
       "      <td>casado</td>\n",
       "      <td>$60K - $80K</td>\n",
       "      <td>blue</td>\n",
       "      <td>21</td>\n",
       "      <td>5</td>\n",
       "      <td>0</td>\n",
       "      <td>1</td>\n",
       "      <td>4.716,22</td>\n",
       "      <td>816,08</td>\n",
       "      <td>28</td>\n",
       "    </tr>\n",
       "  </tbody>\n",
       "</table>\n",
       "</div>"
      ],
      "text/plain": [
       "          id  default  idade sexo  dependentes         escolaridade  \\\n",
       "0  768805383        0     45    M            3         ensino medio   \n",
       "1  818770008        0     49    F            5             mestrado   \n",
       "2  713982108        0     51    M            3             mestrado   \n",
       "3  769911858        0     40    F            4         ensino medio   \n",
       "4  709106358        0     40    M            3  sem educacao formal   \n",
       "\n",
       "  estado_civil   salario_anual tipo_cartao  meses_de_relacionamento  \\\n",
       "0       casado     $60K - $80K        blue                       39   \n",
       "1     solteiro  menos que $40K        blue                       44   \n",
       "2       casado    $80K - $120K        blue                       36   \n",
       "3          NaN  menos que $40K        blue                       34   \n",
       "4       casado     $60K - $80K        blue                       21   \n",
       "\n",
       "   qtd_produtos  iteracoes_12m  meses_inativo_12m limite_credito  \\\n",
       "0             5              3                  1      12.691,51   \n",
       "1             6              2                  1       8.256,96   \n",
       "2             4              0                  1       3.418,56   \n",
       "3             3              1                  4       3.313,03   \n",
       "4             5              0                  1       4.716,22   \n",
       "\n",
       "  valor_transacoes_12m  qtd_transacoes_12m  \n",
       "0             1.144,90                  42  \n",
       "1             1.291,45                  33  \n",
       "2             1.887,72                  20  \n",
       "3             1.171,56                  20  \n",
       "4               816,08                  28  "
      ]
     },
     "execution_count": 9,
     "metadata": {},
     "output_type": "execute_result"
    }
   ],
   "source": [
    "df.head(n=5)"
   ]
  },
  {
   "cell_type": "markdown",
   "id": "bfdeb55b",
   "metadata": {
    "papermill": {
     "duration": 0.007914,
     "end_time": "2022-08-29T18:29:28.443537",
     "exception": false,
     "start_time": "2022-08-29T18:29:28.435623",
     "status": "completed"
    },
    "tags": []
   },
   "source": [
    "**Colunas e seus respectivos tipos de dados.**"
   ]
  },
  {
   "cell_type": "code",
   "execution_count": 10,
   "id": "466e8636",
   "metadata": {
    "execution": {
     "iopub.execute_input": "2022-08-29T18:29:28.463135Z",
     "iopub.status.busy": "2022-08-29T18:29:28.462616Z",
     "iopub.status.idle": "2022-08-29T18:29:28.473113Z",
     "shell.execute_reply": "2022-08-29T18:29:28.471678Z"
    },
    "papermill": {
     "duration": 0.023889,
     "end_time": "2022-08-29T18:29:28.475789",
     "exception": false,
     "start_time": "2022-08-29T18:29:28.451900",
     "status": "completed"
    },
    "tags": []
   },
   "outputs": [
    {
     "data": {
      "text/plain": [
       "id                          int64\n",
       "default                     int64\n",
       "idade                       int64\n",
       "sexo                       object\n",
       "dependentes                 int64\n",
       "escolaridade               object\n",
       "estado_civil               object\n",
       "salario_anual              object\n",
       "tipo_cartao                object\n",
       "meses_de_relacionamento     int64\n",
       "qtd_produtos                int64\n",
       "iteracoes_12m               int64\n",
       "meses_inativo_12m           int64\n",
       "limite_credito             object\n",
       "valor_transacoes_12m       object\n",
       "qtd_transacoes_12m          int64\n",
       "dtype: object"
      ]
     },
     "execution_count": 10,
     "metadata": {},
     "output_type": "execute_result"
    }
   ],
   "source": [
    "df.dtypes"
   ]
  },
  {
   "cell_type": "markdown",
   "id": "af81ae7c",
   "metadata": {
    "papermill": {
     "duration": 0.008015,
     "end_time": "2022-08-29T18:29:28.492139",
     "exception": false,
     "start_time": "2022-08-29T18:29:28.484124",
     "status": "completed"
    },
    "tags": []
   },
   "source": [
    "Analisando as colunas *'limite_credito'* e *'valor_transacoes_12m'* e seus tipos de dados, nota-se a necessidade de tratar esses dados.\n",
    "Os valores estão em *'R$'* onde o uso de vírgula e ponto são diferentes do padrão americano utilizado pelo Python."
   ]
  },
  {
   "cell_type": "markdown",
   "id": "459931ed",
   "metadata": {
    "papermill": {
     "duration": 0.009171,
     "end_time": "2022-08-29T18:29:28.511247",
     "exception": false,
     "start_time": "2022-08-29T18:29:28.502076",
     "status": "completed"
    },
    "tags": []
   },
   "source": [
    "**Atributos categóricos**"
   ]
  },
  {
   "cell_type": "code",
   "execution_count": 11,
   "id": "3d45da0c",
   "metadata": {
    "execution": {
     "iopub.execute_input": "2022-08-29T18:29:28.530736Z",
     "iopub.status.busy": "2022-08-29T18:29:28.530029Z",
     "iopub.status.idle": "2022-08-29T18:29:28.585190Z",
     "shell.execute_reply": "2022-08-29T18:29:28.583533Z"
    },
    "papermill": {
     "duration": 0.068167,
     "end_time": "2022-08-29T18:29:28.588039",
     "exception": false,
     "start_time": "2022-08-29T18:29:28.519872",
     "status": "completed"
    },
    "tags": []
   },
   "outputs": [
    {
     "data": {
      "text/html": [
       "<div>\n",
       "<style scoped>\n",
       "    .dataframe tbody tr th:only-of-type {\n",
       "        vertical-align: middle;\n",
       "    }\n",
       "\n",
       "    .dataframe tbody tr th {\n",
       "        vertical-align: top;\n",
       "    }\n",
       "\n",
       "    .dataframe thead th {\n",
       "        text-align: right;\n",
       "    }\n",
       "</style>\n",
       "<table border=\"1\" class=\"dataframe\">\n",
       "  <thead>\n",
       "    <tr style=\"text-align: right;\">\n",
       "      <th></th>\n",
       "      <th>count</th>\n",
       "      <th>unique</th>\n",
       "      <th>top</th>\n",
       "      <th>freq</th>\n",
       "    </tr>\n",
       "  </thead>\n",
       "  <tbody>\n",
       "    <tr>\n",
       "      <th>sexo</th>\n",
       "      <td>10127</td>\n",
       "      <td>2</td>\n",
       "      <td>F</td>\n",
       "      <td>5358</td>\n",
       "    </tr>\n",
       "    <tr>\n",
       "      <th>escolaridade</th>\n",
       "      <td>8608</td>\n",
       "      <td>5</td>\n",
       "      <td>mestrado</td>\n",
       "      <td>3128</td>\n",
       "    </tr>\n",
       "    <tr>\n",
       "      <th>estado_civil</th>\n",
       "      <td>9378</td>\n",
       "      <td>3</td>\n",
       "      <td>casado</td>\n",
       "      <td>4687</td>\n",
       "    </tr>\n",
       "    <tr>\n",
       "      <th>salario_anual</th>\n",
       "      <td>9015</td>\n",
       "      <td>5</td>\n",
       "      <td>menos que $40K</td>\n",
       "      <td>3561</td>\n",
       "    </tr>\n",
       "    <tr>\n",
       "      <th>tipo_cartao</th>\n",
       "      <td>10127</td>\n",
       "      <td>4</td>\n",
       "      <td>blue</td>\n",
       "      <td>9436</td>\n",
       "    </tr>\n",
       "    <tr>\n",
       "      <th>limite_credito</th>\n",
       "      <td>10127</td>\n",
       "      <td>9272</td>\n",
       "      <td>1.438,21</td>\n",
       "      <td>11</td>\n",
       "    </tr>\n",
       "    <tr>\n",
       "      <th>valor_transacoes_12m</th>\n",
       "      <td>10127</td>\n",
       "      <td>10035</td>\n",
       "      <td>3.851,51</td>\n",
       "      <td>3</td>\n",
       "    </tr>\n",
       "  </tbody>\n",
       "</table>\n",
       "</div>"
      ],
      "text/plain": [
       "                      count unique             top  freq\n",
       "sexo                  10127      2               F  5358\n",
       "escolaridade           8608      5        mestrado  3128\n",
       "estado_civil           9378      3          casado  4687\n",
       "salario_anual          9015      5  menos que $40K  3561\n",
       "tipo_cartao           10127      4            blue  9436\n",
       "limite_credito        10127   9272        1.438,21    11\n",
       "valor_transacoes_12m  10127  10035        3.851,51     3"
      ]
     },
     "execution_count": 11,
     "metadata": {},
     "output_type": "execute_result"
    }
   ],
   "source": [
    "df.select_dtypes('object').describe().transpose()"
   ]
  },
  {
   "cell_type": "markdown",
   "id": "140ff09f",
   "metadata": {
    "papermill": {
     "duration": 0.008646,
     "end_time": "2022-08-29T18:29:28.605079",
     "exception": false,
     "start_time": "2022-08-29T18:29:28.596433",
     "status": "completed"
    },
    "tags": []
   },
   "source": [
    "Analisando a coluna *'count'*, das categorias *'escolaridade*', *'estado_civil'* e *'salario_anual'*, é possível notar qquantidade menor de linhas (comparado com o total) indicando possível falta de dados."
   ]
  },
  {
   "cell_type": "markdown",
   "id": "d81f5527",
   "metadata": {
    "papermill": {
     "duration": 0.008365,
     "end_time": "2022-08-29T18:29:28.622266",
     "exception": false,
     "start_time": "2022-08-29T18:29:28.613901",
     "status": "completed"
    },
    "tags": []
   },
   "source": [
    "**Atributos numéricos**"
   ]
  },
  {
   "cell_type": "code",
   "execution_count": 12,
   "id": "fd68f4a3",
   "metadata": {
    "execution": {
     "iopub.execute_input": "2022-08-29T18:29:28.642248Z",
     "iopub.status.busy": "2022-08-29T18:29:28.641362Z",
     "iopub.status.idle": "2022-08-29T18:29:28.714140Z",
     "shell.execute_reply": "2022-08-29T18:29:28.712628Z"
    },
    "papermill": {
     "duration": 0.086505,
     "end_time": "2022-08-29T18:29:28.717620",
     "exception": false,
     "start_time": "2022-08-29T18:29:28.631115",
     "status": "completed"
    },
    "tags": []
   },
   "outputs": [
    {
     "data": {
      "text/html": [
       "<div>\n",
       "<style scoped>\n",
       "    .dataframe tbody tr th:only-of-type {\n",
       "        vertical-align: middle;\n",
       "    }\n",
       "\n",
       "    .dataframe tbody tr th {\n",
       "        vertical-align: top;\n",
       "    }\n",
       "\n",
       "    .dataframe thead th {\n",
       "        text-align: right;\n",
       "    }\n",
       "</style>\n",
       "<table border=\"1\" class=\"dataframe\">\n",
       "  <thead>\n",
       "    <tr style=\"text-align: right;\">\n",
       "      <th></th>\n",
       "      <th>count</th>\n",
       "      <th>mean</th>\n",
       "      <th>std</th>\n",
       "      <th>min</th>\n",
       "      <th>25%</th>\n",
       "      <th>50%</th>\n",
       "      <th>75%</th>\n",
       "      <th>max</th>\n",
       "    </tr>\n",
       "  </thead>\n",
       "  <tbody>\n",
       "    <tr>\n",
       "      <th>default</th>\n",
       "      <td>10127.0</td>\n",
       "      <td>0.160660</td>\n",
       "      <td>0.367235</td>\n",
       "      <td>0.0</td>\n",
       "      <td>0.0</td>\n",
       "      <td>0.0</td>\n",
       "      <td>0.0</td>\n",
       "      <td>1.0</td>\n",
       "    </tr>\n",
       "    <tr>\n",
       "      <th>idade</th>\n",
       "      <td>10127.0</td>\n",
       "      <td>46.325960</td>\n",
       "      <td>8.016814</td>\n",
       "      <td>26.0</td>\n",
       "      <td>41.0</td>\n",
       "      <td>46.0</td>\n",
       "      <td>52.0</td>\n",
       "      <td>73.0</td>\n",
       "    </tr>\n",
       "    <tr>\n",
       "      <th>dependentes</th>\n",
       "      <td>10127.0</td>\n",
       "      <td>2.346203</td>\n",
       "      <td>1.298908</td>\n",
       "      <td>0.0</td>\n",
       "      <td>1.0</td>\n",
       "      <td>2.0</td>\n",
       "      <td>3.0</td>\n",
       "      <td>5.0</td>\n",
       "    </tr>\n",
       "    <tr>\n",
       "      <th>meses_de_relacionamento</th>\n",
       "      <td>10127.0</td>\n",
       "      <td>35.928409</td>\n",
       "      <td>7.986416</td>\n",
       "      <td>13.0</td>\n",
       "      <td>31.0</td>\n",
       "      <td>36.0</td>\n",
       "      <td>40.0</td>\n",
       "      <td>56.0</td>\n",
       "    </tr>\n",
       "    <tr>\n",
       "      <th>qtd_produtos</th>\n",
       "      <td>10127.0</td>\n",
       "      <td>3.812580</td>\n",
       "      <td>1.554408</td>\n",
       "      <td>1.0</td>\n",
       "      <td>3.0</td>\n",
       "      <td>4.0</td>\n",
       "      <td>5.0</td>\n",
       "      <td>6.0</td>\n",
       "    </tr>\n",
       "    <tr>\n",
       "      <th>iteracoes_12m</th>\n",
       "      <td>10127.0</td>\n",
       "      <td>2.455317</td>\n",
       "      <td>1.106225</td>\n",
       "      <td>0.0</td>\n",
       "      <td>2.0</td>\n",
       "      <td>2.0</td>\n",
       "      <td>3.0</td>\n",
       "      <td>6.0</td>\n",
       "    </tr>\n",
       "    <tr>\n",
       "      <th>meses_inativo_12m</th>\n",
       "      <td>10127.0</td>\n",
       "      <td>2.341167</td>\n",
       "      <td>1.010622</td>\n",
       "      <td>0.0</td>\n",
       "      <td>2.0</td>\n",
       "      <td>2.0</td>\n",
       "      <td>3.0</td>\n",
       "      <td>6.0</td>\n",
       "    </tr>\n",
       "    <tr>\n",
       "      <th>qtd_transacoes_12m</th>\n",
       "      <td>10127.0</td>\n",
       "      <td>64.858695</td>\n",
       "      <td>23.472570</td>\n",
       "      <td>10.0</td>\n",
       "      <td>45.0</td>\n",
       "      <td>67.0</td>\n",
       "      <td>81.0</td>\n",
       "      <td>139.0</td>\n",
       "    </tr>\n",
       "  </tbody>\n",
       "</table>\n",
       "</div>"
      ],
      "text/plain": [
       "                           count       mean        std   min   25%   50%  \\\n",
       "default                  10127.0   0.160660   0.367235   0.0   0.0   0.0   \n",
       "idade                    10127.0  46.325960   8.016814  26.0  41.0  46.0   \n",
       "dependentes              10127.0   2.346203   1.298908   0.0   1.0   2.0   \n",
       "meses_de_relacionamento  10127.0  35.928409   7.986416  13.0  31.0  36.0   \n",
       "qtd_produtos             10127.0   3.812580   1.554408   1.0   3.0   4.0   \n",
       "iteracoes_12m            10127.0   2.455317   1.106225   0.0   2.0   2.0   \n",
       "meses_inativo_12m        10127.0   2.341167   1.010622   0.0   2.0   2.0   \n",
       "qtd_transacoes_12m       10127.0  64.858695  23.472570  10.0  45.0  67.0   \n",
       "\n",
       "                          75%    max  \n",
       "default                   0.0    1.0  \n",
       "idade                    52.0   73.0  \n",
       "dependentes               3.0    5.0  \n",
       "meses_de_relacionamento  40.0   56.0  \n",
       "qtd_produtos              5.0    6.0  \n",
       "iteracoes_12m             3.0    6.0  \n",
       "meses_inativo_12m         3.0    6.0  \n",
       "qtd_transacoes_12m       81.0  139.0  "
      ]
     },
     "execution_count": 12,
     "metadata": {},
     "output_type": "execute_result"
    }
   ],
   "source": [
    "df.drop('id', axis=1).select_dtypes('number').describe().transpose()"
   ]
  },
  {
   "cell_type": "markdown",
   "id": "3aea054b",
   "metadata": {
    "papermill": {
     "duration": 0.008417,
     "end_time": "2022-08-29T18:29:28.735366",
     "exception": false,
     "start_time": "2022-08-29T18:29:28.726949",
     "status": "completed"
    },
    "tags": []
   },
   "source": [
    "# **Dados faltantes**"
   ]
  },
  {
   "cell_type": "code",
   "execution_count": 13,
   "id": "a189a01d",
   "metadata": {
    "execution": {
     "iopub.execute_input": "2022-08-29T18:29:28.756952Z",
     "iopub.status.busy": "2022-08-29T18:29:28.756021Z",
     "iopub.status.idle": "2022-08-29T18:29:28.775231Z",
     "shell.execute_reply": "2022-08-29T18:29:28.773785Z"
    },
    "papermill": {
     "duration": 0.034083,
     "end_time": "2022-08-29T18:29:28.778448",
     "exception": false,
     "start_time": "2022-08-29T18:29:28.744365",
     "status": "completed"
    },
    "tags": []
   },
   "outputs": [
    {
     "data": {
      "text/html": [
       "<div>\n",
       "<style scoped>\n",
       "    .dataframe tbody tr th:only-of-type {\n",
       "        vertical-align: middle;\n",
       "    }\n",
       "\n",
       "    .dataframe tbody tr th {\n",
       "        vertical-align: top;\n",
       "    }\n",
       "\n",
       "    .dataframe thead th {\n",
       "        text-align: right;\n",
       "    }\n",
       "</style>\n",
       "<table border=\"1\" class=\"dataframe\">\n",
       "  <thead>\n",
       "    <tr style=\"text-align: right;\">\n",
       "      <th></th>\n",
       "      <th>id</th>\n",
       "      <th>default</th>\n",
       "      <th>idade</th>\n",
       "      <th>sexo</th>\n",
       "      <th>dependentes</th>\n",
       "      <th>escolaridade</th>\n",
       "      <th>estado_civil</th>\n",
       "      <th>salario_anual</th>\n",
       "      <th>tipo_cartao</th>\n",
       "      <th>meses_de_relacionamento</th>\n",
       "      <th>qtd_produtos</th>\n",
       "      <th>iteracoes_12m</th>\n",
       "      <th>meses_inativo_12m</th>\n",
       "      <th>limite_credito</th>\n",
       "      <th>valor_transacoes_12m</th>\n",
       "      <th>qtd_transacoes_12m</th>\n",
       "    </tr>\n",
       "  </thead>\n",
       "  <tbody>\n",
       "    <tr>\n",
       "      <th>0</th>\n",
       "      <td>768805383</td>\n",
       "      <td>0</td>\n",
       "      <td>45</td>\n",
       "      <td>M</td>\n",
       "      <td>3</td>\n",
       "      <td>ensino medio</td>\n",
       "      <td>casado</td>\n",
       "      <td>$60K - $80K</td>\n",
       "      <td>blue</td>\n",
       "      <td>39</td>\n",
       "      <td>5</td>\n",
       "      <td>3</td>\n",
       "      <td>1</td>\n",
       "      <td>12.691,51</td>\n",
       "      <td>1.144,90</td>\n",
       "      <td>42</td>\n",
       "    </tr>\n",
       "    <tr>\n",
       "      <th>1</th>\n",
       "      <td>818770008</td>\n",
       "      <td>0</td>\n",
       "      <td>49</td>\n",
       "      <td>F</td>\n",
       "      <td>5</td>\n",
       "      <td>mestrado</td>\n",
       "      <td>solteiro</td>\n",
       "      <td>menos que $40K</td>\n",
       "      <td>blue</td>\n",
       "      <td>44</td>\n",
       "      <td>6</td>\n",
       "      <td>2</td>\n",
       "      <td>1</td>\n",
       "      <td>8.256,96</td>\n",
       "      <td>1.291,45</td>\n",
       "      <td>33</td>\n",
       "    </tr>\n",
       "    <tr>\n",
       "      <th>2</th>\n",
       "      <td>713982108</td>\n",
       "      <td>0</td>\n",
       "      <td>51</td>\n",
       "      <td>M</td>\n",
       "      <td>3</td>\n",
       "      <td>mestrado</td>\n",
       "      <td>casado</td>\n",
       "      <td>$80K - $120K</td>\n",
       "      <td>blue</td>\n",
       "      <td>36</td>\n",
       "      <td>4</td>\n",
       "      <td>0</td>\n",
       "      <td>1</td>\n",
       "      <td>3.418,56</td>\n",
       "      <td>1.887,72</td>\n",
       "      <td>20</td>\n",
       "    </tr>\n",
       "    <tr>\n",
       "      <th>3</th>\n",
       "      <td>769911858</td>\n",
       "      <td>0</td>\n",
       "      <td>40</td>\n",
       "      <td>F</td>\n",
       "      <td>4</td>\n",
       "      <td>ensino medio</td>\n",
       "      <td>NaN</td>\n",
       "      <td>menos que $40K</td>\n",
       "      <td>blue</td>\n",
       "      <td>34</td>\n",
       "      <td>3</td>\n",
       "      <td>1</td>\n",
       "      <td>4</td>\n",
       "      <td>3.313,03</td>\n",
       "      <td>1.171,56</td>\n",
       "      <td>20</td>\n",
       "    </tr>\n",
       "    <tr>\n",
       "      <th>4</th>\n",
       "      <td>709106358</td>\n",
       "      <td>0</td>\n",
       "      <td>40</td>\n",
       "      <td>M</td>\n",
       "      <td>3</td>\n",
       "      <td>sem educacao formal</td>\n",
       "      <td>casado</td>\n",
       "      <td>$60K - $80K</td>\n",
       "      <td>blue</td>\n",
       "      <td>21</td>\n",
       "      <td>5</td>\n",
       "      <td>0</td>\n",
       "      <td>1</td>\n",
       "      <td>4.716,22</td>\n",
       "      <td>816,08</td>\n",
       "      <td>28</td>\n",
       "    </tr>\n",
       "  </tbody>\n",
       "</table>\n",
       "</div>"
      ],
      "text/plain": [
       "          id  default  idade sexo  dependentes         escolaridade  \\\n",
       "0  768805383        0     45    M            3         ensino medio   \n",
       "1  818770008        0     49    F            5             mestrado   \n",
       "2  713982108        0     51    M            3             mestrado   \n",
       "3  769911858        0     40    F            4         ensino medio   \n",
       "4  709106358        0     40    M            3  sem educacao formal   \n",
       "\n",
       "  estado_civil   salario_anual tipo_cartao  meses_de_relacionamento  \\\n",
       "0       casado     $60K - $80K        blue                       39   \n",
       "1     solteiro  menos que $40K        blue                       44   \n",
       "2       casado    $80K - $120K        blue                       36   \n",
       "3          NaN  menos que $40K        blue                       34   \n",
       "4       casado     $60K - $80K        blue                       21   \n",
       "\n",
       "   qtd_produtos  iteracoes_12m  meses_inativo_12m limite_credito  \\\n",
       "0             5              3                  1      12.691,51   \n",
       "1             6              2                  1       8.256,96   \n",
       "2             4              0                  1       3.418,56   \n",
       "3             3              1                  4       3.313,03   \n",
       "4             5              0                  1       4.716,22   \n",
       "\n",
       "  valor_transacoes_12m  qtd_transacoes_12m  \n",
       "0             1.144,90                  42  \n",
       "1             1.291,45                  33  \n",
       "2             1.887,72                  20  \n",
       "3             1.171,56                  20  \n",
       "4               816,08                  28  "
      ]
     },
     "execution_count": 13,
     "metadata": {},
     "output_type": "execute_result"
    }
   ],
   "source": [
    "df.head()"
   ]
  },
  {
   "cell_type": "markdown",
   "id": "b4ae7f8b",
   "metadata": {
    "papermill": {
     "duration": 0.008924,
     "end_time": "2022-08-29T18:29:28.797118",
     "exception": false,
     "start_time": "2022-08-29T18:29:28.788194",
     "status": "completed"
    },
    "tags": []
   },
   "source": [
    "**Identificando os dados faltantes.**"
   ]
  },
  {
   "cell_type": "code",
   "execution_count": 14,
   "id": "6ae86073",
   "metadata": {
    "execution": {
     "iopub.execute_input": "2022-08-29T18:29:28.818244Z",
     "iopub.status.busy": "2022-08-29T18:29:28.817742Z",
     "iopub.status.idle": "2022-08-29T18:29:28.833688Z",
     "shell.execute_reply": "2022-08-29T18:29:28.832437Z"
    },
    "papermill": {
     "duration": 0.030438,
     "end_time": "2022-08-29T18:29:28.836997",
     "exception": false,
     "start_time": "2022-08-29T18:29:28.806559",
     "status": "completed"
    },
    "tags": []
   },
   "outputs": [
    {
     "data": {
      "text/plain": [
       "id                         False\n",
       "default                    False\n",
       "idade                      False\n",
       "sexo                       False\n",
       "dependentes                False\n",
       "escolaridade                True\n",
       "estado_civil                True\n",
       "salario_anual               True\n",
       "tipo_cartao                False\n",
       "meses_de_relacionamento    False\n",
       "qtd_produtos               False\n",
       "iteracoes_12m              False\n",
       "meses_inativo_12m          False\n",
       "limite_credito             False\n",
       "valor_transacoes_12m       False\n",
       "qtd_transacoes_12m         False\n",
       "dtype: bool"
      ]
     },
     "execution_count": 14,
     "metadata": {},
     "output_type": "execute_result"
    }
   ],
   "source": [
    "df.isna().any()"
   ]
  },
  {
   "cell_type": "markdown",
   "id": "8fb94d47",
   "metadata": {
    "papermill": {
     "duration": 0.008729,
     "end_time": "2022-08-29T18:29:28.854775",
     "exception": false,
     "start_time": "2022-08-29T18:29:28.846046",
     "status": "completed"
    },
    "tags": []
   },
   "source": [
    "Função para levantar estatísticas sobre as colunas dos daados faltantes."
   ]
  },
  {
   "cell_type": "code",
   "execution_count": 15,
   "id": "15a46c92",
   "metadata": {
    "execution": {
     "iopub.execute_input": "2022-08-29T18:29:28.875889Z",
     "iopub.status.busy": "2022-08-29T18:29:28.874599Z",
     "iopub.status.idle": "2022-08-29T18:29:28.883769Z",
     "shell.execute_reply": "2022-08-29T18:29:28.882125Z"
    },
    "papermill": {
     "duration": 0.022875,
     "end_time": "2022-08-29T18:29:28.886888",
     "exception": false,
     "start_time": "2022-08-29T18:29:28.864013",
     "status": "completed"
    },
    "tags": []
   },
   "outputs": [],
   "source": [
    "def stats_dados_faltantes(df: pd.DataFrame) -> None:\n",
    "    \n",
    "    stats_dados_faltantes = []\n",
    "    for col in df.columns:\n",
    "        if df[col].isna().any():\n",
    "            qdt, _ = df[df[col].isna()].shape\n",
    "            total, _ = df.shape\n",
    "            dict_dados_faltantes = {col: {'quantidade': qdt, \"porcentagem\": round(100 * qtd/total, 2)}}\n",
    "            stats_dados_faltantes.append(dict_dados_faltantes)\n",
    "            \n",
    "            for stat in stats_dados_faltantes:\n",
    "                print(stat)"
   ]
  }
 ],
 "metadata": {
  "kernelspec": {
   "display_name": "Python 3",
   "language": "python",
   "name": "python3"
  },
  "language_info": {
   "codemirror_mode": {
    "name": "ipython",
    "version": 3
   },
   "file_extension": ".py",
   "mimetype": "text/x-python",
   "name": "python",
   "nbconvert_exporter": "python",
   "pygments_lexer": "ipython3",
   "version": "3.7.12"
  },
  "papermill": {
   "default_parameters": {},
   "duration": 13.962843,
   "end_time": "2022-08-29T18:29:29.921380",
   "environment_variables": {},
   "exception": null,
   "input_path": "__notebook__.ipynb",
   "output_path": "__notebook__.ipynb",
   "parameters": {},
   "start_time": "2022-08-29T18:29:15.958537",
   "version": "2.3.4"
  }
 },
 "nbformat": 4,
 "nbformat_minor": 5
}
