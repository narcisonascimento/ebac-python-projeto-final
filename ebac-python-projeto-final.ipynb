{
 "cells": [
  {
   "cell_type": "markdown",
   "id": "48e9687b",
   "metadata": {
    "papermill": {
     "duration": 0.004529,
     "end_time": "2022-08-29T18:00:11.212217",
     "exception": false,
     "start_time": "2022-08-29T18:00:11.207688",
     "status": "completed"
    },
    "tags": []
   },
   "source": [
    "# **Exploração de Dados**"
   ]
  },
  {
   "cell_type": "markdown",
   "id": "211d3f85",
   "metadata": {
    "papermill": {
     "duration": 0.003092,
     "end_time": "2022-08-29T18:00:11.218636",
     "exception": false,
     "start_time": "2022-08-29T18:00:11.215544",
     "status": "completed"
    },
    "tags": []
   },
   "source": [
    "Exploração de dados no formato.csv, o dataset foi importado no Kaggle. Os dados contém informações sobre clientes de uma instituição financeira. Em especial, estamos interessados em explicar a segunda coluna, chamada de **default**, que indica se um cliente é **adimplente(default = 0)**, ou **inadimplente (default = 1)**, ou seja, queremos entender o porque um cliente deixa de honrar com suas dívidas baseado no comportamento de outros atributos, como salário, escolaridade e movimentação financeira. Uma descrição completa dos atributos está abaixo.\n",
    "\n",
    "Obs: O notebook com o projeto final foi disponibilizado pela Ebac, entretanto para questão de estudos e aperfeiçoamento, reescrevi o código abaixo com base no notebook origial."
   ]
  },
  {
   "cell_type": "markdown",
   "id": "50474a56",
   "metadata": {
    "papermill": {
     "duration": 0.002874,
     "end_time": "2022-08-29T18:00:11.224639",
     "exception": false,
     "start_time": "2022-08-29T18:00:11.221765",
     "status": "completed"
    },
    "tags": []
   },
   "source": [
    "\n",
    "\n",
    "| Coluna  | Descrição |\n",
    "| ------- | --------- |\n",
    "| id      | Número da conta |\n",
    "| default | Indica se o cliente é adimplente (0) ou inadimplente (1) |\n",
    "| idade   | --- |\n",
    "| sexo    | --- |\n",
    "| depedentes | --- |\n",
    "| escolaridade | --- |\n",
    "| estado_civil | --- |\n",
    "| salario_anual | Faixa do salario mensal multiplicado por 12 |\n",
    "| tipo_cartao | Categoria do cartao: blue, silver, gold e platinium |\n",
    "| meses_de_relacionamento | Quantidade de meses desde a abertura da conta |\n",
    "| qtd_produtos | Quantidade de produtos contratados |\n",
    "| iteracoes_12m | Quantidade de iteracoes com o cliente no último ano |\n",
    "| meses_inatico_12m | Quantidade de meses que o cliente ficou inativo no último ano |\n",
    "| limite_credito | Valor do limite do cartão de crédito |\n",
    "| valor_transacoes_12m | Soma total do valor das transações no cartão de crédito no último ano |\n",
    "| qtd_transacoes_12m | Quantidade total de transações no cartão de crédito no último ano |\n",
    "\n"
   ]
  },
  {
   "cell_type": "markdown",
   "id": "0dfad3de",
   "metadata": {
    "papermill": {
     "duration": 0.002929,
     "end_time": "2022-08-29T18:00:11.230614",
     "exception": false,
     "start_time": "2022-08-29T18:00:11.227685",
     "status": "completed"
    },
    "tags": []
   },
   "source": [
    "**Lendo os dados num dataframe panda.**"
   ]
  },
  {
   "cell_type": "code",
   "execution_count": 1,
   "id": "643f4846",
   "metadata": {
    "execution": {
     "iopub.execute_input": "2022-08-29T18:00:11.238504Z",
     "iopub.status.busy": "2022-08-29T18:00:11.237939Z",
     "iopub.status.idle": "2022-08-29T18:00:11.249805Z",
     "shell.execute_reply": "2022-08-29T18:00:11.249036Z"
    },
    "papermill": {
     "duration": 0.017929,
     "end_time": "2022-08-29T18:00:11.251588",
     "exception": false,
     "start_time": "2022-08-29T18:00:11.233659",
     "status": "completed"
    },
    "tags": []
   },
   "outputs": [],
   "source": [
    "import pandas as pd"
   ]
  },
  {
   "cell_type": "code",
   "execution_count": 2,
   "id": "901477ef",
   "metadata": {
    "execution": {
     "iopub.execute_input": "2022-08-29T18:00:11.259652Z",
     "iopub.status.busy": "2022-08-29T18:00:11.259145Z",
     "iopub.status.idle": "2022-08-29T18:00:11.297471Z",
     "shell.execute_reply": "2022-08-29T18:00:11.296747Z"
    },
    "papermill": {
     "duration": 0.044435,
     "end_time": "2022-08-29T18:00:11.299516",
     "exception": false,
     "start_time": "2022-08-29T18:00:11.255081",
     "status": "completed"
    },
    "tags": []
   },
   "outputs": [],
   "source": [
    "df = pd.read_csv('../input/ebac-python-projeto-final-dataset/Python_M10_support material.csv', na_values='na')"
   ]
  },
  {
   "cell_type": "code",
   "execution_count": 3,
   "id": "5122b2b6",
   "metadata": {
    "execution": {
     "iopub.execute_input": "2022-08-29T18:00:11.307676Z",
     "iopub.status.busy": "2022-08-29T18:00:11.307261Z",
     "iopub.status.idle": "2022-08-29T18:00:11.330630Z",
     "shell.execute_reply": "2022-08-29T18:00:11.329826Z"
    },
    "papermill": {
     "duration": 0.029736,
     "end_time": "2022-08-29T18:00:11.332865",
     "exception": false,
     "start_time": "2022-08-29T18:00:11.303129",
     "status": "completed"
    },
    "tags": []
   },
   "outputs": [
    {
     "data": {
      "text/html": [
       "<div>\n",
       "<style scoped>\n",
       "    .dataframe tbody tr th:only-of-type {\n",
       "        vertical-align: middle;\n",
       "    }\n",
       "\n",
       "    .dataframe tbody tr th {\n",
       "        vertical-align: top;\n",
       "    }\n",
       "\n",
       "    .dataframe thead th {\n",
       "        text-align: right;\n",
       "    }\n",
       "</style>\n",
       "<table border=\"1\" class=\"dataframe\">\n",
       "  <thead>\n",
       "    <tr style=\"text-align: right;\">\n",
       "      <th></th>\n",
       "      <th>id</th>\n",
       "      <th>default</th>\n",
       "      <th>idade</th>\n",
       "      <th>sexo</th>\n",
       "      <th>dependentes</th>\n",
       "      <th>escolaridade</th>\n",
       "      <th>estado_civil</th>\n",
       "      <th>salario_anual</th>\n",
       "      <th>tipo_cartao</th>\n",
       "      <th>meses_de_relacionamento</th>\n",
       "      <th>qtd_produtos</th>\n",
       "      <th>iteracoes_12m</th>\n",
       "      <th>meses_inativo_12m</th>\n",
       "      <th>limite_credito</th>\n",
       "      <th>valor_transacoes_12m</th>\n",
       "      <th>qtd_transacoes_12m</th>\n",
       "    </tr>\n",
       "  </thead>\n",
       "  <tbody>\n",
       "    <tr>\n",
       "      <th>0</th>\n",
       "      <td>768805383</td>\n",
       "      <td>0</td>\n",
       "      <td>45</td>\n",
       "      <td>M</td>\n",
       "      <td>3</td>\n",
       "      <td>ensino medio</td>\n",
       "      <td>casado</td>\n",
       "      <td>$60K - $80K</td>\n",
       "      <td>blue</td>\n",
       "      <td>39</td>\n",
       "      <td>5</td>\n",
       "      <td>3</td>\n",
       "      <td>1</td>\n",
       "      <td>12.691,51</td>\n",
       "      <td>1.144,90</td>\n",
       "      <td>42</td>\n",
       "    </tr>\n",
       "    <tr>\n",
       "      <th>1</th>\n",
       "      <td>818770008</td>\n",
       "      <td>0</td>\n",
       "      <td>49</td>\n",
       "      <td>F</td>\n",
       "      <td>5</td>\n",
       "      <td>mestrado</td>\n",
       "      <td>solteiro</td>\n",
       "      <td>menos que $40K</td>\n",
       "      <td>blue</td>\n",
       "      <td>44</td>\n",
       "      <td>6</td>\n",
       "      <td>2</td>\n",
       "      <td>1</td>\n",
       "      <td>8.256,96</td>\n",
       "      <td>1.291,45</td>\n",
       "      <td>33</td>\n",
       "    </tr>\n",
       "    <tr>\n",
       "      <th>2</th>\n",
       "      <td>713982108</td>\n",
       "      <td>0</td>\n",
       "      <td>51</td>\n",
       "      <td>M</td>\n",
       "      <td>3</td>\n",
       "      <td>mestrado</td>\n",
       "      <td>casado</td>\n",
       "      <td>$80K - $120K</td>\n",
       "      <td>blue</td>\n",
       "      <td>36</td>\n",
       "      <td>4</td>\n",
       "      <td>0</td>\n",
       "      <td>1</td>\n",
       "      <td>3.418,56</td>\n",
       "      <td>1.887,72</td>\n",
       "      <td>20</td>\n",
       "    </tr>\n",
       "    <tr>\n",
       "      <th>3</th>\n",
       "      <td>769911858</td>\n",
       "      <td>0</td>\n",
       "      <td>40</td>\n",
       "      <td>F</td>\n",
       "      <td>4</td>\n",
       "      <td>ensino medio</td>\n",
       "      <td>NaN</td>\n",
       "      <td>menos que $40K</td>\n",
       "      <td>blue</td>\n",
       "      <td>34</td>\n",
       "      <td>3</td>\n",
       "      <td>1</td>\n",
       "      <td>4</td>\n",
       "      <td>3.313,03</td>\n",
       "      <td>1.171,56</td>\n",
       "      <td>20</td>\n",
       "    </tr>\n",
       "    <tr>\n",
       "      <th>4</th>\n",
       "      <td>709106358</td>\n",
       "      <td>0</td>\n",
       "      <td>40</td>\n",
       "      <td>M</td>\n",
       "      <td>3</td>\n",
       "      <td>sem educacao formal</td>\n",
       "      <td>casado</td>\n",
       "      <td>$60K - $80K</td>\n",
       "      <td>blue</td>\n",
       "      <td>21</td>\n",
       "      <td>5</td>\n",
       "      <td>0</td>\n",
       "      <td>1</td>\n",
       "      <td>4.716,22</td>\n",
       "      <td>816,08</td>\n",
       "      <td>28</td>\n",
       "    </tr>\n",
       "    <tr>\n",
       "      <th>5</th>\n",
       "      <td>713061558</td>\n",
       "      <td>0</td>\n",
       "      <td>44</td>\n",
       "      <td>M</td>\n",
       "      <td>2</td>\n",
       "      <td>mestrado</td>\n",
       "      <td>casado</td>\n",
       "      <td>$40K - $60K</td>\n",
       "      <td>blue</td>\n",
       "      <td>36</td>\n",
       "      <td>3</td>\n",
       "      <td>2</td>\n",
       "      <td>1</td>\n",
       "      <td>4.010,69</td>\n",
       "      <td>1.088,07</td>\n",
       "      <td>24</td>\n",
       "    </tr>\n",
       "    <tr>\n",
       "      <th>6</th>\n",
       "      <td>810347208</td>\n",
       "      <td>0</td>\n",
       "      <td>51</td>\n",
       "      <td>M</td>\n",
       "      <td>4</td>\n",
       "      <td>NaN</td>\n",
       "      <td>casado</td>\n",
       "      <td>$120K +</td>\n",
       "      <td>gold</td>\n",
       "      <td>46</td>\n",
       "      <td>6</td>\n",
       "      <td>3</td>\n",
       "      <td>1</td>\n",
       "      <td>34.516,72</td>\n",
       "      <td>1.330,87</td>\n",
       "      <td>31</td>\n",
       "    </tr>\n",
       "    <tr>\n",
       "      <th>7</th>\n",
       "      <td>818906208</td>\n",
       "      <td>0</td>\n",
       "      <td>32</td>\n",
       "      <td>M</td>\n",
       "      <td>0</td>\n",
       "      <td>ensino medio</td>\n",
       "      <td>NaN</td>\n",
       "      <td>$60K - $80K</td>\n",
       "      <td>silver</td>\n",
       "      <td>27</td>\n",
       "      <td>2</td>\n",
       "      <td>2</td>\n",
       "      <td>2</td>\n",
       "      <td>29.081,49</td>\n",
       "      <td>1.538,32</td>\n",
       "      <td>36</td>\n",
       "    </tr>\n",
       "    <tr>\n",
       "      <th>8</th>\n",
       "      <td>710930508</td>\n",
       "      <td>0</td>\n",
       "      <td>37</td>\n",
       "      <td>M</td>\n",
       "      <td>3</td>\n",
       "      <td>sem educacao formal</td>\n",
       "      <td>solteiro</td>\n",
       "      <td>$60K - $80K</td>\n",
       "      <td>blue</td>\n",
       "      <td>36</td>\n",
       "      <td>5</td>\n",
       "      <td>0</td>\n",
       "      <td>2</td>\n",
       "      <td>22.352,50</td>\n",
       "      <td>1.350,14</td>\n",
       "      <td>24</td>\n",
       "    </tr>\n",
       "    <tr>\n",
       "      <th>9</th>\n",
       "      <td>719661558</td>\n",
       "      <td>0</td>\n",
       "      <td>48</td>\n",
       "      <td>M</td>\n",
       "      <td>2</td>\n",
       "      <td>mestrado</td>\n",
       "      <td>solteiro</td>\n",
       "      <td>$80K - $120K</td>\n",
       "      <td>blue</td>\n",
       "      <td>36</td>\n",
       "      <td>6</td>\n",
       "      <td>3</td>\n",
       "      <td>3</td>\n",
       "      <td>11.656,41</td>\n",
       "      <td>1.441,73</td>\n",
       "      <td>32</td>\n",
       "    </tr>\n",
       "  </tbody>\n",
       "</table>\n",
       "</div>"
      ],
      "text/plain": [
       "          id  default  idade sexo  dependentes         escolaridade  \\\n",
       "0  768805383        0     45    M            3         ensino medio   \n",
       "1  818770008        0     49    F            5             mestrado   \n",
       "2  713982108        0     51    M            3             mestrado   \n",
       "3  769911858        0     40    F            4         ensino medio   \n",
       "4  709106358        0     40    M            3  sem educacao formal   \n",
       "5  713061558        0     44    M            2             mestrado   \n",
       "6  810347208        0     51    M            4                  NaN   \n",
       "7  818906208        0     32    M            0         ensino medio   \n",
       "8  710930508        0     37    M            3  sem educacao formal   \n",
       "9  719661558        0     48    M            2             mestrado   \n",
       "\n",
       "  estado_civil   salario_anual tipo_cartao  meses_de_relacionamento  \\\n",
       "0       casado     $60K - $80K        blue                       39   \n",
       "1     solteiro  menos que $40K        blue                       44   \n",
       "2       casado    $80K - $120K        blue                       36   \n",
       "3          NaN  menos que $40K        blue                       34   \n",
       "4       casado     $60K - $80K        blue                       21   \n",
       "5       casado     $40K - $60K        blue                       36   \n",
       "6       casado         $120K +        gold                       46   \n",
       "7          NaN     $60K - $80K      silver                       27   \n",
       "8     solteiro     $60K - $80K        blue                       36   \n",
       "9     solteiro    $80K - $120K        blue                       36   \n",
       "\n",
       "   qtd_produtos  iteracoes_12m  meses_inativo_12m limite_credito  \\\n",
       "0             5              3                  1      12.691,51   \n",
       "1             6              2                  1       8.256,96   \n",
       "2             4              0                  1       3.418,56   \n",
       "3             3              1                  4       3.313,03   \n",
       "4             5              0                  1       4.716,22   \n",
       "5             3              2                  1       4.010,69   \n",
       "6             6              3                  1      34.516,72   \n",
       "7             2              2                  2      29.081,49   \n",
       "8             5              0                  2      22.352,50   \n",
       "9             6              3                  3      11.656,41   \n",
       "\n",
       "  valor_transacoes_12m  qtd_transacoes_12m  \n",
       "0             1.144,90                  42  \n",
       "1             1.291,45                  33  \n",
       "2             1.887,72                  20  \n",
       "3             1.171,56                  20  \n",
       "4               816,08                  28  \n",
       "5             1.088,07                  24  \n",
       "6             1.330,87                  31  \n",
       "7             1.538,32                  36  \n",
       "8             1.350,14                  24  \n",
       "9             1.441,73                  32  "
      ]
     },
     "execution_count": 3,
     "metadata": {},
     "output_type": "execute_result"
    }
   ],
   "source": [
    "df.head(n=10)"
   ]
  },
  {
   "cell_type": "markdown",
   "id": "1ce613e2",
   "metadata": {
    "papermill": {
     "duration": 0.003351,
     "end_time": "2022-08-29T18:00:11.339930",
     "exception": false,
     "start_time": "2022-08-29T18:00:11.336579",
     "status": "completed"
    },
    "tags": []
   },
   "source": [
    "# **Estrutura**"
   ]
  },
  {
   "cell_type": "code",
   "execution_count": 4,
   "id": "c25d4bf2",
   "metadata": {
    "execution": {
     "iopub.execute_input": "2022-08-29T18:00:11.348165Z",
     "iopub.status.busy": "2022-08-29T18:00:11.347874Z",
     "iopub.status.idle": "2022-08-29T18:00:11.352405Z",
     "shell.execute_reply": "2022-08-29T18:00:11.351793Z"
    },
    "papermill": {
     "duration": 0.010451,
     "end_time": "2022-08-29T18:00:11.353914",
     "exception": false,
     "start_time": "2022-08-29T18:00:11.343463",
     "status": "completed"
    },
    "tags": []
   },
   "outputs": [
    {
     "data": {
      "text/plain": [
       "(10127, 16)"
      ]
     },
     "execution_count": 4,
     "metadata": {},
     "output_type": "execute_result"
    }
   ],
   "source": [
    "df.shape # contando quantidade de e quantidade de colunas "
   ]
  },
  {
   "cell_type": "markdown",
   "id": "5d0f4e01",
   "metadata": {
    "papermill": {
     "duration": 0.003351,
     "end_time": "2022-08-29T18:00:11.360907",
     "exception": false,
     "start_time": "2022-08-29T18:00:11.357556",
     "status": "completed"
    },
    "tags": []
   },
   "source": [
    "**Default = adimplente (0)**"
   ]
  },
  {
   "cell_type": "code",
   "execution_count": 5,
   "id": "117af991",
   "metadata": {
    "execution": {
     "iopub.execute_input": "2022-08-29T18:00:11.369540Z",
     "iopub.status.busy": "2022-08-29T18:00:11.369020Z",
     "iopub.status.idle": "2022-08-29T18:00:11.380840Z",
     "shell.execute_reply": "2022-08-29T18:00:11.380003Z"
    },
    "papermill": {
     "duration": 0.018057,
     "end_time": "2022-08-29T18:00:11.382461",
     "exception": false,
     "start_time": "2022-08-29T18:00:11.364404",
     "status": "completed"
    },
    "tags": []
   },
   "outputs": [
    {
     "data": {
      "text/plain": [
       "(8500, 16)"
      ]
     },
     "execution_count": 5,
     "metadata": {},
     "output_type": "execute_result"
    }
   ],
   "source": [
    "df[df['default'] == 0].shape"
   ]
  },
  {
   "cell_type": "markdown",
   "id": "10db9b3d",
   "metadata": {
    "papermill": {
     "duration": 0.003526,
     "end_time": "2022-08-29T18:00:11.389775",
     "exception": false,
     "start_time": "2022-08-29T18:00:11.386249",
     "status": "completed"
    },
    "tags": []
   },
   "source": [
    "**Default = inadimplente (1)**"
   ]
  },
  {
   "cell_type": "code",
   "execution_count": 6,
   "id": "0bdacc57",
   "metadata": {
    "execution": {
     "iopub.execute_input": "2022-08-29T18:00:11.397879Z",
     "iopub.status.busy": "2022-08-29T18:00:11.397608Z",
     "iopub.status.idle": "2022-08-29T18:00:11.403539Z",
     "shell.execute_reply": "2022-08-29T18:00:11.402925Z"
    },
    "papermill": {
     "duration": 0.011731,
     "end_time": "2022-08-29T18:00:11.405059",
     "exception": false,
     "start_time": "2022-08-29T18:00:11.393328",
     "status": "completed"
    },
    "tags": []
   },
   "outputs": [
    {
     "data": {
      "text/plain": [
       "(1627, 16)"
      ]
     },
     "execution_count": 6,
     "metadata": {},
     "output_type": "execute_result"
    }
   ],
   "source": [
    "df[df['default'] == 1].shape"
   ]
  },
  {
   "cell_type": "code",
   "execution_count": 7,
   "id": "4883869e",
   "metadata": {
    "execution": {
     "iopub.execute_input": "2022-08-29T18:00:11.414915Z",
     "iopub.status.busy": "2022-08-29T18:00:11.414152Z",
     "iopub.status.idle": "2022-08-29T18:00:11.420925Z",
     "shell.execute_reply": "2022-08-29T18:00:11.420335Z"
    },
    "papermill": {
     "duration": 0.013994,
     "end_time": "2022-08-29T18:00:11.422811",
     "exception": false,
     "start_time": "2022-08-29T18:00:11.408817",
     "status": "completed"
    },
    "tags": []
   },
   "outputs": [],
   "source": [
    "qdt_total, _ = df.shape\n",
    "qdt_adimplentes, _ = df[df['default'] == 0].shape\n",
    "qdt_inadimplentes, _ = df[df['default'] == 1].shape"
   ]
  },
  {
   "cell_type": "code",
   "execution_count": 8,
   "id": "de7fcc3c",
   "metadata": {
    "execution": {
     "iopub.execute_input": "2022-08-29T18:00:11.431935Z",
     "iopub.status.busy": "2022-08-29T18:00:11.431336Z",
     "iopub.status.idle": "2022-08-29T18:00:11.435746Z",
     "shell.execute_reply": "2022-08-29T18:00:11.434928Z"
    },
    "papermill": {
     "duration": 0.010419,
     "end_time": "2022-08-29T18:00:11.437332",
     "exception": false,
     "start_time": "2022-08-29T18:00:11.426913",
     "status": "completed"
    },
    "tags": []
   },
   "outputs": [
    {
     "name": "stdout",
     "output_type": "stream",
     "text": [
      "A proporção de clientes adimplentes é de 83.93%\n",
      "A proporção de clientes inadimplentes é de 16.07%\n"
     ]
    }
   ],
   "source": [
    "print(f\"A proporção de clientes adimplentes é de {round(100 * qdt_adimplentes / qdt_total, 2)}%\")\n",
    "print(f\"A proporção de clientes inadimplentes é de {round(100 * qdt_inadimplentes / qdt_total, 2)}%\")"
   ]
  }
 ],
 "metadata": {
  "kernelspec": {
   "display_name": "Python 3",
   "language": "python",
   "name": "python3"
  },
  "language_info": {
   "codemirror_mode": {
    "name": "ipython",
    "version": 3
   },
   "file_extension": ".py",
   "mimetype": "text/x-python",
   "name": "python",
   "nbconvert_exporter": "python",
   "pygments_lexer": "ipython3",
   "version": "3.7.12"
  },
  "papermill": {
   "default_parameters": {},
   "duration": 8.533146,
   "end_time": "2022-08-29T18:00:11.959647",
   "environment_variables": {},
   "exception": null,
   "input_path": "__notebook__.ipynb",
   "output_path": "__notebook__.ipynb",
   "parameters": {},
   "start_time": "2022-08-29T18:00:03.426501",
   "version": "2.3.4"
  }
 },
 "nbformat": 4,
 "nbformat_minor": 5
}
